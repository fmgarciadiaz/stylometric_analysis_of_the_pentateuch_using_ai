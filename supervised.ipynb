{
 "cells": [
  {
   "cell_type": "markdown",
   "metadata": {},
   "source": [
    "# Supervised Stylometric Analysis of the Pentateuch\n",
    "\n",
    "### Table of Contents\n",
    "1. [Introduction](#intro)\n",
    "2. [Preprocess Data](#preprocess)  \n",
    "3. [Algorithm Experimentation](#algo)  \n",
    "4. [Prepare for Boosting](#boosting)  \n",
    "5. [Boosting and Results](#result)\n",
    "\n",
    "\n",
    "<a name='intro'></a>\n",
    "### 1. Introduction\n",
    "Modern biblical scholarship holds that the Pentateuch, also known as the Torah, is a multiauthor document that was composed over a period hundreds of years. However, scholars disagree on the number of and circumstance of the authors who have contributed to the Torah with some adhering to the older documentary hypothesis (DH) and many others prescribing to the newer, supplementary hypothesis (SH). This work aims to shed light on this controversy using Natural Language Processing (NLP) to identify the authors of the Torah at the sentence level. Computerized stylometric analysis in this piece reveals an intricate story showing the lack of a strong stylometric signature from the E source over the J source and a strong seepage of the P source into sources thought to be independent by the documentary hypothesis. "
   ]
  },
  {
   "cell_type": "code",
   "execution_count": 1,
   "metadata": {
    "tags": []
   },
   "outputs": [],
   "source": [
    "import numpy as np\n",
    "import pandas as pd \n",
    "import itertools\n",
    "\n",
    "import fasttext\n",
    "import xgboost as xgb\n",
    "from sklearn.utils import shuffle\n",
    "from sklearn.metrics import confusion_matrix\n",
    "from sklearn.model_selection import train_test_split\n",
    "from sklearn.calibration import CalibratedClassifierCV\n",
    "from sklearn.feature_extraction.text import TfidfVectorizer, CountVectorizer\n",
    "from sklearn.decomposition import TruncatedSVD, PCA\n",
    "from sklearn import ensemble, linear_model, metrics, model_selection, naive_bayes, svm\n",
    "from gensim.models import Word2Vec, word2vec, KeyedVectors\n",
    "\n",
    "import seaborn as sns\n",
    "import matplotlib.pyplot as plt\n",
    "\n",
    "color = sns.color_palette()\n",
    "np.set_printoptions(suppress=True)\n",
    "%matplotlib inline"
   ]
  },
  {
   "cell_type": "code",
   "execution_count": 2,
   "metadata": {},
   "outputs": [],
   "source": [
    "def runAlgo(algo, x_train, y_train, x_test, y_test, x2_test):\n",
    "    \"\"\" \n",
    "    Helper function to simplify changing algorithms while testing.\n",
    "    Only pass MNB, RF, LR, SVM as algo argument.\n",
    "    Call runFastText and runXGB as a standalone.\n",
    "    \"\"\"\n",
    "    \n",
    "    return algo(x_train, y_train, x_test, y_test, x2_test)"
   ]
  },
  {
   "cell_type": "code",
   "execution_count": 3,
   "metadata": {},
   "outputs": [],
   "source": [
    "def runMNB(x_train, y_train, x_test, y_test, x2_test):\n",
    "    \n",
    "    model = naive_bayes.MultinomialNB()\n",
    "    model.fit(x_train, y_train)\n",
    "    y_pred_test = model.predict_proba(x_test)\n",
    "    y2_pred_test = model.predict_proba(x2_test)\n",
    "    return y_pred_test, y2_pred_test, model"
   ]
  },
  {
   "cell_type": "code",
   "execution_count": 4,
   "metadata": {},
   "outputs": [],
   "source": [
    "def runRandomForest(x_train, y_train, x_test, y_test, x2_test):\n",
    "    \n",
    "    model = ensemble.RandomForestClassifier(n_estimators=500, n_jobs=-1)\n",
    "    model.fit(x_train, y_train)\n",
    "    y_pred_test = model.predict_proba(x_test)\n",
    "    y2_pred_test = model.predict_proba(x2_test)\n",
    "    return y_pred_test, y2_pred_test, model"
   ]
  },
  {
   "cell_type": "code",
   "execution_count": 5,
   "metadata": {},
   "outputs": [],
   "source": [
    "def runLogisticRegression(x_train, y_train, x_test, y_test, x2_test):\n",
    "    \n",
    "    model = linear_model.LogisticRegression(max_iter=10000)\n",
    "    model.fit(x_train, y_train)\n",
    "    y_pred_test = model.predict_proba(x_test)\n",
    "    y2_pred_test = model.predict_proba(x2_test)\n",
    "    return y_pred_test, y2_pred_test, model"
   ]
  },
  {
   "cell_type": "code",
   "execution_count": 6,
   "metadata": {},
   "outputs": [],
   "source": [
    "def runSVM(x_train, y_train, x_test, y_test, x2_test):\n",
    "    \n",
    "    model = CalibratedClassifierCV(svm.SVC(kernel='poly', degree=4))\n",
    "    model.fit(x_train, y_train)\n",
    "    y_pred_test = model.predict_proba(x_test)\n",
    "    y2_pred_test = model.predict_proba(x2_test)\n",
    "    return y_pred_test, y2_pred_test, model"
   ]
  },
  {
   "cell_type": "code",
   "execution_count": 7,
   "metadata": {},
   "outputs": [],
   "source": [
    "def runFastText(k, x_train, y_train, x_test, y_test, x2_test):\n",
    "    \n",
    "    f = open('fasttext_data.txt', 'w')\n",
    "    for x, y in zip(x_train, y_train):\n",
    "        line = '__label__' + str(y) + ' ' + x + '\\n'\n",
    "        f.write(line)\n",
    "    f.close()\n",
    "\n",
    "    model = fasttext.train_supervised(input='fasttext_data.txt', epoch=50, lr=1, wordNgrams=20,  minn=3, maxn=6, dim=100)\n",
    "    \n",
    "    y_pred_test = []\n",
    "    labels, probs = model.predict(x_test, k=k)\n",
    "    for label, prob in zip(labels, probs):\n",
    "        p = [x for _, x in sorted(zip(label, prob))]\n",
    "        y_pred_test.append(p)\n",
    "    y_pred_test = np.array(y_pred_test)\n",
    "    \n",
    "    y2_pred_test = []\n",
    "    labels, probs = model.predict(x2_test, k=k)\n",
    "    for label, prob in zip(labels, probs):\n",
    "        p = [x for _, x in sorted(zip(label, prob))]\n",
    "        y2_pred_test.append(p)\n",
    "    y2_pred_test = np.array(y2_pred_test)\n",
    "    \n",
    "    return y_pred_test, y2_pred_test, model"
   ]
  },
  {
   "cell_type": "code",
   "execution_count": 8,
   "metadata": {},
   "outputs": [],
   "source": [
    "def runXGB(k, num_rounds, param, x_train, y_train, x_test, y_test=None, x2_test=None):\n",
    "    \n",
    "    plst = list(param.items())\n",
    "    xgtrain = xgb.DMatrix(x_train, label=y_train)\n",
    "\n",
    "    if y_test is not None:\n",
    "        xgtest = xgb.DMatrix(x_test, label=y_test)\n",
    "        watchlist = [(xgtrain,'train'), (xgtest, 'test')]\n",
    "        model = xgb.train(plst, xgtrain, num_rounds, watchlist, early_stopping_rounds=50, verbose_eval=20)\n",
    "    else:\n",
    "        xgtest = xgb.DMatrix(x_test)\n",
    "        model = xgb.train(plst, xgtrain, num_rounds)\n",
    "\n",
    "    y_pred_test = model.predict(xgtest, ntree_limit = model.best_ntree_limit)\n",
    "    if x2_test is not None:\n",
    "        xgtest2 = xgb.DMatrix(x2_test)\n",
    "        y2_pred_test = model.predict(xgtest2, ntree_limit = model.best_ntree_limit)\n",
    "    return y_pred_test, y2_pred_test, model"
   ]
  },
  {
   "cell_type": "code",
   "execution_count": 9,
   "metadata": {},
   "outputs": [],
   "source": [
    "def word_vector(model, tokens, dim):\n",
    "    \"\"\" \n",
    "    Generate a word vector.\n",
    "    model: a completed model\n",
    "    tokens: a list of words (in this case POS)\n",
    "    dim: Number of dimensions. 100 - 300 is good for w2v\n",
    "    \"\"\"\n",
    "    \n",
    "    i = 0\n",
    "    vec = np.zeros(dim).reshape((1, dim))\n",
    "    for word in tokens:\n",
    "        vec += model[word].reshape((1, dim))\n",
    "        i += 1.\n",
    "    if i != 0:\n",
    "        vec /= i\n",
    "    return vec"
   ]
  },
  {
   "cell_type": "code",
   "execution_count": 10,
   "metadata": {},
   "outputs": [],
   "source": [
    "# From http://scikit-learn.org/stable/auto_examples/model_selection/plot_confusion_matrix.html#sphx-glr-auto-examples-model-selection-plot-confusion-matrix-py\n",
    "def plot_confusion_matrix(cm, classes, normalize=False, title='Confusion matrix', cmap=plt.cm.Blues):\n",
    "    \"\"\"\n",
    "    This function prints and plots the confusion matrix.\n",
    "    Normalization can be applied by setting `normalize=True`.\n",
    "    \"\"\"\n",
    "    \n",
    "    if normalize:\n",
    "        cm = cm.astype('float') / cm.sum(axis=1)[:, np.newaxis]\n",
    "\n",
    "    plt.imshow(cm, interpolation='nearest', cmap=cmap)\n",
    "    plt.title(title)\n",
    "    plt.colorbar()\n",
    "    tick_marks = np.arange(len(classes))\n",
    "    plt.xticks(tick_marks, classes, rotation=45)\n",
    "    plt.yticks(tick_marks, classes)\n",
    "\n",
    "    fmt = '.2f' if normalize else 'd'\n",
    "    thresh = cm.max() / 2.\n",
    "    for i, j in itertools.product(range(cm.shape[0]), range(cm.shape[1])):\n",
    "        plt.text(j, i, format(cm[i, j], fmt),\n",
    "                 horizontalalignment=\"center\",\n",
    "                 color='white' if cm[i, j] > thresh else 'black')\n",
    "\n",
    "    plt.tight_layout()\n",
    "    plt.ylabel('True label')\n",
    "    plt.xlabel('Predicted label')"
   ]
  },
  {
   "cell_type": "markdown",
   "metadata": {},
   "source": [
    "<a name='preprocess'></a>\n",
    "### 2. Preprocess Data\n",
    "\n",
    "We omit the book of Deuteronomy in this study because both the DH and SH agree that it is a largely independent source with very minimal intrusion from the sources found in Genesis, Exodus, Leviticus, and Numbers. From a schollarly point of view, it is more closely related to the Deuteronomistic histories such as Joshua, Judges, Samuel, and Kings than it is to the rest of the Torah anyway. Classification performance could potentially decrease with each additional author, k. To give ourselves the best possible chance of success we will remove this book as there is minimal ongoing debate about its nature. "
   ]
  },
  {
   "cell_type": "code",
   "execution_count": 11,
   "metadata": {},
   "outputs": [
    {
     "name": "stdout",
     "output_type": "stream",
     "text": [
      "וֽ͏ַיְהִ֥י כָל־ הָאָ֖רֶץ שָׂפָ֣ה אֶחָ֑ת וּדְבָרִ֖ים אֲחָדִֽים׃\n",
      "\n"
     ]
    },
    {
     "data": {
      "text/html": [
       "<div>\n",
       "<style scoped>\n",
       "    .dataframe tbody tr th:only-of-type {\n",
       "        vertical-align: middle;\n",
       "    }\n",
       "\n",
       "    .dataframe tbody tr th {\n",
       "        vertical-align: top;\n",
       "    }\n",
       "\n",
       "    .dataframe thead th {\n",
       "        text-align: right;\n",
       "    }\n",
       "</style>\n",
       "<table border=\"1\" class=\"dataframe\">\n",
       "  <thead>\n",
       "    <tr style=\"text-align: right;\">\n",
       "      <th></th>\n",
       "      <th>Unnamed: 0</th>\n",
       "      <th>book</th>\n",
       "      <th>book_num</th>\n",
       "      <th>chapter</th>\n",
       "      <th>verse</th>\n",
       "      <th>hebrew</th>\n",
       "      <th>heb_no_niqquid_punct</th>\n",
       "      <th>web</th>\n",
       "      <th>pos</th>\n",
       "      <th>dh_author</th>\n",
       "      <th>sh_author</th>\n",
       "    </tr>\n",
       "  </thead>\n",
       "  <tbody>\n",
       "    <tr>\n",
       "      <th>0</th>\n",
       "      <td>0</td>\n",
       "      <td>Genesis</td>\n",
       "      <td>1</td>\n",
       "      <td>1</td>\n",
       "      <td>1</td>\n",
       "      <td>בְּרֵאשִׁ֖ית בָּרָ֣א אֱלֹהִ֑ים אֵ֥ת הַשָּׁמַ֖י...</td>\n",
       "      <td>בראשית ברא אלהים את השמים ואת הארץ</td>\n",
       "      <td>In the beginning God{After \"God,\" the Hebrew h...</td>\n",
       "      <td>prep subs.f.sg.a verb.qal.perf.p3.m.sg subs.m....</td>\n",
       "      <td>P</td>\n",
       "      <td>P</td>\n",
       "    </tr>\n",
       "    <tr>\n",
       "      <th>1</th>\n",
       "      <td>1</td>\n",
       "      <td>Genesis</td>\n",
       "      <td>1</td>\n",
       "      <td>1</td>\n",
       "      <td>2</td>\n",
       "      <td>וְהָאָ֗רֶץ הָיְתָ֥ה תֹ֙הוּ֙ וָבֹ֔הוּ וְחֹ֖שֶׁך...</td>\n",
       "      <td>והארץ היתה תהו ובהו וחשך על פני תהום ורוח אלהי...</td>\n",
       "      <td>Now the earth was formless and empty. Darkness...</td>\n",
       "      <td>conj art subs.u.sg.a verb.qal.perf.p3.f.sg sub...</td>\n",
       "      <td>P</td>\n",
       "      <td>P</td>\n",
       "    </tr>\n",
       "    <tr>\n",
       "      <th>2</th>\n",
       "      <td>2</td>\n",
       "      <td>Genesis</td>\n",
       "      <td>1</td>\n",
       "      <td>1</td>\n",
       "      <td>3</td>\n",
       "      <td>וַיֹּ֥אמֶר אֱלֹהִ֖ים יְהִ֣י א֑וֹר וַֽיְהִי־ אֽ...</td>\n",
       "      <td>ויאמר אלהים יהי אור ויהי אור</td>\n",
       "      <td>God said, \"Let there be light,\" and there was ...</td>\n",
       "      <td>conj verb.qal.wayq.p3.m.sg subs.m.pl.a verb.qa...</td>\n",
       "      <td>P</td>\n",
       "      <td>P</td>\n",
       "    </tr>\n",
       "    <tr>\n",
       "      <th>3</th>\n",
       "      <td>3</td>\n",
       "      <td>Genesis</td>\n",
       "      <td>1</td>\n",
       "      <td>1</td>\n",
       "      <td>4</td>\n",
       "      <td>וַיַּ֧רְא אֱלֹהִ֛ים אֶת־ הָא֖וֹר כִּי־ ט֑וֹב ו...</td>\n",
       "      <td>וירא אלהים את האור כי טוב ויבדל אלהים בין האור...</td>\n",
       "      <td>God saw the light, and saw that it was good. G...</td>\n",
       "      <td>conj verb.qal.wayq.p3.m.sg subs.m.pl.a prep ar...</td>\n",
       "      <td>P</td>\n",
       "      <td>P</td>\n",
       "    </tr>\n",
       "    <tr>\n",
       "      <th>4</th>\n",
       "      <td>4</td>\n",
       "      <td>Genesis</td>\n",
       "      <td>1</td>\n",
       "      <td>1</td>\n",
       "      <td>5</td>\n",
       "      <td>וַיִּקְרָ֨א אֱלֹהִ֤ים ׀ לָאוֹר֙ י֔וֹם וְלַחֹ֖ש...</td>\n",
       "      <td>ויקרא אלהים לאור יום ולחשך קרא לילה ויהי ערב ו...</td>\n",
       "      <td>God called the light Day, and the darkness he ...</td>\n",
       "      <td>conj verb.qal.wayq.p3.m.sg subs.m.pl.a prep ar...</td>\n",
       "      <td>P</td>\n",
       "      <td>P</td>\n",
       "    </tr>\n",
       "  </tbody>\n",
       "</table>\n",
       "</div>"
      ],
      "text/plain": [
       "   Unnamed: 0     book  book_num  chapter  verse  \\\n",
       "0           0  Genesis         1        1      1   \n",
       "1           1  Genesis         1        1      2   \n",
       "2           2  Genesis         1        1      3   \n",
       "3           3  Genesis         1        1      4   \n",
       "4           4  Genesis         1        1      5   \n",
       "\n",
       "                                              hebrew  \\\n",
       "0  בְּרֵאשִׁ֖ית בָּרָ֣א אֱלֹהִ֑ים אֵ֥ת הַשָּׁמַ֖י...   \n",
       "1  וְהָאָ֗רֶץ הָיְתָ֥ה תֹ֙הוּ֙ וָבֹ֔הוּ וְחֹ֖שֶׁך...   \n",
       "2  וַיֹּ֥אמֶר אֱלֹהִ֖ים יְהִ֣י א֑וֹר וַֽיְהִי־ אֽ...   \n",
       "3  וַיַּ֧רְא אֱלֹהִ֛ים אֶת־ הָא֖וֹר כִּי־ ט֑וֹב ו...   \n",
       "4  וַיִּקְרָ֨א אֱלֹהִ֤ים ׀ לָאוֹר֙ י֔וֹם וְלַחֹ֖ש...   \n",
       "\n",
       "                                heb_no_niqquid_punct  \\\n",
       "0                 בראשית ברא אלהים את השמים ואת הארץ   \n",
       "1  והארץ היתה תהו ובהו וחשך על פני תהום ורוח אלהי...   \n",
       "2                       ויאמר אלהים יהי אור ויהי אור   \n",
       "3  וירא אלהים את האור כי טוב ויבדל אלהים בין האור...   \n",
       "4  ויקרא אלהים לאור יום ולחשך קרא לילה ויהי ערב ו...   \n",
       "\n",
       "                                                 web  \\\n",
       "0  In the beginning God{After \"God,\" the Hebrew h...   \n",
       "1  Now the earth was formless and empty. Darkness...   \n",
       "2  God said, \"Let there be light,\" and there was ...   \n",
       "3  God saw the light, and saw that it was good. G...   \n",
       "4  God called the light Day, and the darkness he ...   \n",
       "\n",
       "                                                 pos dh_author sh_author  \n",
       "0  prep subs.f.sg.a verb.qal.perf.p3.m.sg subs.m....         P         P  \n",
       "1  conj art subs.u.sg.a verb.qal.perf.p3.f.sg sub...         P         P  \n",
       "2  conj verb.qal.wayq.p3.m.sg subs.m.pl.a verb.qa...         P         P  \n",
       "3  conj verb.qal.wayq.p3.m.sg subs.m.pl.a prep ar...         P         P  \n",
       "4  conj verb.qal.wayq.p3.m.sg subs.m.pl.a prep ar...         P         P  "
      ]
     },
     "execution_count": 11,
     "metadata": {},
     "output_type": "execute_result"
    }
   ],
   "source": [
    "df = pd.read_csv('data.csv')\n",
    "print(df.loc[267, 'hebrew'])\n",
    "print()\n",
    "df = df[df['book'] != 'Deuteronomy']\n",
    "df.head()"
   ]
  },
  {
   "cell_type": "markdown",
   "metadata": {},
   "source": [
    "In this study we use Hebrew parts of speech embeddings as our input data for our classifers. The only data actually processed in the dataframe is the pos column, along with dh_author and sh_author which are converted to numerical format. "
   ]
  },
  {
   "cell_type": "code",
   "execution_count": 12,
   "metadata": {},
   "outputs": [],
   "source": [
    "df = shuffle(df, random_state=5780)"
   ]
  },
  {
   "cell_type": "code",
   "execution_count": 13,
   "metadata": {},
   "outputs": [
    {
     "name": "stderr",
     "output_type": "stream",
     "text": [
      "/home/cmd/.local/lib/python3.8/site-packages/seaborn/_decorators.py:36: FutureWarning: Pass the following variables as keyword args: x, y. From version 0.12, the only valid positional argument will be `data`, and passing other arguments without an explicit keyword will result in an error or misinterpretation.\n",
      "  warnings.warn(\n"
     ]
    },
    {
     "data": {
      "image/png": "[encoded data removed]",
      "text/plain": [
       "<Figure size 576x288 with 1 Axes>"
      ]
     },
     "metadata": {
      "needs_background": "light"
     },
     "output_type": "display_data"
    }
   ],
   "source": [
    "cnt_srs = df['dh_author'].value_counts()\n",
    "\n",
    "plt.figure(figsize=(8,4))\n",
    "sns.barplot(cnt_srs.index, cnt_srs.values, alpha=0.8)\n",
    "plt.ylabel('Number of Verses', fontsize=12)\n",
    "plt.xlabel('Author', fontsize=12)\n",
    "plt.title('Number of Verses by Author, Documentary Hypothesis')\n",
    "plt.show()"
   ]
  },
  {
   "cell_type": "code",
   "execution_count": 14,
   "metadata": {},
   "outputs": [
    {
     "name": "stderr",
     "output_type": "stream",
     "text": [
      "/home/cmd/.local/lib/python3.8/site-packages/seaborn/_decorators.py:36: FutureWarning: Pass the following variables as keyword args: x, y. From version 0.12, the only valid positional argument will be `data`, and passing other arguments without an explicit keyword will result in an error or misinterpretation.\n",
      "  warnings.warn(\n"
     ]
    },
    {
     "data": {
      "image/png": "[encoded data removed]",
      "text/plain": [
       "<Figure size 576x288 with 1 Axes>"
      ]
     },
     "metadata": {
      "needs_background": "light"
     },
     "output_type": "display_data"
    }
   ],
   "source": [
    "cnt_srs = df['sh_author'].value_counts()\n",
    "\n",
    "plt.figure(figsize=(8,4))\n",
    "sns.barplot(cnt_srs.index, cnt_srs.values, alpha=0.8)\n",
    "plt.ylabel('Number of Verses', fontsize=12)\n",
    "plt.xlabel('Author', fontsize=12)\n",
    "plt.title('Number of Verses by Author, Supplementary Hypothesis')\n",
    "plt.show()"
   ]
  },
  {
   "cell_type": "code",
   "execution_count": 15,
   "metadata": {},
   "outputs": [],
   "source": [
    "# Create true labels\n",
    "pos = df['pos'].tolist()\n",
    "heb = df['heb_no_niqquid_punct'].tolist()\n",
    "dh_author = df['dh_author']\n",
    "sh_author = df['sh_author']\n",
    "\n",
    "dh_to_int = {\n",
    "    'J': 0,\n",
    "    'E': 1,\n",
    "    'P': 2, \n",
    "    'R': 3,\n",
    "}\n",
    "dh_labels = []\n",
    "for label in dh_author:\n",
    "    dh_labels.append(dh_to_int[label])\n",
    "df['dh_labels'] = dh_labels\n",
    "dh_labels = np.array(dh_labels)\n",
    "\n",
    "sh_to_int = {\n",
    "    'J': 0,\n",
    "    'P': 1, \n",
    "}\n",
    "sh_labels = []\n",
    "for label in sh_author:\n",
    "    sh_labels.append(sh_to_int[label])\n",
    "df['sh_labels'] = sh_labels\n",
    "sh_labels = np.array(sh_labels)"
   ]
  },
  {
   "cell_type": "code",
   "execution_count": 16,
   "metadata": {},
   "outputs": [],
   "source": [
    "train_sh_df = pd.DataFrame()\n",
    "train_dh_df = pd.DataFrame()\n",
    "test_sh_df = pd.DataFrame()\n",
    "test_dh_df = pd.DataFrame()"
   ]
  },
  {
   "cell_type": "code",
   "execution_count": 17,
   "metadata": {},
   "outputs": [],
   "source": [
    "x_train, x_test, y_dh_train, y_dh_test = train_test_split(pos, dh_labels, test_size=0.2, random_state=5780)\n",
    "x_train, x_test, y_sh_train, y_sh_test = train_test_split(pos, sh_labels, test_size=0.2, random_state=5780)"
   ]
  },
  {
   "cell_type": "markdown",
   "metadata": {},
   "source": [
    "<a name='algo'></a>\n",
    "### 3. Algorithm Experimentation\n",
    "\n",
    "Lets generate some of the embeddings used throught the study and test them on various classification algorithms. None of the algorithms run here will be put through XGBoost, they are just used to get a glimpse at how performant each classifer is."
   ]
  },
  {
   "cell_type": "code",
   "execution_count": 18,
   "metadata": {},
   "outputs": [],
   "source": [
    "tfidf_vec = TfidfVectorizer(ngram_range=(2, 2))\n",
    "full_tfidf = tfidf_vec.fit_transform(pos)\n",
    "train_tfidf = tfidf_vec.transform(x_train)\n",
    "test_tfidf = tfidf_vec.transform(x_test)"
   ]
  },
  {
   "cell_type": "code",
   "execution_count": 19,
   "metadata": {},
   "outputs": [
    {
     "name": "stdout",
     "output_type": "stream",
     "text": [
      "Mean cv log loss:  0.413796312824099\n",
      "Mean cv accuracy:  0.8250319284802042\n"
     ]
    }
   ],
   "source": [
    "k = 2\n",
    "n_splits = 5\n",
    "y_train = y_sh_train\n",
    "algo = runRandomForest\n",
    "\n",
    "cv_log_loss = []\n",
    "cv_accuracy = []\n",
    "pred_full_test = 0\n",
    "pred_train = np.zeros([len(x_train), k])\n",
    "kf = model_selection.KFold(n_splits=n_splits, shuffle=True, random_state=5780)\n",
    "for dev_index, val_index in kf.split(x_train):\n",
    "    x_dev, x_val = train_tfidf[dev_index], train_tfidf[val_index]\n",
    "    y_dev, y_val = y_train[dev_index], y_train[val_index]\n",
    "    y_pred_val, y_pred_test, model = runAlgo(algo, x_dev, y_dev, x_val, y_val, test_tfidf)\n",
    "    pred_full_test = pred_full_test + y_pred_test\n",
    "    pred_train[val_index, :] = y_pred_val\n",
    "    cv_log_loss.append(metrics.log_loss(y_val, y_pred_val))\n",
    "    cv_accuracy.append(metrics.accuracy_score(y_val, np.argmax(y_pred_val, axis=1)))\n",
    "pred_full_test = pred_full_test / n_splits\n",
    "print('Mean cv log loss: ', np.mean(cv_log_loss))\n",
    "print('Mean cv accuracy: ', np.mean(cv_accuracy))"
   ]
  },
  {
   "cell_type": "code",
   "execution_count": 20,
   "metadata": {},
   "outputs": [
    {
     "name": "stdout",
     "output_type": "stream",
     "text": [
      "Mean cv log loss:  0.7992417994195782\n",
      "Mean cv accuracy:  0.6646232439335887\n"
     ]
    }
   ],
   "source": [
    "k = 4\n",
    "n_splits = 5\n",
    "y_train = y_dh_train\n",
    "algo = runRandomForest\n",
    "\n",
    "cv_log_loss = []\n",
    "cv_accuracy = []\n",
    "pred_full_test = 0\n",
    "pred_train = np.zeros([len(x_train), k])\n",
    "kf = model_selection.KFold(n_splits=n_splits, shuffle=True, random_state=5780)\n",
    "for dev_index, val_index in kf.split(x_train):\n",
    "    x_dev, x_val = train_tfidf[dev_index], train_tfidf[val_index]\n",
    "    y_dev, y_val = y_train[dev_index], y_train[val_index]\n",
    "    y_pred_val, y_pred_test, model = runAlgo(algo, x_dev, y_dev, x_val, y_val, test_tfidf)\n",
    "    pred_full_test = pred_full_test + y_pred_test\n",
    "    pred_train[val_index, :] = y_pred_val\n",
    "    cv_log_loss.append(metrics.log_loss(y_val, y_pred_val))\n",
    "    cv_accuracy.append(metrics.accuracy_score(y_val, np.argmax(y_pred_val, axis=1)))\n",
    "pred_full_test = pred_full_test / n_splits\n",
    "print('Mean cv log loss: ', np.mean(cv_log_loss))\n",
    "print('Mean cv accuracy: ', np.mean(cv_accuracy))"
   ]
  },
  {
   "cell_type": "code",
   "execution_count": 21,
   "metadata": {},
   "outputs": [
    {
     "name": "stdout",
     "output_type": "stream",
     "text": [
      "Mean cv log loss:  0.4428418781390036\n",
      "Mean cv accuracy:  0.801787994891443\n"
     ]
    }
   ],
   "source": [
    "k = 2\n",
    "n_splits = 5\n",
    "y_train = y_sh_train\n",
    "algo = runLogisticRegression\n",
    "\n",
    "cv_log_loss = []\n",
    "cv_accuracy = []\n",
    "pred_full_test = 0\n",
    "pred_train = np.zeros([len(x_train), k])\n",
    "kf = model_selection.KFold(n_splits=n_splits, shuffle=True, random_state=5780)\n",
    "for dev_index, val_index in kf.split(x_train):\n",
    "    x_dev, x_val = train_tfidf[dev_index], train_tfidf[val_index]\n",
    "    y_dev, y_val = y_train[dev_index], y_train[val_index]\n",
    "    y_pred_val, y_pred_test, model = runAlgo(algo, x_dev, y_dev, x_val, y_val, test_tfidf)\n",
    "    pred_full_test = pred_full_test + y_pred_test\n",
    "    pred_train[val_index, :] = y_pred_val\n",
    "    cv_log_loss.append(metrics.log_loss(y_val, y_pred_val))\n",
    "    cv_accuracy.append(metrics.accuracy_score(y_val, np.argmax(y_pred_val, axis=1)))\n",
    "pred_full_test = pred_full_test / n_splits\n",
    "print('Mean cv log loss: ', np.mean(cv_log_loss))\n",
    "print('Mean cv accuracy: ', np.mean(cv_accuracy))"
   ]
  },
  {
   "cell_type": "code",
   "execution_count": 22,
   "metadata": {},
   "outputs": [
    {
     "name": "stdout",
     "output_type": "stream",
     "text": [
      "Mean cv log loss:  0.5067597086632247\n",
      "Mean cv accuracy:  0.7614303959131545\n"
     ]
    }
   ],
   "source": [
    "k = 2\n",
    "n_splits = 5\n",
    "y_train = y_sh_train\n",
    "algo = runMNB\n",
    "\n",
    "cv_log_loss = []\n",
    "cv_accuracy = []\n",
    "pred_full_test = 0\n",
    "pred_train = np.zeros([len(x_train), k])\n",
    "kf = model_selection.KFold(n_splits=n_splits, shuffle=True, random_state=5780)\n",
    "for dev_index, val_index in kf.split(x_train):\n",
    "    x_dev, x_val = train_tfidf[dev_index], train_tfidf[val_index]\n",
    "    y_dev, y_val = y_train[dev_index], y_train[val_index]\n",
    "    y_pred_val, y_pred_test, model = runAlgo(algo, x_dev, y_dev, x_val, y_val, test_tfidf)\n",
    "    pred_full_test = pred_full_test + y_pred_test\n",
    "    pred_train[val_index, :] = y_pred_val\n",
    "    cv_log_loss.append(metrics.log_loss(y_val, y_pred_val))\n",
    "    cv_accuracy.append(metrics.accuracy_score(y_val, np.argmax(y_pred_val, axis=1)))\n",
    "pred_full_test = pred_full_test / n_splits\n",
    "print('Mean cv log loss: ', np.mean(cv_log_loss))\n",
    "print('Mean cv accuracy: ', np.mean(cv_accuracy))"
   ]
  },
  {
   "cell_type": "code",
   "execution_count": 23,
   "metadata": {},
   "outputs": [
    {
     "name": "stdout",
     "output_type": "stream",
     "text": [
      "Mean cv log loss:  0.3722946303809612\n",
      "Mean cv accuracy:  0.8393358876117496\n"
     ]
    }
   ],
   "source": [
    "k = 2\n",
    "n_splits = 5\n",
    "y_train = y_sh_train\n",
    "algo = runSVM\n",
    "\n",
    "cv_log_loss = []\n",
    "cv_accuracy = []\n",
    "pred_full_test = 0\n",
    "pred_train = np.zeros([len(x_train), k])\n",
    "kf = model_selection.KFold(n_splits=n_splits, shuffle=True, random_state=5780)\n",
    "for dev_index, val_index in kf.split(x_train):\n",
    "    x_dev, x_val = train_tfidf[dev_index], train_tfidf[val_index]\n",
    "    y_dev, y_val = y_train[dev_index], y_train[val_index]\n",
    "    y_pred_val, y_pred_test, model = runAlgo(algo, x_dev, y_dev, x_val, y_val, test_tfidf)\n",
    "    pred_full_test = pred_full_test + y_pred_test\n",
    "    pred_train[val_index, :] = y_pred_val\n",
    "    cv_log_loss.append(metrics.log_loss(y_val, y_pred_val))\n",
    "    cv_accuracy.append(metrics.accuracy_score(y_val, np.argmax(y_pred_val, axis=1)))\n",
    "pred_full_test = pred_full_test / n_splits\n",
    "print('Mean cv log loss: ', np.mean(cv_log_loss))\n",
    "print('Mean cv accuracy: ', np.mean(cv_accuracy))"
   ]
  },
  {
   "cell_type": "code",
   "execution_count": 24,
   "metadata": {},
   "outputs": [
    {
     "name": "stdout",
     "output_type": "stream",
     "text": [
      "Mean cv log loss:  0.44699773520215286\n",
      "Mean cv accuracy:  0.8431673052362708\n"
     ]
    }
   ],
   "source": [
    "k = 2\n",
    "n_splits = 5\n",
    "y_train = y_sh_train\n",
    "algo = runFastText\n",
    "\n",
    "cv_log_loss = []\n",
    "cv_accuracy = []\n",
    "pred_full_test = 0\n",
    "pred_train = np.zeros([len(x_train), k])\n",
    "kf = model_selection.KFold(n_splits=n_splits, shuffle=True, random_state=5780)\n",
    "for dev_index, val_index in kf.split(x_train):\n",
    "    x_dev = [x_train[idx] for idx in dev_index]\n",
    "    x_val = [x_train[idx] for idx in val_index]\n",
    "    y_dev = [y_train[idx] for idx in dev_index]\n",
    "    y_val = [y_train[idx] for idx in val_index]\n",
    "    y_pred_val, y_pred_test, model = runFastText(k, x_dev, y_dev, x_val, y_val, x_test)\n",
    "    pred_full_test = pred_full_test + y_pred_test\n",
    "    pred_train[val_index, :] = y_pred_val\n",
    "    cv_log_loss.append(metrics.log_loss(y_val, y_pred_val))\n",
    "    cv_accuracy.append(metrics.accuracy_score(y_val, np.argmax(y_pred_val, axis=1)))\n",
    "pred_full_test = pred_full_test / n_splits\n",
    "print('Mean cv log loss: ', np.mean(cv_log_loss))\n",
    "print('Mean cv accuracy: ', np.mean(cv_accuracy))"
   ]
  },
  {
   "cell_type": "markdown",
   "metadata": {},
   "source": [
    "<a name='boosting'></a>\n",
    "### 4. Prepare for Boosting\n",
    "\n",
    "From here on out all embeddings and classifications will be used towards the XGBoost algorithm at the end of the notebook. All classification tasks will be performed twice, once where k=4 for the DH and once where k=2 for the SH."
   ]
  },
  {
   "cell_type": "code",
   "execution_count": 25,
   "metadata": {},
   "outputs": [],
   "source": [
    "tfidf_vec = TfidfVectorizer(ngram_range=(2, 2))\n",
    "full_tfidf = tfidf_vec.fit_transform(pos)\n",
    "train_tfidf = tfidf_vec.transform(x_train)\n",
    "test_tfidf = tfidf_vec.transform(x_test)"
   ]
  },
  {
   "cell_type": "code",
   "execution_count": 26,
   "metadata": {},
   "outputs": [
    {
     "name": "stdout",
     "output_type": "stream",
     "text": [
      "Mean cv log loss:  0.8406469170354937\n",
      "Mean cv accuracy:  0.6853128991060025\n"
     ]
    }
   ],
   "source": [
    "k = 4\n",
    "n_splits = 5\n",
    "y_train = y_dh_train\n",
    "algo = runSVM\n",
    "\n",
    "cv_log_loss = []\n",
    "cv_accuracy = []\n",
    "pred_full_test = 0\n",
    "pred_train = np.zeros([len(x_train), k])\n",
    "kf = model_selection.KFold(n_splits=n_splits, shuffle=True, random_state=5780)\n",
    "for dev_index, val_index in kf.split(x_train):\n",
    "    x_dev, x_val = train_tfidf[dev_index], train_tfidf[val_index]\n",
    "    y_dev, y_val = y_train[dev_index], y_train[val_index]\n",
    "    y_pred_val, y_pred_test, model = runAlgo(algo, x_dev, y_dev, x_val, y_val, test_tfidf)\n",
    "    pred_full_test = pred_full_test + y_pred_test\n",
    "    pred_train[val_index, :] = y_pred_val\n",
    "    cv_log_loss.append(metrics.log_loss(y_val, y_pred_val))\n",
    "    cv_accuracy.append(metrics.accuracy_score(y_val, np.argmax(y_pred_val, axis=1)))\n",
    "pred_full_test = pred_full_test / n_splits\n",
    "print('Mean cv log loss: ', np.mean(cv_log_loss))\n",
    "print('Mean cv accuracy: ', np.mean(cv_accuracy))\n",
    "\n",
    "train_dh_df['svm_tfidf_j'] = pred_train[:, 0]\n",
    "train_dh_df['svm_tfidf_e'] = pred_train[:, 1]\n",
    "train_dh_df['svm_tfidf_p'] = pred_train[:, 2]\n",
    "train_dh_df['svm_tfidf_r'] = pred_train[:, 3]\n",
    "test_dh_df['svm_tfidf_j'] = pred_full_test[:, 0]\n",
    "test_dh_df['svm_tfidf_e'] = pred_full_test[:, 1]\n",
    "test_dh_df['svm_tfidf_p'] = pred_full_test[:, 2]\n",
    "test_dh_df['svm_tfidf_r'] = pred_full_test[:, 3]"
   ]
  },
  {
   "cell_type": "code",
   "execution_count": 27,
   "metadata": {},
   "outputs": [
    {
     "name": "stdout",
     "output_type": "stream",
     "text": [
      "Mean cv log loss:  0.3722946303809612\n",
      "Mean cv accuracy:  0.8393358876117496\n"
     ]
    }
   ],
   "source": [
    "k = 2\n",
    "n_splits = 5\n",
    "y_train = y_sh_train\n",
    "algo = runSVM\n",
    "\n",
    "cv_log_loss = []\n",
    "cv_accuracy = []\n",
    "pred_full_test = 0\n",
    "pred_train = np.zeros([len(x_train), k])\n",
    "kf = model_selection.KFold(n_splits=n_splits, shuffle=True, random_state=5780)\n",
    "for dev_index, val_index in kf.split(x_train):\n",
    "    x_dev, x_val = train_tfidf[dev_index], train_tfidf[val_index]\n",
    "    y_dev, y_val = y_train[dev_index], y_train[val_index]\n",
    "    y_pred_val, y_pred_test, model = runAlgo(algo, x_dev, y_dev, x_val, y_val, test_tfidf)\n",
    "    pred_full_test = pred_full_test + y_pred_test\n",
    "    pred_train[val_index, :] = y_pred_val\n",
    "    cv_log_loss.append(metrics.log_loss(y_val, y_pred_val))\n",
    "    cv_accuracy.append(metrics.accuracy_score(y_val, np.argmax(y_pred_val, axis=1)))\n",
    "pred_full_test = pred_full_test / n_splits\n",
    "print('Mean cv log loss: ', np.mean(cv_log_loss))\n",
    "print('Mean cv accuracy: ', np.mean(cv_accuracy))\n",
    "\n",
    "train_sh_df['svm_tfidf_j'] = pred_train[:, 0]\n",
    "train_sh_df['svm_tfidf_p'] = pred_train[:, 1]\n",
    "test_sh_df['svm_tfidf_j'] = pred_full_test[:, 0]\n",
    "test_sh_df['svm_tfidf_p'] = pred_full_test[:, 1]"
   ]
  },
  {
   "cell_type": "markdown",
   "metadata": {},
   "source": [
    "TruncatedSVD is used to capture that extra little bit of style. The results from this are used in XGBoost and tend to decrease log loss. Capturing as much variance as possible is important. More variance can be captured by increase the number of components at the cost of compute time."
   ]
  },
  {
   "cell_type": "code",
   "execution_count": 28,
   "metadata": {
    "tags": []
   },
   "outputs": [
    {
     "name": "stdout",
     "output_type": "stream",
     "text": [
      "Variance Captured  0.9807547294520417\n"
     ]
    }
   ],
   "source": [
    "n_comp = 150\n",
    "\n",
    "svd_obj = TruncatedSVD(n_components=n_comp, algorithm='arpack')\n",
    "svd_obj.fit(full_tfidf)\n",
    "train_svd = pd.DataFrame(svd_obj.transform(train_tfidf))\n",
    "test_svd = pd.DataFrame(svd_obj.transform(test_tfidf))\n",
    "    \n",
    "train_svd.columns = ['svd_word_' + str(i) for i in range(n_comp)]\n",
    "test_svd.columns = ['svd_word_' + str(i) for i in range(n_comp)]\n",
    "train_sh_df = pd.concat([train_sh_df, train_svd], axis=1)\n",
    "train_dh_df = pd.concat([train_dh_df, train_svd], axis=1)\n",
    "test_sh_df = pd.concat([test_sh_df, test_svd], axis=1)\n",
    "test_dh_df = pd.concat([test_dh_df, test_svd], axis=1)\n",
    "\n",
    "var_explained = svd_obj.explained_variance_ratio_.sum()\n",
    "print('Variance Captured ', var_explained)"
   ]
  },
  {
   "cell_type": "code",
   "execution_count": 29,
   "metadata": {},
   "outputs": [],
   "source": [
    "tfidf_vec = CountVectorizer(ngram_range=(1, 3))\n",
    "full_tfidf = tfidf_vec.fit_transform(pos)\n",
    "train_tfidf = tfidf_vec.transform(x_train)\n",
    "test_tfidf = tfidf_vec.transform(x_test)"
   ]
  },
  {
   "cell_type": "code",
   "execution_count": 30,
   "metadata": {},
   "outputs": [
    {
     "name": "stdout",
     "output_type": "stream",
     "text": [
      "Mean cv log loss:  0.8013224536194444\n",
      "Mean cv accuracy:  0.676117496807152\n"
     ]
    }
   ],
   "source": [
    "k = 4\n",
    "n_splits = 5\n",
    "y_train = y_dh_train\n",
    "algo = runRandomForest\n",
    "\n",
    "cv_log_loss = []\n",
    "cv_accuracy = []\n",
    "pred_full_test = 0\n",
    "pred_train = np.zeros([len(x_train), k])\n",
    "kf = model_selection.KFold(n_splits=n_splits, shuffle=True, random_state=5780)\n",
    "for dev_index, val_index in kf.split(x_train):\n",
    "    x_dev, x_val = train_tfidf[dev_index], train_tfidf[val_index]\n",
    "    y_dev, y_val = y_train[dev_index], y_train[val_index]\n",
    "    y_pred_val, y_pred_test, model = runAlgo(algo, x_dev, y_dev, x_val, y_val, test_tfidf)\n",
    "    pred_full_test = pred_full_test + y_pred_test\n",
    "    pred_train[val_index, :] = y_pred_val\n",
    "    cv_log_loss.append(metrics.log_loss(y_val, y_pred_val))\n",
    "    cv_accuracy.append(metrics.accuracy_score(y_val, np.argmax(y_pred_val, axis=1)))\n",
    "pred_full_test = pred_full_test / n_splits\n",
    "print('Mean cv log loss: ', np.mean(cv_log_loss))\n",
    "print('Mean cv accuracy: ', np.mean(cv_accuracy))\n",
    "\n",
    "train_dh_df['rf_cvec_j'] = pred_train[:, 0]\n",
    "train_dh_df['rf_cvec_e'] = pred_train[:, 1]\n",
    "train_dh_df['rf_cvec_p'] = pred_train[:, 2]\n",
    "train_dh_df['rf_cvec_r'] = pred_train[:, 3]\n",
    "test_dh_df['rf_cvec_j'] = pred_full_test[:, 0]\n",
    "test_dh_df['rf_cvec_e'] = pred_full_test[:, 1]\n",
    "test_dh_df['rf_cvec_p'] = pred_full_test[:, 2]\n",
    "test_dh_df['rf_cvec_r'] = pred_full_test[:, 3]"
   ]
  },
  {
   "cell_type": "code",
   "execution_count": 31,
   "metadata": {},
   "outputs": [
    {
     "name": "stdout",
     "output_type": "stream",
     "text": [
      "Mean cv log loss:  0.4042620874966071\n",
      "Mean cv accuracy:  0.8263090676883781\n"
     ]
    }
   ],
   "source": [
    "k = 2\n",
    "n_splits = 5\n",
    "y_train = y_sh_train\n",
    "algo = runRandomForest\n",
    "\n",
    "cv_log_loss = []\n",
    "cv_accuracy = []\n",
    "pred_full_test = 0\n",
    "pred_train = np.zeros([len(x_train), k])\n",
    "kf = model_selection.KFold(n_splits=n_splits, shuffle=True, random_state=5780)\n",
    "for dev_index, val_index in kf.split(x_train):\n",
    "    x_dev, x_val = train_tfidf[dev_index], train_tfidf[val_index]\n",
    "    y_dev, y_val = y_train[dev_index], y_train[val_index]\n",
    "    y_pred_val, y_pred_test, model = runAlgo(algo, x_dev, y_dev, x_val, y_val, test_tfidf)\n",
    "    pred_full_test = pred_full_test + y_pred_test\n",
    "    pred_train[val_index, :] = y_pred_val\n",
    "    cv_log_loss.append(metrics.log_loss(y_val, y_pred_val))\n",
    "    cv_accuracy.append(metrics.accuracy_score(y_val, np.argmax(y_pred_val, axis=1)))\n",
    "pred_full_test = pred_full_test / n_splits\n",
    "print('Mean cv log loss: ', np.mean(cv_log_loss))\n",
    "print('Mean cv accuracy: ', np.mean(cv_accuracy))\n",
    "\n",
    "train_sh_df['rf_cvec_j'] = pred_train[:, 0]\n",
    "train_sh_df['rf_cvec_p'] = pred_train[:, 1]\n",
    "test_sh_df['rf_cvec_j'] = pred_full_test[:, 0]\n",
    "test_sh_df['rf_cvec_p'] = pred_full_test[:, 1]"
   ]
  },
  {
   "cell_type": "code",
   "execution_count": 32,
   "metadata": {},
   "outputs": [],
   "source": [
    "tfidf_vec = CountVectorizer(ngram_range=(1, 25), analyzer='char')\n",
    "full_tfidf = tfidf_vec.fit_transform(pos)\n",
    "train_tfidf = tfidf_vec.transform(x_train)\n",
    "test_tfidf = tfidf_vec.transform(x_test)"
   ]
  },
  {
   "cell_type": "code",
   "execution_count": 33,
   "metadata": {},
   "outputs": [
    {
     "name": "stdout",
     "output_type": "stream",
     "text": [
      "Mean cv log loss:  0.772972847755223\n",
      "Mean cv accuracy:  0.6865900383141763\n"
     ]
    }
   ],
   "source": [
    "k = 4\n",
    "n_splits = 5\n",
    "y_train = y_dh_train\n",
    "algo = runRandomForest\n",
    "\n",
    "cv_log_loss = []\n",
    "cv_accuracy = []\n",
    "pred_full_test = 0\n",
    "pred_train = np.zeros([len(x_train), k])\n",
    "kf = model_selection.KFold(n_splits=n_splits, shuffle=True, random_state=5780)\n",
    "for dev_index, val_index in kf.split(x_train):\n",
    "    x_dev, x_val = train_tfidf[dev_index], train_tfidf[val_index]\n",
    "    y_dev, y_val = y_train[dev_index], y_train[val_index]\n",
    "    y_pred_val, y_pred_test, model = runAlgo(algo, x_dev, y_dev, x_val, y_val, test_tfidf)\n",
    "    pred_full_test = pred_full_test + y_pred_test\n",
    "    pred_train[val_index, :] = y_pred_val\n",
    "    cv_log_loss.append(metrics.log_loss(y_val, y_pred_val))\n",
    "    cv_accuracy.append(metrics.accuracy_score(y_val, np.argmax(y_pred_val, axis=1)))\n",
    "pred_full_test = pred_full_test / n_splits\n",
    "print('Mean cv log loss: ', np.mean(cv_log_loss))\n",
    "print('Mean cv accuracy: ', np.mean(cv_accuracy))\n",
    "\n",
    "train_dh_df['rf_cvec_char_j'] = pred_train[:, 0]\n",
    "train_dh_df['rf_cvec_char_e'] = pred_train[:, 1]\n",
    "train_dh_df['rf_cvec_char_p'] = pred_train[:, 2]\n",
    "train_dh_df['rf_cvec_char_r'] = pred_train[:, 3]\n",
    "test_dh_df['rf_cvec_char_j'] = pred_full_test[:, 0]\n",
    "test_dh_df['rf_cvec_char_e'] = pred_full_test[:, 1]\n",
    "test_dh_df['rf_cvec_char_p'] = pred_full_test[:, 2]\n",
    "test_dh_df['rf_cvec_char_r'] = pred_full_test[:, 3]"
   ]
  },
  {
   "cell_type": "code",
   "execution_count": 34,
   "metadata": {},
   "outputs": [
    {
     "name": "stdout",
     "output_type": "stream",
     "text": [
      "Mean cv log loss:  0.3904189641371169\n",
      "Mean cv accuracy:  0.8347381864623244\n"
     ]
    }
   ],
   "source": [
    "k = 2\n",
    "n_splits = 5\n",
    "y_train = y_sh_train\n",
    "algo = runRandomForest\n",
    "\n",
    "cv_log_loss = []\n",
    "cv_accuracy = []\n",
    "pred_full_test = 0\n",
    "pred_train = np.zeros([len(x_train), k])\n",
    "kf = model_selection.KFold(n_splits=n_splits, shuffle=True, random_state=5780)\n",
    "for dev_index, val_index in kf.split(x_train):\n",
    "    x_dev, x_val = train_tfidf[dev_index], train_tfidf[val_index]\n",
    "    y_dev, y_val = y_train[dev_index], y_train[val_index]\n",
    "    y_pred_val, y_pred_test, model = runAlgo(algo, x_dev, y_dev, x_val, y_val, test_tfidf)\n",
    "    pred_full_test = pred_full_test + y_pred_test\n",
    "    pred_train[val_index, :] = y_pred_val\n",
    "    cv_log_loss.append(metrics.log_loss(y_val, y_pred_val))\n",
    "    cv_accuracy.append(metrics.accuracy_score(y_val, np.argmax(y_pred_val, axis=1)))\n",
    "pred_full_test = pred_full_test / n_splits\n",
    "print('Mean cv log loss: ', np.mean(cv_log_loss))\n",
    "print('Mean cv accuracy: ', np.mean(cv_accuracy))\n",
    "\n",
    "train_sh_df['rf_cvec_char_j'] = pred_train[:, 0]\n",
    "train_sh_df['rf_cvec_char_p'] = pred_train[:, 1]\n",
    "test_sh_df['rf_cvec_char_j'] = pred_full_test[:, 0]\n",
    "test_sh_df['rf_cvec_char_p'] = pred_full_test[:, 1]"
   ]
  },
  {
   "cell_type": "code",
   "execution_count": 35,
   "metadata": {},
   "outputs": [],
   "source": [
    "tfidf_vec = TfidfVectorizer(ngram_range=(5, 5), analyzer='char')\n",
    "full_tfidf = tfidf_vec.fit_transform(pos)\n",
    "train_tfidf = tfidf_vec.transform(x_train)\n",
    "test_tfidf = tfidf_vec.transform(x_test)"
   ]
  },
  {
   "cell_type": "code",
   "execution_count": 36,
   "metadata": {},
   "outputs": [
    {
     "name": "stdout",
     "output_type": "stream",
     "text": [
      "Mean cv log loss:  0.8143192301072434\n",
      "Mean cv accuracy:  0.7006385696040869\n"
     ]
    }
   ],
   "source": [
    "k = 4\n",
    "n_splits = 5\n",
    "y_train = y_dh_train\n",
    "algo = runSVM\n",
    "\n",
    "cv_log_loss = []\n",
    "cv_accuracy = []\n",
    "pred_full_test = 0\n",
    "pred_train = np.zeros([len(x_train), k])\n",
    "kf = model_selection.KFold(n_splits=n_splits, shuffle=True, random_state=5780)\n",
    "for dev_index, val_index in kf.split(x_train):\n",
    "    x_dev, x_val = train_tfidf[dev_index], train_tfidf[val_index]\n",
    "    y_dev, y_val = y_train[dev_index], y_train[val_index]\n",
    "    y_pred_val, y_pred_test, model = runAlgo(algo, x_dev, y_dev, x_val, y_val, test_tfidf)\n",
    "    pred_full_test = pred_full_test + y_pred_test\n",
    "    pred_train[val_index, :] = y_pred_val\n",
    "    cv_log_loss.append(metrics.log_loss(y_val, y_pred_val))\n",
    "    cv_accuracy.append(metrics.accuracy_score(y_val, np.argmax(y_pred_val, axis=1)))\n",
    "pred_full_test = pred_full_test / n_splits\n",
    "print('Mean cv log loss: ', np.mean(cv_log_loss))\n",
    "print('Mean cv accuracy: ', np.mean(cv_accuracy))\n",
    "\n",
    "train_dh_df['svm_tfidf_char_j'] = pred_train[:, 0]\n",
    "train_dh_df['svm_tfidf_char_e'] = pred_train[:, 1]\n",
    "train_dh_df['svm_tfidf_char_p'] = pred_train[:, 2]\n",
    "train_dh_df['svm_tfidf_char_r'] = pred_train[:, 3]\n",
    "test_dh_df['svm_tfidf_char_j'] = pred_full_test[:, 0]\n",
    "test_dh_df['svm_tfidf_char_e'] = pred_full_test[:, 1]\n",
    "test_dh_df['svm_tfidf_char_p'] = pred_full_test[:, 2]\n",
    "test_dh_df['svm_tfidf_char_r'] = pred_full_test[:, 3]"
   ]
  },
  {
   "cell_type": "code",
   "execution_count": 37,
   "metadata": {},
   "outputs": [
    {
     "name": "stdout",
     "output_type": "stream",
     "text": [
      "Mean cv log loss:  0.3494628737583154\n",
      "Mean cv accuracy:  0.8549169859514688\n"
     ]
    }
   ],
   "source": [
    "k = 2\n",
    "n_splits = 5\n",
    "y_train = y_sh_train\n",
    "algo = runSVM\n",
    "\n",
    "cv_log_loss = []\n",
    "cv_accuracy = []\n",
    "pred_full_test = 0\n",
    "pred_train = np.zeros([len(x_train), k])\n",
    "kf = model_selection.KFold(n_splits=n_splits, shuffle=True, random_state=5780)\n",
    "for dev_index, val_index in kf.split(x_train):\n",
    "    x_dev, x_val = train_tfidf[dev_index], train_tfidf[val_index]\n",
    "    y_dev, y_val = y_train[dev_index], y_train[val_index]\n",
    "    y_pred_val, y_pred_test, model = runAlgo(algo, x_dev, y_dev, x_val, y_val, test_tfidf)\n",
    "    pred_full_test = pred_full_test + y_pred_test\n",
    "    pred_train[val_index, :] = y_pred_val\n",
    "    cv_log_loss.append(metrics.log_loss(y_val, y_pred_val))\n",
    "    cv_accuracy.append(metrics.accuracy_score(y_val, np.argmax(y_pred_val, axis=1)))\n",
    "pred_full_test = pred_full_test / n_splits\n",
    "print('Mean cv log loss: ', np.mean(cv_log_loss))\n",
    "print('Mean cv accuracy: ', np.mean(cv_accuracy))\n",
    "\n",
    "train_sh_df['svm_tfidf_char_j'] = pred_train[:, 0]\n",
    "train_sh_df['svm_tfidf_char_p'] = pred_train[:, 1]\n",
    "test_sh_df['svm_tfidf_char_j'] = pred_full_test[:, 0]\n",
    "test_sh_df['svm_tfidf_char_p'] = pred_full_test[:, 1]"
   ]
  },
  {
   "cell_type": "code",
   "execution_count": 38,
   "metadata": {},
   "outputs": [
    {
     "name": "stdout",
     "output_type": "stream",
     "text": [
      "Variance Captured:  0.973138868196565\n"
     ]
    }
   ],
   "source": [
    "n_comp = 150\n",
    "svd_obj = TruncatedSVD(n_components=n_comp, algorithm='arpack')\n",
    "svd_obj.fit(full_tfidf)\n",
    "train_svd = pd.DataFrame(svd_obj.transform(train_tfidf))\n",
    "test_svd = pd.DataFrame(svd_obj.transform(test_tfidf))\n",
    "    \n",
    "train_svd.columns = ['svd_char_' + str(i) for i in range(n_comp)]\n",
    "test_svd.columns = ['svd_char_' + str(i) for i in range(n_comp)]\n",
    "train_dh_df = pd.concat([train_dh_df, train_svd], axis=1)\n",
    "train_sh_df = pd.concat([train_sh_df, train_svd], axis=1)\n",
    "test_dh_df = pd.concat([test_dh_df, test_svd], axis=1)\n",
    "test_sh_df = pd.concat([test_sh_df, test_svd], axis=1)\n",
    "\n",
    "var_explained = svd_obj.explained_variance_ratio_.sum()\n",
    "print('Variance Captured: ', var_explained)"
   ]
  },
  {
   "cell_type": "code",
   "execution_count": 39,
   "metadata": {},
   "outputs": [],
   "source": [
    "dim = 300\n",
    "w2v_sg_model = word2vec.Word2Vec(sentences=pos, vector_size=dim, window=100, shrink_windows=True, min_count=5, sg=1, hs=0, negative=0, workers=12, seed=5780)\n",
    "\n",
    "wordvec_arrs = np.zeros((len(pos), dim)) \n",
    "for i in range(len(pos)):\n",
    "    wordvec_arrs[i,:] = word_vector(w2v_sg_model.wv, pos[i], dim)\n",
    "wordvec_df = pd.DataFrame(wordvec_arrs)\n",
    "x_w2v_sg_train, x_w2v_sg_test = train_test_split(wordvec_df, test_size=0.2, random_state=5780)"
   ]
  },
  {
   "cell_type": "code",
   "execution_count": 40,
   "metadata": {},
   "outputs": [
    {
     "name": "stdout",
     "output_type": "stream",
     "text": [
      "Mean cv log loss:  0.8682239074298096\n",
      "Mean cv accuracy:  0.6444444444444445\n"
     ]
    }
   ],
   "source": [
    "k = 4\n",
    "n_splits = 5\n",
    "y_train = y_dh_train\n",
    "algo = runRandomForest\n",
    "\n",
    "cv_log_loss = []\n",
    "cv_accuracy = []\n",
    "pred_full_test = 0\n",
    "pred_train = np.zeros([len(x_train), k])\n",
    "kf = model_selection.KFold(n_splits=n_splits, shuffle=True, random_state=5780)\n",
    "for dev_index, val_index in kf.split(x_w2v_sg_train):\n",
    "    x_dev = x_w2v_sg_train.iloc[dev_index]\n",
    "    x_val = x_w2v_sg_train.iloc[val_index]\n",
    "    y_dev, y_val = y_train[dev_index], y_train[val_index]\n",
    "    y_pred_val, y_pred_test, model = runAlgo(algo, x_dev, y_dev, x_val, y_val, x_w2v_sg_test)\n",
    "    pred_full_test = pred_full_test + y_pred_test\n",
    "    pred_train[val_index, :] = y_pred_val\n",
    "    cv_log_loss.append(metrics.log_loss(y_val, y_pred_val))\n",
    "    cv_accuracy.append(metrics.accuracy_score(y_val, np.argmax(y_pred_val, axis=1)))\n",
    "pred_full_test = pred_full_test / n_splits\n",
    "print('Mean cv log loss: ', np.mean(cv_log_loss))\n",
    "print('Mean cv accuracy: ', np.mean(cv_accuracy))\n",
    "\n",
    "train_dh_df['rf_w2v_sg_j'] = pred_train[:, 0]\n",
    "train_dh_df['rf_w2v_sg_e'] = pred_train[:, 1]\n",
    "train_dh_df['rf_w2v_sg_p'] = pred_train[:, 2]\n",
    "train_dh_df['rf_w2v_sg_r'] = pred_train[:, 3]\n",
    "test_dh_df['rf_w2v_sg_j'] = pred_full_test[:, 0]\n",
    "test_dh_df['rf_w2v_sg_e'] = pred_full_test[:, 1]\n",
    "test_dh_df['rf_w2v_sg_p'] = pred_full_test[:, 2]\n",
    "test_dh_df['rf_w2v_sg_r'] = pred_full_test[:, 3]"
   ]
  },
  {
   "cell_type": "code",
   "execution_count": 41,
   "metadata": {},
   "outputs": [
    {
     "name": "stdout",
     "output_type": "stream",
     "text": [
      "Mean cv log loss:  0.45949908552257257\n",
      "Mean cv accuracy:  0.7989782886334611\n"
     ]
    }
   ],
   "source": [
    "k = 2\n",
    "n_splits = 5\n",
    "y_train = y_sh_train\n",
    "algo = runRandomForest\n",
    "\n",
    "cv_log_loss = []\n",
    "cv_accuracy = []\n",
    "pred_full_test = 0\n",
    "pred_train = np.zeros([len(x_train), k])\n",
    "kf = model_selection.KFold(n_splits=n_splits, shuffle=True, random_state=5780)\n",
    "for dev_index, val_index in kf.split(x_w2v_sg_train):\n",
    "    x_dev = x_w2v_sg_train.iloc[dev_index]\n",
    "    x_val = x_w2v_sg_train.iloc[val_index]\n",
    "    y_dev, y_val = y_train[dev_index], y_train[val_index]\n",
    "    y_pred_val, y_pred_test, model = runAlgo(algo, x_dev, y_dev, x_val, y_val, x_w2v_sg_test)\n",
    "    pred_full_test = pred_full_test + y_pred_test\n",
    "    pred_train[val_index, :] = y_pred_val\n",
    "    cv_log_loss.append(metrics.log_loss(y_val, y_pred_val))\n",
    "    cv_accuracy.append(metrics.accuracy_score(y_val, np.argmax(y_pred_val, axis=1)))\n",
    "pred_full_test = pred_full_test / n_splits\n",
    "print('Mean cv log loss: ', np.mean(cv_log_loss))\n",
    "print('Mean cv accuracy: ', np.mean(cv_accuracy))\n",
    "\n",
    "train_sh_df['rf_w2v_sg_j'] = pred_train[:, 0]\n",
    "train_sh_df['rf_w2v_sg_p'] = pred_train[:, 1]\n",
    "test_sh_df['rf_w2v_sg_j'] = pred_full_test[:, 0]\n",
    "test_sh_df['rf_w2v_sg_p'] = pred_full_test[:, 1]"
   ]
  },
  {
   "cell_type": "code",
   "execution_count": 42,
   "metadata": {},
   "outputs": [],
   "source": [
    "dim = 300\n",
    "w2v_cbow_model = word2vec.Word2Vec(sentences=pos, vector_size=dim, window=100, shrink_windows=True, min_count=5, sg=0, hs=0, negative=5, workers=12, seed=5780)\n",
    "\n",
    "wordvec_arrs = np.zeros((len(pos), dim)) \n",
    "for i in range(len(pos)):\n",
    "    wordvec_arrs[i,:] = word_vector(w2v_cbow_model.wv, pos[i], dim)\n",
    "wordvec_df = pd.DataFrame(wordvec_arrs)\n",
    "x_w2v_cbow_train, x_w2v_cbow_test = train_test_split(wordvec_df, test_size=0.2, random_state=5780)"
   ]
  },
  {
   "cell_type": "code",
   "execution_count": 43,
   "metadata": {},
   "outputs": [
    {
     "name": "stdout",
     "output_type": "stream",
     "text": [
      "Mean cv log loss:  0.8744362874629268\n",
      "Mean cv accuracy:  0.6424010217113665\n"
     ]
    }
   ],
   "source": [
    "k = 4\n",
    "n_splits = 5\n",
    "y_train = y_dh_train\n",
    "algo = runRandomForest\n",
    "\n",
    "cv_log_loss = []\n",
    "cv_accuracy = []\n",
    "pred_full_test = 0\n",
    "pred_train = np.zeros([len(x_train), k])\n",
    "kf = model_selection.KFold(n_splits=n_splits, shuffle=True, random_state=5780)\n",
    "for dev_index, val_index in kf.split(x_w2v_cbow_train):\n",
    "    x_dev = x_w2v_cbow_train.iloc[dev_index]\n",
    "    x_val = x_w2v_cbow_train.iloc[val_index]\n",
    "    y_dev, y_val = y_train[dev_index], y_train[val_index]\n",
    "    y_pred_val, y_pred_test, model = runAlgo(algo, x_dev, y_dev, x_val, y_val, x_w2v_cbow_test)\n",
    "    pred_full_test = pred_full_test + y_pred_test\n",
    "    pred_train[val_index, :] = y_pred_val\n",
    "    cv_log_loss.append(metrics.log_loss(y_val, y_pred_val))\n",
    "    cv_accuracy.append(metrics.accuracy_score(y_val, np.argmax(y_pred_val, axis=1)))\n",
    "pred_full_test = pred_full_test / n_splits\n",
    "print('Mean cv log loss: ', np.mean(cv_log_loss))\n",
    "print('Mean cv accuracy: ', np.mean(cv_accuracy))\n",
    "\n",
    "train_dh_df['rf_w2v_cbow_j'] = pred_train[:, 0]\n",
    "train_dh_df['rf_w2v_cbow_e'] = pred_train[:, 1]\n",
    "train_dh_df['rf_w2v_cbow_p'] = pred_train[:, 2]\n",
    "train_dh_df['rf_w2v_cbow_r'] = pred_train[:, 3]\n",
    "test_dh_df['rf_w2v_cbow_j'] = pred_full_test[:, 0]\n",
    "test_dh_df['rf_w2v_cbow_e'] = pred_full_test[:, 1]\n",
    "test_dh_df['rf_w2v_cbow_p'] = pred_full_test[:, 2]\n",
    "test_dh_df['rf_w2v_cbow_r'] = pred_full_test[:, 3]"
   ]
  },
  {
   "cell_type": "code",
   "execution_count": 44,
   "metadata": {},
   "outputs": [
    {
     "name": "stdout",
     "output_type": "stream",
     "text": [
      "Mean cv log loss:  0.45538188314932454\n",
      "Mean cv accuracy:  0.791060025542784\n"
     ]
    }
   ],
   "source": [
    "k = 2\n",
    "n_splits = 5\n",
    "y_train = y_sh_train\n",
    "algo = runRandomForest\n",
    "\n",
    "cv_log_loss = []\n",
    "cv_accuracy = []\n",
    "pred_full_test = 0\n",
    "pred_train = np.zeros([len(x_train), k])\n",
    "kf = model_selection.KFold(n_splits=n_splits, shuffle=True, random_state=5780)\n",
    "for dev_index, val_index in kf.split(x_w2v_cbow_train):\n",
    "    x_dev = x_w2v_cbow_train.iloc[dev_index]\n",
    "    x_val = x_w2v_cbow_train.iloc[val_index]\n",
    "    y_dev, y_val = y_train[dev_index], y_train[val_index]\n",
    "    y_pred_val, y_pred_test, model = runAlgo(algo, x_dev, y_dev, x_val, y_val, x_w2v_cbow_test)\n",
    "    pred_full_test = pred_full_test + y_pred_test\n",
    "    pred_train[val_index, :] = y_pred_val\n",
    "    cv_log_loss.append(metrics.log_loss(y_val, y_pred_val))\n",
    "    cv_accuracy.append(metrics.accuracy_score(y_val, np.argmax(y_pred_val, axis=1)))\n",
    "pred_full_test = pred_full_test / n_splits\n",
    "print('Mean cv log loss: ', np.mean(cv_log_loss))\n",
    "print('Mean cv accuracy: ', np.mean(cv_accuracy))\n",
    "\n",
    "train_sh_df['rf_w2v_cbow_j'] = pred_train[:, 0]\n",
    "train_sh_df['rf_w2v_cbow_p'] = pred_train[:, 1]\n",
    "test_sh_df['rf_w2v_cbow_j'] = pred_full_test[:, 0]\n",
    "test_sh_df['rf_w2v_cbow_p'] = pred_full_test[:, 1]"
   ]
  },
  {
   "cell_type": "code",
   "execution_count": 45,
   "metadata": {},
   "outputs": [
    {
     "name": "stdout",
     "output_type": "stream",
     "text": [
      "Mean cv log loss:  0.8580622358280673\n",
      "Mean cv accuracy:  0.6957854406130268\n"
     ]
    }
   ],
   "source": [
    "k = 4\n",
    "n_splits = 5\n",
    "y_train = y_dh_train\n",
    "algo = runFastText\n",
    "\n",
    "cv_log_loss = []\n",
    "cv_accuracy = []\n",
    "pred_full_test = 0\n",
    "pred_train = np.zeros([len(x_train), k])\n",
    "kf = model_selection.KFold(n_splits=n_splits, shuffle=True, random_state=5780)\n",
    "for dev_index, val_index in kf.split(x_train):\n",
    "    x_dev = [x_train[idx] for idx in dev_index]\n",
    "    x_val = [x_train[idx] for idx in val_index]\n",
    "    y_dev = [y_train[idx] for idx in dev_index]\n",
    "    y_val = [y_train[idx] for idx in val_index]\n",
    "    y_pred_val, y_pred_test, model = runFastText(k, x_dev, y_dev, x_val, y_val, x_test)\n",
    "    pred_full_test = pred_full_test + y_pred_test\n",
    "    pred_train[val_index, :] = y_pred_val\n",
    "    cv_log_loss.append(metrics.log_loss(y_val, y_pred_val))\n",
    "    cv_accuracy.append(metrics.accuracy_score(y_val, np.argmax(y_pred_val, axis=1)))\n",
    "pred_full_test = pred_full_test / n_splits\n",
    "print('Mean cv log loss: ', np.mean(cv_log_loss))\n",
    "print('Mean cv accuracy: ', np.mean(cv_accuracy))\n",
    "\n",
    "train_dh_df['fasttext_j'] = pred_train[:, 0]\n",
    "train_dh_df['fasttext_e'] = pred_train[:, 1]\n",
    "train_dh_df['fasttext_p'] = pred_train[:, 2]\n",
    "train_dh_df['fasttext_r'] = pred_train[:, 3]\n",
    "test_dh_df['fasttext_j'] = pred_full_test[:, 0]\n",
    "test_dh_df['fasttext_e'] = pred_full_test[:, 1]\n",
    "test_dh_df['fasttext_p'] = pred_full_test[:, 2]\n",
    "test_dh_df['fasttext_r'] = pred_full_test[:, 3]"
   ]
  },
  {
   "cell_type": "code",
   "execution_count": 46,
   "metadata": {},
   "outputs": [
    {
     "name": "stdout",
     "output_type": "stream",
     "text": [
      "Mean cv log loss:  0.44675141100802024\n",
      "Mean cv accuracy:  0.8424010217113664\n"
     ]
    }
   ],
   "source": [
    "k = 2\n",
    "n_splits = 5\n",
    "y_train = y_sh_train\n",
    "algo = runFastText\n",
    "\n",
    "cv_log_loss = []\n",
    "cv_accuracy = []\n",
    "pred_full_test = 0\n",
    "pred_train = np.zeros([len(x_train), k])\n",
    "kf = model_selection.KFold(n_splits=n_splits, shuffle=True, random_state=5780)\n",
    "for dev_index, val_index in kf.split(x_train):\n",
    "    x_dev = [x_train[idx] for idx in dev_index]\n",
    "    x_val = [x_train[idx] for idx in val_index]\n",
    "    y_dev = [y_train[idx] for idx in dev_index]\n",
    "    y_val = [y_train[idx] for idx in val_index]\n",
    "    y_pred_val, y_pred_test, model = runFastText(k, x_dev, y_dev, x_val, y_val, x_test)\n",
    "    pred_full_test = pred_full_test + y_pred_test\n",
    "    pred_train[val_index, :] = y_pred_val\n",
    "    cv_log_loss.append(metrics.log_loss(y_val, y_pred_val))\n",
    "    cv_accuracy.append(metrics.accuracy_score(y_val, np.argmax(y_pred_val, axis=1)))\n",
    "pred_full_test = pred_full_test / n_splits\n",
    "print('Mean cv log loss: ', np.mean(cv_log_loss))\n",
    "print('Mean cv accuracy: ', np.mean(cv_accuracy))\n",
    "\n",
    "train_sh_df['fasttext_j'] = pred_train[:, 0]\n",
    "train_sh_df['fasttext_p'] = pred_train[:, 1]\n",
    "test_sh_df['fasttext_j'] = pred_full_test[:, 0]\n",
    "test_sh_df['fasttext_p'] = pred_full_test[:, 1]"
   ]
  },
  {
   "cell_type": "markdown",
   "metadata": {},
   "source": [
    "<a name='result'></a>\n",
    "### 5. Boosting and Results\n",
    "XGBoost is optimized for each hypothesis using this guide https://blog.cambridgespark.com/hyperparameter-tuning-in-xgboost-4ff9100a3b2f"
   ]
  },
  {
   "cell_type": "code",
   "execution_count": 47,
   "metadata": {},
   "outputs": [
    {
     "name": "stdout",
     "output_type": "stream",
     "text": [
      "[0]\ttrain-mlogloss:1.34113\ttest-mlogloss:1.34255\n",
      "[20]\ttrain-mlogloss:0.88866\ttest-mlogloss:0.90534\n",
      "[40]\ttrain-mlogloss:0.74982\ttest-mlogloss:0.77329\n",
      "[60]\ttrain-mlogloss:0.69508\ttest-mlogloss:0.73014\n",
      "[80]\ttrain-mlogloss:0.66533\ttest-mlogloss:0.71567\n",
      "[100]\ttrain-mlogloss:0.64350\ttest-mlogloss:0.71044\n",
      "[120]\ttrain-mlogloss:0.62465\ttest-mlogloss:0.70989\n",
      "[140]\ttrain-mlogloss:0.60774\ttest-mlogloss:0.71103\n",
      "[160]\ttrain-mlogloss:0.59263\ttest-mlogloss:0.71255\n",
      "[165]\ttrain-mlogloss:0.58891\ttest-mlogloss:0.71285\n",
      "[0]\ttrain-mlogloss:1.34101\ttest-mlogloss:1.34065\n",
      "[20]\ttrain-mlogloss:0.88666\ttest-mlogloss:0.89920\n"
     ]
    },
    {
     "name": "stderr",
     "output_type": "stream",
     "text": [
      "/home/cmd/.local/lib/python3.8/site-packages/xgboost/core.py:101: UserWarning: ntree_limit is deprecated, use `iteration_range` or model slicing instead.\n",
      "  warnings.warn(\n"
     ]
    },
    {
     "name": "stdout",
     "output_type": "stream",
     "text": [
      "[40]\ttrain-mlogloss:0.74653\ttest-mlogloss:0.77833\n",
      "[60]\ttrain-mlogloss:0.69059\ttest-mlogloss:0.74112\n",
      "[80]\ttrain-mlogloss:0.66024\ttest-mlogloss:0.72994\n",
      "[100]\ttrain-mlogloss:0.63784\ttest-mlogloss:0.72493\n",
      "[120]\ttrain-mlogloss:0.61833\ttest-mlogloss:0.72298\n",
      "[140]\ttrain-mlogloss:0.60060\ttest-mlogloss:0.72470\n",
      "[160]\ttrain-mlogloss:0.58403\ttest-mlogloss:0.72646\n",
      "[161]\ttrain-mlogloss:0.58318\ttest-mlogloss:0.72667\n",
      "[0]\ttrain-mlogloss:1.34054\ttest-mlogloss:1.34270\n",
      "[20]\ttrain-mlogloss:0.88097\ttest-mlogloss:0.92140\n"
     ]
    },
    {
     "name": "stderr",
     "output_type": "stream",
     "text": [
      "/home/cmd/.local/lib/python3.8/site-packages/xgboost/core.py:101: UserWarning: ntree_limit is deprecated, use `iteration_range` or model slicing instead.\n",
      "  warnings.warn(\n"
     ]
    },
    {
     "name": "stdout",
     "output_type": "stream",
     "text": [
      "[40]\ttrain-mlogloss:0.73855\ttest-mlogloss:0.80469\n",
      "[60]\ttrain-mlogloss:0.68110\ttest-mlogloss:0.77209\n",
      "[80]\ttrain-mlogloss:0.64972\ttest-mlogloss:0.76158\n",
      "[100]\ttrain-mlogloss:0.62686\ttest-mlogloss:0.75906\n",
      "[120]\ttrain-mlogloss:0.60817\ttest-mlogloss:0.76190\n",
      "[140]\ttrain-mlogloss:0.59057\ttest-mlogloss:0.76569\n",
      "[149]\ttrain-mlogloss:0.58362\ttest-mlogloss:0.76686\n",
      "[0]\ttrain-mlogloss:1.34102\ttest-mlogloss:1.34187\n",
      "[20]\ttrain-mlogloss:0.88990\ttest-mlogloss:0.89789\n"
     ]
    },
    {
     "name": "stderr",
     "output_type": "stream",
     "text": [
      "/home/cmd/.local/lib/python3.8/site-packages/xgboost/core.py:101: UserWarning: ntree_limit is deprecated, use `iteration_range` or model slicing instead.\n",
      "  warnings.warn(\n"
     ]
    },
    {
     "name": "stdout",
     "output_type": "stream",
     "text": [
      "[40]\ttrain-mlogloss:0.75044\ttest-mlogloss:0.76771\n",
      "[60]\ttrain-mlogloss:0.69442\ttest-mlogloss:0.72577\n",
      "[80]\ttrain-mlogloss:0.66363\ttest-mlogloss:0.71180\n",
      "[100]\ttrain-mlogloss:0.64167\ttest-mlogloss:0.70769\n",
      "[120]\ttrain-mlogloss:0.62291\ttest-mlogloss:0.70709\n",
      "[140]\ttrain-mlogloss:0.60676\ttest-mlogloss:0.70825\n",
      "[160]\ttrain-mlogloss:0.59167\ttest-mlogloss:0.70993\n",
      "[164]\ttrain-mlogloss:0.58870\ttest-mlogloss:0.71067\n",
      "[0]\ttrain-mlogloss:1.34155\ttest-mlogloss:1.34184\n",
      "[20]\ttrain-mlogloss:0.89362\ttest-mlogloss:0.88985\n"
     ]
    },
    {
     "name": "stderr",
     "output_type": "stream",
     "text": [
      "/home/cmd/.local/lib/python3.8/site-packages/xgboost/core.py:101: UserWarning: ntree_limit is deprecated, use `iteration_range` or model slicing instead.\n",
      "  warnings.warn(\n"
     ]
    },
    {
     "name": "stdout",
     "output_type": "stream",
     "text": [
      "[40]\ttrain-mlogloss:0.75672\ttest-mlogloss:0.75219\n",
      "[60]\ttrain-mlogloss:0.70225\ttest-mlogloss:0.70338\n",
      "[80]\ttrain-mlogloss:0.67213\ttest-mlogloss:0.68628\n",
      "[100]\ttrain-mlogloss:0.64970\ttest-mlogloss:0.67816\n",
      "[120]\ttrain-mlogloss:0.63147\ttest-mlogloss:0.67593\n",
      "[140]\ttrain-mlogloss:0.61554\ttest-mlogloss:0.67545\n",
      "[160]\ttrain-mlogloss:0.60046\ttest-mlogloss:0.67597\n",
      "[180]\ttrain-mlogloss:0.58681\ttest-mlogloss:0.67596\n",
      "[192]\ttrain-mlogloss:0.57904\ttest-mlogloss:0.67670\n",
      "cv log loss :  [0.7096530553453042, 0.722708535215331, 0.7587592412942442, 0.7063254029710098, 0.6754400261997758]\n",
      "cv accuracy:  [0.7037037037037037, 0.6998722860791826, 0.6730523627075351, 0.7075351213282248, 0.698595146871009]\n",
      "Mean cv log loss: 0.7145772522051329\n",
      "Mean cv accuracy:  0.696551724137931\n"
     ]
    },
    {
     "name": "stderr",
     "output_type": "stream",
     "text": [
      "/home/cmd/.local/lib/python3.8/site-packages/xgboost/core.py:101: UserWarning: ntree_limit is deprecated, use `iteration_range` or model slicing instead.\n",
      "  warnings.warn(\n"
     ]
    }
   ],
   "source": [
    "k = 4\n",
    "n_splits = 5\n",
    "y_train = y_dh_train\n",
    "x_train = train_dh_df\n",
    "x_test = test_dh_df\n",
    "algo = runXGB\n",
    "\n",
    "num_rounds = 2000\n",
    "param = {\n",
    "    'tree_method': 'gpu_hist',\n",
    "    'objective': 'multi:softprob',\n",
    "    'eval_metric': 'mlogloss',\n",
    "    'num_class': k,\n",
    "    'eta': 0.05,\n",
    "    'max_depth': 2,\n",
    "    'min_child_weight': 2,\n",
    "    'subsample': 1,\n",
    "    'colsample_bytree': 0.6,\n",
    "    'seed': 5780\n",
    "}\n",
    "\n",
    "y_dh_vals = []\n",
    "cv_log_loss = []\n",
    "cv_accuracy = []\n",
    "cnf_dh_matrices = []\n",
    "pred_full_test = 0\n",
    "kf = model_selection.KFold(n_splits=n_splits, shuffle=True, random_state=5780)\n",
    "pred_train = np.zeros([len(x_train), k])\n",
    "for dev_index, val_index in kf.split(x_train):\n",
    "    x_dev, x_val = x_train.loc[dev_index], x_train.loc[val_index]\n",
    "    y_dev, y_val = y_train[dev_index], y_train[val_index]\n",
    "    y_pred_val, y_pred_test, model = runXGB(k, num_rounds, param, x_dev, y_dev, x_val, y_val, x_test)\n",
    "    pred_full_test = pred_full_test + y_pred_test\n",
    "    pred_train[val_index, :] = y_pred_val\n",
    "    cv_log_loss.append(metrics.log_loss(y_val, y_pred_val))\n",
    "    cv_accuracy.append(metrics.accuracy_score(y_val, np.argmax(y_pred_val, axis=1)))\n",
    "    cnf_matrix = confusion_matrix(y_val, np.argmax(y_pred_val, axis=1))\n",
    "    cnf_dh_matrices.append(cnf_matrix)\n",
    "    y_dh_vals.append(y_val)\n",
    "print('cv log loss : ', cv_log_loss)\n",
    "print('cv accuracy: ', cv_accuracy)\n",
    "print('Mean cv log loss:', np.mean(cv_log_loss))\n",
    "print('Mean cv accuracy: ', np.mean(cv_accuracy))"
   ]
  },
  {
   "cell_type": "code",
   "execution_count": 48,
   "metadata": {},
   "outputs": [
    {
     "data": {
      "image/png": "[encoded data removed]",
      "text/plain": [
       "<Figure size 864x864 with 1 Axes>"
      ]
     },
     "metadata": {
      "needs_background": "light"
     },
     "output_type": "display_data"
    }
   ],
   "source": [
    "fig, ax = plt.subplots(figsize=(12,12))\n",
    "xgb.plot_importance(model, max_num_features=75, height=0.8, ax=ax)\n",
    "plt.show()"
   ]
  },
  {
   "cell_type": "code",
   "execution_count": 49,
   "metadata": {},
   "outputs": [
    {
     "data": {
      "image/png": "[encoded data removed]",
      "text/plain": [
       "<Figure size 576x576 with 2 Axes>"
      ]
     },
     "metadata": {
      "needs_background": "light"
     },
     "output_type": "display_data"
    }
   ],
   "source": [
    "cnf_matrix = sum(cnf_dh_matrices)\n",
    "plt.figure(figsize=(8,8))\n",
    "plot_confusion_matrix(cnf_matrix, classes=['J', 'E', 'P', 'R'], title='Documentary Hypothesis Confusion Matrix of XGB, with Normalization', normalize=True)\n",
    "plt.show()"
   ]
  },
  {
   "cell_type": "markdown",
   "metadata": {},
   "source": [
    "Above we see we can clearly identify the P source as they have a strong stylometric signature. We also notice that the classifer struggles to distinguish between the J and E source, as well as between the P and R source. This shows that there is a lack of variance in authorial style between them. This indicates that J and E, as well as P and R may be the same authors. We also see a high degree of misclassification for sources that schollars have traditionally attributed to J and E in favor of the P source. This might be a reason to believe that the P source has expressed their stylometric signature upon the J/E source."
   ]
  },
  {
   "cell_type": "code",
   "execution_count": 50,
   "metadata": {},
   "outputs": [
    {
     "name": "stdout",
     "output_type": "stream",
     "text": [
      "[0]\ttrain-mlogloss:0.54707\ttest-mlogloss:0.55237\n",
      "[20]\ttrain-mlogloss:0.29395\ttest-mlogloss:0.34059\n",
      "[40]\ttrain-mlogloss:0.25371\ttest-mlogloss:0.35171\n",
      "[59]\ttrain-mlogloss:0.22541\ttest-mlogloss:0.35133\n",
      "[0]\ttrain-mlogloss:0.54732\ttest-mlogloss:0.55136\n",
      "[20]\ttrain-mlogloss:0.28664\ttest-mlogloss:0.35219\n",
      "[40]\ttrain-mlogloss:0.24486\ttest-mlogloss:0.36777\n"
     ]
    },
    {
     "name": "stderr",
     "output_type": "stream",
     "text": [
      "/home/cmd/.local/lib/python3.8/site-packages/xgboost/core.py:101: UserWarning: ntree_limit is deprecated, use `iteration_range` or model slicing instead.\n",
      "  warnings.warn(\n"
     ]
    },
    {
     "name": "stdout",
     "output_type": "stream",
     "text": [
      "[60]\ttrain-mlogloss:0.21655\ttest-mlogloss:0.36901\n",
      "[0]\ttrain-mlogloss:0.54595\ttest-mlogloss:0.55380\n",
      "[20]\ttrain-mlogloss:0.28080\ttest-mlogloss:0.38673\n",
      "[40]\ttrain-mlogloss:0.23955\ttest-mlogloss:0.39778\n"
     ]
    },
    {
     "name": "stderr",
     "output_type": "stream",
     "text": [
      "/home/cmd/.local/lib/python3.8/site-packages/xgboost/core.py:101: UserWarning: ntree_limit is deprecated, use `iteration_range` or model slicing instead.\n",
      "  warnings.warn(\n"
     ]
    },
    {
     "name": "stdout",
     "output_type": "stream",
     "text": [
      "[57]\ttrain-mlogloss:0.21287\ttest-mlogloss:0.40785\n",
      "[0]\ttrain-mlogloss:0.54799\ttest-mlogloss:0.54968\n",
      "[20]\ttrain-mlogloss:0.29600\ttest-mlogloss:0.32714\n",
      "[40]\ttrain-mlogloss:0.25724\ttest-mlogloss:0.32646\n"
     ]
    },
    {
     "name": "stderr",
     "output_type": "stream",
     "text": [
      "/home/cmd/.local/lib/python3.8/site-packages/xgboost/core.py:101: UserWarning: ntree_limit is deprecated, use `iteration_range` or model slicing instead.\n",
      "  warnings.warn(\n"
     ]
    },
    {
     "name": "stdout",
     "output_type": "stream",
     "text": [
      "[60]\ttrain-mlogloss:0.22555\ttest-mlogloss:0.33814\n",
      "[68]\ttrain-mlogloss:0.21530\ttest-mlogloss:0.34171\n",
      "[0]\ttrain-mlogloss:0.55081\ttest-mlogloss:0.54862\n",
      "[20]\ttrain-mlogloss:0.29810\ttest-mlogloss:0.31601\n",
      "[40]\ttrain-mlogloss:0.25947\ttest-mlogloss:0.32567\n"
     ]
    },
    {
     "name": "stderr",
     "output_type": "stream",
     "text": [
      "/home/cmd/.local/lib/python3.8/site-packages/xgboost/core.py:101: UserWarning: ntree_limit is deprecated, use `iteration_range` or model slicing instead.\n",
      "  warnings.warn(\n"
     ]
    },
    {
     "name": "stdout",
     "output_type": "stream",
     "text": [
      "[60]\ttrain-mlogloss:0.23131\ttest-mlogloss:0.32751\n",
      "[65]\ttrain-mlogloss:0.22539\ttest-mlogloss:0.32641\n",
      "cv log loss :  [0.3380585836025376, 0.34798705631612514, 0.37820665808549175, 0.3250049746275367, 0.31398551832375476]\n",
      "cv accuracy:  [0.8569604086845466, 0.855683269476373, 0.842911877394636, 0.8671775223499362, 0.8607918263090677]\n",
      "Mean cv log loss :  0.3406485581910892\n",
      "Mean cv accuracy :  0.8567049808429118\n"
     ]
    },
    {
     "name": "stderr",
     "output_type": "stream",
     "text": [
      "/home/cmd/.local/lib/python3.8/site-packages/xgboost/core.py:101: UserWarning: ntree_limit is deprecated, use `iteration_range` or model slicing instead.\n",
      "  warnings.warn(\n"
     ]
    }
   ],
   "source": [
    "k = 2\n",
    "n_splits = 5\n",
    "y_train = y_sh_train\n",
    "x_train = train_sh_df\n",
    "x_test = test_sh_df\n",
    "algo = runXGB\n",
    "\n",
    "num_rounds = 2000\n",
    "param = {\n",
    "    'tree_method': 'gpu_hist',\n",
    "    'objective': 'multi:softprob',\n",
    "    'eval_metric': 'mlogloss',\n",
    "    'num_class': k,\n",
    "    'eta': 0.3,\n",
    "    'max_depth': 2,\n",
    "    'min_child_weight': 2,\n",
    "    'subsample': 1,\n",
    "    'colsample_bytree': 1, \n",
    "    'seed': 5780\n",
    "}\n",
    "\n",
    "cv_log_loss = []\n",
    "cv_accuracy = []\n",
    "cnf_sh_matrices = []\n",
    "cnf_hybrid_matrices = []\n",
    "pred_full_test = 0\n",
    "kf = model_selection.KFold(n_splits=n_splits, shuffle=True, random_state=5780)\n",
    "pred_train = np.zeros([len(x_train), k])\n",
    "for y_dh_val, (dev_index, val_index) in zip(y_dh_vals, kf.split(x_train)):\n",
    "    x_dev, x_val = x_train.loc[dev_index], x_train.loc[val_index]\n",
    "    y_dev, y_val = y_train[dev_index], y_train[val_index]\n",
    "    y_pred_val, y_pred_test, model = runXGB(k, num_rounds, param, x_dev, y_dev, x_val, y_val, x_test)\n",
    "    pred_full_test = pred_full_test + y_pred_test\n",
    "    pred_train[val_index, :] = y_pred_val\n",
    "    cv_log_loss.append(metrics.log_loss(y_val, y_pred_val))\n",
    "    cv_accuracy.append(metrics.accuracy_score(y_val, np.argmax(y_pred_val, axis=1)))\n",
    "    cnf_matrix = confusion_matrix(y_val, np.argmax(y_pred_val, axis=1))\n",
    "    cnf_sh_matrices.append(cnf_matrix)\n",
    "    y_pred_val = [2 if x==1 else x for x in np.argmax(y_pred_val, axis=1)] # Shift from sh to dh key for plotting\n",
    "    cnf_matrix = confusion_matrix(y_dh_val, y_pred_val)\n",
    "    cnf_hybrid_matrices.append(cnf_matrix)\n",
    "print('cv log loss : ', cv_log_loss)\n",
    "print('cv accuracy: ', cv_accuracy)\n",
    "print('Mean cv log loss : ', np.mean(cv_log_loss))\n",
    "print('Mean cv accuracy : ', np.mean(cv_accuracy))"
   ]
  },
  {
   "cell_type": "code",
   "execution_count": 51,
   "metadata": {
    "tags": []
   },
   "outputs": [
    {
     "data": {
      "image/png": "[encoded data removed]",
      "text/plain": [
       "<Figure size 864x864 with 1 Axes>"
      ]
     },
     "metadata": {
      "needs_background": "light"
     },
     "output_type": "display_data"
    }
   ],
   "source": [
    "fig, ax = plt.subplots(figsize=(12,12))\n",
    "xgb.plot_importance(model, max_num_features=75, height=0.8, ax=ax)\n",
    "plt.show()"
   ]
  },
  {
   "cell_type": "code",
   "execution_count": 52,
   "metadata": {},
   "outputs": [
    {
     "data": {
      "image/png": "[encoded data removed]",
      "text/plain": [
       "<Figure size 576x576 with 2 Axes>"
      ]
     },
     "metadata": {
      "needs_background": "light"
     },
     "output_type": "display_data"
    }
   ],
   "source": [
    "cnf_matrix = sum(cnf_sh_matrices)\n",
    "plt.figure(figsize=(8,8))\n",
    "plot_confusion_matrix(cnf_matrix, classes=['J', 'P'], title='Supplementary Hypothesis Confusion Matrix of XGB, with Normalization', normalize=True)\n",
    "plt.show()"
   ]
  },
  {
   "cell_type": "markdown",
   "metadata": {},
   "source": [
    "We see that overall classification log loss has decreased and accuracy has increased. Our results appear to be much more balanced and we are correctly classifying J and P to a much higher degree. There is a slight increase in misclassifications of J as P, this again may be due to the possibility that P has modified J's work and expressed their authorial style onto verses traditionally attributed to J."
   ]
  },
  {
   "cell_type": "code",
   "execution_count": 53,
   "metadata": {},
   "outputs": [
    {
     "data": {
      "image/png": "[encoded data removed]",
      "text/plain": [
       "<Figure size 576x576 with 2 Axes>"
      ]
     },
     "metadata": {
      "needs_background": "light"
     },
     "output_type": "display_data"
    }
   ],
   "source": [
    "cnf_matrix = sum(cnf_hybrid_matrices)\n",
    "plt.figure(figsize=(8,8))\n",
    "plot_confusion_matrix(cnf_matrix, classes=['J', 'E', 'P', 'R'], title='Hybrid SH Model on DH Confusion Matrix of XGB, with Normalization', normalize=True)\n",
    "plt.show()"
   ]
  },
  {
   "cell_type": "markdown",
   "metadata": {},
   "source": [
    "Our assumptions are confirmed when we see that most E verses, when classified by the SH model, are attributed to J. The same is true for R where about 90% of its verses are attributed to P. The perforation of the P source into the J source is still present at a consistent rate of about 20% between verses traditionally attributed to J/E. We call this the J++,P model, where J is influenced (lexically only) by what is now a shadow writer(s) who no longer has a significant stylometric signature. This is the first plus. The second plus comes from P, who has expressed their style onto work traditionally thought to be J's. \n",
    "\n",
    " the authorship of the Torah can best be thought of as “J++,P.” We see that the Torah is written by J, who (from a lexical understanding only) likely drew from what is now a shadow source(s) and left no significant trace of their stylometric signature. This work of J+ was then heavily modified by the P source giving us J++. Then P adds in their own complete contributions to what became the Torah, giving us J++,P."
   ]
  },
  {
   "cell_type": "markdown",
   "metadata": {},
   "source": [
    "623408fb0b3a5f8a28bae21a1c19c90678cefae817d67aca863c5e65f4e2bdd4fb4808b6c9cdec5678b5cb8d1061891795c58f315efec44be3ea666815f75427\n",
    "751b333da354aa3ddddcbcad99bbb26de9172e853d7d277219c00d99dafd69e4519673208b147ef65ed2f5e15814f9b11ba4263d30bddcd058cfba2039c86cd3\n",
    "0019f3f4bc95dc8d7a3bac9831da493819bae6e7d9364afb535e4bd183c9b7146fb33b6382f8dd8d7d235f16d5cfb6e78ae21855c5e83dd359078d1060ea6a7a"
   ]
  },
  {
   "cell_type": "code",
   "execution_count": null,
   "metadata": {},
   "outputs": [],
   "source": []
  },
  {
   "cell_type": "markdown",
   "metadata": {},
   "source": [
    "# "
   ]
  }
 ],
 "metadata": {
  "colab": {
   "collapsed_sections": [],
   "name": "Ancient Texts - Code Report.ipynb",
   "provenance": [],
   "toc_visible": true
  },
  "kernelspec": {
   "display_name": "Python 3",
   "language": "python",
   "name": "python3"
  },
  "language_info": {
   "codemirror_mode": {
    "name": "ipython",
    "version": 3
   },
   "file_extension": ".py",
   "mimetype": "text/x-python",
   "name": "python",
   "nbconvert_exporter": "python",
   "pygments_lexer": "ipython3",
   "version": "3.8.10"
  },
  "widgets": {
   "application/vnd.jupyter.widget-state+json": {
    "01c0b84b711e4037a7153b81f7465104": {
     "model_module": "@jupyter-widgets/controls",
     "model_name": "ProgressStyleModel",
     "state": {
      "_model_module": "@jupyter-widgets/controls",
      "_model_module_version": "1.5.0",
      "_model_name": "ProgressStyleModel",
      "_view_count": null,
      "_view_module": "@jupyter-widgets/base",
      "_view_module_version": "1.2.0",
      "_view_name": "StyleView",
      "bar_color": null,
      "description_width": "initial"
     }
    },
    "07b2a8b13dd64ffa9d33692d0bfb345f": {
     "model_module": "@jupyter-widgets/controls",
     "model_name": "HTMLModel",
     "state": {
      "_dom_classes": [],
      "_model_module": "@jupyter-widgets/controls",
      "_model_module_version": "1.5.0",
      "_model_name": "HTMLModel",
      "_view_count": null,
      "_view_module": "@jupyter-widgets/controls",
      "_view_module_version": "1.5.0",
      "_view_name": "HTMLView",
      "description": "",
      "description_tooltip": null,
      "layout": "IPY_MODEL_d9656836c422411ead4b2800460266e8",
      "placeholder": "​",
      "style": "IPY_MODEL_270b3d1b2b624097afbff4a01fbc1bf2",
      "value": " 440M/440M [00:10&lt;00:00, 43.6MB/s]"
     }
    },
    "0963a79d3eb54fd483605ff36d3a66fa": {
     "model_module": "@jupyter-widgets/controls",
     "model_name": "DescriptionStyleModel",
     "state": {
      "_model_module": "@jupyter-widgets/controls",
      "_model_module_version": "1.5.0",
      "_model_name": "DescriptionStyleModel",
      "_view_count": null,
      "_view_module": "@jupyter-widgets/base",
      "_view_module_version": "1.2.0",
      "_view_name": "StyleView",
      "description_width": ""
     }
    },
    "0df77e692428471ba9d01fe5566ed187": {
     "model_module": "@jupyter-widgets/controls",
     "model_name": "ProgressStyleModel",
     "state": {
      "_model_module": "@jupyter-widgets/controls",
      "_model_module_version": "1.5.0",
      "_model_name": "ProgressStyleModel",
      "_view_count": null,
      "_view_module": "@jupyter-widgets/base",
      "_view_module_version": "1.2.0",
      "_view_name": "StyleView",
      "bar_color": null,
      "description_width": "initial"
     }
    },
    "0fdcc5dedb744c9eb64b042165cd5c6f": {
     "model_module": "@jupyter-widgets/controls",
     "model_name": "FloatProgressModel",
     "state": {
      "_dom_classes": [],
      "_model_module": "@jupyter-widgets/controls",
      "_model_module_version": "1.5.0",
      "_model_name": "FloatProgressModel",
      "_view_count": null,
      "_view_module": "@jupyter-widgets/controls",
      "_view_module_version": "1.5.0",
      "_view_name": "ProgressView",
      "bar_style": "success",
      "description": "Downloading: 100%",
      "description_tooltip": null,
      "layout": "IPY_MODEL_8ec127fd409644da961aeaa943ff95a4",
      "max": 231508,
      "min": 0,
      "orientation": "horizontal",
      "style": "IPY_MODEL_01c0b84b711e4037a7153b81f7465104",
      "value": 231508
     }
    },
    "17f29b3905f84e31994f9c96bd024491": {
     "model_module": "@jupyter-widgets/controls",
     "model_name": "HBoxModel",
     "state": {
      "_dom_classes": [],
      "_model_module": "@jupyter-widgets/controls",
      "_model_module_version": "1.5.0",
      "_model_name": "HBoxModel",
      "_view_count": null,
      "_view_module": "@jupyter-widgets/controls",
      "_view_module_version": "1.5.0",
      "_view_name": "HBoxView",
      "box_style": "",
      "children": [
       "IPY_MODEL_214914e88950479499bf9719245e484a",
       "IPY_MODEL_b6164a2f6bbe411a8d39b1993b269445"
      ],
      "layout": "IPY_MODEL_9e77621f3a6345819049cd4cbc18502c"
     }
    },
    "214914e88950479499bf9719245e484a": {
     "model_module": "@jupyter-widgets/controls",
     "model_name": "FloatProgressModel",
     "state": {
      "_dom_classes": [],
      "_model_module": "@jupyter-widgets/controls",
      "_model_module_version": "1.5.0",
      "_model_name": "FloatProgressModel",
      "_view_count": null,
      "_view_module": "@jupyter-widgets/controls",
      "_view_module_version": "1.5.0",
      "_view_name": "ProgressView",
      "bar_style": "success",
      "description": "Downloading: 100%",
      "description_tooltip": null,
      "layout": "IPY_MODEL_d338fb045c7c4ac1b14913c68eb808a7",
      "max": 28,
      "min": 0,
      "orientation": "horizontal",
      "style": "IPY_MODEL_32574ee5ca064e718e549253c196a085",
      "value": 28
     }
    },
    "2245e90aed3b4bccae62a0f479b4237a": {
     "model_module": "@jupyter-widgets/controls",
     "model_name": "HBoxModel",
     "state": {
      "_dom_classes": [],
      "_model_module": "@jupyter-widgets/controls",
      "_model_module_version": "1.5.0",
      "_model_name": "HBoxModel",
      "_view_count": null,
      "_view_module": "@jupyter-widgets/controls",
      "_view_module_version": "1.5.0",
      "_view_name": "HBoxView",
      "box_style": "",
      "children": [
       "IPY_MODEL_0fdcc5dedb744c9eb64b042165cd5c6f",
       "IPY_MODEL_6b2ce2168de447f5b425617d895494a0"
      ],
      "layout": "IPY_MODEL_6a3fd84e8b2a49428e0efd813140bb28"
     }
    },
    "235f5e4261a64fb7b86c9fc14ac0d288": {
     "model_module": "@jupyter-widgets/base",
     "model_name": "LayoutModel",
     "state": {
      "_model_module": "@jupyter-widgets/base",
      "_model_module_version": "1.2.0",
      "_model_name": "LayoutModel",
      "_view_count": null,
      "_view_module": "@jupyter-widgets/base",
      "_view_module_version": "1.2.0",
      "_view_name": "LayoutView",
      "align_content": null,
      "align_items": null,
      "align_self": null,
      "border": null,
      "bottom": null,
      "display": null,
      "flex": null,
      "flex_flow": null,
      "grid_area": null,
      "grid_auto_columns": null,
      "grid_auto_flow": null,
      "grid_auto_rows": null,
      "grid_column": null,
      "grid_gap": null,
      "grid_row": null,
      "grid_template_areas": null,
      "grid_template_columns": null,
      "grid_template_rows": null,
      "height": null,
      "justify_content": null,
      "justify_items": null,
      "left": null,
      "margin": null,
      "max_height": null,
      "max_width": null,
      "min_height": null,
      "min_width": null,
      "object_fit": null,
      "object_position": null,
      "order": null,
      "overflow": null,
      "overflow_x": null,
      "overflow_y": null,
      "padding": null,
      "right": null,
      "top": null,
      "visibility": null,
      "width": null
     }
    },
    "270b3d1b2b624097afbff4a01fbc1bf2": {
     "model_module": "@jupyter-widgets/controls",
     "model_name": "DescriptionStyleModel",
     "state": {
      "_model_module": "@jupyter-widgets/controls",
      "_model_module_version": "1.5.0",
      "_model_name": "DescriptionStyleModel",
      "_view_count": null,
      "_view_module": "@jupyter-widgets/base",
      "_view_module_version": "1.2.0",
      "_view_name": "StyleView",
      "description_width": ""
     }
    },
    "31a79e2f1b884fa1b79a71dca61b86e7": {
     "model_module": "@jupyter-widgets/controls",
     "model_name": "DescriptionStyleModel",
     "state": {
      "_model_module": "@jupyter-widgets/controls",
      "_model_module_version": "1.5.0",
      "_model_name": "DescriptionStyleModel",
      "_view_count": null,
      "_view_module": "@jupyter-widgets/base",
      "_view_module_version": "1.2.0",
      "_view_name": "StyleView",
      "description_width": ""
     }
    },
    "32574ee5ca064e718e549253c196a085": {
     "model_module": "@jupyter-widgets/controls",
     "model_name": "ProgressStyleModel",
     "state": {
      "_model_module": "@jupyter-widgets/controls",
      "_model_module_version": "1.5.0",
      "_model_name": "ProgressStyleModel",
      "_view_count": null,
      "_view_module": "@jupyter-widgets/base",
      "_view_module_version": "1.2.0",
      "_view_name": "StyleView",
      "bar_color": null,
      "description_width": "initial"
     }
    },
    "367bb1e4697b4eb399ac3f15dbb41112": {
     "model_module": "@jupyter-widgets/controls",
     "model_name": "ProgressStyleModel",
     "state": {
      "_model_module": "@jupyter-widgets/controls",
      "_model_module_version": "1.5.0",
      "_model_name": "ProgressStyleModel",
      "_view_count": null,
      "_view_module": "@jupyter-widgets/base",
      "_view_module_version": "1.2.0",
      "_view_name": "StyleView",
      "bar_color": null,
      "description_width": "initial"
     }
    },
    "400ec5e727f54152bd9201cec85aa018": {
     "model_module": "@jupyter-widgets/base",
     "model_name": "LayoutModel",
     "state": {
      "_model_module": "@jupyter-widgets/base",
      "_model_module_version": "1.2.0",
      "_model_name": "LayoutModel",
      "_view_count": null,
      "_view_module": "@jupyter-widgets/base",
      "_view_module_version": "1.2.0",
      "_view_name": "LayoutView",
      "align_content": null,
      "align_items": null,
      "align_self": null,
      "border": null,
      "bottom": null,
      "display": null,
      "flex": null,
      "flex_flow": null,
      "grid_area": null,
      "grid_auto_columns": null,
      "grid_auto_flow": null,
      "grid_auto_rows": null,
      "grid_column": null,
      "grid_gap": null,
      "grid_row": null,
      "grid_template_areas": null,
      "grid_template_columns": null,
      "grid_template_rows": null,
      "height": null,
      "justify_content": null,
      "justify_items": null,
      "left": null,
      "margin": null,
      "max_height": null,
      "max_width": null,
      "min_height": null,
      "min_width": null,
      "object_fit": null,
      "object_position": null,
      "order": null,
      "overflow": null,
      "overflow_x": null,
      "overflow_y": null,
      "padding": null,
      "right": null,
      "top": null,
      "visibility": null,
      "width": null
     }
    },
    "48dfc078e0b1404c9b1061ead94cc26e": {
     "model_module": "@jupyter-widgets/controls",
     "model_name": "DescriptionStyleModel",
     "state": {
      "_model_module": "@jupyter-widgets/controls",
      "_model_module_version": "1.5.0",
      "_model_name": "DescriptionStyleModel",
      "_view_count": null,
      "_view_module": "@jupyter-widgets/base",
      "_view_module_version": "1.2.0",
      "_view_name": "StyleView",
      "description_width": ""
     }
    },
    "69692691749248f2a662ae50238ce538": {
     "model_module": "@jupyter-widgets/controls",
     "model_name": "FloatProgressModel",
     "state": {
      "_dom_classes": [],
      "_model_module": "@jupyter-widgets/controls",
      "_model_module_version": "1.5.0",
      "_model_name": "FloatProgressModel",
      "_view_count": null,
      "_view_module": "@jupyter-widgets/controls",
      "_view_module_version": "1.5.0",
      "_view_name": "ProgressView",
      "bar_style": "success",
      "description": "Downloading: 100%",
      "description_tooltip": null,
      "layout": "IPY_MODEL_a8f68e87109c4f2c8da5f6ec7829ca1d",
      "max": 570,
      "min": 0,
      "orientation": "horizontal",
      "style": "IPY_MODEL_367bb1e4697b4eb399ac3f15dbb41112",
      "value": 570
     }
    },
    "6a3fd84e8b2a49428e0efd813140bb28": {
     "model_module": "@jupyter-widgets/base",
     "model_name": "LayoutModel",
     "state": {
      "_model_module": "@jupyter-widgets/base",
      "_model_module_version": "1.2.0",
      "_model_name": "LayoutModel",
      "_view_count": null,
      "_view_module": "@jupyter-widgets/base",
      "_view_module_version": "1.2.0",
      "_view_name": "LayoutView",
      "align_content": null,
      "align_items": null,
      "align_self": null,
      "border": null,
      "bottom": null,
      "display": null,
      "flex": null,
      "flex_flow": null,
      "grid_area": null,
      "grid_auto_columns": null,
      "grid_auto_flow": null,
      "grid_auto_rows": null,
      "grid_column": null,
      "grid_gap": null,
      "grid_row": null,
      "grid_template_areas": null,
      "grid_template_columns": null,
      "grid_template_rows": null,
      "height": null,
      "justify_content": null,
      "justify_items": null,
      "left": null,
      "margin": null,
      "max_height": null,
      "max_width": null,
      "min_height": null,
      "min_width": null,
      "object_fit": null,
      "object_position": null,
      "order": null,
      "overflow": null,
      "overflow_x": null,
      "overflow_y": null,
      "padding": null,
      "right": null,
      "top": null,
      "visibility": null,
      "width": null
     }
    },
    "6b2ce2168de447f5b425617d895494a0": {
     "model_module": "@jupyter-widgets/controls",
     "model_name": "HTMLModel",
     "state": {
      "_dom_classes": [],
      "_model_module": "@jupyter-widgets/controls",
      "_model_module_version": "1.5.0",
      "_model_name": "HTMLModel",
      "_view_count": null,
      "_view_module": "@jupyter-widgets/controls",
      "_view_module_version": "1.5.0",
      "_view_name": "HTMLView",
      "description": "",
      "description_tooltip": null,
      "layout": "IPY_MODEL_235f5e4261a64fb7b86c9fc14ac0d288",
      "placeholder": "​",
      "style": "IPY_MODEL_48dfc078e0b1404c9b1061ead94cc26e",
      "value": " 232k/232k [00:01&lt;00:00, 125kB/s]"
     }
    },
    "72dd5830948247bb8c737b733f8175cb": {
     "model_module": "@jupyter-widgets/controls",
     "model_name": "FloatProgressModel",
     "state": {
      "_dom_classes": [],
      "_model_module": "@jupyter-widgets/controls",
      "_model_module_version": "1.5.0",
      "_model_name": "FloatProgressModel",
      "_view_count": null,
      "_view_module": "@jupyter-widgets/controls",
      "_view_module_version": "1.5.0",
      "_view_name": "ProgressView",
      "bar_style": "success",
      "description": "Downloading: 100%",
      "description_tooltip": null,
      "layout": "IPY_MODEL_cc6d1fce199c4afb8d74792faeef862e",
      "max": 466062,
      "min": 0,
      "orientation": "horizontal",
      "style": "IPY_MODEL_0df77e692428471ba9d01fe5566ed187",
      "value": 466062
     }
    },
    "75e2177e60cf4902be6cc8f7d1511324": {
     "model_module": "@jupyter-widgets/base",
     "model_name": "LayoutModel",
     "state": {
      "_model_module": "@jupyter-widgets/base",
      "_model_module_version": "1.2.0",
      "_model_name": "LayoutModel",
      "_view_count": null,
      "_view_module": "@jupyter-widgets/base",
      "_view_module_version": "1.2.0",
      "_view_name": "LayoutView",
      "align_content": null,
      "align_items": null,
      "align_self": null,
      "border": null,
      "bottom": null,
      "display": null,
      "flex": null,
      "flex_flow": null,
      "grid_area": null,
      "grid_auto_columns": null,
      "grid_auto_flow": null,
      "grid_auto_rows": null,
      "grid_column": null,
      "grid_gap": null,
      "grid_row": null,
      "grid_template_areas": null,
      "grid_template_columns": null,
      "grid_template_rows": null,
      "height": null,
      "justify_content": null,
      "justify_items": null,
      "left": null,
      "margin": null,
      "max_height": null,
      "max_width": null,
      "min_height": null,
      "min_width": null,
      "object_fit": null,
      "object_position": null,
      "order": null,
      "overflow": null,
      "overflow_x": null,
      "overflow_y": null,
      "padding": null,
      "right": null,
      "top": null,
      "visibility": null,
      "width": null
     }
    },
    "771e405a67234f9ab2d3cc12ee415737": {
     "model_module": "@jupyter-widgets/base",
     "model_name": "LayoutModel",
     "state": {
      "_model_module": "@jupyter-widgets/base",
      "_model_module_version": "1.2.0",
      "_model_name": "LayoutModel",
      "_view_count": null,
      "_view_module": "@jupyter-widgets/base",
      "_view_module_version": "1.2.0",
      "_view_name": "LayoutView",
      "align_content": null,
      "align_items": null,
      "align_self": null,
      "border": null,
      "bottom": null,
      "display": null,
      "flex": null,
      "flex_flow": null,
      "grid_area": null,
      "grid_auto_columns": null,
      "grid_auto_flow": null,
      "grid_auto_rows": null,
      "grid_column": null,
      "grid_gap": null,
      "grid_row": null,
      "grid_template_areas": null,
      "grid_template_columns": null,
      "grid_template_rows": null,
      "height": null,
      "justify_content": null,
      "justify_items": null,
      "left": null,
      "margin": null,
      "max_height": null,
      "max_width": null,
      "min_height": null,
      "min_width": null,
      "object_fit": null,
      "object_position": null,
      "order": null,
      "overflow": null,
      "overflow_x": null,
      "overflow_y": null,
      "padding": null,
      "right": null,
      "top": null,
      "visibility": null,
      "width": null
     }
    },
    "78c1c93516dd46c69964b13c5cb4e8fd": {
     "model_module": "@jupyter-widgets/controls",
     "model_name": "FloatProgressModel",
     "state": {
      "_dom_classes": [],
      "_model_module": "@jupyter-widgets/controls",
      "_model_module_version": "1.5.0",
      "_model_name": "FloatProgressModel",
      "_view_count": null,
      "_view_module": "@jupyter-widgets/controls",
      "_view_module_version": "1.5.0",
      "_view_name": "ProgressView",
      "bar_style": "success",
      "description": "Downloading: 100%",
      "description_tooltip": null,
      "layout": "IPY_MODEL_400ec5e727f54152bd9201cec85aa018",
      "max": 440473133,
      "min": 0,
      "orientation": "horizontal",
      "style": "IPY_MODEL_d76bd62dfafe4f6fb223a206a5c42118",
      "value": 440473133
     }
    },
    "7d60202f3bc247a0a8454c28c7969533": {
     "model_module": "@jupyter-widgets/base",
     "model_name": "LayoutModel",
     "state": {
      "_model_module": "@jupyter-widgets/base",
      "_model_module_version": "1.2.0",
      "_model_name": "LayoutModel",
      "_view_count": null,
      "_view_module": "@jupyter-widgets/base",
      "_view_module_version": "1.2.0",
      "_view_name": "LayoutView",
      "align_content": null,
      "align_items": null,
      "align_self": null,
      "border": null,
      "bottom": null,
      "display": null,
      "flex": null,
      "flex_flow": null,
      "grid_area": null,
      "grid_auto_columns": null,
      "grid_auto_flow": null,
      "grid_auto_rows": null,
      "grid_column": null,
      "grid_gap": null,
      "grid_row": null,
      "grid_template_areas": null,
      "grid_template_columns": null,
      "grid_template_rows": null,
      "height": null,
      "justify_content": null,
      "justify_items": null,
      "left": null,
      "margin": null,
      "max_height": null,
      "max_width": null,
      "min_height": null,
      "min_width": null,
      "object_fit": null,
      "object_position": null,
      "order": null,
      "overflow": null,
      "overflow_x": null,
      "overflow_y": null,
      "padding": null,
      "right": null,
      "top": null,
      "visibility": null,
      "width": null
     }
    },
    "7e3b3b5a42074324875e618054c11919": {
     "model_module": "@jupyter-widgets/controls",
     "model_name": "HBoxModel",
     "state": {
      "_dom_classes": [],
      "_model_module": "@jupyter-widgets/controls",
      "_model_module_version": "1.5.0",
      "_model_name": "HBoxModel",
      "_view_count": null,
      "_view_module": "@jupyter-widgets/controls",
      "_view_module_version": "1.5.0",
      "_view_name": "HBoxView",
      "box_style": "",
      "children": [
       "IPY_MODEL_78c1c93516dd46c69964b13c5cb4e8fd",
       "IPY_MODEL_07b2a8b13dd64ffa9d33692d0bfb345f"
      ],
      "layout": "IPY_MODEL_931c3fd7cc72411fa311225e1012e11b"
     }
    },
    "8ec127fd409644da961aeaa943ff95a4": {
     "model_module": "@jupyter-widgets/base",
     "model_name": "LayoutModel",
     "state": {
      "_model_module": "@jupyter-widgets/base",
      "_model_module_version": "1.2.0",
      "_model_name": "LayoutModel",
      "_view_count": null,
      "_view_module": "@jupyter-widgets/base",
      "_view_module_version": "1.2.0",
      "_view_name": "LayoutView",
      "align_content": null,
      "align_items": null,
      "align_self": null,
      "border": null,
      "bottom": null,
      "display": null,
      "flex": null,
      "flex_flow": null,
      "grid_area": null,
      "grid_auto_columns": null,
      "grid_auto_flow": null,
      "grid_auto_rows": null,
      "grid_column": null,
      "grid_gap": null,
      "grid_row": null,
      "grid_template_areas": null,
      "grid_template_columns": null,
      "grid_template_rows": null,
      "height": null,
      "justify_content": null,
      "justify_items": null,
      "left": null,
      "margin": null,
      "max_height": null,
      "max_width": null,
      "min_height": null,
      "min_width": null,
      "object_fit": null,
      "object_position": null,
      "order": null,
      "overflow": null,
      "overflow_x": null,
      "overflow_y": null,
      "padding": null,
      "right": null,
      "top": null,
      "visibility": null,
      "width": null
     }
    },
    "931c3fd7cc72411fa311225e1012e11b": {
     "model_module": "@jupyter-widgets/base",
     "model_name": "LayoutModel",
     "state": {
      "_model_module": "@jupyter-widgets/base",
      "_model_module_version": "1.2.0",
      "_model_name": "LayoutModel",
      "_view_count": null,
      "_view_module": "@jupyter-widgets/base",
      "_view_module_version": "1.2.0",
      "_view_name": "LayoutView",
      "align_content": null,
      "align_items": null,
      "align_self": null,
      "border": null,
      "bottom": null,
      "display": null,
      "flex": null,
      "flex_flow": null,
      "grid_area": null,
      "grid_auto_columns": null,
      "grid_auto_flow": null,
      "grid_auto_rows": null,
      "grid_column": null,
      "grid_gap": null,
      "grid_row": null,
      "grid_template_areas": null,
      "grid_template_columns": null,
      "grid_template_rows": null,
      "height": null,
      "justify_content": null,
      "justify_items": null,
      "left": null,
      "margin": null,
      "max_height": null,
      "max_width": null,
      "min_height": null,
      "min_width": null,
      "object_fit": null,
      "object_position": null,
      "order": null,
      "overflow": null,
      "overflow_x": null,
      "overflow_y": null,
      "padding": null,
      "right": null,
      "top": null,
      "visibility": null,
      "width": null
     }
    },
    "97e9a13d1ff44443bf3ae623f7d3d52c": {
     "model_module": "@jupyter-widgets/base",
     "model_name": "LayoutModel",
     "state": {
      "_model_module": "@jupyter-widgets/base",
      "_model_module_version": "1.2.0",
      "_model_name": "LayoutModel",
      "_view_count": null,
      "_view_module": "@jupyter-widgets/base",
      "_view_module_version": "1.2.0",
      "_view_name": "LayoutView",
      "align_content": null,
      "align_items": null,
      "align_self": null,
      "border": null,
      "bottom": null,
      "display": null,
      "flex": null,
      "flex_flow": null,
      "grid_area": null,
      "grid_auto_columns": null,
      "grid_auto_flow": null,
      "grid_auto_rows": null,
      "grid_column": null,
      "grid_gap": null,
      "grid_row": null,
      "grid_template_areas": null,
      "grid_template_columns": null,
      "grid_template_rows": null,
      "height": null,
      "justify_content": null,
      "justify_items": null,
      "left": null,
      "margin": null,
      "max_height": null,
      "max_width": null,
      "min_height": null,
      "min_width": null,
      "object_fit": null,
      "object_position": null,
      "order": null,
      "overflow": null,
      "overflow_x": null,
      "overflow_y": null,
      "padding": null,
      "right": null,
      "top": null,
      "visibility": null,
      "width": null
     }
    },
    "9e77621f3a6345819049cd4cbc18502c": {
     "model_module": "@jupyter-widgets/base",
     "model_name": "LayoutModel",
     "state": {
      "_model_module": "@jupyter-widgets/base",
      "_model_module_version": "1.2.0",
      "_model_name": "LayoutModel",
      "_view_count": null,
      "_view_module": "@jupyter-widgets/base",
      "_view_module_version": "1.2.0",
      "_view_name": "LayoutView",
      "align_content": null,
      "align_items": null,
      "align_self": null,
      "border": null,
      "bottom": null,
      "display": null,
      "flex": null,
      "flex_flow": null,
      "grid_area": null,
      "grid_auto_columns": null,
      "grid_auto_flow": null,
      "grid_auto_rows": null,
      "grid_column": null,
      "grid_gap": null,
      "grid_row": null,
      "grid_template_areas": null,
      "grid_template_columns": null,
      "grid_template_rows": null,
      "height": null,
      "justify_content": null,
      "justify_items": null,
      "left": null,
      "margin": null,
      "max_height": null,
      "max_width": null,
      "min_height": null,
      "min_width": null,
      "object_fit": null,
      "object_position": null,
      "order": null,
      "overflow": null,
      "overflow_x": null,
      "overflow_y": null,
      "padding": null,
      "right": null,
      "top": null,
      "visibility": null,
      "width": null
     }
    },
    "a0ea2114393648dba830703553470589": {
     "model_module": "@jupyter-widgets/controls",
     "model_name": "HTMLModel",
     "state": {
      "_dom_classes": [],
      "_model_module": "@jupyter-widgets/controls",
      "_model_module_version": "1.5.0",
      "_model_name": "HTMLModel",
      "_view_count": null,
      "_view_module": "@jupyter-widgets/controls",
      "_view_module_version": "1.5.0",
      "_view_name": "HTMLView",
      "description": "",
      "description_tooltip": null,
      "layout": "IPY_MODEL_771e405a67234f9ab2d3cc12ee415737",
      "placeholder": "​",
      "style": "IPY_MODEL_31a79e2f1b884fa1b79a71dca61b86e7",
      "value": " 466k/466k [00:00&lt;00:00, 1.35MB/s]"
     }
    },
    "a8f68e87109c4f2c8da5f6ec7829ca1d": {
     "model_module": "@jupyter-widgets/base",
     "model_name": "LayoutModel",
     "state": {
      "_model_module": "@jupyter-widgets/base",
      "_model_module_version": "1.2.0",
      "_model_name": "LayoutModel",
      "_view_count": null,
      "_view_module": "@jupyter-widgets/base",
      "_view_module_version": "1.2.0",
      "_view_name": "LayoutView",
      "align_content": null,
      "align_items": null,
      "align_self": null,
      "border": null,
      "bottom": null,
      "display": null,
      "flex": null,
      "flex_flow": null,
      "grid_area": null,
      "grid_auto_columns": null,
      "grid_auto_flow": null,
      "grid_auto_rows": null,
      "grid_column": null,
      "grid_gap": null,
      "grid_row": null,
      "grid_template_areas": null,
      "grid_template_columns": null,
      "grid_template_rows": null,
      "height": null,
      "justify_content": null,
      "justify_items": null,
      "left": null,
      "margin": null,
      "max_height": null,
      "max_width": null,
      "min_height": null,
      "min_width": null,
      "object_fit": null,
      "object_position": null,
      "order": null,
      "overflow": null,
      "overflow_x": null,
      "overflow_y": null,
      "padding": null,
      "right": null,
      "top": null,
      "visibility": null,
      "width": null
     }
    },
    "b170934df5a9426a87f7d50e4c3fc165": {
     "model_module": "@jupyter-widgets/base",
     "model_name": "LayoutModel",
     "state": {
      "_model_module": "@jupyter-widgets/base",
      "_model_module_version": "1.2.0",
      "_model_name": "LayoutModel",
      "_view_count": null,
      "_view_module": "@jupyter-widgets/base",
      "_view_module_version": "1.2.0",
      "_view_name": "LayoutView",
      "align_content": null,
      "align_items": null,
      "align_self": null,
      "border": null,
      "bottom": null,
      "display": null,
      "flex": null,
      "flex_flow": null,
      "grid_area": null,
      "grid_auto_columns": null,
      "grid_auto_flow": null,
      "grid_auto_rows": null,
      "grid_column": null,
      "grid_gap": null,
      "grid_row": null,
      "grid_template_areas": null,
      "grid_template_columns": null,
      "grid_template_rows": null,
      "height": null,
      "justify_content": null,
      "justify_items": null,
      "left": null,
      "margin": null,
      "max_height": null,
      "max_width": null,
      "min_height": null,
      "min_width": null,
      "object_fit": null,
      "object_position": null,
      "order": null,
      "overflow": null,
      "overflow_x": null,
      "overflow_y": null,
      "padding": null,
      "right": null,
      "top": null,
      "visibility": null,
      "width": null
     }
    },
    "b6164a2f6bbe411a8d39b1993b269445": {
     "model_module": "@jupyter-widgets/controls",
     "model_name": "HTMLModel",
     "state": {
      "_dom_classes": [],
      "_model_module": "@jupyter-widgets/controls",
      "_model_module_version": "1.5.0",
      "_model_name": "HTMLModel",
      "_view_count": null,
      "_view_module": "@jupyter-widgets/controls",
      "_view_module_version": "1.5.0",
      "_view_name": "HTMLView",
      "description": "",
      "description_tooltip": null,
      "layout": "IPY_MODEL_b170934df5a9426a87f7d50e4c3fc165",
      "placeholder": "​",
      "style": "IPY_MODEL_ea4e7ce4137f4b3480eb37d29cc51a64",
      "value": " 28.0/28.0 [00:00&lt;00:00, 50.5B/s]"
     }
    },
    "cc6d1fce199c4afb8d74792faeef862e": {
     "model_module": "@jupyter-widgets/base",
     "model_name": "LayoutModel",
     "state": {
      "_model_module": "@jupyter-widgets/base",
      "_model_module_version": "1.2.0",
      "_model_name": "LayoutModel",
      "_view_count": null,
      "_view_module": "@jupyter-widgets/base",
      "_view_module_version": "1.2.0",
      "_view_name": "LayoutView",
      "align_content": null,
      "align_items": null,
      "align_self": null,
      "border": null,
      "bottom": null,
      "display": null,
      "flex": null,
      "flex_flow": null,
      "grid_area": null,
      "grid_auto_columns": null,
      "grid_auto_flow": null,
      "grid_auto_rows": null,
      "grid_column": null,
      "grid_gap": null,
      "grid_row": null,
      "grid_template_areas": null,
      "grid_template_columns": null,
      "grid_template_rows": null,
      "height": null,
      "justify_content": null,
      "justify_items": null,
      "left": null,
      "margin": null,
      "max_height": null,
      "max_width": null,
      "min_height": null,
      "min_width": null,
      "object_fit": null,
      "object_position": null,
      "order": null,
      "overflow": null,
      "overflow_x": null,
      "overflow_y": null,
      "padding": null,
      "right": null,
      "top": null,
      "visibility": null,
      "width": null
     }
    },
    "ccc7641894324fd7b62f4b7914059cbc": {
     "model_module": "@jupyter-widgets/controls",
     "model_name": "HBoxModel",
     "state": {
      "_dom_classes": [],
      "_model_module": "@jupyter-widgets/controls",
      "_model_module_version": "1.5.0",
      "_model_name": "HBoxModel",
      "_view_count": null,
      "_view_module": "@jupyter-widgets/controls",
      "_view_module_version": "1.5.0",
      "_view_name": "HBoxView",
      "box_style": "",
      "children": [
       "IPY_MODEL_72dd5830948247bb8c737b733f8175cb",
       "IPY_MODEL_a0ea2114393648dba830703553470589"
      ],
      "layout": "IPY_MODEL_75e2177e60cf4902be6cc8f7d1511324"
     }
    },
    "cd72a953ef674895b95b7723172dd066": {
     "model_module": "@jupyter-widgets/controls",
     "model_name": "HTMLModel",
     "state": {
      "_dom_classes": [],
      "_model_module": "@jupyter-widgets/controls",
      "_model_module_version": "1.5.0",
      "_model_name": "HTMLModel",
      "_view_count": null,
      "_view_module": "@jupyter-widgets/controls",
      "_view_module_version": "1.5.0",
      "_view_name": "HTMLView",
      "description": "",
      "description_tooltip": null,
      "layout": "IPY_MODEL_7d60202f3bc247a0a8454c28c7969533",
      "placeholder": "​",
      "style": "IPY_MODEL_0963a79d3eb54fd483605ff36d3a66fa",
      "value": " 570/570 [00:00&lt;00:00, 10.2kB/s]"
     }
    },
    "d338fb045c7c4ac1b14913c68eb808a7": {
     "model_module": "@jupyter-widgets/base",
     "model_name": "LayoutModel",
     "state": {
      "_model_module": "@jupyter-widgets/base",
      "_model_module_version": "1.2.0",
      "_model_name": "LayoutModel",
      "_view_count": null,
      "_view_module": "@jupyter-widgets/base",
      "_view_module_version": "1.2.0",
      "_view_name": "LayoutView",
      "align_content": null,
      "align_items": null,
      "align_self": null,
      "border": null,
      "bottom": null,
      "display": null,
      "flex": null,
      "flex_flow": null,
      "grid_area": null,
      "grid_auto_columns": null,
      "grid_auto_flow": null,
      "grid_auto_rows": null,
      "grid_column": null,
      "grid_gap": null,
      "grid_row": null,
      "grid_template_areas": null,
      "grid_template_columns": null,
      "grid_template_rows": null,
      "height": null,
      "justify_content": null,
      "justify_items": null,
      "left": null,
      "margin": null,
      "max_height": null,
      "max_width": null,
      "min_height": null,
      "min_width": null,
      "object_fit": null,
      "object_position": null,
      "order": null,
      "overflow": null,
      "overflow_x": null,
      "overflow_y": null,
      "padding": null,
      "right": null,
      "top": null,
      "visibility": null,
      "width": null
     }
    },
    "d76bd62dfafe4f6fb223a206a5c42118": {
     "model_module": "@jupyter-widgets/controls",
     "model_name": "ProgressStyleModel",
     "state": {
      "_model_module": "@jupyter-widgets/controls",
      "_model_module_version": "1.5.0",
      "_model_name": "ProgressStyleModel",
      "_view_count": null,
      "_view_module": "@jupyter-widgets/base",
      "_view_module_version": "1.2.0",
      "_view_name": "StyleView",
      "bar_color": null,
      "description_width": "initial"
     }
    },
    "d9656836c422411ead4b2800460266e8": {
     "model_module": "@jupyter-widgets/base",
     "model_name": "LayoutModel",
     "state": {
      "_model_module": "@jupyter-widgets/base",
      "_model_module_version": "1.2.0",
      "_model_name": "LayoutModel",
      "_view_count": null,
      "_view_module": "@jupyter-widgets/base",
      "_view_module_version": "1.2.0",
      "_view_name": "LayoutView",
      "align_content": null,
      "align_items": null,
      "align_self": null,
      "border": null,
      "bottom": null,
      "display": null,
      "flex": null,
      "flex_flow": null,
      "grid_area": null,
      "grid_auto_columns": null,
      "grid_auto_flow": null,
      "grid_auto_rows": null,
      "grid_column": null,
      "grid_gap": null,
      "grid_row": null,
      "grid_template_areas": null,
      "grid_template_columns": null,
      "grid_template_rows": null,
      "height": null,
      "justify_content": null,
      "justify_items": null,
      "left": null,
      "margin": null,
      "max_height": null,
      "max_width": null,
      "min_height": null,
      "min_width": null,
      "object_fit": null,
      "object_position": null,
      "order": null,
      "overflow": null,
      "overflow_x": null,
      "overflow_y": null,
      "padding": null,
      "right": null,
      "top": null,
      "visibility": null,
      "width": null
     }
    },
    "e48927d190964d66b37e215151f21252": {
     "model_module": "@jupyter-widgets/controls",
     "model_name": "HBoxModel",
     "state": {
      "_dom_classes": [],
      "_model_module": "@jupyter-widgets/controls",
      "_model_module_version": "1.5.0",
      "_model_name": "HBoxModel",
      "_view_count": null,
      "_view_module": "@jupyter-widgets/controls",
      "_view_module_version": "1.5.0",
      "_view_name": "HBoxView",
      "box_style": "",
      "children": [
       "IPY_MODEL_69692691749248f2a662ae50238ce538",
       "IPY_MODEL_cd72a953ef674895b95b7723172dd066"
      ],
      "layout": "IPY_MODEL_97e9a13d1ff44443bf3ae623f7d3d52c"
     }
    },
    "ea4e7ce4137f4b3480eb37d29cc51a64": {
     "model_module": "@jupyter-widgets/controls",
     "model_name": "DescriptionStyleModel",
     "state": {
      "_model_module": "@jupyter-widgets/controls",
      "_model_module_version": "1.5.0",
      "_model_name": "DescriptionStyleModel",
      "_view_count": null,
      "_view_module": "@jupyter-widgets/base",
      "_view_module_version": "1.2.0",
      "_view_name": "StyleView",
      "description_width": ""
     }
    }
   }
  }
 },
 "nbformat": 4,
 "nbformat_minor": 4
}
