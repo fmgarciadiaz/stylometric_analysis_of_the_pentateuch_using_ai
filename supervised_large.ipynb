{
 "cells": [
  {
   "cell_type": "markdown",
   "metadata": {},
   "source": [
    "# Supervised Stylometric Analysis of the Pentateuch\n",
    "\n",
    "This notebook runs the supervised boosting method used in supervised.pynb multiple times and averages the results to ensure the best consistency possible. The results from this notebook are presented in the writeup. Supervised.pynb provides a more thorough explanation of the methods used here, runs much quicker, and is more readable. Please reference that notebook instead. "
   ]
  },
  {
   "cell_type": "code",
   "execution_count": 1,
   "metadata": {},
   "outputs": [],
   "source": [
    "import numpy as np\n",
    "import pandas as pd \n",
    "import itertools\n",
    "import random\n",
    "\n",
    "import fasttext\n",
    "import xgboost as xgb\n",
    "from sklearn.utils import shuffle\n",
    "from sklearn.metrics import confusion_matrix\n",
    "from sklearn.model_selection import train_test_split\n",
    "from sklearn.calibration import CalibratedClassifierCV\n",
    "from sklearn.feature_extraction.text import TfidfVectorizer, CountVectorizer\n",
    "from sklearn.decomposition import TruncatedSVD, PCA\n",
    "from sklearn import ensemble, linear_model, metrics, model_selection, naive_bayes, svm\n",
    "from gensim.models import Word2Vec, word2vec, KeyedVectors\n",
    "\n",
    "import seaborn as sns\n",
    "import matplotlib.pyplot as plt\n",
    "\n",
    "color = sns.color_palette()\n",
    "np.set_printoptions(suppress=True)\n",
    "%matplotlib inline"
   ]
  },
  {
   "cell_type": "code",
   "execution_count": 2,
   "metadata": {},
   "outputs": [],
   "source": [
    "def runAlgo(algo, x_train, y_train, x_test, y_test, x2_test):\n",
    "    \"\"\" \n",
    "    Helper function to simplify changing algorithms while testing.\n",
    "    Only pass MNB, RF, LR, SVM as algo argument.\n",
    "    Call runFastText and runXGB as a standalone.\n",
    "    \"\"\"\n",
    "    \n",
    "    return algo(x_train, y_train, x_test, y_test, x2_test)"
   ]
  },
  {
   "cell_type": "code",
   "execution_count": 3,
   "metadata": {},
   "outputs": [],
   "source": [
    "def runMNB(x_train, y_train, x_test, y_test, x2_test):\n",
    "    \n",
    "    model = naive_bayes.MultinomialNB()\n",
    "    model.fit(x_train, y_train)\n",
    "    y_pred_test = model.predict_proba(x_test)\n",
    "    y2_pred_test = model.predict_proba(x2_test)\n",
    "    return y_pred_test, y2_pred_test, model"
   ]
  },
  {
   "cell_type": "code",
   "execution_count": 4,
   "metadata": {},
   "outputs": [],
   "source": [
    "def runRandomForest(x_train, y_train, x_test, y_test, x2_test):\n",
    "    \n",
    "    model = ensemble.RandomForestClassifier(n_estimators=500, n_jobs=-1)\n",
    "    model.fit(x_train, y_train)\n",
    "    y_pred_test = model.predict_proba(x_test)\n",
    "    y2_pred_test = model.predict_proba(x2_test)\n",
    "    return y_pred_test, y2_pred_test, model"
   ]
  },
  {
   "cell_type": "code",
   "execution_count": 5,
   "metadata": {},
   "outputs": [],
   "source": [
    "def runLogisticRegression(x_train, y_train, x_test, y_test, x2_test):\n",
    "    \n",
    "    model = linear_model.LogisticRegression(max_iter=10000)\n",
    "    model.fit(x_train, y_train)\n",
    "    y_pred_test = model.predict_proba(x_test)\n",
    "    y2_pred_test = model.predict_proba(x2_test)\n",
    "    return y_pred_test, y2_pred_test, model"
   ]
  },
  {
   "cell_type": "code",
   "execution_count": 6,
   "metadata": {},
   "outputs": [],
   "source": [
    "def runSVM(x_train, y_train, x_test, y_test, x2_test):\n",
    "    \n",
    "    model = CalibratedClassifierCV(svm.SVC(kernel='poly', degree=4))\n",
    "    model.fit(x_train, y_train)\n",
    "    y_pred_test = model.predict_proba(x_test)\n",
    "    y2_pred_test = model.predict_proba(x2_test)\n",
    "    return y_pred_test, y2_pred_test, model"
   ]
  },
  {
   "cell_type": "code",
   "execution_count": 7,
   "metadata": {},
   "outputs": [],
   "source": [
    "def runFastText(k, x_train, y_train, x_test, y_test, x2_test):\n",
    "    \n",
    "    f = open('fasttext_data.txt', 'w')\n",
    "    for x, y in zip(x_train, y_train):\n",
    "        line = '__label__' + str(y) + ' ' + x + '\\n'\n",
    "        f.write(line)\n",
    "    f.close()\n",
    "\n",
    "    model = fasttext.train_supervised(input='fasttext_data.txt', epoch=50, lr=1, wordNgrams=20,  minn=3, maxn=6, dim=100)\n",
    "    \n",
    "    y_pred_test = []\n",
    "    labels, probs = model.predict(x_test, k=k)\n",
    "    for label, prob in zip(labels, probs):\n",
    "        p = [x for _, x in sorted(zip(label, prob))]\n",
    "        y_pred_test.append(p)\n",
    "    y_pred_test = np.array(y_pred_test)\n",
    "    \n",
    "    y2_pred_test = []\n",
    "    labels, probs = model.predict(x2_test, k=k)\n",
    "    for label, prob in zip(labels, probs):\n",
    "        p = [x for _, x in sorted(zip(label, prob))]\n",
    "        y2_pred_test.append(p)\n",
    "    y2_pred_test = np.array(y2_pred_test)\n",
    "    \n",
    "    return y_pred_test, y2_pred_test, model"
   ]
  },
  {
   "cell_type": "code",
   "execution_count": 8,
   "metadata": {},
   "outputs": [],
   "source": [
    "def runXGB(k, num_rounds, param, x_train, y_train, x_test, y_test=None, x2_test=None):\n",
    "    \n",
    "    plst = list(param.items())\n",
    "    xgtrain = xgb.DMatrix(x_train, label=y_train)\n",
    "\n",
    "    if y_test is not None:\n",
    "        xgtest = xgb.DMatrix(x_test, label=y_test)\n",
    "        watchlist = [(xgtrain,'train'), (xgtest, 'test')]\n",
    "        model = xgb.train(plst, xgtrain, num_rounds, watchlist, early_stopping_rounds=50, verbose_eval=20)\n",
    "    else:\n",
    "        xgtest = xgb.DMatrix(x_test)\n",
    "        model = xgb.train(plst, xgtrain, num_rounds)\n",
    "\n",
    "    y_pred_test = model.predict(xgtest, ntree_limit = model.best_ntree_limit)\n",
    "    if x2_test is not None:\n",
    "        xgtest2 = xgb.DMatrix(x2_test)\n",
    "        y2_pred_test = model.predict(xgtest2, ntree_limit = model.best_ntree_limit)\n",
    "    return y_pred_test, y2_pred_test, model"
   ]
  },
  {
   "cell_type": "code",
   "execution_count": 9,
   "metadata": {},
   "outputs": [],
   "source": [
    "def word_vector(model, tokens, dim):\n",
    "    \"\"\" \n",
    "    Generate a word vector.\n",
    "    model: a completed model\n",
    "    tokens: a list of words (in this case POS)\n",
    "    dim: Number of dimensions. 100 - 300 is good for w2v\n",
    "    \"\"\"\n",
    "    \n",
    "    i = 0\n",
    "    vec = np.zeros(dim).reshape((1, dim))\n",
    "    for word in tokens:\n",
    "        vec += model[word].reshape((1, dim))\n",
    "        i += 1.\n",
    "    if i != 0:\n",
    "        vec /= i\n",
    "    return vec"
   ]
  },
  {
   "cell_type": "code",
   "execution_count": 10,
   "metadata": {},
   "outputs": [],
   "source": [
    "# From http://scikit-learn.org/stable/auto_examples/model_selection/plot_confusion_matrix.html#sphx-glr-auto-examples-model-selection-plot-confusion-matrix-py\n",
    "def plot_confusion_matrix(cm, classes, normalize=False, title='Confusion matrix', cmap=plt.cm.Blues):\n",
    "    \"\"\"\n",
    "    This function prints and plots the confusion matrix.\n",
    "    Normalization can be applied by setting `normalize=True`.\n",
    "    \"\"\"\n",
    "    \n",
    "    if normalize:\n",
    "        cm = cm.astype('float') / cm.sum(axis=1)[:, np.newaxis]\n",
    "\n",
    "    plt.imshow(cm, interpolation='nearest', cmap=cmap)\n",
    "    plt.title(title)\n",
    "    plt.colorbar()\n",
    "    tick_marks = np.arange(len(classes))\n",
    "    plt.xticks(tick_marks, classes, rotation=45)\n",
    "    plt.yticks(tick_marks, classes)\n",
    "\n",
    "    fmt = '.2f' if normalize else 'd'\n",
    "    thresh = cm.max() / 2.\n",
    "    for i, j in itertools.product(range(cm.shape[0]), range(cm.shape[1])):\n",
    "        plt.text(j, i, format(cm[i, j], fmt),\n",
    "                 horizontalalignment=\"center\",\n",
    "                 color='white' if cm[i, j] > thresh else 'black')\n",
    "\n",
    "    plt.tight_layout()\n",
    "    plt.ylabel('True label')\n",
    "    plt.xlabel('Predicted label')"
   ]
  },
  {
   "cell_type": "code",
   "execution_count": 11,
   "metadata": {},
   "outputs": [
    {
     "name": "stdout",
     "output_type": "stream",
     "text": [
      "וֽ͏ַיְהִ֥י כָל־ הָאָ֖רֶץ שָׂפָ֣ה אֶחָ֑ת וּדְבָרִ֖ים אֲחָדִֽים׃\n",
      "\n"
     ]
    },
    {
     "data": {
      "text/html": [
       "<div>\n",
       "<style scoped>\n",
       "    .dataframe tbody tr th:only-of-type {\n",
       "        vertical-align: middle;\n",
       "    }\n",
       "\n",
       "    .dataframe tbody tr th {\n",
       "        vertical-align: top;\n",
       "    }\n",
       "\n",
       "    .dataframe thead th {\n",
       "        text-align: right;\n",
       "    }\n",
       "</style>\n",
       "<table border=\"1\" class=\"dataframe\">\n",
       "  <thead>\n",
       "    <tr style=\"text-align: right;\">\n",
       "      <th></th>\n",
       "      <th>Unnamed: 0</th>\n",
       "      <th>book</th>\n",
       "      <th>book_num</th>\n",
       "      <th>chapter</th>\n",
       "      <th>verse</th>\n",
       "      <th>hebrew</th>\n",
       "      <th>heb_no_niqquid_punct</th>\n",
       "      <th>web</th>\n",
       "      <th>pos</th>\n",
       "      <th>dh_author</th>\n",
       "      <th>sh_author</th>\n",
       "    </tr>\n",
       "  </thead>\n",
       "  <tbody>\n",
       "    <tr>\n",
       "      <th>0</th>\n",
       "      <td>0</td>\n",
       "      <td>Genesis</td>\n",
       "      <td>1</td>\n",
       "      <td>1</td>\n",
       "      <td>1</td>\n",
       "      <td>בְּרֵאשִׁ֖ית בָּרָ֣א אֱלֹהִ֑ים אֵ֥ת הַשָּׁמַ֖י...</td>\n",
       "      <td>בראשית ברא אלהים את השמים ואת הארץ</td>\n",
       "      <td>In the beginning God{After \"God,\" the Hebrew h...</td>\n",
       "      <td>prep subs.f.sg.a verb.qal.perf.p3.m.sg subs.m....</td>\n",
       "      <td>P</td>\n",
       "      <td>P</td>\n",
       "    </tr>\n",
       "    <tr>\n",
       "      <th>1</th>\n",
       "      <td>1</td>\n",
       "      <td>Genesis</td>\n",
       "      <td>1</td>\n",
       "      <td>1</td>\n",
       "      <td>2</td>\n",
       "      <td>וְהָאָ֗רֶץ הָיְתָ֥ה תֹ֙הוּ֙ וָבֹ֔הוּ וְחֹ֖שֶׁך...</td>\n",
       "      <td>והארץ היתה תהו ובהו וחשך על פני תהום ורוח אלהי...</td>\n",
       "      <td>Now the earth was formless and empty. Darkness...</td>\n",
       "      <td>conj art subs.u.sg.a verb.qal.perf.p3.f.sg sub...</td>\n",
       "      <td>P</td>\n",
       "      <td>P</td>\n",
       "    </tr>\n",
       "    <tr>\n",
       "      <th>2</th>\n",
       "      <td>2</td>\n",
       "      <td>Genesis</td>\n",
       "      <td>1</td>\n",
       "      <td>1</td>\n",
       "      <td>3</td>\n",
       "      <td>וַיֹּ֥אמֶר אֱלֹהִ֖ים יְהִ֣י א֑וֹר וַֽיְהִי־ אֽ...</td>\n",
       "      <td>ויאמר אלהים יהי אור ויהי אור</td>\n",
       "      <td>God said, \"Let there be light,\" and there was ...</td>\n",
       "      <td>conj verb.qal.wayq.p3.m.sg subs.m.pl.a verb.qa...</td>\n",
       "      <td>P</td>\n",
       "      <td>P</td>\n",
       "    </tr>\n",
       "    <tr>\n",
       "      <th>3</th>\n",
       "      <td>3</td>\n",
       "      <td>Genesis</td>\n",
       "      <td>1</td>\n",
       "      <td>1</td>\n",
       "      <td>4</td>\n",
       "      <td>וַיַּ֧רְא אֱלֹהִ֛ים אֶת־ הָא֖וֹר כִּי־ ט֑וֹב ו...</td>\n",
       "      <td>וירא אלהים את האור כי טוב ויבדל אלהים בין האור...</td>\n",
       "      <td>God saw the light, and saw that it was good. G...</td>\n",
       "      <td>conj verb.qal.wayq.p3.m.sg subs.m.pl.a prep ar...</td>\n",
       "      <td>P</td>\n",
       "      <td>P</td>\n",
       "    </tr>\n",
       "    <tr>\n",
       "      <th>4</th>\n",
       "      <td>4</td>\n",
       "      <td>Genesis</td>\n",
       "      <td>1</td>\n",
       "      <td>1</td>\n",
       "      <td>5</td>\n",
       "      <td>וַיִּקְרָ֨א אֱלֹהִ֤ים ׀ לָאוֹר֙ י֔וֹם וְלַחֹ֖ש...</td>\n",
       "      <td>ויקרא אלהים לאור יום ולחשך קרא לילה ויהי ערב ו...</td>\n",
       "      <td>God called the light Day, and the darkness he ...</td>\n",
       "      <td>conj verb.qal.wayq.p3.m.sg subs.m.pl.a prep ar...</td>\n",
       "      <td>P</td>\n",
       "      <td>P</td>\n",
       "    </tr>\n",
       "  </tbody>\n",
       "</table>\n",
       "</div>"
      ],
      "text/plain": [
       "   Unnamed: 0     book  book_num  chapter  verse  \\\n",
       "0           0  Genesis         1        1      1   \n",
       "1           1  Genesis         1        1      2   \n",
       "2           2  Genesis         1        1      3   \n",
       "3           3  Genesis         1        1      4   \n",
       "4           4  Genesis         1        1      5   \n",
       "\n",
       "                                              hebrew  \\\n",
       "0  בְּרֵאשִׁ֖ית בָּרָ֣א אֱלֹהִ֑ים אֵ֥ת הַשָּׁמַ֖י...   \n",
       "1  וְהָאָ֗רֶץ הָיְתָ֥ה תֹ֙הוּ֙ וָבֹ֔הוּ וְחֹ֖שֶׁך...   \n",
       "2  וַיֹּ֥אמֶר אֱלֹהִ֖ים יְהִ֣י א֑וֹר וַֽיְהִי־ אֽ...   \n",
       "3  וַיַּ֧רְא אֱלֹהִ֛ים אֶת־ הָא֖וֹר כִּי־ ט֑וֹב ו...   \n",
       "4  וַיִּקְרָ֨א אֱלֹהִ֤ים ׀ לָאוֹר֙ י֔וֹם וְלַחֹ֖ש...   \n",
       "\n",
       "                                heb_no_niqquid_punct  \\\n",
       "0                 בראשית ברא אלהים את השמים ואת הארץ   \n",
       "1  והארץ היתה תהו ובהו וחשך על פני תהום ורוח אלהי...   \n",
       "2                       ויאמר אלהים יהי אור ויהי אור   \n",
       "3  וירא אלהים את האור כי טוב ויבדל אלהים בין האור...   \n",
       "4  ויקרא אלהים לאור יום ולחשך קרא לילה ויהי ערב ו...   \n",
       "\n",
       "                                                 web  \\\n",
       "0  In the beginning God{After \"God,\" the Hebrew h...   \n",
       "1  Now the earth was formless and empty. Darkness...   \n",
       "2  God said, \"Let there be light,\" and there was ...   \n",
       "3  God saw the light, and saw that it was good. G...   \n",
       "4  God called the light Day, and the darkness he ...   \n",
       "\n",
       "                                                 pos dh_author sh_author  \n",
       "0  prep subs.f.sg.a verb.qal.perf.p3.m.sg subs.m....         P         P  \n",
       "1  conj art subs.u.sg.a verb.qal.perf.p3.f.sg sub...         P         P  \n",
       "2  conj verb.qal.wayq.p3.m.sg subs.m.pl.a verb.qa...         P         P  \n",
       "3  conj verb.qal.wayq.p3.m.sg subs.m.pl.a prep ar...         P         P  \n",
       "4  conj verb.qal.wayq.p3.m.sg subs.m.pl.a prep ar...         P         P  "
      ]
     },
     "execution_count": 11,
     "metadata": {},
     "output_type": "execute_result"
    }
   ],
   "source": [
    "df = pd.read_csv('data.csv')\n",
    "print(df.loc[267, 'hebrew'])\n",
    "print()\n",
    "df = df[df['book'] != 'Deuteronomy']\n",
    "df.head()"
   ]
  },
  {
   "cell_type": "code",
   "execution_count": 12,
   "metadata": {
    "tags": []
   },
   "outputs": [
    {
     "name": "stdout",
     "output_type": "stream",
     "text": [
      "\n",
      "0\n",
      "28305\n",
      "Mean cv log loss:  0.8212909991404626\n",
      "Mean cv accuracy:  0.6924648786717753\n",
      "Mean cv log loss:  0.3644371228880423\n",
      "Mean cv accuracy:  0.8482758620689654\n",
      "Variance Captured  0.9807547294520417\n",
      "Mean cv log loss:  0.7746434405822563\n",
      "Mean cv accuracy:  0.680970625798212\n",
      "Mean cv log loss:  0.3957217406763168\n",
      "Mean cv accuracy:  0.8375478927203066\n",
      "Mean cv log loss:  0.756183436896201\n",
      "Mean cv accuracy:  0.6881226053639846\n",
      "Mean cv log loss:  0.381048644359398\n",
      "Mean cv accuracy:  0.8355044699872286\n",
      "Mean cv log loss:  0.7914784505041529\n",
      "Mean cv accuracy:  0.7123882503192849\n",
      "Mean cv log loss:  0.33585521683433334\n",
      "Mean cv accuracy:  0.859514687100894\n",
      "Variance Captured:  0.9731388681965651\n",
      "Mean cv log loss:  0.8609500562147154\n",
      "Mean cv accuracy:  0.6498084291187739\n",
      "Mean cv log loss:  0.44837800069372785\n",
      "Mean cv accuracy:  0.7936143039591316\n",
      "Mean cv log loss:  0.8708205382829792\n",
      "Mean cv accuracy:  0.6472541507024265\n",
      "Mean cv log loss:  0.445637922961798\n",
      "Mean cv accuracy:  0.7943805874840357\n",
      "Mean cv log loss:  0.8328571937878253\n",
      "Mean cv accuracy:  0.7057471264367816\n",
      "Mean cv log loss:  0.42855784226933674\n",
      "Mean cv accuracy:  0.8503192848020434\n",
      "[0]\ttrain-mlogloss:1.34000\ttest-mlogloss:1.33939\n",
      "[20]\ttrain-mlogloss:0.87883\ttest-mlogloss:0.88178\n",
      "[40]\ttrain-mlogloss:0.73701\ttest-mlogloss:0.74655\n",
      "[60]\ttrain-mlogloss:0.67877\ttest-mlogloss:0.69946\n",
      "[80]\ttrain-mlogloss:0.64650\ttest-mlogloss:0.68378\n",
      "[100]\ttrain-mlogloss:0.62409\ttest-mlogloss:0.67797\n",
      "[120]\ttrain-mlogloss:0.60542\ttest-mlogloss:0.67790\n",
      "[140]\ttrain-mlogloss:0.58862\ttest-mlogloss:0.67799\n",
      "[160]\ttrain-mlogloss:0.57364\ttest-mlogloss:0.67898\n",
      "[0]\ttrain-mlogloss:1.33968\ttest-mlogloss:1.33799\n",
      "[20]\ttrain-mlogloss:0.88092\ttest-mlogloss:0.87307\n"
     ]
    },
    {
     "name": "stderr",
     "output_type": "stream",
     "text": [
      "/home/cmd/.local/lib/python3.8/site-packages/xgboost/core.py:101: UserWarning: ntree_limit is deprecated, use `iteration_range` or model slicing instead.\n",
      "  warnings.warn(\n"
     ]
    },
    {
     "name": "stdout",
     "output_type": "stream",
     "text": [
      "[40]\ttrain-mlogloss:0.74064\ttest-mlogloss:0.73636\n",
      "[60]\ttrain-mlogloss:0.68398\ttest-mlogloss:0.68703\n",
      "[80]\ttrain-mlogloss:0.65322\ttest-mlogloss:0.67001\n",
      "[100]\ttrain-mlogloss:0.63136\ttest-mlogloss:0.66244\n",
      "[120]\ttrain-mlogloss:0.61248\ttest-mlogloss:0.65943\n",
      "[140]\ttrain-mlogloss:0.59552\ttest-mlogloss:0.65859\n",
      "[160]\ttrain-mlogloss:0.58020\ttest-mlogloss:0.65836\n",
      "[180]\ttrain-mlogloss:0.56577\ttest-mlogloss:0.65824\n",
      "[183]\ttrain-mlogloss:0.56361\ttest-mlogloss:0.65833\n",
      "[0]\ttrain-mlogloss:1.33903\ttest-mlogloss:1.34051\n",
      "[20]\ttrain-mlogloss:0.87267\ttest-mlogloss:0.89862\n"
     ]
    },
    {
     "name": "stderr",
     "output_type": "stream",
     "text": [
      "/home/cmd/.local/lib/python3.8/site-packages/xgboost/core.py:101: UserWarning: ntree_limit is deprecated, use `iteration_range` or model slicing instead.\n",
      "  warnings.warn(\n"
     ]
    },
    {
     "name": "stdout",
     "output_type": "stream",
     "text": [
      "[40]\ttrain-mlogloss:0.73013\ttest-mlogloss:0.77134\n",
      "[60]\ttrain-mlogloss:0.67247\ttest-mlogloss:0.72714\n",
      "[80]\ttrain-mlogloss:0.64179\ttest-mlogloss:0.71249\n",
      "[100]\ttrain-mlogloss:0.62044\ttest-mlogloss:0.70518\n",
      "[120]\ttrain-mlogloss:0.60174\ttest-mlogloss:0.70434\n",
      "[140]\ttrain-mlogloss:0.58548\ttest-mlogloss:0.70458\n",
      "[160]\ttrain-mlogloss:0.57072\ttest-mlogloss:0.70515\n",
      "[162]\ttrain-mlogloss:0.56928\ttest-mlogloss:0.70559\n",
      "[0]\ttrain-mlogloss:1.33994\ttest-mlogloss:1.33961\n",
      "[20]\ttrain-mlogloss:0.88012\ttest-mlogloss:0.87728\n"
     ]
    },
    {
     "name": "stderr",
     "output_type": "stream",
     "text": [
      "/home/cmd/.local/lib/python3.8/site-packages/xgboost/core.py:101: UserWarning: ntree_limit is deprecated, use `iteration_range` or model slicing instead.\n",
      "  warnings.warn(\n"
     ]
    },
    {
     "name": "stdout",
     "output_type": "stream",
     "text": [
      "[40]\ttrain-mlogloss:0.73912\ttest-mlogloss:0.74027\n",
      "[60]\ttrain-mlogloss:0.68148\ttest-mlogloss:0.69022\n",
      "[80]\ttrain-mlogloss:0.65123\ttest-mlogloss:0.67231\n",
      "[100]\ttrain-mlogloss:0.63093\ttest-mlogloss:0.66492\n",
      "[120]\ttrain-mlogloss:0.61303\ttest-mlogloss:0.66314\n",
      "[140]\ttrain-mlogloss:0.59735\ttest-mlogloss:0.66202\n",
      "[160]\ttrain-mlogloss:0.58256\ttest-mlogloss:0.66144\n",
      "[180]\ttrain-mlogloss:0.56899\ttest-mlogloss:0.66213\n",
      "[200]\ttrain-mlogloss:0.55637\ttest-mlogloss:0.66247\n",
      "[213]\ttrain-mlogloss:0.54823\ttest-mlogloss:0.66278\n",
      "[0]\ttrain-mlogloss:1.33780\ttest-mlogloss:1.34214\n",
      "[20]\ttrain-mlogloss:0.86327\ttest-mlogloss:0.91721\n"
     ]
    },
    {
     "name": "stderr",
     "output_type": "stream",
     "text": [
      "/home/cmd/.local/lib/python3.8/site-packages/xgboost/core.py:101: UserWarning: ntree_limit is deprecated, use `iteration_range` or model slicing instead.\n",
      "  warnings.warn(\n"
     ]
    },
    {
     "name": "stdout",
     "output_type": "stream",
     "text": [
      "[40]\ttrain-mlogloss:0.71877\ttest-mlogloss:0.80299\n",
      "[60]\ttrain-mlogloss:0.66034\ttest-mlogloss:0.76838\n",
      "[80]\ttrain-mlogloss:0.62954\ttest-mlogloss:0.75601\n",
      "[100]\ttrain-mlogloss:0.60828\ttest-mlogloss:0.75133\n",
      "[120]\ttrain-mlogloss:0.58993\ttest-mlogloss:0.75152\n",
      "[140]\ttrain-mlogloss:0.57236\ttest-mlogloss:0.75235\n",
      "[160]\ttrain-mlogloss:0.55668\ttest-mlogloss:0.75360\n",
      "[163]\ttrain-mlogloss:0.55435\ttest-mlogloss:0.75368\n",
      "[0]\ttrain-mlogloss:0.54500\ttest-mlogloss:0.54828\n",
      "[20]\ttrain-mlogloss:0.28385\ttest-mlogloss:0.30818\n"
     ]
    },
    {
     "name": "stderr",
     "output_type": "stream",
     "text": [
      "/home/cmd/.local/lib/python3.8/site-packages/xgboost/core.py:101: UserWarning: ntree_limit is deprecated, use `iteration_range` or model slicing instead.\n",
      "  warnings.warn(\n"
     ]
    },
    {
     "name": "stdout",
     "output_type": "stream",
     "text": [
      "[40]\ttrain-mlogloss:0.24599\ttest-mlogloss:0.31802\n",
      "[60]\ttrain-mlogloss:0.21373\ttest-mlogloss:0.32251\n",
      "[68]\ttrain-mlogloss:0.20352\ttest-mlogloss:0.32316\n",
      "[0]\ttrain-mlogloss:0.54455\ttest-mlogloss:0.54164\n",
      "[20]\ttrain-mlogloss:0.28224\ttest-mlogloss:0.30850\n"
     ]
    },
    {
     "name": "stderr",
     "output_type": "stream",
     "text": [
      "/home/cmd/.local/lib/python3.8/site-packages/xgboost/core.py:101: UserWarning: ntree_limit is deprecated, use `iteration_range` or model slicing instead.\n",
      "  warnings.warn(\n"
     ]
    },
    {
     "name": "stdout",
     "output_type": "stream",
     "text": [
      "[40]\ttrain-mlogloss:0.24465\ttest-mlogloss:0.31453\n",
      "[60]\ttrain-mlogloss:0.21361\ttest-mlogloss:0.31888\n",
      "[70]\ttrain-mlogloss:0.20011\ttest-mlogloss:0.32139\n",
      "[0]\ttrain-mlogloss:0.54419\ttest-mlogloss:0.54851\n",
      "[20]\ttrain-mlogloss:0.27718\ttest-mlogloss:0.34416\n"
     ]
    },
    {
     "name": "stderr",
     "output_type": "stream",
     "text": [
      "/home/cmd/.local/lib/python3.8/site-packages/xgboost/core.py:101: UserWarning: ntree_limit is deprecated, use `iteration_range` or model slicing instead.\n",
      "  warnings.warn(\n"
     ]
    },
    {
     "name": "stdout",
     "output_type": "stream",
     "text": [
      "[40]\ttrain-mlogloss:0.23961\ttest-mlogloss:0.34680\n",
      "[60]\ttrain-mlogloss:0.20979\ttest-mlogloss:0.35952\n",
      "[0]\ttrain-mlogloss:0.54415\ttest-mlogloss:0.54672\n",
      "[20]\ttrain-mlogloss:0.27938\ttest-mlogloss:0.32413\n"
     ]
    },
    {
     "name": "stderr",
     "output_type": "stream",
     "text": [
      "/home/cmd/.local/lib/python3.8/site-packages/xgboost/core.py:101: UserWarning: ntree_limit is deprecated, use `iteration_range` or model slicing instead.\n",
      "  warnings.warn(\n"
     ]
    },
    {
     "name": "stdout",
     "output_type": "stream",
     "text": [
      "[40]\ttrain-mlogloss:0.24083\ttest-mlogloss:0.32996\n",
      "[60]\ttrain-mlogloss:0.21300\ttest-mlogloss:0.33687\n",
      "[65]\ttrain-mlogloss:0.20636\ttest-mlogloss:0.33911\n",
      "[0]\ttrain-mlogloss:0.54161\ttest-mlogloss:0.55210\n",
      "[20]\ttrain-mlogloss:0.27362\ttest-mlogloss:0.35254\n"
     ]
    },
    {
     "name": "stderr",
     "output_type": "stream",
     "text": [
      "/home/cmd/.local/lib/python3.8/site-packages/xgboost/core.py:101: UserWarning: ntree_limit is deprecated, use `iteration_range` or model slicing instead.\n",
      "  warnings.warn(\n"
     ]
    },
    {
     "name": "stdout",
     "output_type": "stream",
     "text": [
      "[40]\ttrain-mlogloss:0.23560\ttest-mlogloss:0.35752\n",
      "[60]\ttrain-mlogloss:0.20568\ttest-mlogloss:0.36859\n",
      "[63]\ttrain-mlogloss:0.20097\ttest-mlogloss:0.37085\n",
      "\n",
      "1\n",
      "13735\n"
     ]
    },
    {
     "name": "stderr",
     "output_type": "stream",
     "text": [
      "/home/cmd/.local/lib/python3.8/site-packages/xgboost/core.py:101: UserWarning: ntree_limit is deprecated, use `iteration_range` or model slicing instead.\n",
      "  warnings.warn(\n"
     ]
    },
    {
     "name": "stdout",
     "output_type": "stream",
     "text": [
      "Mean cv log loss:  0.8253499747934165\n",
      "Mean cv accuracy:  0.6937420178799488\n",
      "Mean cv log loss:  0.36989650935010127\n",
      "Mean cv accuracy:  0.8462324393358877\n",
      "Variance Captured  0.9807547294520417\n",
      "Mean cv log loss:  0.7799734305828412\n",
      "Mean cv accuracy:  0.6835249042145594\n",
      "Mean cv log loss:  0.3982293964914665\n",
      "Mean cv accuracy:  0.8357598978288634\n",
      "Mean cv log loss:  0.7537132768691175\n",
      "Mean cv accuracy:  0.6957854406130267\n",
      "Mean cv log loss:  0.3815173482338433\n",
      "Mean cv accuracy:  0.83882503192848\n",
      "Mean cv log loss:  0.7827501929364071\n",
      "Mean cv accuracy:  0.7123882503192849\n",
      "Mean cv log loss:  0.335400809056673\n",
      "Mean cv accuracy:  0.8648786717752236\n",
      "Variance Captured:  0.9731388681965653\n",
      "Mean cv log loss:  0.8494408723890544\n",
      "Mean cv accuracy:  0.6577266922094508\n",
      "Mean cv log loss:  0.4479388511498669\n",
      "Mean cv accuracy:  0.7992337164750957\n",
      "Mean cv log loss:  0.8430507965037355\n",
      "Mean cv accuracy:  0.6541507024265645\n",
      "Mean cv log loss:  0.44091253285889787\n",
      "Mean cv accuracy:  0.7969348659003831\n",
      "Mean cv log loss:  0.8420563666163579\n",
      "Mean cv accuracy:  0.7037037037037036\n",
      "Mean cv log loss:  0.44373080654208297\n",
      "Mean cv accuracy:  0.8505747126436782\n",
      "[0]\ttrain-mlogloss:1.33907\ttest-mlogloss:1.33913\n",
      "[20]\ttrain-mlogloss:0.87546\ttest-mlogloss:0.88235\n",
      "[40]\ttrain-mlogloss:0.73291\ttest-mlogloss:0.74360\n",
      "[60]\ttrain-mlogloss:0.67379\ttest-mlogloss:0.69269\n",
      "[80]\ttrain-mlogloss:0.64219\ttest-mlogloss:0.67209\n",
      "[100]\ttrain-mlogloss:0.61992\ttest-mlogloss:0.66341\n",
      "[120]\ttrain-mlogloss:0.60032\ttest-mlogloss:0.66020\n",
      "[140]\ttrain-mlogloss:0.58308\ttest-mlogloss:0.65954\n",
      "[160]\ttrain-mlogloss:0.56785\ttest-mlogloss:0.65900\n",
      "[180]\ttrain-mlogloss:0.55349\ttest-mlogloss:0.65828\n",
      "[200]\ttrain-mlogloss:0.53972\ttest-mlogloss:0.65840\n",
      "[220]\ttrain-mlogloss:0.52689\ttest-mlogloss:0.65909\n",
      "[232]\ttrain-mlogloss:0.51958\ttest-mlogloss:0.65938\n",
      "[0]\ttrain-mlogloss:1.33812\ttest-mlogloss:1.34054\n",
      "[20]\ttrain-mlogloss:0.86833\ttest-mlogloss:0.89552\n"
     ]
    },
    {
     "name": "stderr",
     "output_type": "stream",
     "text": [
      "/home/cmd/.local/lib/python3.8/site-packages/xgboost/core.py:101: UserWarning: ntree_limit is deprecated, use `iteration_range` or model slicing instead.\n",
      "  warnings.warn(\n"
     ]
    },
    {
     "name": "stdout",
     "output_type": "stream",
     "text": [
      "[40]\ttrain-mlogloss:0.72252\ttest-mlogloss:0.77081\n",
      "[60]\ttrain-mlogloss:0.66306\ttest-mlogloss:0.73134\n",
      "[80]\ttrain-mlogloss:0.63113\ttest-mlogloss:0.71886\n",
      "[100]\ttrain-mlogloss:0.60915\ttest-mlogloss:0.71418\n",
      "[120]\ttrain-mlogloss:0.59084\ttest-mlogloss:0.71263\n",
      "[140]\ttrain-mlogloss:0.57430\ttest-mlogloss:0.71467\n",
      "[160]\ttrain-mlogloss:0.55923\ttest-mlogloss:0.71624\n",
      "[166]\ttrain-mlogloss:0.55506\ttest-mlogloss:0.71612\n",
      "[0]\ttrain-mlogloss:1.33857\ttest-mlogloss:1.33816\n",
      "[20]\ttrain-mlogloss:0.87209\ttest-mlogloss:0.87924\n"
     ]
    },
    {
     "name": "stderr",
     "output_type": "stream",
     "text": [
      "/home/cmd/.local/lib/python3.8/site-packages/xgboost/core.py:101: UserWarning: ntree_limit is deprecated, use `iteration_range` or model slicing instead.\n",
      "  warnings.warn(\n"
     ]
    },
    {
     "name": "stdout",
     "output_type": "stream",
     "text": [
      "[40]\ttrain-mlogloss:0.72751\ttest-mlogloss:0.74933\n",
      "[60]\ttrain-mlogloss:0.66810\ttest-mlogloss:0.70575\n",
      "[80]\ttrain-mlogloss:0.63623\ttest-mlogloss:0.68983\n",
      "[100]\ttrain-mlogloss:0.61416\ttest-mlogloss:0.68410\n",
      "[120]\ttrain-mlogloss:0.59547\ttest-mlogloss:0.68270\n",
      "[140]\ttrain-mlogloss:0.57884\ttest-mlogloss:0.68387\n",
      "[160]\ttrain-mlogloss:0.56372\ttest-mlogloss:0.68526\n",
      "[161]\ttrain-mlogloss:0.56304\ttest-mlogloss:0.68542\n",
      "[0]\ttrain-mlogloss:1.33859\ttest-mlogloss:1.34061\n",
      "[20]\ttrain-mlogloss:0.87114\ttest-mlogloss:0.89353\n"
     ]
    },
    {
     "name": "stderr",
     "output_type": "stream",
     "text": [
      "/home/cmd/.local/lib/python3.8/site-packages/xgboost/core.py:101: UserWarning: ntree_limit is deprecated, use `iteration_range` or model slicing instead.\n",
      "  warnings.warn(\n"
     ]
    },
    {
     "name": "stdout",
     "output_type": "stream",
     "text": [
      "[40]\ttrain-mlogloss:0.72638\ttest-mlogloss:0.76254\n",
      "[60]\ttrain-mlogloss:0.66652\ttest-mlogloss:0.71634\n",
      "[80]\ttrain-mlogloss:0.63524\ttest-mlogloss:0.69834\n",
      "[100]\ttrain-mlogloss:0.61400\ttest-mlogloss:0.69227\n",
      "[120]\ttrain-mlogloss:0.59554\ttest-mlogloss:0.69189\n",
      "[140]\ttrain-mlogloss:0.57873\ttest-mlogloss:0.69355\n",
      "[158]\ttrain-mlogloss:0.56478\ttest-mlogloss:0.69556\n",
      "[0]\ttrain-mlogloss:1.33888\ttest-mlogloss:1.33922\n",
      "[20]\ttrain-mlogloss:0.87389\ttest-mlogloss:0.88583\n"
     ]
    },
    {
     "name": "stderr",
     "output_type": "stream",
     "text": [
      "/home/cmd/.local/lib/python3.8/site-packages/xgboost/core.py:101: UserWarning: ntree_limit is deprecated, use `iteration_range` or model slicing instead.\n",
      "  warnings.warn(\n"
     ]
    },
    {
     "name": "stdout",
     "output_type": "stream",
     "text": [
      "[40]\ttrain-mlogloss:0.73035\ttest-mlogloss:0.75101\n",
      "[60]\ttrain-mlogloss:0.67129\ttest-mlogloss:0.70377\n",
      "[80]\ttrain-mlogloss:0.63951\ttest-mlogloss:0.68841\n",
      "[100]\ttrain-mlogloss:0.61777\ttest-mlogloss:0.68262\n",
      "[120]\ttrain-mlogloss:0.59933\ttest-mlogloss:0.68015\n",
      "[140]\ttrain-mlogloss:0.58269\ttest-mlogloss:0.68086\n",
      "[160]\ttrain-mlogloss:0.56717\ttest-mlogloss:0.68043\n",
      "[180]\ttrain-mlogloss:0.55292\ttest-mlogloss:0.67932\n",
      "[200]\ttrain-mlogloss:0.53964\ttest-mlogloss:0.67931\n",
      "[220]\ttrain-mlogloss:0.52740\ttest-mlogloss:0.67916\n",
      "[223]\ttrain-mlogloss:0.52560\ttest-mlogloss:0.67927\n",
      "[0]\ttrain-mlogloss:0.54449\ttest-mlogloss:0.53940\n",
      "[20]\ttrain-mlogloss:0.28969\ttest-mlogloss:0.30205\n",
      "[40]\ttrain-mlogloss:0.25055\ttest-mlogloss:0.31216\n"
     ]
    },
    {
     "name": "stderr",
     "output_type": "stream",
     "text": [
      "/home/cmd/.local/lib/python3.8/site-packages/xgboost/core.py:101: UserWarning: ntree_limit is deprecated, use `iteration_range` or model slicing instead.\n",
      "  warnings.warn(\n"
     ]
    },
    {
     "name": "stdout",
     "output_type": "stream",
     "text": [
      "[60]\ttrain-mlogloss:0.21992\ttest-mlogloss:0.31398\n",
      "[63]\ttrain-mlogloss:0.21518\ttest-mlogloss:0.31432\n",
      "[0]\ttrain-mlogloss:0.54264\ttest-mlogloss:0.54136\n",
      "[20]\ttrain-mlogloss:0.28272\ttest-mlogloss:0.33083\n",
      "[40]\ttrain-mlogloss:0.24102\ttest-mlogloss:0.33685\n"
     ]
    },
    {
     "name": "stderr",
     "output_type": "stream",
     "text": [
      "/home/cmd/.local/lib/python3.8/site-packages/xgboost/core.py:101: UserWarning: ntree_limit is deprecated, use `iteration_range` or model slicing instead.\n",
      "  warnings.warn(\n"
     ]
    },
    {
     "name": "stdout",
     "output_type": "stream",
     "text": [
      "[59]\ttrain-mlogloss:0.21351\ttest-mlogloss:0.34748\n",
      "[0]\ttrain-mlogloss:0.54095\ttest-mlogloss:0.55377\n",
      "[20]\ttrain-mlogloss:0.27584\ttest-mlogloss:0.34643\n",
      "[40]\ttrain-mlogloss:0.24104\ttest-mlogloss:0.35178\n"
     ]
    },
    {
     "name": "stderr",
     "output_type": "stream",
     "text": [
      "/home/cmd/.local/lib/python3.8/site-packages/xgboost/core.py:101: UserWarning: ntree_limit is deprecated, use `iteration_range` or model slicing instead.\n",
      "  warnings.warn(\n"
     ]
    },
    {
     "name": "stdout",
     "output_type": "stream",
     "text": [
      "[60]\ttrain-mlogloss:0.21294\ttest-mlogloss:0.36145\n",
      "[74]\ttrain-mlogloss:0.19265\ttest-mlogloss:0.36732\n",
      "[0]\ttrain-mlogloss:0.54078\ttest-mlogloss:0.54757\n",
      "[20]\ttrain-mlogloss:0.27803\ttest-mlogloss:0.34531\n",
      "[40]\ttrain-mlogloss:0.23806\ttest-mlogloss:0.35481\n"
     ]
    },
    {
     "name": "stderr",
     "output_type": "stream",
     "text": [
      "/home/cmd/.local/lib/python3.8/site-packages/xgboost/core.py:101: UserWarning: ntree_limit is deprecated, use `iteration_range` or model slicing instead.\n",
      "  warnings.warn(\n"
     ]
    },
    {
     "name": "stdout",
     "output_type": "stream",
     "text": [
      "[60]\ttrain-mlogloss:0.20924\ttest-mlogloss:0.36202\n",
      "[64]\ttrain-mlogloss:0.20404\ttest-mlogloss:0.36033\n",
      "[0]\ttrain-mlogloss:0.54260\ttest-mlogloss:0.54417\n",
      "[20]\ttrain-mlogloss:0.28392\ttest-mlogloss:0.32366\n",
      "[40]\ttrain-mlogloss:0.24526\ttest-mlogloss:0.32044\n"
     ]
    },
    {
     "name": "stderr",
     "output_type": "stream",
     "text": [
      "/home/cmd/.local/lib/python3.8/site-packages/xgboost/core.py:101: UserWarning: ntree_limit is deprecated, use `iteration_range` or model slicing instead.\n",
      "  warnings.warn(\n"
     ]
    },
    {
     "name": "stdout",
     "output_type": "stream",
     "text": [
      "[60]\ttrain-mlogloss:0.21839\ttest-mlogloss:0.32801\n",
      "[80]\ttrain-mlogloss:0.19272\ttest-mlogloss:0.33799\n",
      "[88]\ttrain-mlogloss:0.18403\ttest-mlogloss:0.33921\n",
      "\n",
      "2\n",
      "5886\n"
     ]
    },
    {
     "name": "stderr",
     "output_type": "stream",
     "text": [
      "/home/cmd/.local/lib/python3.8/site-packages/xgboost/core.py:101: UserWarning: ntree_limit is deprecated, use `iteration_range` or model slicing instead.\n",
      "  warnings.warn(\n"
     ]
    },
    {
     "name": "stdout",
     "output_type": "stream",
     "text": [
      "Mean cv log loss:  0.8365772927104089\n",
      "Mean cv accuracy:  0.6899106002554277\n",
      "Mean cv log loss:  0.37255714668055695\n",
      "Mean cv accuracy:  0.8411238825031928\n",
      "Variance Captured  0.9807547294520416\n",
      "Mean cv log loss:  0.7911064482115562\n",
      "Mean cv accuracy:  0.6776500638569605\n",
      "Mean cv log loss:  0.40110562632823077\n",
      "Mean cv accuracy:  0.8324393358876117\n",
      "Mean cv log loss:  0.7630831735732406\n",
      "Mean cv accuracy:  0.69272030651341\n",
      "Mean cv log loss:  0.3893655002005766\n",
      "Mean cv accuracy:  0.8309067688378035\n",
      "Mean cv log loss:  0.8089680013784504\n",
      "Mean cv accuracy:  0.7077905491698596\n",
      "Mean cv log loss:  0.3505234440334859\n",
      "Mean cv accuracy:  0.8515964240102172\n",
      "Variance Captured:  0.9731388681965647\n",
      "Mean cv log loss:  0.8635817927717854\n",
      "Mean cv accuracy:  0.6503192848020435\n",
      "Mean cv log loss:  0.4565854155054657\n",
      "Mean cv accuracy:  0.7918263090676885\n",
      "Mean cv log loss:  0.8624585782969938\n",
      "Mean cv accuracy:  0.6347381864623245\n",
      "Mean cv log loss:  0.4501707146774866\n",
      "Mean cv accuracy:  0.8010217113665389\n",
      "Mean cv log loss:  0.8596396273312441\n",
      "Mean cv accuracy:  0.701404853128991\n",
      "Mean cv log loss:  0.4505463414326856\n",
      "Mean cv accuracy:  0.8464878671775222\n",
      "[0]\ttrain-mlogloss:1.34008\ttest-mlogloss:1.34111\n",
      "[20]\ttrain-mlogloss:0.88343\ttest-mlogloss:0.90177\n",
      "[40]\ttrain-mlogloss:0.74216\ttest-mlogloss:0.77721\n",
      "[60]\ttrain-mlogloss:0.68581\ttest-mlogloss:0.73684\n",
      "[80]\ttrain-mlogloss:0.65575\ttest-mlogloss:0.72260\n",
      "[100]\ttrain-mlogloss:0.63325\ttest-mlogloss:0.71730\n",
      "[120]\ttrain-mlogloss:0.61377\ttest-mlogloss:0.71702\n",
      "[140]\ttrain-mlogloss:0.59654\ttest-mlogloss:0.71752\n",
      "[160]\ttrain-mlogloss:0.58113\ttest-mlogloss:0.71977\n",
      "[178]\ttrain-mlogloss:0.56829\ttest-mlogloss:0.72019\n",
      "[0]\ttrain-mlogloss:1.33937\ttest-mlogloss:1.34120\n",
      "[20]\ttrain-mlogloss:0.88156\ttest-mlogloss:0.90907\n"
     ]
    },
    {
     "name": "stderr",
     "output_type": "stream",
     "text": [
      "/home/cmd/.local/lib/python3.8/site-packages/xgboost/core.py:101: UserWarning: ntree_limit is deprecated, use `iteration_range` or model slicing instead.\n",
      "  warnings.warn(\n"
     ]
    },
    {
     "name": "stdout",
     "output_type": "stream",
     "text": [
      "[40]\ttrain-mlogloss:0.74214\ttest-mlogloss:0.78514\n",
      "[60]\ttrain-mlogloss:0.68658\ttest-mlogloss:0.74344\n",
      "[80]\ttrain-mlogloss:0.65648\ttest-mlogloss:0.72623\n",
      "[100]\ttrain-mlogloss:0.63514\ttest-mlogloss:0.72072\n",
      "[120]\ttrain-mlogloss:0.61644\ttest-mlogloss:0.72038\n",
      "[140]\ttrain-mlogloss:0.59988\ttest-mlogloss:0.72103\n",
      "[160]\ttrain-mlogloss:0.58430\ttest-mlogloss:0.72131\n",
      "[171]\ttrain-mlogloss:0.57604\ttest-mlogloss:0.72259\n",
      "[0]\ttrain-mlogloss:1.34007\ttest-mlogloss:1.34108\n",
      "[20]\ttrain-mlogloss:0.88448\ttest-mlogloss:0.90454\n"
     ]
    },
    {
     "name": "stderr",
     "output_type": "stream",
     "text": [
      "/home/cmd/.local/lib/python3.8/site-packages/xgboost/core.py:101: UserWarning: ntree_limit is deprecated, use `iteration_range` or model slicing instead.\n",
      "  warnings.warn(\n"
     ]
    },
    {
     "name": "stdout",
     "output_type": "stream",
     "text": [
      "[40]\ttrain-mlogloss:0.74462\ttest-mlogloss:0.77831\n",
      "[60]\ttrain-mlogloss:0.68844\ttest-mlogloss:0.73561\n",
      "[80]\ttrain-mlogloss:0.65797\ttest-mlogloss:0.72098\n",
      "[100]\ttrain-mlogloss:0.63581\ttest-mlogloss:0.71630\n",
      "[120]\ttrain-mlogloss:0.61703\ttest-mlogloss:0.71478\n",
      "[140]\ttrain-mlogloss:0.59984\ttest-mlogloss:0.71467\n",
      "[160]\ttrain-mlogloss:0.58402\ttest-mlogloss:0.71568\n",
      "[180]\ttrain-mlogloss:0.56963\ttest-mlogloss:0.71674\n",
      "[183]\ttrain-mlogloss:0.56761\ttest-mlogloss:0.71724\n",
      "[0]\ttrain-mlogloss:1.34068\ttest-mlogloss:1.34025\n",
      "[20]\ttrain-mlogloss:0.88861\ttest-mlogloss:0.89318\n"
     ]
    },
    {
     "name": "stderr",
     "output_type": "stream",
     "text": [
      "/home/cmd/.local/lib/python3.8/site-packages/xgboost/core.py:101: UserWarning: ntree_limit is deprecated, use `iteration_range` or model slicing instead.\n",
      "  warnings.warn(\n"
     ]
    },
    {
     "name": "stdout",
     "output_type": "stream",
     "text": [
      "[40]\ttrain-mlogloss:0.74896\ttest-mlogloss:0.76222\n",
      "[60]\ttrain-mlogloss:0.69254\ttest-mlogloss:0.71928\n",
      "[80]\ttrain-mlogloss:0.66201\ttest-mlogloss:0.70602\n",
      "[100]\ttrain-mlogloss:0.63971\ttest-mlogloss:0.70054\n",
      "[120]\ttrain-mlogloss:0.62070\ttest-mlogloss:0.69651\n",
      "[140]\ttrain-mlogloss:0.60354\ttest-mlogloss:0.69478\n",
      "[160]\ttrain-mlogloss:0.58761\ttest-mlogloss:0.69465\n",
      "[180]\ttrain-mlogloss:0.57332\ttest-mlogloss:0.69558\n",
      "[199]\ttrain-mlogloss:0.56035\ttest-mlogloss:0.69589\n",
      "[0]\ttrain-mlogloss:1.34025\ttest-mlogloss:1.34134\n",
      "[20]\ttrain-mlogloss:0.88759\ttest-mlogloss:0.89789\n"
     ]
    },
    {
     "name": "stderr",
     "output_type": "stream",
     "text": [
      "/home/cmd/.local/lib/python3.8/site-packages/xgboost/core.py:101: UserWarning: ntree_limit is deprecated, use `iteration_range` or model slicing instead.\n",
      "  warnings.warn(\n"
     ]
    },
    {
     "name": "stdout",
     "output_type": "stream",
     "text": [
      "[40]\ttrain-mlogloss:0.74791\ttest-mlogloss:0.76873\n",
      "[60]\ttrain-mlogloss:0.69180\ttest-mlogloss:0.72330\n",
      "[80]\ttrain-mlogloss:0.66065\ttest-mlogloss:0.70580\n",
      "[100]\ttrain-mlogloss:0.63838\ttest-mlogloss:0.69900\n",
      "[120]\ttrain-mlogloss:0.61933\ttest-mlogloss:0.69795\n",
      "[140]\ttrain-mlogloss:0.60216\ttest-mlogloss:0.69847\n",
      "[160]\ttrain-mlogloss:0.58666\ttest-mlogloss:0.69961\n",
      "[169]\ttrain-mlogloss:0.58046\ttest-mlogloss:0.70034\n",
      "[0]\ttrain-mlogloss:0.54675\ttest-mlogloss:0.55375\n",
      "[20]\ttrain-mlogloss:0.28781\ttest-mlogloss:0.35439\n",
      "[40]\ttrain-mlogloss:0.24741\ttest-mlogloss:0.36046\n"
     ]
    },
    {
     "name": "stderr",
     "output_type": "stream",
     "text": [
      "/home/cmd/.local/lib/python3.8/site-packages/xgboost/core.py:101: UserWarning: ntree_limit is deprecated, use `iteration_range` or model slicing instead.\n",
      "  warnings.warn(\n"
     ]
    },
    {
     "name": "stdout",
     "output_type": "stream",
     "text": [
      "[60]\ttrain-mlogloss:0.21569\ttest-mlogloss:0.37177\n",
      "[64]\ttrain-mlogloss:0.21097\ttest-mlogloss:0.37165\n",
      "[0]\ttrain-mlogloss:0.54670\ttest-mlogloss:0.55151\n",
      "[20]\ttrain-mlogloss:0.28919\ttest-mlogloss:0.34075\n",
      "[40]\ttrain-mlogloss:0.25106\ttest-mlogloss:0.35269\n"
     ]
    },
    {
     "name": "stderr",
     "output_type": "stream",
     "text": [
      "/home/cmd/.local/lib/python3.8/site-packages/xgboost/core.py:101: UserWarning: ntree_limit is deprecated, use `iteration_range` or model slicing instead.\n",
      "  warnings.warn(\n"
     ]
    },
    {
     "name": "stdout",
     "output_type": "stream",
     "text": [
      "[60]\ttrain-mlogloss:0.22157\ttest-mlogloss:0.36786\n",
      "[69]\ttrain-mlogloss:0.20938\ttest-mlogloss:0.36624\n",
      "[0]\ttrain-mlogloss:0.54852\ttest-mlogloss:0.55028\n",
      "[20]\ttrain-mlogloss:0.29309\ttest-mlogloss:0.33002\n",
      "[40]\ttrain-mlogloss:0.25276\ttest-mlogloss:0.32897\n"
     ]
    },
    {
     "name": "stderr",
     "output_type": "stream",
     "text": [
      "/home/cmd/.local/lib/python3.8/site-packages/xgboost/core.py:101: UserWarning: ntree_limit is deprecated, use `iteration_range` or model slicing instead.\n",
      "  warnings.warn(\n"
     ]
    },
    {
     "name": "stdout",
     "output_type": "stream",
     "text": [
      "[60]\ttrain-mlogloss:0.22340\ttest-mlogloss:0.33974\n",
      "[64]\ttrain-mlogloss:0.21763\ttest-mlogloss:0.34066\n",
      "[0]\ttrain-mlogloss:0.55036\ttest-mlogloss:0.54683\n",
      "[20]\ttrain-mlogloss:0.29634\ttest-mlogloss:0.31512\n",
      "[40]\ttrain-mlogloss:0.25478\ttest-mlogloss:0.32516\n"
     ]
    },
    {
     "name": "stderr",
     "output_type": "stream",
     "text": [
      "/home/cmd/.local/lib/python3.8/site-packages/xgboost/core.py:101: UserWarning: ntree_limit is deprecated, use `iteration_range` or model slicing instead.\n",
      "  warnings.warn(\n"
     ]
    },
    {
     "name": "stdout",
     "output_type": "stream",
     "text": [
      "[60]\ttrain-mlogloss:0.22409\ttest-mlogloss:0.32926\n",
      "[74]\ttrain-mlogloss:0.20503\ttest-mlogloss:0.33394\n",
      "[0]\ttrain-mlogloss:0.54796\ttest-mlogloss:0.55341\n",
      "[20]\ttrain-mlogloss:0.28863\ttest-mlogloss:0.34080\n",
      "[40]\ttrain-mlogloss:0.24862\ttest-mlogloss:0.34303\n"
     ]
    },
    {
     "name": "stderr",
     "output_type": "stream",
     "text": [
      "/home/cmd/.local/lib/python3.8/site-packages/xgboost/core.py:101: UserWarning: ntree_limit is deprecated, use `iteration_range` or model slicing instead.\n",
      "  warnings.warn(\n"
     ]
    },
    {
     "name": "stdout",
     "output_type": "stream",
     "text": [
      "[60]\ttrain-mlogloss:0.21824\ttest-mlogloss:0.35201\n",
      "[76]\ttrain-mlogloss:0.19778\ttest-mlogloss:0.36007\n",
      "\n",
      "3\n",
      "12445\n"
     ]
    },
    {
     "name": "stderr",
     "output_type": "stream",
     "text": [
      "/home/cmd/.local/lib/python3.8/site-packages/xgboost/core.py:101: UserWarning: ntree_limit is deprecated, use `iteration_range` or model slicing instead.\n",
      "  warnings.warn(\n"
     ]
    },
    {
     "name": "stdout",
     "output_type": "stream",
     "text": [
      "Mean cv log loss:  0.8404580594914213\n",
      "Mean cv accuracy:  0.6904214559386973\n",
      "Mean cv log loss:  0.3697809963945755\n",
      "Mean cv accuracy:  0.848786717752235\n",
      "Variance Captured  0.9807547294520418\n",
      "Mean cv log loss:  0.7888117071873431\n",
      "Mean cv accuracy:  0.6796934865900383\n",
      "Mean cv log loss:  0.4013127598364588\n",
      "Mean cv accuracy:  0.8324393358876117\n",
      "Mean cv log loss:  0.7567005316778026\n",
      "Mean cv accuracy:  0.6911877394636015\n",
      "Mean cv log loss:  0.385083344948271\n",
      "Mean cv accuracy:  0.8296296296296297\n",
      "Mean cv log loss:  0.8007444537060084\n",
      "Mean cv accuracy:  0.7070242656449554\n",
      "Mean cv log loss:  0.3437134362970301\n",
      "Mean cv accuracy:  0.8533844189016602\n",
      "Variance Captured:  0.973138868196565\n",
      "Mean cv log loss:  0.8651289418663566\n",
      "Mean cv accuracy:  0.6498084291187739\n",
      "Mean cv log loss:  0.45799060550161197\n",
      "Mean cv accuracy:  0.7833971902937421\n",
      "Mean cv log loss:  0.8535367394509825\n",
      "Mean cv accuracy:  0.6492975734355044\n",
      "Mean cv log loss:  0.4417560133149282\n",
      "Mean cv accuracy:  0.7956577266922095\n",
      "Mean cv log loss:  0.8374097976660779\n",
      "Mean cv accuracy:  0.7054916985951468\n",
      "Mean cv log loss:  0.4365087836611837\n",
      "Mean cv accuracy:  0.8477650063856961\n",
      "[0]\ttrain-mlogloss:1.34055\ttest-mlogloss:1.34166\n",
      "[20]\ttrain-mlogloss:0.88224\ttest-mlogloss:0.89243\n",
      "[40]\ttrain-mlogloss:0.74234\ttest-mlogloss:0.75835\n",
      "[60]\ttrain-mlogloss:0.68554\ttest-mlogloss:0.71280\n",
      "[80]\ttrain-mlogloss:0.65457\ttest-mlogloss:0.69665\n",
      "[100]\ttrain-mlogloss:0.63280\ttest-mlogloss:0.69123\n",
      "[120]\ttrain-mlogloss:0.61425\ttest-mlogloss:0.68873\n",
      "[140]\ttrain-mlogloss:0.59736\ttest-mlogloss:0.68885\n",
      "[160]\ttrain-mlogloss:0.58195\ttest-mlogloss:0.68847\n",
      "[180]\ttrain-mlogloss:0.56738\ttest-mlogloss:0.68848\n",
      "[200]\ttrain-mlogloss:0.55371\ttest-mlogloss:0.68862\n",
      "[212]\ttrain-mlogloss:0.54633\ttest-mlogloss:0.68918\n",
      "[0]\ttrain-mlogloss:1.34016\ttest-mlogloss:1.34031\n",
      "[20]\ttrain-mlogloss:0.87873\ttest-mlogloss:0.89279\n"
     ]
    },
    {
     "name": "stderr",
     "output_type": "stream",
     "text": [
      "/home/cmd/.local/lib/python3.8/site-packages/xgboost/core.py:101: UserWarning: ntree_limit is deprecated, use `iteration_range` or model slicing instead.\n",
      "  warnings.warn(\n"
     ]
    },
    {
     "name": "stdout",
     "output_type": "stream",
     "text": [
      "[40]\ttrain-mlogloss:0.73798\ttest-mlogloss:0.76668\n",
      "[60]\ttrain-mlogloss:0.68115\ttest-mlogloss:0.72572\n",
      "[80]\ttrain-mlogloss:0.65107\ttest-mlogloss:0.71253\n",
      "[100]\ttrain-mlogloss:0.62988\ttest-mlogloss:0.70775\n",
      "[120]\ttrain-mlogloss:0.61128\ttest-mlogloss:0.70686\n",
      "[140]\ttrain-mlogloss:0.59482\ttest-mlogloss:0.70738\n",
      "[160]\ttrain-mlogloss:0.57964\ttest-mlogloss:0.70723\n",
      "[162]\ttrain-mlogloss:0.57817\ttest-mlogloss:0.70742\n",
      "[0]\ttrain-mlogloss:1.33966\ttest-mlogloss:1.34236\n",
      "[20]\ttrain-mlogloss:0.87807\ttest-mlogloss:0.90377\n"
     ]
    },
    {
     "name": "stderr",
     "output_type": "stream",
     "text": [
      "/home/cmd/.local/lib/python3.8/site-packages/xgboost/core.py:101: UserWarning: ntree_limit is deprecated, use `iteration_range` or model slicing instead.\n",
      "  warnings.warn(\n"
     ]
    },
    {
     "name": "stdout",
     "output_type": "stream",
     "text": [
      "[40]\ttrain-mlogloss:0.73739\ttest-mlogloss:0.77425\n",
      "[60]\ttrain-mlogloss:0.68057\ttest-mlogloss:0.72731\n",
      "[80]\ttrain-mlogloss:0.65039\ttest-mlogloss:0.71008\n",
      "[100]\ttrain-mlogloss:0.62857\ttest-mlogloss:0.70123\n",
      "[120]\ttrain-mlogloss:0.60951\ttest-mlogloss:0.69889\n",
      "[140]\ttrain-mlogloss:0.59279\ttest-mlogloss:0.69876\n",
      "[160]\ttrain-mlogloss:0.57806\ttest-mlogloss:0.70001\n",
      "[175]\ttrain-mlogloss:0.56701\ttest-mlogloss:0.70040\n",
      "[0]\ttrain-mlogloss:1.34027\ttest-mlogloss:1.34100\n",
      "[20]\ttrain-mlogloss:0.87962\ttest-mlogloss:0.89316\n"
     ]
    },
    {
     "name": "stderr",
     "output_type": "stream",
     "text": [
      "/home/cmd/.local/lib/python3.8/site-packages/xgboost/core.py:101: UserWarning: ntree_limit is deprecated, use `iteration_range` or model slicing instead.\n",
      "  warnings.warn(\n"
     ]
    },
    {
     "name": "stdout",
     "output_type": "stream",
     "text": [
      "[40]\ttrain-mlogloss:0.73835\ttest-mlogloss:0.76597\n",
      "[60]\ttrain-mlogloss:0.68102\ttest-mlogloss:0.72543\n",
      "[80]\ttrain-mlogloss:0.64956\ttest-mlogloss:0.71103\n",
      "[100]\ttrain-mlogloss:0.62679\ttest-mlogloss:0.70724\n",
      "[120]\ttrain-mlogloss:0.60826\ttest-mlogloss:0.70533\n",
      "[140]\ttrain-mlogloss:0.59109\ttest-mlogloss:0.70438\n",
      "[160]\ttrain-mlogloss:0.57582\ttest-mlogloss:0.70519\n",
      "[180]\ttrain-mlogloss:0.56170\ttest-mlogloss:0.70526\n",
      "[190]\ttrain-mlogloss:0.55509\ttest-mlogloss:0.70558\n",
      "[0]\ttrain-mlogloss:1.34014\ttest-mlogloss:1.34132\n",
      "[20]\ttrain-mlogloss:0.87870\ttest-mlogloss:0.89414\n"
     ]
    },
    {
     "name": "stderr",
     "output_type": "stream",
     "text": [
      "/home/cmd/.local/lib/python3.8/site-packages/xgboost/core.py:101: UserWarning: ntree_limit is deprecated, use `iteration_range` or model slicing instead.\n",
      "  warnings.warn(\n"
     ]
    },
    {
     "name": "stdout",
     "output_type": "stream",
     "text": [
      "[40]\ttrain-mlogloss:0.73761\ttest-mlogloss:0.76823\n",
      "[60]\ttrain-mlogloss:0.68135\ttest-mlogloss:0.72479\n",
      "[80]\ttrain-mlogloss:0.65094\ttest-mlogloss:0.70900\n",
      "[100]\ttrain-mlogloss:0.62897\ttest-mlogloss:0.70295\n",
      "[120]\ttrain-mlogloss:0.61078\ttest-mlogloss:0.70179\n",
      "[140]\ttrain-mlogloss:0.59404\ttest-mlogloss:0.70268\n",
      "[160]\ttrain-mlogloss:0.57900\ttest-mlogloss:0.70396\n",
      "[161]\ttrain-mlogloss:0.57826\ttest-mlogloss:0.70380\n",
      "[0]\ttrain-mlogloss:0.54746\ttest-mlogloss:0.55039\n",
      "[20]\ttrain-mlogloss:0.29068\ttest-mlogloss:0.31554\n",
      "[40]\ttrain-mlogloss:0.24974\ttest-mlogloss:0.32252\n"
     ]
    },
    {
     "name": "stderr",
     "output_type": "stream",
     "text": [
      "/home/cmd/.local/lib/python3.8/site-packages/xgboost/core.py:101: UserWarning: ntree_limit is deprecated, use `iteration_range` or model slicing instead.\n",
      "  warnings.warn(\n"
     ]
    },
    {
     "name": "stdout",
     "output_type": "stream",
     "text": [
      "[60]\ttrain-mlogloss:0.21833\ttest-mlogloss:0.32751\n",
      "[73]\ttrain-mlogloss:0.20185\ttest-mlogloss:0.33227\n",
      "[0]\ttrain-mlogloss:0.54378\ttest-mlogloss:0.55142\n",
      "[20]\ttrain-mlogloss:0.28008\ttest-mlogloss:0.36040\n",
      "[40]\ttrain-mlogloss:0.24168\ttest-mlogloss:0.36743\n"
     ]
    },
    {
     "name": "stderr",
     "output_type": "stream",
     "text": [
      "/home/cmd/.local/lib/python3.8/site-packages/xgboost/core.py:101: UserWarning: ntree_limit is deprecated, use `iteration_range` or model slicing instead.\n",
      "  warnings.warn(\n"
     ]
    },
    {
     "name": "stdout",
     "output_type": "stream",
     "text": [
      "[59]\ttrain-mlogloss:0.21165\ttest-mlogloss:0.37634\n",
      "[0]\ttrain-mlogloss:0.54505\ttest-mlogloss:0.55028\n",
      "[20]\ttrain-mlogloss:0.28629\ttest-mlogloss:0.32831\n",
      "[40]\ttrain-mlogloss:0.24632\ttest-mlogloss:0.34078\n"
     ]
    },
    {
     "name": "stderr",
     "output_type": "stream",
     "text": [
      "/home/cmd/.local/lib/python3.8/site-packages/xgboost/core.py:101: UserWarning: ntree_limit is deprecated, use `iteration_range` or model slicing instead.\n",
      "  warnings.warn(\n"
     ]
    },
    {
     "name": "stdout",
     "output_type": "stream",
     "text": [
      "[60]\ttrain-mlogloss:0.21569\ttest-mlogloss:0.34050\n",
      "[64]\ttrain-mlogloss:0.21118\ttest-mlogloss:0.34166\n",
      "[0]\ttrain-mlogloss:0.54493\ttest-mlogloss:0.55000\n",
      "[20]\ttrain-mlogloss:0.28593\ttest-mlogloss:0.32775\n",
      "[40]\ttrain-mlogloss:0.24657\ttest-mlogloss:0.33527\n"
     ]
    },
    {
     "name": "stderr",
     "output_type": "stream",
     "text": [
      "/home/cmd/.local/lib/python3.8/site-packages/xgboost/core.py:101: UserWarning: ntree_limit is deprecated, use `iteration_range` or model slicing instead.\n",
      "  warnings.warn(\n"
     ]
    },
    {
     "name": "stdout",
     "output_type": "stream",
     "text": [
      "[60]\ttrain-mlogloss:0.21777\ttest-mlogloss:0.34090\n",
      "[75]\ttrain-mlogloss:0.19740\ttest-mlogloss:0.34108\n",
      "[0]\ttrain-mlogloss:0.54568\ttest-mlogloss:0.54656\n",
      "[20]\ttrain-mlogloss:0.28475\ttest-mlogloss:0.32343\n",
      "[40]\ttrain-mlogloss:0.24755\ttest-mlogloss:0.33352\n"
     ]
    },
    {
     "name": "stderr",
     "output_type": "stream",
     "text": [
      "/home/cmd/.local/lib/python3.8/site-packages/xgboost/core.py:101: UserWarning: ntree_limit is deprecated, use `iteration_range` or model slicing instead.\n",
      "  warnings.warn(\n"
     ]
    },
    {
     "name": "stdout",
     "output_type": "stream",
     "text": [
      "[60]\ttrain-mlogloss:0.21820\ttest-mlogloss:0.33898\n",
      "[69]\ttrain-mlogloss:0.20575\ttest-mlogloss:0.34163\n",
      "\n",
      "4\n",
      "31935\n"
     ]
    },
    {
     "name": "stderr",
     "output_type": "stream",
     "text": [
      "/home/cmd/.local/lib/python3.8/site-packages/xgboost/core.py:101: UserWarning: ntree_limit is deprecated, use `iteration_range` or model slicing instead.\n",
      "  warnings.warn(\n"
     ]
    },
    {
     "name": "stdout",
     "output_type": "stream",
     "text": [
      "Mean cv log loss:  0.8322608452345968\n",
      "Mean cv accuracy:  0.6909323116219669\n",
      "Mean cv log loss:  0.37022001505123153\n",
      "Mean cv accuracy:  0.8383141762452107\n",
      "Variance Captured  0.9807547294520416\n",
      "Mean cv log loss:  0.7729982114263667\n",
      "Mean cv accuracy:  0.6804597701149426\n",
      "Mean cv log loss:  0.3959037546505409\n",
      "Mean cv accuracy:  0.8355044699872286\n",
      "Mean cv log loss:  0.7686707344728845\n",
      "Mean cv accuracy:  0.6888888888888889\n",
      "Mean cv log loss:  0.3816552595950947\n",
      "Mean cv accuracy:  0.8383141762452109\n",
      "Mean cv log loss:  0.8041225665815656\n",
      "Mean cv accuracy:  0.711111111111111\n",
      "Mean cv log loss:  0.3458463338862287\n",
      "Mean cv accuracy:  0.850830140485313\n",
      "Variance Captured:  0.973138868196565\n",
      "Mean cv log loss:  0.861733223996942\n",
      "Mean cv accuracy:  0.6554278416347381\n",
      "Mean cv log loss:  0.45378135324418134\n",
      "Mean cv accuracy:  0.8033205619412517\n",
      "Mean cv log loss:  0.855661505259992\n",
      "Mean cv accuracy:  0.6572158365261813\n",
      "Mean cv log loss:  0.4483844874054859\n",
      "Mean cv accuracy:  0.8005108556832695\n",
      "Mean cv log loss:  0.8532445899163619\n",
      "Mean cv accuracy:  0.7019157088122606\n",
      "Mean cv log loss:  0.4568399698194841\n",
      "Mean cv accuracy:  0.8454661558109834\n",
      "[0]\ttrain-mlogloss:1.34062\ttest-mlogloss:1.34172\n",
      "[20]\ttrain-mlogloss:0.87555\ttest-mlogloss:0.89480\n",
      "[40]\ttrain-mlogloss:0.73338\ttest-mlogloss:0.76863\n",
      "[60]\ttrain-mlogloss:0.67666\ttest-mlogloss:0.72724\n",
      "[80]\ttrain-mlogloss:0.64663\ttest-mlogloss:0.71426\n",
      "[100]\ttrain-mlogloss:0.62499\ttest-mlogloss:0.70972\n",
      "[120]\ttrain-mlogloss:0.60585\ttest-mlogloss:0.70668\n",
      "[140]\ttrain-mlogloss:0.58902\ttest-mlogloss:0.70684\n",
      "[160]\ttrain-mlogloss:0.57371\ttest-mlogloss:0.70794\n",
      "[180]\ttrain-mlogloss:0.55955\ttest-mlogloss:0.70909\n",
      "[182]\ttrain-mlogloss:0.55820\ttest-mlogloss:0.70927\n",
      "[0]\ttrain-mlogloss:1.34078\ttest-mlogloss:1.34206\n",
      "[20]\ttrain-mlogloss:0.87615\ttest-mlogloss:0.89710\n"
     ]
    },
    {
     "name": "stderr",
     "output_type": "stream",
     "text": [
      "/home/cmd/.local/lib/python3.8/site-packages/xgboost/core.py:101: UserWarning: ntree_limit is deprecated, use `iteration_range` or model slicing instead.\n",
      "  warnings.warn(\n"
     ]
    },
    {
     "name": "stdout",
     "output_type": "stream",
     "text": [
      "[40]\ttrain-mlogloss:0.73474\ttest-mlogloss:0.76928\n",
      "[60]\ttrain-mlogloss:0.67877\ttest-mlogloss:0.72464\n",
      "[80]\ttrain-mlogloss:0.64881\ttest-mlogloss:0.71000\n",
      "[100]\ttrain-mlogloss:0.62696\ttest-mlogloss:0.70516\n",
      "[120]\ttrain-mlogloss:0.60843\ttest-mlogloss:0.70494\n",
      "[140]\ttrain-mlogloss:0.59162\ttest-mlogloss:0.70582\n",
      "[160]\ttrain-mlogloss:0.57612\ttest-mlogloss:0.70734\n",
      "[163]\ttrain-mlogloss:0.57381\ttest-mlogloss:0.70756\n",
      "[0]\ttrain-mlogloss:1.34127\ttest-mlogloss:1.34042\n",
      "[20]\ttrain-mlogloss:0.88202\ttest-mlogloss:0.87387\n"
     ]
    },
    {
     "name": "stderr",
     "output_type": "stream",
     "text": [
      "/home/cmd/.local/lib/python3.8/site-packages/xgboost/core.py:101: UserWarning: ntree_limit is deprecated, use `iteration_range` or model slicing instead.\n",
      "  warnings.warn(\n"
     ]
    },
    {
     "name": "stdout",
     "output_type": "stream",
     "text": [
      "[40]\ttrain-mlogloss:0.74301\ttest-mlogloss:0.73701\n",
      "[60]\ttrain-mlogloss:0.68683\ttest-mlogloss:0.69124\n",
      "[80]\ttrain-mlogloss:0.65625\ttest-mlogloss:0.67389\n",
      "[100]\ttrain-mlogloss:0.63420\ttest-mlogloss:0.66871\n",
      "[120]\ttrain-mlogloss:0.61472\ttest-mlogloss:0.66690\n",
      "[140]\ttrain-mlogloss:0.59781\ttest-mlogloss:0.66716\n",
      "[160]\ttrain-mlogloss:0.58240\ttest-mlogloss:0.66841\n",
      "[177]\ttrain-mlogloss:0.57013\ttest-mlogloss:0.66895\n",
      "[0]\ttrain-mlogloss:1.34056\ttest-mlogloss:1.34228\n",
      "[20]\ttrain-mlogloss:0.87626\ttest-mlogloss:0.89389\n"
     ]
    },
    {
     "name": "stderr",
     "output_type": "stream",
     "text": [
      "/home/cmd/.local/lib/python3.8/site-packages/xgboost/core.py:101: UserWarning: ntree_limit is deprecated, use `iteration_range` or model slicing instead.\n",
      "  warnings.warn(\n"
     ]
    },
    {
     "name": "stdout",
     "output_type": "stream",
     "text": [
      "[40]\ttrain-mlogloss:0.73457\ttest-mlogloss:0.76653\n",
      "[60]\ttrain-mlogloss:0.67810\ttest-mlogloss:0.72441\n",
      "[80]\ttrain-mlogloss:0.64760\ttest-mlogloss:0.70973\n",
      "[100]\ttrain-mlogloss:0.62606\ttest-mlogloss:0.70374\n",
      "[120]\ttrain-mlogloss:0.60755\ttest-mlogloss:0.70098\n",
      "[140]\ttrain-mlogloss:0.59145\ttest-mlogloss:0.69996\n",
      "[160]\ttrain-mlogloss:0.57640\ttest-mlogloss:0.69960\n",
      "[180]\ttrain-mlogloss:0.56259\ttest-mlogloss:0.70114\n",
      "[200]\ttrain-mlogloss:0.54943\ttest-mlogloss:0.70151\n",
      "[201]\ttrain-mlogloss:0.54880\ttest-mlogloss:0.70166\n",
      "[0]\ttrain-mlogloss:1.34047\ttest-mlogloss:1.34265\n",
      "[20]\ttrain-mlogloss:0.87555\ttest-mlogloss:0.89721\n"
     ]
    },
    {
     "name": "stderr",
     "output_type": "stream",
     "text": [
      "/home/cmd/.local/lib/python3.8/site-packages/xgboost/core.py:101: UserWarning: ntree_limit is deprecated, use `iteration_range` or model slicing instead.\n",
      "  warnings.warn(\n"
     ]
    },
    {
     "name": "stdout",
     "output_type": "stream",
     "text": [
      "[40]\ttrain-mlogloss:0.73400\ttest-mlogloss:0.77085\n",
      "[60]\ttrain-mlogloss:0.67695\ttest-mlogloss:0.73120\n",
      "[80]\ttrain-mlogloss:0.64637\ttest-mlogloss:0.71622\n",
      "[100]\ttrain-mlogloss:0.62425\ttest-mlogloss:0.71113\n",
      "[120]\ttrain-mlogloss:0.60492\ttest-mlogloss:0.70938\n",
      "[140]\ttrain-mlogloss:0.58758\ttest-mlogloss:0.70936\n",
      "[160]\ttrain-mlogloss:0.57132\ttest-mlogloss:0.71064\n",
      "[180]\ttrain-mlogloss:0.55644\ttest-mlogloss:0.71253\n",
      "[191]\ttrain-mlogloss:0.54847\ttest-mlogloss:0.71353\n",
      "[0]\ttrain-mlogloss:0.54839\ttest-mlogloss:0.54957\n",
      "[20]\ttrain-mlogloss:0.28664\ttest-mlogloss:0.33381\n",
      "[40]\ttrain-mlogloss:0.24676\ttest-mlogloss:0.34650\n"
     ]
    },
    {
     "name": "stderr",
     "output_type": "stream",
     "text": [
      "/home/cmd/.local/lib/python3.8/site-packages/xgboost/core.py:101: UserWarning: ntree_limit is deprecated, use `iteration_range` or model slicing instead.\n",
      "  warnings.warn(\n"
     ]
    },
    {
     "name": "stdout",
     "output_type": "stream",
     "text": [
      "[60]\ttrain-mlogloss:0.21618\ttest-mlogloss:0.34895\n",
      "[63]\ttrain-mlogloss:0.21245\ttest-mlogloss:0.35022\n",
      "[0]\ttrain-mlogloss:0.54736\ttest-mlogloss:0.55254\n",
      "[20]\ttrain-mlogloss:0.28789\ttest-mlogloss:0.33079\n",
      "[40]\ttrain-mlogloss:0.24809\ttest-mlogloss:0.34152\n"
     ]
    },
    {
     "name": "stderr",
     "output_type": "stream",
     "text": [
      "/home/cmd/.local/lib/python3.8/site-packages/xgboost/core.py:101: UserWarning: ntree_limit is deprecated, use `iteration_range` or model slicing instead.\n",
      "  warnings.warn(\n"
     ]
    },
    {
     "name": "stdout",
     "output_type": "stream",
     "text": [
      "[60]\ttrain-mlogloss:0.21610\ttest-mlogloss:0.34441\n",
      "[65]\ttrain-mlogloss:0.20967\ttest-mlogloss:0.34408\n",
      "[0]\ttrain-mlogloss:0.54689\ttest-mlogloss:0.55193\n",
      "[20]\ttrain-mlogloss:0.28672\ttest-mlogloss:0.34014\n",
      "[40]\ttrain-mlogloss:0.24772\ttest-mlogloss:0.34212\n"
     ]
    },
    {
     "name": "stderr",
     "output_type": "stream",
     "text": [
      "/home/cmd/.local/lib/python3.8/site-packages/xgboost/core.py:101: UserWarning: ntree_limit is deprecated, use `iteration_range` or model slicing instead.\n",
      "  warnings.warn(\n"
     ]
    },
    {
     "name": "stdout",
     "output_type": "stream",
     "text": [
      "[60]\ttrain-mlogloss:0.21594\ttest-mlogloss:0.35381\n",
      "[0]\ttrain-mlogloss:0.54740\ttest-mlogloss:0.54854\n",
      "[20]\ttrain-mlogloss:0.28706\ttest-mlogloss:0.33249\n",
      "[40]\ttrain-mlogloss:0.24849\ttest-mlogloss:0.33193\n"
     ]
    },
    {
     "name": "stderr",
     "output_type": "stream",
     "text": [
      "/home/cmd/.local/lib/python3.8/site-packages/xgboost/core.py:101: UserWarning: ntree_limit is deprecated, use `iteration_range` or model slicing instead.\n",
      "  warnings.warn(\n"
     ]
    },
    {
     "name": "stdout",
     "output_type": "stream",
     "text": [
      "[60]\ttrain-mlogloss:0.21908\ttest-mlogloss:0.33715\n",
      "[80]\ttrain-mlogloss:0.19287\ttest-mlogloss:0.34356\n",
      "[86]\ttrain-mlogloss:0.18539\ttest-mlogloss:0.34182\n",
      "[0]\ttrain-mlogloss:0.54617\ttest-mlogloss:0.55519\n",
      "[20]\ttrain-mlogloss:0.28259\ttest-mlogloss:0.35351\n",
      "[40]\ttrain-mlogloss:0.24020\ttest-mlogloss:0.36784\n"
     ]
    },
    {
     "name": "stderr",
     "output_type": "stream",
     "text": [
      "/home/cmd/.local/lib/python3.8/site-packages/xgboost/core.py:101: UserWarning: ntree_limit is deprecated, use `iteration_range` or model slicing instead.\n",
      "  warnings.warn(\n"
     ]
    },
    {
     "name": "stdout",
     "output_type": "stream",
     "text": [
      "[60]\ttrain-mlogloss:0.20750\ttest-mlogloss:0.37641\n",
      "[64]\ttrain-mlogloss:0.20252\ttest-mlogloss:0.37595\n",
      "\n",
      "5\n",
      "48382\n"
     ]
    },
    {
     "name": "stderr",
     "output_type": "stream",
     "text": [
      "/home/cmd/.local/lib/python3.8/site-packages/xgboost/core.py:101: UserWarning: ntree_limit is deprecated, use `iteration_range` or model slicing instead.\n",
      "  warnings.warn(\n"
     ]
    },
    {
     "name": "stdout",
     "output_type": "stream",
     "text": [
      "Mean cv log loss:  0.8352700354748326\n",
      "Mean cv accuracy:  0.6909323116219668\n",
      "Mean cv log loss:  0.3764125879215193\n",
      "Mean cv accuracy:  0.844955300127714\n",
      "Variance Captured  0.9807547294520418\n",
      "Mean cv log loss:  0.7797185867192409\n",
      "Mean cv accuracy:  0.6812260536398467\n",
      "Mean cv log loss:  0.39989589686378874\n",
      "Mean cv accuracy:  0.8321839080459771\n",
      "Mean cv log loss:  0.7611507553013881\n",
      "Mean cv accuracy:  0.6893997445721584\n",
      "Mean cv log loss:  0.386379068369666\n",
      "Mean cv accuracy:  0.8334610472541508\n",
      "Mean cv log loss:  0.8151089194941659\n",
      "Mean cv accuracy:  0.7008939974457216\n",
      "Mean cv log loss:  0.3529181370197483\n",
      "Mean cv accuracy:  0.8510855683269476\n",
      "Variance Captured:  0.9731388681965649\n",
      "Mean cv log loss:  0.8638518159250357\n",
      "Mean cv accuracy:  0.6521072796934866\n",
      "Mean cv log loss:  0.4512302026620166\n",
      "Mean cv accuracy:  0.794125159642401\n",
      "Mean cv log loss:  0.8605505283942462\n",
      "Mean cv accuracy:  0.6559386973180076\n",
      "Mean cv log loss:  0.4435704418745778\n",
      "Mean cv accuracy:  0.8\n",
      "Mean cv log loss:  0.8705781476625679\n",
      "Mean cv accuracy:  0.695530012771392\n",
      "Mean cv log loss:  0.4633268847475505\n",
      "Mean cv accuracy:  0.8403575989782887\n",
      "[0]\ttrain-mlogloss:1.34088\ttest-mlogloss:1.34312\n",
      "[20]\ttrain-mlogloss:0.88655\ttest-mlogloss:0.91807\n",
      "[40]\ttrain-mlogloss:0.74778\ttest-mlogloss:0.79110\n",
      "[60]\ttrain-mlogloss:0.69292\ttest-mlogloss:0.74537\n",
      "[80]\ttrain-mlogloss:0.66372\ttest-mlogloss:0.72641\n",
      "[100]\ttrain-mlogloss:0.64227\ttest-mlogloss:0.71775\n",
      "[120]\ttrain-mlogloss:0.62390\ttest-mlogloss:0.71398\n",
      "[140]\ttrain-mlogloss:0.60711\ttest-mlogloss:0.71246\n",
      "[160]\ttrain-mlogloss:0.59207\ttest-mlogloss:0.71151\n",
      "[180]\ttrain-mlogloss:0.57763\ttest-mlogloss:0.71105\n",
      "[200]\ttrain-mlogloss:0.56386\ttest-mlogloss:0.71068\n",
      "[220]\ttrain-mlogloss:0.55058\ttest-mlogloss:0.71173\n",
      "[240]\ttrain-mlogloss:0.53874\ttest-mlogloss:0.71163\n",
      "[243]\ttrain-mlogloss:0.53681\ttest-mlogloss:0.71181\n",
      "[0]\ttrain-mlogloss:1.34069\ttest-mlogloss:1.34282\n",
      "[20]\ttrain-mlogloss:0.88820\ttest-mlogloss:0.91000\n"
     ]
    },
    {
     "name": "stderr",
     "output_type": "stream",
     "text": [
      "/home/cmd/.local/lib/python3.8/site-packages/xgboost/core.py:101: UserWarning: ntree_limit is deprecated, use `iteration_range` or model slicing instead.\n",
      "  warnings.warn(\n"
     ]
    },
    {
     "name": "stdout",
     "output_type": "stream",
     "text": [
      "[40]\ttrain-mlogloss:0.74932\ttest-mlogloss:0.78368\n",
      "[60]\ttrain-mlogloss:0.69328\ttest-mlogloss:0.74374\n",
      "[80]\ttrain-mlogloss:0.66272\ttest-mlogloss:0.73046\n",
      "[100]\ttrain-mlogloss:0.63991\ttest-mlogloss:0.72572\n",
      "[120]\ttrain-mlogloss:0.62099\ttest-mlogloss:0.72512\n",
      "[140]\ttrain-mlogloss:0.60396\ttest-mlogloss:0.72649\n",
      "[160]\ttrain-mlogloss:0.58895\ttest-mlogloss:0.72823\n",
      "[165]\ttrain-mlogloss:0.58525\ttest-mlogloss:0.72890\n",
      "[0]\ttrain-mlogloss:1.34040\ttest-mlogloss:1.34255\n",
      "[20]\ttrain-mlogloss:0.88301\ttest-mlogloss:0.91348\n"
     ]
    },
    {
     "name": "stderr",
     "output_type": "stream",
     "text": [
      "/home/cmd/.local/lib/python3.8/site-packages/xgboost/core.py:101: UserWarning: ntree_limit is deprecated, use `iteration_range` or model slicing instead.\n",
      "  warnings.warn(\n"
     ]
    },
    {
     "name": "stdout",
     "output_type": "stream",
     "text": [
      "[40]\ttrain-mlogloss:0.74308\ttest-mlogloss:0.79691\n",
      "[60]\ttrain-mlogloss:0.68713\ttest-mlogloss:0.76121\n",
      "[80]\ttrain-mlogloss:0.65692\ttest-mlogloss:0.74925\n",
      "[100]\ttrain-mlogloss:0.63509\ttest-mlogloss:0.74528\n",
      "[120]\ttrain-mlogloss:0.61661\ttest-mlogloss:0.74481\n",
      "[140]\ttrain-mlogloss:0.59952\ttest-mlogloss:0.74500\n",
      "[160]\ttrain-mlogloss:0.58417\ttest-mlogloss:0.74552\n",
      "[176]\ttrain-mlogloss:0.57266\ttest-mlogloss:0.74702\n",
      "[0]\ttrain-mlogloss:1.34186\ttest-mlogloss:1.34017\n",
      "[20]\ttrain-mlogloss:0.89564\ttest-mlogloss:0.88576\n"
     ]
    },
    {
     "name": "stderr",
     "output_type": "stream",
     "text": [
      "/home/cmd/.local/lib/python3.8/site-packages/xgboost/core.py:101: UserWarning: ntree_limit is deprecated, use `iteration_range` or model slicing instead.\n",
      "  warnings.warn(\n"
     ]
    },
    {
     "name": "stdout",
     "output_type": "stream",
     "text": [
      "[40]\ttrain-mlogloss:0.75685\ttest-mlogloss:0.75475\n",
      "[60]\ttrain-mlogloss:0.70084\ttest-mlogloss:0.71227\n",
      "[80]\ttrain-mlogloss:0.67000\ttest-mlogloss:0.69862\n",
      "[100]\ttrain-mlogloss:0.64738\ttest-mlogloss:0.69512\n",
      "[120]\ttrain-mlogloss:0.62803\ttest-mlogloss:0.69536\n",
      "[140]\ttrain-mlogloss:0.61069\ttest-mlogloss:0.69725\n",
      "[153]\ttrain-mlogloss:0.60025\ttest-mlogloss:0.69905\n",
      "[0]\ttrain-mlogloss:1.34119\ttest-mlogloss:1.34148\n",
      "[20]\ttrain-mlogloss:0.89184\ttest-mlogloss:0.89880\n"
     ]
    },
    {
     "name": "stderr",
     "output_type": "stream",
     "text": [
      "/home/cmd/.local/lib/python3.8/site-packages/xgboost/core.py:101: UserWarning: ntree_limit is deprecated, use `iteration_range` or model slicing instead.\n",
      "  warnings.warn(\n"
     ]
    },
    {
     "name": "stdout",
     "output_type": "stream",
     "text": [
      "[40]\ttrain-mlogloss:0.75277\ttest-mlogloss:0.76782\n",
      "[60]\ttrain-mlogloss:0.69642\ttest-mlogloss:0.72372\n",
      "[80]\ttrain-mlogloss:0.66573\ttest-mlogloss:0.70811\n",
      "[100]\ttrain-mlogloss:0.64345\ttest-mlogloss:0.70273\n",
      "[120]\ttrain-mlogloss:0.62466\ttest-mlogloss:0.70122\n",
      "[140]\ttrain-mlogloss:0.60784\ttest-mlogloss:0.70073\n",
      "[160]\ttrain-mlogloss:0.59289\ttest-mlogloss:0.70153\n",
      "[180]\ttrain-mlogloss:0.57856\ttest-mlogloss:0.70176\n",
      "[198]\ttrain-mlogloss:0.56648\ttest-mlogloss:0.70262\n",
      "[0]\ttrain-mlogloss:0.54947\ttest-mlogloss:0.55614\n",
      "[20]\ttrain-mlogloss:0.29381\ttest-mlogloss:0.34216\n",
      "[40]\ttrain-mlogloss:0.25425\ttest-mlogloss:0.34005\n"
     ]
    },
    {
     "name": "stderr",
     "output_type": "stream",
     "text": [
      "/home/cmd/.local/lib/python3.8/site-packages/xgboost/core.py:101: UserWarning: ntree_limit is deprecated, use `iteration_range` or model slicing instead.\n",
      "  warnings.warn(\n"
     ]
    },
    {
     "name": "stdout",
     "output_type": "stream",
     "text": [
      "[60]\ttrain-mlogloss:0.22271\ttest-mlogloss:0.34779\n",
      "[80]\ttrain-mlogloss:0.19753\ttest-mlogloss:0.35035\n",
      "[82]\ttrain-mlogloss:0.19479\ttest-mlogloss:0.35267\n",
      "[0]\ttrain-mlogloss:0.54974\ttest-mlogloss:0.55520\n",
      "[20]\ttrain-mlogloss:0.28850\ttest-mlogloss:0.36768\n",
      "[40]\ttrain-mlogloss:0.24939\ttest-mlogloss:0.38162\n"
     ]
    },
    {
     "name": "stderr",
     "output_type": "stream",
     "text": [
      "/home/cmd/.local/lib/python3.8/site-packages/xgboost/core.py:101: UserWarning: ntree_limit is deprecated, use `iteration_range` or model slicing instead.\n",
      "  warnings.warn(\n"
     ]
    },
    {
     "name": "stdout",
     "output_type": "stream",
     "text": [
      "[59]\ttrain-mlogloss:0.21762\ttest-mlogloss:0.39419\n",
      "[0]\ttrain-mlogloss:0.54969\ttest-mlogloss:0.55543\n",
      "[20]\ttrain-mlogloss:0.29291\ttest-mlogloss:0.34393\n",
      "[40]\ttrain-mlogloss:0.25509\ttest-mlogloss:0.35909\n"
     ]
    },
    {
     "name": "stderr",
     "output_type": "stream",
     "text": [
      "/home/cmd/.local/lib/python3.8/site-packages/xgboost/core.py:101: UserWarning: ntree_limit is deprecated, use `iteration_range` or model slicing instead.\n",
      "  warnings.warn(\n"
     ]
    },
    {
     "name": "stdout",
     "output_type": "stream",
     "text": [
      "[60]\ttrain-mlogloss:0.22400\ttest-mlogloss:0.36530\n",
      "[65]\ttrain-mlogloss:0.21676\ttest-mlogloss:0.36821\n",
      "[0]\ttrain-mlogloss:0.55019\ttest-mlogloss:0.55059\n",
      "[20]\ttrain-mlogloss:0.29243\ttest-mlogloss:0.34183\n",
      "[40]\ttrain-mlogloss:0.25351\ttest-mlogloss:0.34538\n"
     ]
    },
    {
     "name": "stderr",
     "output_type": "stream",
     "text": [
      "/home/cmd/.local/lib/python3.8/site-packages/xgboost/core.py:101: UserWarning: ntree_limit is deprecated, use `iteration_range` or model slicing instead.\n",
      "  warnings.warn(\n"
     ]
    },
    {
     "name": "stdout",
     "output_type": "stream",
     "text": [
      "[60]\ttrain-mlogloss:0.22254\ttest-mlogloss:0.35063\n",
      "[64]\ttrain-mlogloss:0.21634\ttest-mlogloss:0.35331\n",
      "[0]\ttrain-mlogloss:0.55143\ttest-mlogloss:0.55047\n",
      "[20]\ttrain-mlogloss:0.29640\ttest-mlogloss:0.33068\n",
      "[40]\ttrain-mlogloss:0.25653\ttest-mlogloss:0.34085\n"
     ]
    },
    {
     "name": "stderr",
     "output_type": "stream",
     "text": [
      "/home/cmd/.local/lib/python3.8/site-packages/xgboost/core.py:101: UserWarning: ntree_limit is deprecated, use `iteration_range` or model slicing instead.\n",
      "  warnings.warn(\n"
     ]
    },
    {
     "name": "stdout",
     "output_type": "stream",
     "text": [
      "[60]\ttrain-mlogloss:0.22556\ttest-mlogloss:0.35355\n",
      "\n",
      "6\n",
      "8233\n"
     ]
    },
    {
     "name": "stderr",
     "output_type": "stream",
     "text": [
      "/home/cmd/.local/lib/python3.8/site-packages/xgboost/core.py:101: UserWarning: ntree_limit is deprecated, use `iteration_range` or model slicing instead.\n",
      "  warnings.warn(\n"
     ]
    },
    {
     "name": "stdout",
     "output_type": "stream",
     "text": [
      "Mean cv log loss:  0.8342316103164691\n",
      "Mean cv accuracy:  0.6919540229885057\n",
      "Mean cv log loss:  0.3741333993986554\n",
      "Mean cv accuracy:  0.8406130268199232\n",
      "Variance Captured  0.9807547294520419\n",
      "Mean cv log loss:  0.7765140675964316\n",
      "Mean cv accuracy:  0.6822477650063856\n",
      "Mean cv log loss:  0.4013977898842228\n",
      "Mean cv accuracy:  0.8339719029374202\n",
      "Mean cv log loss:  0.763651553308464\n",
      "Mean cv accuracy:  0.6932311621966794\n",
      "Mean cv log loss:  0.3840415223453811\n",
      "Mean cv accuracy:  0.8334610472541506\n",
      "Mean cv log loss:  0.8023386851651779\n",
      "Mean cv accuracy:  0.7062579821200511\n",
      "Mean cv log loss:  0.34855370511018796\n",
      "Mean cv accuracy:  0.8523627075351214\n",
      "Variance Captured:  0.9731388681965648\n",
      "Mean cv log loss:  0.8664053506590313\n",
      "Mean cv accuracy:  0.644955300127714\n",
      "Mean cv log loss:  0.4587557828313821\n",
      "Mean cv accuracy:  0.78544061302682\n",
      "Mean cv log loss:  0.8514768537350855\n",
      "Mean cv accuracy:  0.6505747126436782\n",
      "Mean cv log loss:  0.4427599361401763\n",
      "Mean cv accuracy:  0.7994891443167306\n",
      "Mean cv log loss:  0.8564799777341037\n",
      "Mean cv accuracy:  0.6973180076628351\n",
      "Mean cv log loss:  0.4436926603879199\n",
      "Mean cv accuracy:  0.8464878671775224\n",
      "[0]\ttrain-mlogloss:1.33971\ttest-mlogloss:1.34269\n",
      "[20]\ttrain-mlogloss:0.87756\ttest-mlogloss:0.91421\n",
      "[40]\ttrain-mlogloss:0.73445\ttest-mlogloss:0.79345\n",
      "[60]\ttrain-mlogloss:0.67635\ttest-mlogloss:0.75592\n",
      "[80]\ttrain-mlogloss:0.64556\ttest-mlogloss:0.74055\n",
      "[100]\ttrain-mlogloss:0.62358\ttest-mlogloss:0.73602\n",
      "[120]\ttrain-mlogloss:0.60524\ttest-mlogloss:0.73467\n",
      "[140]\ttrain-mlogloss:0.58866\ttest-mlogloss:0.73405\n",
      "[160]\ttrain-mlogloss:0.57300\ttest-mlogloss:0.73456\n",
      "[180]\ttrain-mlogloss:0.55885\ttest-mlogloss:0.73578\n",
      "[196]\ttrain-mlogloss:0.54823\ttest-mlogloss:0.73700\n",
      "[0]\ttrain-mlogloss:1.33987\ttest-mlogloss:1.34205\n",
      "[20]\ttrain-mlogloss:0.88042\ttest-mlogloss:0.90756\n"
     ]
    },
    {
     "name": "stderr",
     "output_type": "stream",
     "text": [
      "/home/cmd/.local/lib/python3.8/site-packages/xgboost/core.py:101: UserWarning: ntree_limit is deprecated, use `iteration_range` or model slicing instead.\n",
      "  warnings.warn(\n"
     ]
    },
    {
     "name": "stdout",
     "output_type": "stream",
     "text": [
      "[40]\ttrain-mlogloss:0.73970\ttest-mlogloss:0.78109\n",
      "[60]\ttrain-mlogloss:0.68344\ttest-mlogloss:0.73820\n",
      "[80]\ttrain-mlogloss:0.65248\ttest-mlogloss:0.72180\n",
      "[100]\ttrain-mlogloss:0.63070\ttest-mlogloss:0.71493\n",
      "[120]\ttrain-mlogloss:0.61203\ttest-mlogloss:0.71303\n",
      "[140]\ttrain-mlogloss:0.59532\ttest-mlogloss:0.71254\n",
      "[160]\ttrain-mlogloss:0.58026\ttest-mlogloss:0.71369\n",
      "[180]\ttrain-mlogloss:0.56619\ttest-mlogloss:0.71466\n",
      "[187]\ttrain-mlogloss:0.56160\ttest-mlogloss:0.71491\n",
      "[0]\ttrain-mlogloss:1.34026\ttest-mlogloss:1.34167\n",
      "[20]\ttrain-mlogloss:0.88419\ttest-mlogloss:0.89977\n"
     ]
    },
    {
     "name": "stderr",
     "output_type": "stream",
     "text": [
      "/home/cmd/.local/lib/python3.8/site-packages/xgboost/core.py:101: UserWarning: ntree_limit is deprecated, use `iteration_range` or model slicing instead.\n",
      "  warnings.warn(\n"
     ]
    },
    {
     "name": "stdout",
     "output_type": "stream",
     "text": [
      "[40]\ttrain-mlogloss:0.74314\ttest-mlogloss:0.77125\n",
      "[60]\ttrain-mlogloss:0.68654\ttest-mlogloss:0.72790\n",
      "[80]\ttrain-mlogloss:0.65558\ttest-mlogloss:0.71218\n",
      "[100]\ttrain-mlogloss:0.63235\ttest-mlogloss:0.70617\n",
      "[120]\ttrain-mlogloss:0.61330\ttest-mlogloss:0.70396\n",
      "[140]\ttrain-mlogloss:0.59669\ttest-mlogloss:0.70371\n",
      "[160]\ttrain-mlogloss:0.58126\ttest-mlogloss:0.70464\n",
      "[163]\ttrain-mlogloss:0.57925\ttest-mlogloss:0.70504\n",
      "[0]\ttrain-mlogloss:1.34104\ttest-mlogloss:1.34108\n",
      "[20]\ttrain-mlogloss:0.88452\ttest-mlogloss:0.89772\n"
     ]
    },
    {
     "name": "stderr",
     "output_type": "stream",
     "text": [
      "/home/cmd/.local/lib/python3.8/site-packages/xgboost/core.py:101: UserWarning: ntree_limit is deprecated, use `iteration_range` or model slicing instead.\n",
      "  warnings.warn(\n"
     ]
    },
    {
     "name": "stdout",
     "output_type": "stream",
     "text": [
      "[40]\ttrain-mlogloss:0.74283\ttest-mlogloss:0.77019\n",
      "[60]\ttrain-mlogloss:0.68511\ttest-mlogloss:0.72764\n",
      "[80]\ttrain-mlogloss:0.65384\ttest-mlogloss:0.70996\n",
      "[100]\ttrain-mlogloss:0.63127\ttest-mlogloss:0.70403\n",
      "[120]\ttrain-mlogloss:0.61226\ttest-mlogloss:0.70270\n",
      "[140]\ttrain-mlogloss:0.59543\ttest-mlogloss:0.70289\n",
      "[160]\ttrain-mlogloss:0.58032\ttest-mlogloss:0.70339\n",
      "[180]\ttrain-mlogloss:0.56670\ttest-mlogloss:0.70395\n",
      "[183]\ttrain-mlogloss:0.56472\ttest-mlogloss:0.70394\n",
      "[0]\ttrain-mlogloss:1.34137\ttest-mlogloss:1.33967\n",
      "[20]\ttrain-mlogloss:0.89127\ttest-mlogloss:0.87819\n"
     ]
    },
    {
     "name": "stderr",
     "output_type": "stream",
     "text": [
      "/home/cmd/.local/lib/python3.8/site-packages/xgboost/core.py:101: UserWarning: ntree_limit is deprecated, use `iteration_range` or model slicing instead.\n",
      "  warnings.warn(\n"
     ]
    },
    {
     "name": "stdout",
     "output_type": "stream",
     "text": [
      "[40]\ttrain-mlogloss:0.75261\ttest-mlogloss:0.73993\n",
      "[60]\ttrain-mlogloss:0.69632\ttest-mlogloss:0.69112\n",
      "[80]\ttrain-mlogloss:0.66568\ttest-mlogloss:0.67298\n",
      "[100]\ttrain-mlogloss:0.64324\ttest-mlogloss:0.66496\n",
      "[120]\ttrain-mlogloss:0.62440\ttest-mlogloss:0.66253\n",
      "[140]\ttrain-mlogloss:0.60825\ttest-mlogloss:0.66166\n",
      "[160]\ttrain-mlogloss:0.59360\ttest-mlogloss:0.66109\n",
      "[180]\ttrain-mlogloss:0.57966\ttest-mlogloss:0.66229\n",
      "[200]\ttrain-mlogloss:0.56619\ttest-mlogloss:0.66264\n",
      "[204]\ttrain-mlogloss:0.56374\ttest-mlogloss:0.66229\n",
      "[0]\ttrain-mlogloss:0.54469\ttest-mlogloss:0.55653\n",
      "[20]\ttrain-mlogloss:0.28298\ttest-mlogloss:0.36447\n",
      "[40]\ttrain-mlogloss:0.24209\ttest-mlogloss:0.37322\n"
     ]
    },
    {
     "name": "stderr",
     "output_type": "stream",
     "text": [
      "/home/cmd/.local/lib/python3.8/site-packages/xgboost/core.py:101: UserWarning: ntree_limit is deprecated, use `iteration_range` or model slicing instead.\n",
      "  warnings.warn(\n"
     ]
    },
    {
     "name": "stdout",
     "output_type": "stream",
     "text": [
      "[60]\ttrain-mlogloss:0.21522\ttest-mlogloss:0.38017\n",
      "[0]\ttrain-mlogloss:0.54609\ttest-mlogloss:0.55385\n",
      "[20]\ttrain-mlogloss:0.28644\ttest-mlogloss:0.35003\n",
      "[40]\ttrain-mlogloss:0.25001\ttest-mlogloss:0.36350\n"
     ]
    },
    {
     "name": "stderr",
     "output_type": "stream",
     "text": [
      "/home/cmd/.local/lib/python3.8/site-packages/xgboost/core.py:101: UserWarning: ntree_limit is deprecated, use `iteration_range` or model slicing instead.\n",
      "  warnings.warn(\n"
     ]
    },
    {
     "name": "stdout",
     "output_type": "stream",
     "text": [
      "[60]\ttrain-mlogloss:0.21984\ttest-mlogloss:0.36872\n",
      "[62]\ttrain-mlogloss:0.21766\ttest-mlogloss:0.36924\n",
      "[0]\ttrain-mlogloss:0.54896\ttest-mlogloss:0.54963\n",
      "[20]\ttrain-mlogloss:0.29436\ttest-mlogloss:0.32452\n",
      "[40]\ttrain-mlogloss:0.25283\ttest-mlogloss:0.33045\n"
     ]
    },
    {
     "name": "stderr",
     "output_type": "stream",
     "text": [
      "/home/cmd/.local/lib/python3.8/site-packages/xgboost/core.py:101: UserWarning: ntree_limit is deprecated, use `iteration_range` or model slicing instead.\n",
      "  warnings.warn(\n"
     ]
    },
    {
     "name": "stdout",
     "output_type": "stream",
     "text": [
      "[60]\ttrain-mlogloss:0.22046\ttest-mlogloss:0.33931\n",
      "[71]\ttrain-mlogloss:0.20544\ttest-mlogloss:0.34271\n",
      "[0]\ttrain-mlogloss:0.54708\ttest-mlogloss:0.55066\n",
      "[20]\ttrain-mlogloss:0.28994\ttest-mlogloss:0.33953\n",
      "[40]\ttrain-mlogloss:0.24898\ttest-mlogloss:0.35414\n"
     ]
    },
    {
     "name": "stderr",
     "output_type": "stream",
     "text": [
      "/home/cmd/.local/lib/python3.8/site-packages/xgboost/core.py:101: UserWarning: ntree_limit is deprecated, use `iteration_range` or model slicing instead.\n",
      "  warnings.warn(\n"
     ]
    },
    {
     "name": "stdout",
     "output_type": "stream",
     "text": [
      "[60]\ttrain-mlogloss:0.21924\ttest-mlogloss:0.36508\n",
      "[63]\ttrain-mlogloss:0.21432\ttest-mlogloss:0.36664\n",
      "[0]\ttrain-mlogloss:0.54873\ttest-mlogloss:0.54519\n",
      "[20]\ttrain-mlogloss:0.29226\ttest-mlogloss:0.31524\n"
     ]
    },
    {
     "name": "stderr",
     "output_type": "stream",
     "text": [
      "/home/cmd/.local/lib/python3.8/site-packages/xgboost/core.py:101: UserWarning: ntree_limit is deprecated, use `iteration_range` or model slicing instead.\n",
      "  warnings.warn(\n"
     ]
    },
    {
     "name": "stdout",
     "output_type": "stream",
     "text": [
      "[40]\ttrain-mlogloss:0.25404\ttest-mlogloss:0.32377\n",
      "[60]\ttrain-mlogloss:0.22467\ttest-mlogloss:0.33147\n",
      "[68]\ttrain-mlogloss:0.21355\ttest-mlogloss:0.33292\n",
      "\n",
      "7\n",
      "34124\n"
     ]
    },
    {
     "name": "stderr",
     "output_type": "stream",
     "text": [
      "/home/cmd/.local/lib/python3.8/site-packages/xgboost/core.py:101: UserWarning: ntree_limit is deprecated, use `iteration_range` or model slicing instead.\n",
      "  warnings.warn(\n"
     ]
    },
    {
     "name": "stdout",
     "output_type": "stream",
     "text": [
      "Mean cv log loss:  0.8302558475227719\n",
      "Mean cv accuracy:  0.6886334610472542\n",
      "Mean cv log loss:  0.36671156661552806\n",
      "Mean cv accuracy:  0.8480204342273309\n",
      "Variance Captured  0.9807547294520416\n",
      "Mean cv log loss:  0.8073501799137741\n",
      "Mean cv accuracy:  0.6855683269476373\n",
      "Mean cv log loss:  0.3967337206646647\n",
      "Mean cv accuracy:  0.8339719029374202\n",
      "Mean cv log loss:  0.7704552072436188\n",
      "Mean cv accuracy:  0.6899106002554278\n",
      "Mean cv log loss:  0.38487773733387975\n",
      "Mean cv accuracy:  0.8365261813537677\n",
      "Mean cv log loss:  0.796938096262212\n",
      "Mean cv accuracy:  0.7111111111111111\n",
      "Mean cv log loss:  0.33983013273968365\n",
      "Mean cv accuracy:  0.8610472541507026\n",
      "Variance Captured:  0.973138868196565\n",
      "Mean cv log loss:  0.870532177939795\n",
      "Mean cv accuracy:  0.6526181353767561\n",
      "Mean cv log loss:  0.4481566173014535\n",
      "Mean cv accuracy:  0.8007662835249041\n",
      "Mean cv log loss:  0.8626101753824837\n",
      "Mean cv accuracy:  0.6567049808429118\n",
      "Mean cv log loss:  0.4378661705556409\n",
      "Mean cv accuracy:  0.8035759897828862\n",
      "Mean cv log loss:  0.8423385030278944\n",
      "Mean cv accuracy:  0.7021711366538953\n",
      "Mean cv log loss:  0.4433735855982549\n",
      "Mean cv accuracy:  0.8503192848020434\n",
      "[0]\ttrain-mlogloss:1.33986\ttest-mlogloss:1.33886\n",
      "[20]\ttrain-mlogloss:0.88249\ttest-mlogloss:0.88262\n",
      "[40]\ttrain-mlogloss:0.74257\ttest-mlogloss:0.74689\n",
      "[60]\ttrain-mlogloss:0.68560\ttest-mlogloss:0.70208\n",
      "[80]\ttrain-mlogloss:0.65405\ttest-mlogloss:0.68499\n",
      "[100]\ttrain-mlogloss:0.63173\ttest-mlogloss:0.68207\n",
      "[120]\ttrain-mlogloss:0.61222\ttest-mlogloss:0.68266\n",
      "[140]\ttrain-mlogloss:0.59529\ttest-mlogloss:0.68368\n",
      "[160]\ttrain-mlogloss:0.57990\ttest-mlogloss:0.68409\n",
      "[0]\ttrain-mlogloss:1.33879\ttest-mlogloss:1.34123\n",
      "[20]\ttrain-mlogloss:0.87404\ttest-mlogloss:0.90458\n"
     ]
    },
    {
     "name": "stderr",
     "output_type": "stream",
     "text": [
      "/home/cmd/.local/lib/python3.8/site-packages/xgboost/core.py:101: UserWarning: ntree_limit is deprecated, use `iteration_range` or model slicing instead.\n",
      "  warnings.warn(\n"
     ]
    },
    {
     "name": "stdout",
     "output_type": "stream",
     "text": [
      "[40]\ttrain-mlogloss:0.73291\ttest-mlogloss:0.77990\n",
      "[60]\ttrain-mlogloss:0.67674\ttest-mlogloss:0.73596\n",
      "[80]\ttrain-mlogloss:0.64683\ttest-mlogloss:0.71776\n",
      "[100]\ttrain-mlogloss:0.62586\ttest-mlogloss:0.71128\n",
      "[120]\ttrain-mlogloss:0.60778\ttest-mlogloss:0.70943\n",
      "[140]\ttrain-mlogloss:0.59094\ttest-mlogloss:0.71026\n",
      "[160]\ttrain-mlogloss:0.57552\ttest-mlogloss:0.71108\n",
      "[173]\ttrain-mlogloss:0.56607\ttest-mlogloss:0.71218\n",
      "[0]\ttrain-mlogloss:1.33961\ttest-mlogloss:1.33916\n",
      "[20]\ttrain-mlogloss:0.87964\ttest-mlogloss:0.88480\n"
     ]
    },
    {
     "name": "stderr",
     "output_type": "stream",
     "text": [
      "/home/cmd/.local/lib/python3.8/site-packages/xgboost/core.py:101: UserWarning: ntree_limit is deprecated, use `iteration_range` or model slicing instead.\n",
      "  warnings.warn(\n"
     ]
    },
    {
     "name": "stdout",
     "output_type": "stream",
     "text": [
      "[40]\ttrain-mlogloss:0.73816\ttest-mlogloss:0.75577\n",
      "[60]\ttrain-mlogloss:0.68067\ttest-mlogloss:0.71572\n",
      "[80]\ttrain-mlogloss:0.64948\ttest-mlogloss:0.70064\n",
      "[100]\ttrain-mlogloss:0.62700\ttest-mlogloss:0.69567\n",
      "[120]\ttrain-mlogloss:0.60800\ttest-mlogloss:0.69424\n",
      "[140]\ttrain-mlogloss:0.59134\ttest-mlogloss:0.69538\n",
      "[160]\ttrain-mlogloss:0.57548\ttest-mlogloss:0.69717\n",
      "[176]\ttrain-mlogloss:0.56370\ttest-mlogloss:0.69777\n",
      "[0]\ttrain-mlogloss:1.33863\ttest-mlogloss:1.34254\n",
      "[20]\ttrain-mlogloss:0.87037\ttest-mlogloss:0.91303\n"
     ]
    },
    {
     "name": "stderr",
     "output_type": "stream",
     "text": [
      "/home/cmd/.local/lib/python3.8/site-packages/xgboost/core.py:101: UserWarning: ntree_limit is deprecated, use `iteration_range` or model slicing instead.\n",
      "  warnings.warn(\n"
     ]
    },
    {
     "name": "stdout",
     "output_type": "stream",
     "text": [
      "[40]\ttrain-mlogloss:0.72664\ttest-mlogloss:0.79220\n",
      "[60]\ttrain-mlogloss:0.66883\ttest-mlogloss:0.75490\n",
      "[80]\ttrain-mlogloss:0.63824\ttest-mlogloss:0.74223\n",
      "[100]\ttrain-mlogloss:0.61674\ttest-mlogloss:0.73861\n",
      "[120]\ttrain-mlogloss:0.59846\ttest-mlogloss:0.73677\n",
      "[140]\ttrain-mlogloss:0.58123\ttest-mlogloss:0.73745\n",
      "[160]\ttrain-mlogloss:0.56579\ttest-mlogloss:0.73846\n",
      "[170]\ttrain-mlogloss:0.55837\ttest-mlogloss:0.73949\n",
      "[0]\ttrain-mlogloss:1.34001\ttest-mlogloss:1.33965\n",
      "[20]\ttrain-mlogloss:0.88246\ttest-mlogloss:0.88076\n"
     ]
    },
    {
     "name": "stderr",
     "output_type": "stream",
     "text": [
      "/home/cmd/.local/lib/python3.8/site-packages/xgboost/core.py:101: UserWarning: ntree_limit is deprecated, use `iteration_range` or model slicing instead.\n",
      "  warnings.warn(\n"
     ]
    },
    {
     "name": "stdout",
     "output_type": "stream",
     "text": [
      "[40]\ttrain-mlogloss:0.74333\ttest-mlogloss:0.74525\n",
      "[60]\ttrain-mlogloss:0.68778\ttest-mlogloss:0.69814\n",
      "[80]\ttrain-mlogloss:0.65792\ttest-mlogloss:0.67674\n",
      "[100]\ttrain-mlogloss:0.63609\ttest-mlogloss:0.66822\n",
      "[120]\ttrain-mlogloss:0.61710\ttest-mlogloss:0.66571\n",
      "[140]\ttrain-mlogloss:0.60056\ttest-mlogloss:0.66442\n",
      "[160]\ttrain-mlogloss:0.58493\ttest-mlogloss:0.66468\n",
      "[180]\ttrain-mlogloss:0.57072\ttest-mlogloss:0.66598\n",
      "[194]\ttrain-mlogloss:0.56053\ttest-mlogloss:0.66720\n",
      "[0]\ttrain-mlogloss:0.54568\ttest-mlogloss:0.54171\n",
      "[20]\ttrain-mlogloss:0.28725\ttest-mlogloss:0.30571\n",
      "[40]\ttrain-mlogloss:0.24861\ttest-mlogloss:0.31125\n"
     ]
    },
    {
     "name": "stderr",
     "output_type": "stream",
     "text": [
      "/home/cmd/.local/lib/python3.8/site-packages/xgboost/core.py:101: UserWarning: ntree_limit is deprecated, use `iteration_range` or model slicing instead.\n",
      "  warnings.warn(\n"
     ]
    },
    {
     "name": "stdout",
     "output_type": "stream",
     "text": [
      "[60]\ttrain-mlogloss:0.21613\ttest-mlogloss:0.31818\n",
      "[65]\ttrain-mlogloss:0.20831\ttest-mlogloss:0.31821\n",
      "[0]\ttrain-mlogloss:0.54534\ttest-mlogloss:0.54226\n",
      "[20]\ttrain-mlogloss:0.28430\ttest-mlogloss:0.32661\n",
      "[40]\ttrain-mlogloss:0.24382\ttest-mlogloss:0.33162\n"
     ]
    },
    {
     "name": "stderr",
     "output_type": "stream",
     "text": [
      "/home/cmd/.local/lib/python3.8/site-packages/xgboost/core.py:101: UserWarning: ntree_limit is deprecated, use `iteration_range` or model slicing instead.\n",
      "  warnings.warn(\n"
     ]
    },
    {
     "name": "stdout",
     "output_type": "stream",
     "text": [
      "[60]\ttrain-mlogloss:0.21310\ttest-mlogloss:0.33652\n",
      "[0]\ttrain-mlogloss:0.54445\ttest-mlogloss:0.54527\n",
      "[20]\ttrain-mlogloss:0.28015\ttest-mlogloss:0.34189\n",
      "[40]\ttrain-mlogloss:0.24150\ttest-mlogloss:0.34773\n"
     ]
    },
    {
     "name": "stderr",
     "output_type": "stream",
     "text": [
      "/home/cmd/.local/lib/python3.8/site-packages/xgboost/core.py:101: UserWarning: ntree_limit is deprecated, use `iteration_range` or model slicing instead.\n",
      "  warnings.warn(\n"
     ]
    },
    {
     "name": "stdout",
     "output_type": "stream",
     "text": [
      "[60]\ttrain-mlogloss:0.20861\ttest-mlogloss:0.35333\n",
      "[64]\ttrain-mlogloss:0.20371\ttest-mlogloss:0.35325\n",
      "[0]\ttrain-mlogloss:0.53857\ttest-mlogloss:0.55761\n",
      "[20]\ttrain-mlogloss:0.26962\ttest-mlogloss:0.39467\n"
     ]
    },
    {
     "name": "stderr",
     "output_type": "stream",
     "text": [
      "/home/cmd/.local/lib/python3.8/site-packages/xgboost/core.py:101: UserWarning: ntree_limit is deprecated, use `iteration_range` or model slicing instead.\n",
      "  warnings.warn(\n"
     ]
    },
    {
     "name": "stdout",
     "output_type": "stream",
     "text": [
      "[40]\ttrain-mlogloss:0.23179\ttest-mlogloss:0.40714\n",
      "[58]\ttrain-mlogloss:0.20242\ttest-mlogloss:0.41737\n",
      "[0]\ttrain-mlogloss:0.54393\ttest-mlogloss:0.54574\n",
      "[20]\ttrain-mlogloss:0.28517\ttest-mlogloss:0.31980\n",
      "[40]\ttrain-mlogloss:0.24525\ttest-mlogloss:0.32576\n"
     ]
    },
    {
     "name": "stderr",
     "output_type": "stream",
     "text": [
      "/home/cmd/.local/lib/python3.8/site-packages/xgboost/core.py:101: UserWarning: ntree_limit is deprecated, use `iteration_range` or model slicing instead.\n",
      "  warnings.warn(\n"
     ]
    },
    {
     "name": "stdout",
     "output_type": "stream",
     "text": [
      "[60]\ttrain-mlogloss:0.21329\ttest-mlogloss:0.33687\n",
      "[63]\ttrain-mlogloss:0.20874\ttest-mlogloss:0.33611\n",
      "\n",
      "8\n",
      "13090\n"
     ]
    },
    {
     "name": "stderr",
     "output_type": "stream",
     "text": [
      "/home/cmd/.local/lib/python3.8/site-packages/xgboost/core.py:101: UserWarning: ntree_limit is deprecated, use `iteration_range` or model slicing instead.\n",
      "  warnings.warn(\n"
     ]
    },
    {
     "name": "stdout",
     "output_type": "stream",
     "text": [
      "Mean cv log loss:  0.8297535430535866\n",
      "Mean cv accuracy:  0.6929757343550448\n",
      "Mean cv log loss:  0.37034943168421924\n",
      "Mean cv accuracy:  0.8469987228607918\n",
      "Variance Captured  0.9807547294520416\n",
      "Mean cv log loss:  0.7729331878554879\n",
      "Mean cv accuracy:  0.680970625798212\n",
      "Mean cv log loss:  0.3973016707804543\n",
      "Mean cv accuracy:  0.8365261813537674\n",
      "Mean cv log loss:  0.7731124813672194\n",
      "Mean cv accuracy:  0.6950191570881226\n",
      "Mean cv log loss:  0.3802999156640644\n",
      "Mean cv accuracy:  0.8352490421455938\n",
      "Mean cv log loss:  0.8023265284832195\n",
      "Mean cv accuracy:  0.7003831417624522\n",
      "Mean cv log loss:  0.33755484586821893\n",
      "Mean cv accuracy:  0.8638569604086846\n",
      "Variance Captured:  0.973138868196565\n",
      "Mean cv log loss:  0.8632552496067685\n",
      "Mean cv accuracy:  0.6510855683269476\n",
      "Mean cv log loss:  0.45609341334760767\n",
      "Mean cv accuracy:  0.7971902937420179\n",
      "Mean cv log loss:  0.8603373214687362\n",
      "Mean cv accuracy:  0.6439335887611749\n",
      "Mean cv log loss:  0.4513247876886165\n",
      "Mean cv accuracy:  0.7925925925925925\n",
      "Mean cv log loss:  0.8416705495067637\n",
      "Mean cv accuracy:  0.7042145593869733\n",
      "Mean cv log loss:  0.4446192310244107\n",
      "Mean cv accuracy:  0.8480204342273308\n",
      "[0]\ttrain-mlogloss:1.33877\ttest-mlogloss:1.34240\n",
      "[20]\ttrain-mlogloss:0.87000\ttest-mlogloss:0.91536\n",
      "[40]\ttrain-mlogloss:0.72588\ttest-mlogloss:0.79878\n",
      "[60]\ttrain-mlogloss:0.66812\ttest-mlogloss:0.76430\n",
      "[80]\ttrain-mlogloss:0.63612\ttest-mlogloss:0.75274\n",
      "[100]\ttrain-mlogloss:0.61316\ttest-mlogloss:0.75015\n",
      "[120]\ttrain-mlogloss:0.59354\ttest-mlogloss:0.75041\n",
      "[140]\ttrain-mlogloss:0.57608\ttest-mlogloss:0.75241\n",
      "[160]\ttrain-mlogloss:0.56043\ttest-mlogloss:0.75474\n",
      "[164]\ttrain-mlogloss:0.55756\ttest-mlogloss:0.75489\n",
      "[0]\ttrain-mlogloss:1.33956\ttest-mlogloss:1.34117\n",
      "[20]\ttrain-mlogloss:0.87600\ttest-mlogloss:0.90009\n"
     ]
    },
    {
     "name": "stderr",
     "output_type": "stream",
     "text": [
      "/home/cmd/.local/lib/python3.8/site-packages/xgboost/core.py:101: UserWarning: ntree_limit is deprecated, use `iteration_range` or model slicing instead.\n",
      "  warnings.warn(\n"
     ]
    },
    {
     "name": "stdout",
     "output_type": "stream",
     "text": [
      "[40]\ttrain-mlogloss:0.73323\ttest-mlogloss:0.77293\n",
      "[60]\ttrain-mlogloss:0.67589\ttest-mlogloss:0.72948\n",
      "[80]\ttrain-mlogloss:0.64505\ttest-mlogloss:0.71326\n",
      "[100]\ttrain-mlogloss:0.62266\ttest-mlogloss:0.70711\n",
      "[120]\ttrain-mlogloss:0.60319\ttest-mlogloss:0.70588\n",
      "[140]\ttrain-mlogloss:0.58574\ttest-mlogloss:0.70525\n",
      "[160]\ttrain-mlogloss:0.56983\ttest-mlogloss:0.70504\n",
      "[180]\ttrain-mlogloss:0.55485\ttest-mlogloss:0.70636\n",
      "[187]\ttrain-mlogloss:0.54998\ttest-mlogloss:0.70677\n",
      "[0]\ttrain-mlogloss:1.34032\ttest-mlogloss:1.33915\n",
      "[20]\ttrain-mlogloss:0.88455\ttest-mlogloss:0.87689\n"
     ]
    },
    {
     "name": "stderr",
     "output_type": "stream",
     "text": [
      "/home/cmd/.local/lib/python3.8/site-packages/xgboost/core.py:101: UserWarning: ntree_limit is deprecated, use `iteration_range` or model slicing instead.\n",
      "  warnings.warn(\n"
     ]
    },
    {
     "name": "stdout",
     "output_type": "stream",
     "text": [
      "[40]\ttrain-mlogloss:0.74326\ttest-mlogloss:0.74052\n",
      "[60]\ttrain-mlogloss:0.68597\ttest-mlogloss:0.69501\n",
      "[80]\ttrain-mlogloss:0.65426\ttest-mlogloss:0.67856\n",
      "[100]\ttrain-mlogloss:0.63254\ttest-mlogloss:0.67202\n",
      "[120]\ttrain-mlogloss:0.61368\ttest-mlogloss:0.66994\n",
      "[140]\ttrain-mlogloss:0.59664\ttest-mlogloss:0.66987\n",
      "[160]\ttrain-mlogloss:0.58125\ttest-mlogloss:0.67139\n",
      "[164]\ttrain-mlogloss:0.57818\ttest-mlogloss:0.67217\n",
      "[0]\ttrain-mlogloss:1.33970\ttest-mlogloss:1.33982\n",
      "[20]\ttrain-mlogloss:0.87972\ttest-mlogloss:0.88935\n"
     ]
    },
    {
     "name": "stderr",
     "output_type": "stream",
     "text": [
      "/home/cmd/.local/lib/python3.8/site-packages/xgboost/core.py:101: UserWarning: ntree_limit is deprecated, use `iteration_range` or model slicing instead.\n",
      "  warnings.warn(\n"
     ]
    },
    {
     "name": "stdout",
     "output_type": "stream",
     "text": [
      "[40]\ttrain-mlogloss:0.73807\ttest-mlogloss:0.75924\n",
      "[60]\ttrain-mlogloss:0.68120\ttest-mlogloss:0.71532\n",
      "[80]\ttrain-mlogloss:0.65100\ttest-mlogloss:0.69732\n",
      "[100]\ttrain-mlogloss:0.62937\ttest-mlogloss:0.68929\n",
      "[120]\ttrain-mlogloss:0.61091\ttest-mlogloss:0.68553\n",
      "[140]\ttrain-mlogloss:0.59409\ttest-mlogloss:0.68376\n",
      "[160]\ttrain-mlogloss:0.57940\ttest-mlogloss:0.68281\n",
      "[180]\ttrain-mlogloss:0.56505\ttest-mlogloss:0.68238\n",
      "[200]\ttrain-mlogloss:0.55179\ttest-mlogloss:0.68221\n",
      "[220]\ttrain-mlogloss:0.53905\ttest-mlogloss:0.68281\n",
      "[240]\ttrain-mlogloss:0.52683\ttest-mlogloss:0.68326\n",
      "[245]\ttrain-mlogloss:0.52395\ttest-mlogloss:0.68336\n",
      "[0]\ttrain-mlogloss:1.33991\ttest-mlogloss:1.34033\n",
      "[20]\ttrain-mlogloss:0.88074\ttest-mlogloss:0.88771\n"
     ]
    },
    {
     "name": "stderr",
     "output_type": "stream",
     "text": [
      "/home/cmd/.local/lib/python3.8/site-packages/xgboost/core.py:101: UserWarning: ntree_limit is deprecated, use `iteration_range` or model slicing instead.\n",
      "  warnings.warn(\n"
     ]
    },
    {
     "name": "stdout",
     "output_type": "stream",
     "text": [
      "[40]\ttrain-mlogloss:0.74002\ttest-mlogloss:0.75392\n",
      "[60]\ttrain-mlogloss:0.68391\ttest-mlogloss:0.70720\n",
      "[80]\ttrain-mlogloss:0.65284\ttest-mlogloss:0.68746\n",
      "[100]\ttrain-mlogloss:0.63103\ttest-mlogloss:0.67988\n",
      "[120]\ttrain-mlogloss:0.61230\ttest-mlogloss:0.67656\n",
      "[140]\ttrain-mlogloss:0.59529\ttest-mlogloss:0.67560\n",
      "[160]\ttrain-mlogloss:0.57989\ttest-mlogloss:0.67702\n",
      "[180]\ttrain-mlogloss:0.56546\ttest-mlogloss:0.67736\n",
      "[187]\ttrain-mlogloss:0.56077\ttest-mlogloss:0.67734\n",
      "[0]\ttrain-mlogloss:0.54233\ttest-mlogloss:0.54951\n",
      "[20]\ttrain-mlogloss:0.28048\ttest-mlogloss:0.34067\n",
      "[40]\ttrain-mlogloss:0.24164\ttest-mlogloss:0.34676\n"
     ]
    },
    {
     "name": "stderr",
     "output_type": "stream",
     "text": [
      "/home/cmd/.local/lib/python3.8/site-packages/xgboost/core.py:101: UserWarning: ntree_limit is deprecated, use `iteration_range` or model slicing instead.\n",
      "  warnings.warn(\n"
     ]
    },
    {
     "name": "stdout",
     "output_type": "stream",
     "text": [
      "[60]\ttrain-mlogloss:0.20988\ttest-mlogloss:0.35527\n",
      "[78]\ttrain-mlogloss:0.18544\ttest-mlogloss:0.36258\n",
      "[0]\ttrain-mlogloss:0.54316\ttest-mlogloss:0.54818\n",
      "[20]\ttrain-mlogloss:0.27916\ttest-mlogloss:0.33473\n",
      "[40]\ttrain-mlogloss:0.23968\ttest-mlogloss:0.34313\n"
     ]
    },
    {
     "name": "stderr",
     "output_type": "stream",
     "text": [
      "/home/cmd/.local/lib/python3.8/site-packages/xgboost/core.py:101: UserWarning: ntree_limit is deprecated, use `iteration_range` or model slicing instead.\n",
      "  warnings.warn(\n"
     ]
    },
    {
     "name": "stdout",
     "output_type": "stream",
     "text": [
      "[60]\ttrain-mlogloss:0.20934\ttest-mlogloss:0.35309\n",
      "[67]\ttrain-mlogloss:0.19997\ttest-mlogloss:0.35466\n",
      "[0]\ttrain-mlogloss:0.54518\ttest-mlogloss:0.54191\n",
      "[20]\ttrain-mlogloss:0.28922\ttest-mlogloss:0.30768\n",
      "[40]\ttrain-mlogloss:0.24985\ttest-mlogloss:0.31665\n"
     ]
    },
    {
     "name": "stderr",
     "output_type": "stream",
     "text": [
      "/home/cmd/.local/lib/python3.8/site-packages/xgboost/core.py:101: UserWarning: ntree_limit is deprecated, use `iteration_range` or model slicing instead.\n",
      "  warnings.warn(\n"
     ]
    },
    {
     "name": "stdout",
     "output_type": "stream",
     "text": [
      "[60]\ttrain-mlogloss:0.21913\ttest-mlogloss:0.32306\n",
      "[65]\ttrain-mlogloss:0.21386\ttest-mlogloss:0.32564\n",
      "[0]\ttrain-mlogloss:0.54489\ttest-mlogloss:0.54438\n",
      "[20]\ttrain-mlogloss:0.28264\ttest-mlogloss:0.31737\n",
      "[40]\ttrain-mlogloss:0.24451\ttest-mlogloss:0.32397\n"
     ]
    },
    {
     "name": "stderr",
     "output_type": "stream",
     "text": [
      "/home/cmd/.local/lib/python3.8/site-packages/xgboost/core.py:101: UserWarning: ntree_limit is deprecated, use `iteration_range` or model slicing instead.\n",
      "  warnings.warn(\n"
     ]
    },
    {
     "name": "stdout",
     "output_type": "stream",
     "text": [
      "[60]\ttrain-mlogloss:0.21273\ttest-mlogloss:0.33166\n",
      "[69]\ttrain-mlogloss:0.20122\ttest-mlogloss:0.33527\n",
      "[0]\ttrain-mlogloss:0.54215\ttest-mlogloss:0.54670\n",
      "[20]\ttrain-mlogloss:0.27997\ttest-mlogloss:0.33523\n",
      "[40]\ttrain-mlogloss:0.23927\ttest-mlogloss:0.34552\n"
     ]
    },
    {
     "name": "stderr",
     "output_type": "stream",
     "text": [
      "/home/cmd/.local/lib/python3.8/site-packages/xgboost/core.py:101: UserWarning: ntree_limit is deprecated, use `iteration_range` or model slicing instead.\n",
      "  warnings.warn(\n"
     ]
    },
    {
     "name": "stdout",
     "output_type": "stream",
     "text": [
      "[60]\ttrain-mlogloss:0.20945\ttest-mlogloss:0.35728\n",
      "[75]\ttrain-mlogloss:0.18853\ttest-mlogloss:0.35604\n",
      "\n",
      "9\n",
      "44527\n"
     ]
    },
    {
     "name": "stderr",
     "output_type": "stream",
     "text": [
      "/home/cmd/.local/lib/python3.8/site-packages/xgboost/core.py:101: UserWarning: ntree_limit is deprecated, use `iteration_range` or model slicing instead.\n",
      "  warnings.warn(\n"
     ]
    },
    {
     "name": "stdout",
     "output_type": "stream",
     "text": [
      "Mean cv log loss:  0.8383571141767338\n",
      "Mean cv accuracy:  0.6842911877394636\n",
      "Mean cv log loss:  0.3740770616300214\n",
      "Mean cv accuracy:  0.844955300127714\n",
      "Variance Captured  0.9807547294520417\n",
      "Mean cv log loss:  0.7785481866507163\n",
      "Mean cv accuracy:  0.6771392081736909\n",
      "Mean cv log loss:  0.39325954518295614\n",
      "Mean cv accuracy:  0.8316730523627076\n",
      "Mean cv log loss:  0.7492134581698864\n",
      "Mean cv accuracy:  0.685823754789272\n",
      "Mean cv log loss:  0.3769605986947079\n",
      "Mean cv accuracy:  0.8334610472541506\n",
      "Mean cv log loss:  0.8032656903191906\n",
      "Mean cv accuracy:  0.7090676883780332\n",
      "Mean cv log loss:  0.35116646647942873\n",
      "Mean cv accuracy:  0.8521072796934867\n",
      "Variance Captured:  0.973138868196565\n",
      "Mean cv log loss:  0.8696067599067344\n",
      "Mean cv accuracy:  0.6408684546615582\n",
      "Mean cv log loss:  0.45753535448621874\n",
      "Mean cv accuracy:  0.782375478927203\n",
      "Mean cv log loss:  0.8527278493386437\n",
      "Mean cv accuracy:  0.6446998722860793\n",
      "Mean cv log loss:  0.4421941221783655\n",
      "Mean cv accuracy:  0.7931034482758621\n",
      "Mean cv log loss:  0.8336192849798841\n",
      "Mean cv accuracy:  0.7019157088122606\n",
      "Mean cv log loss:  0.4364595447415165\n",
      "Mean cv accuracy:  0.8521072796934865\n",
      "[0]\ttrain-mlogloss:1.33975\ttest-mlogloss:1.33981\n",
      "[20]\ttrain-mlogloss:0.88190\ttest-mlogloss:0.88993\n",
      "[40]\ttrain-mlogloss:0.73949\ttest-mlogloss:0.76020\n",
      "[60]\ttrain-mlogloss:0.68215\ttest-mlogloss:0.71852\n",
      "[80]\ttrain-mlogloss:0.65097\ttest-mlogloss:0.70288\n",
      "[100]\ttrain-mlogloss:0.62826\ttest-mlogloss:0.69690\n",
      "[120]\ttrain-mlogloss:0.60920\ttest-mlogloss:0.69725\n",
      "[140]\ttrain-mlogloss:0.59213\ttest-mlogloss:0.69983\n",
      "[156]\ttrain-mlogloss:0.57961\ttest-mlogloss:0.70036\n",
      "[0]\ttrain-mlogloss:1.33973\ttest-mlogloss:1.34006\n",
      "[20]\ttrain-mlogloss:0.88101\ttest-mlogloss:0.88882\n"
     ]
    },
    {
     "name": "stderr",
     "output_type": "stream",
     "text": [
      "/home/cmd/.local/lib/python3.8/site-packages/xgboost/core.py:101: UserWarning: ntree_limit is deprecated, use `iteration_range` or model slicing instead.\n",
      "  warnings.warn(\n"
     ]
    },
    {
     "name": "stdout",
     "output_type": "stream",
     "text": [
      "[40]\ttrain-mlogloss:0.73898\ttest-mlogloss:0.75923\n",
      "[60]\ttrain-mlogloss:0.68213\ttest-mlogloss:0.71789\n",
      "[80]\ttrain-mlogloss:0.65176\ttest-mlogloss:0.70165\n",
      "[100]\ttrain-mlogloss:0.62938\ttest-mlogloss:0.69381\n",
      "[120]\ttrain-mlogloss:0.61022\ttest-mlogloss:0.69089\n",
      "[140]\ttrain-mlogloss:0.59278\ttest-mlogloss:0.68967\n",
      "[160]\ttrain-mlogloss:0.57742\ttest-mlogloss:0.68944\n",
      "[180]\ttrain-mlogloss:0.56256\ttest-mlogloss:0.68942\n",
      "[200]\ttrain-mlogloss:0.54886\ttest-mlogloss:0.68965\n",
      "[220]\ttrain-mlogloss:0.53621\ttest-mlogloss:0.68960\n",
      "[233]\ttrain-mlogloss:0.52817\ttest-mlogloss:0.69007\n",
      "[0]\ttrain-mlogloss:1.34026\ttest-mlogloss:1.34003\n",
      "[20]\ttrain-mlogloss:0.88693\ttest-mlogloss:0.88630\n"
     ]
    },
    {
     "name": "stderr",
     "output_type": "stream",
     "text": [
      "/home/cmd/.local/lib/python3.8/site-packages/xgboost/core.py:101: UserWarning: ntree_limit is deprecated, use `iteration_range` or model slicing instead.\n",
      "  warnings.warn(\n"
     ]
    },
    {
     "name": "stdout",
     "output_type": "stream",
     "text": [
      "[40]\ttrain-mlogloss:0.74673\ttest-mlogloss:0.74685\n",
      "[60]\ttrain-mlogloss:0.69080\ttest-mlogloss:0.69806\n",
      "[80]\ttrain-mlogloss:0.66013\ttest-mlogloss:0.68133\n",
      "[100]\ttrain-mlogloss:0.63812\ttest-mlogloss:0.67356\n",
      "[120]\ttrain-mlogloss:0.61992\ttest-mlogloss:0.67148\n",
      "[140]\ttrain-mlogloss:0.60347\ttest-mlogloss:0.67089\n",
      "[160]\ttrain-mlogloss:0.58840\ttest-mlogloss:0.67135\n",
      "[180]\ttrain-mlogloss:0.57421\ttest-mlogloss:0.67163\n",
      "[185]\ttrain-mlogloss:0.57068\ttest-mlogloss:0.67202\n",
      "[0]\ttrain-mlogloss:1.33976\ttest-mlogloss:1.34085\n",
      "[20]\ttrain-mlogloss:0.88385\ttest-mlogloss:0.89120\n"
     ]
    },
    {
     "name": "stderr",
     "output_type": "stream",
     "text": [
      "/home/cmd/.local/lib/python3.8/site-packages/xgboost/core.py:101: UserWarning: ntree_limit is deprecated, use `iteration_range` or model slicing instead.\n",
      "  warnings.warn(\n"
     ]
    },
    {
     "name": "stdout",
     "output_type": "stream",
     "text": [
      "[40]\ttrain-mlogloss:0.74384\ttest-mlogloss:0.75429\n",
      "[60]\ttrain-mlogloss:0.68825\ttest-mlogloss:0.70659\n",
      "[80]\ttrain-mlogloss:0.65780\ttest-mlogloss:0.68834\n",
      "[100]\ttrain-mlogloss:0.63625\ttest-mlogloss:0.68056\n",
      "[120]\ttrain-mlogloss:0.61677\ttest-mlogloss:0.67800\n",
      "[140]\ttrain-mlogloss:0.59893\ttest-mlogloss:0.67799\n",
      "[160]\ttrain-mlogloss:0.58301\ttest-mlogloss:0.67802\n",
      "[179]\ttrain-mlogloss:0.56891\ttest-mlogloss:0.67896\n",
      "[0]\ttrain-mlogloss:1.33849\ttest-mlogloss:1.34279\n",
      "[20]\ttrain-mlogloss:0.86964\ttest-mlogloss:0.92500\n"
     ]
    },
    {
     "name": "stderr",
     "output_type": "stream",
     "text": [
      "/home/cmd/.local/lib/python3.8/site-packages/xgboost/core.py:101: UserWarning: ntree_limit is deprecated, use `iteration_range` or model slicing instead.\n",
      "  warnings.warn(\n"
     ]
    },
    {
     "name": "stdout",
     "output_type": "stream",
     "text": [
      "[40]\ttrain-mlogloss:0.72482\ttest-mlogloss:0.80988\n",
      "[60]\ttrain-mlogloss:0.66680\ttest-mlogloss:0.77614\n",
      "[80]\ttrain-mlogloss:0.63644\ttest-mlogloss:0.76825\n",
      "[100]\ttrain-mlogloss:0.61587\ttest-mlogloss:0.76333\n",
      "[120]\ttrain-mlogloss:0.59721\ttest-mlogloss:0.76224\n",
      "[140]\ttrain-mlogloss:0.58091\ttest-mlogloss:0.76307\n",
      "[160]\ttrain-mlogloss:0.56614\ttest-mlogloss:0.76570\n",
      "[167]\ttrain-mlogloss:0.56111\ttest-mlogloss:0.76664\n",
      "[0]\ttrain-mlogloss:0.54597\ttest-mlogloss:0.54927\n",
      "[20]\ttrain-mlogloss:0.28446\ttest-mlogloss:0.33757\n",
      "[40]\ttrain-mlogloss:0.24562\ttest-mlogloss:0.34628\n"
     ]
    },
    {
     "name": "stderr",
     "output_type": "stream",
     "text": [
      "/home/cmd/.local/lib/python3.8/site-packages/xgboost/core.py:101: UserWarning: ntree_limit is deprecated, use `iteration_range` or model slicing instead.\n",
      "  warnings.warn(\n"
     ]
    },
    {
     "name": "stdout",
     "output_type": "stream",
     "text": [
      "[59]\ttrain-mlogloss:0.21432\ttest-mlogloss:0.35033\n",
      "[0]\ttrain-mlogloss:0.54734\ttest-mlogloss:0.54870\n",
      "[20]\ttrain-mlogloss:0.28810\ttest-mlogloss:0.32749\n",
      "[40]\ttrain-mlogloss:0.24788\ttest-mlogloss:0.32500\n"
     ]
    },
    {
     "name": "stderr",
     "output_type": "stream",
     "text": [
      "/home/cmd/.local/lib/python3.8/site-packages/xgboost/core.py:101: UserWarning: ntree_limit is deprecated, use `iteration_range` or model slicing instead.\n",
      "  warnings.warn(\n"
     ]
    },
    {
     "name": "stdout",
     "output_type": "stream",
     "text": [
      "[59]\ttrain-mlogloss:0.21645\ttest-mlogloss:0.33278\n",
      "[0]\ttrain-mlogloss:0.54606\ttest-mlogloss:0.55359\n",
      "[20]\ttrain-mlogloss:0.28529\ttest-mlogloss:0.34558\n",
      "[40]\ttrain-mlogloss:0.24667\ttest-mlogloss:0.35345\n"
     ]
    },
    {
     "name": "stderr",
     "output_type": "stream",
     "text": [
      "/home/cmd/.local/lib/python3.8/site-packages/xgboost/core.py:101: UserWarning: ntree_limit is deprecated, use `iteration_range` or model slicing instead.\n",
      "  warnings.warn(\n"
     ]
    },
    {
     "name": "stdout",
     "output_type": "stream",
     "text": [
      "[60]\ttrain-mlogloss:0.21509\ttest-mlogloss:0.35850\n",
      "[62]\ttrain-mlogloss:0.21189\ttest-mlogloss:0.35891\n",
      "[0]\ttrain-mlogloss:0.55027\ttest-mlogloss:0.54652\n",
      "[20]\ttrain-mlogloss:0.29562\ttest-mlogloss:0.30535\n",
      "[40]\ttrain-mlogloss:0.25514\ttest-mlogloss:0.30653\n"
     ]
    },
    {
     "name": "stderr",
     "output_type": "stream",
     "text": [
      "/home/cmd/.local/lib/python3.8/site-packages/xgboost/core.py:101: UserWarning: ntree_limit is deprecated, use `iteration_range` or model slicing instead.\n",
      "  warnings.warn(\n"
     ]
    },
    {
     "name": "stdout",
     "output_type": "stream",
     "text": [
      "[60]\ttrain-mlogloss:0.22344\ttest-mlogloss:0.30455\n",
      "[80]\ttrain-mlogloss:0.19847\ttest-mlogloss:0.31065\n",
      "[82]\ttrain-mlogloss:0.19594\ttest-mlogloss:0.31056\n",
      "[0]\ttrain-mlogloss:0.54324\ttest-mlogloss:0.56059\n",
      "[20]\ttrain-mlogloss:0.27732\ttest-mlogloss:0.37829\n",
      "[40]\ttrain-mlogloss:0.23721\ttest-mlogloss:0.39216\n"
     ]
    },
    {
     "name": "stderr",
     "output_type": "stream",
     "text": [
      "/home/cmd/.local/lib/python3.8/site-packages/xgboost/core.py:101: UserWarning: ntree_limit is deprecated, use `iteration_range` or model slicing instead.\n",
      "  warnings.warn(\n"
     ]
    },
    {
     "name": "stdout",
     "output_type": "stream",
     "text": [
      "[60]\ttrain-mlogloss:0.20557\ttest-mlogloss:0.39656\n",
      "[64]\ttrain-mlogloss:0.19945\ttest-mlogloss:0.40058\n",
      "\n",
      "10\n",
      "96143\n"
     ]
    },
    {
     "name": "stderr",
     "output_type": "stream",
     "text": [
      "/home/cmd/.local/lib/python3.8/site-packages/xgboost/core.py:101: UserWarning: ntree_limit is deprecated, use `iteration_range` or model slicing instead.\n",
      "  warnings.warn(\n"
     ]
    },
    {
     "name": "stdout",
     "output_type": "stream",
     "text": [
      "Mean cv log loss:  0.8327785715478454\n",
      "Mean cv accuracy:  0.6878671775223499\n",
      "Mean cv log loss:  0.3688061682838676\n",
      "Mean cv accuracy:  0.8441890166028096\n",
      "Variance Captured  0.980754729452042\n",
      "Mean cv log loss:  0.7692542582662951\n",
      "Mean cv accuracy:  0.686845466155811\n",
      "Mean cv log loss:  0.3977077326747219\n",
      "Mean cv accuracy:  0.8324393358876117\n",
      "Mean cv log loss:  0.7481986038465976\n",
      "Mean cv accuracy:  0.69272030651341\n",
      "Mean cv log loss:  0.3817982411019788\n",
      "Mean cv accuracy:  0.8413793103448276\n",
      "Mean cv log loss:  0.797221886068973\n",
      "Mean cv accuracy:  0.7093231162196678\n",
      "Mean cv log loss:  0.33780477829055433\n",
      "Mean cv accuracy:  0.8597701149425288\n",
      "Variance Captured:  0.973138868196565\n",
      "Mean cv log loss:  0.8579803768081959\n",
      "Mean cv accuracy:  0.6544061302681993\n",
      "Mean cv log loss:  0.45044950106268206\n",
      "Mean cv accuracy:  0.7966794380587483\n",
      "Mean cv log loss:  0.8493304810236989\n",
      "Mean cv accuracy:  0.6492975734355044\n",
      "Mean cv log loss:  0.44073273618923936\n",
      "Mean cv accuracy:  0.8020434227330778\n",
      "Mean cv log loss:  0.8267729606880551\n",
      "Mean cv accuracy:  0.7057471264367816\n",
      "Mean cv log loss:  0.42876484855267033\n",
      "Mean cv accuracy:  0.854661558109834\n",
      "[0]\ttrain-mlogloss:1.33954\ttest-mlogloss:1.34016\n",
      "[20]\ttrain-mlogloss:0.87297\ttest-mlogloss:0.89173\n",
      "[40]\ttrain-mlogloss:0.72836\ttest-mlogloss:0.76212\n",
      "[60]\ttrain-mlogloss:0.66958\ttest-mlogloss:0.71892\n",
      "[80]\ttrain-mlogloss:0.63932\ttest-mlogloss:0.70243\n",
      "[100]\ttrain-mlogloss:0.61836\ttest-mlogloss:0.69493\n",
      "[120]\ttrain-mlogloss:0.60037\ttest-mlogloss:0.69300\n",
      "[140]\ttrain-mlogloss:0.58463\ttest-mlogloss:0.69257\n",
      "[160]\ttrain-mlogloss:0.56999\ttest-mlogloss:0.69374\n",
      "[180]\ttrain-mlogloss:0.55714\ttest-mlogloss:0.69424\n",
      "[186]\ttrain-mlogloss:0.55311\ttest-mlogloss:0.69474\n",
      "[0]\ttrain-mlogloss:1.33950\ttest-mlogloss:1.34142\n",
      "[20]\ttrain-mlogloss:0.87529\ttest-mlogloss:0.89102\n"
     ]
    },
    {
     "name": "stderr",
     "output_type": "stream",
     "text": [
      "/home/cmd/.local/lib/python3.8/site-packages/xgboost/core.py:101: UserWarning: ntree_limit is deprecated, use `iteration_range` or model slicing instead.\n",
      "  warnings.warn(\n"
     ]
    },
    {
     "name": "stdout",
     "output_type": "stream",
     "text": [
      "[40]\ttrain-mlogloss:0.73185\ttest-mlogloss:0.75511\n",
      "[60]\ttrain-mlogloss:0.67354\ttest-mlogloss:0.70870\n",
      "[80]\ttrain-mlogloss:0.64314\ttest-mlogloss:0.69254\n",
      "[100]\ttrain-mlogloss:0.62023\ttest-mlogloss:0.68606\n",
      "[120]\ttrain-mlogloss:0.60105\ttest-mlogloss:0.68499\n",
      "[140]\ttrain-mlogloss:0.58498\ttest-mlogloss:0.68530\n",
      "[160]\ttrain-mlogloss:0.57007\ttest-mlogloss:0.68592\n",
      "[176]\ttrain-mlogloss:0.55883\ttest-mlogloss:0.68665\n",
      "[0]\ttrain-mlogloss:1.33939\ttest-mlogloss:1.34099\n",
      "[20]\ttrain-mlogloss:0.87301\ttest-mlogloss:0.89173\n"
     ]
    },
    {
     "name": "stderr",
     "output_type": "stream",
     "text": [
      "/home/cmd/.local/lib/python3.8/site-packages/xgboost/core.py:101: UserWarning: ntree_limit is deprecated, use `iteration_range` or model slicing instead.\n",
      "  warnings.warn(\n"
     ]
    },
    {
     "name": "stdout",
     "output_type": "stream",
     "text": [
      "[40]\ttrain-mlogloss:0.72980\ttest-mlogloss:0.76000\n",
      "[60]\ttrain-mlogloss:0.67208\ttest-mlogloss:0.71522\n",
      "[80]\ttrain-mlogloss:0.64209\ttest-mlogloss:0.70042\n",
      "[100]\ttrain-mlogloss:0.62073\ttest-mlogloss:0.69528\n",
      "[120]\ttrain-mlogloss:0.60276\ttest-mlogloss:0.69407\n",
      "[140]\ttrain-mlogloss:0.58734\ttest-mlogloss:0.69457\n",
      "[160]\ttrain-mlogloss:0.57236\ttest-mlogloss:0.69546\n",
      "[167]\ttrain-mlogloss:0.56752\ttest-mlogloss:0.69606\n",
      "[0]\ttrain-mlogloss:1.33931\ttest-mlogloss:1.34116\n",
      "[20]\ttrain-mlogloss:0.87191\ttest-mlogloss:0.89775\n"
     ]
    },
    {
     "name": "stderr",
     "output_type": "stream",
     "text": [
      "/home/cmd/.local/lib/python3.8/site-packages/xgboost/core.py:101: UserWarning: ntree_limit is deprecated, use `iteration_range` or model slicing instead.\n",
      "  warnings.warn(\n"
     ]
    },
    {
     "name": "stdout",
     "output_type": "stream",
     "text": [
      "[40]\ttrain-mlogloss:0.72681\ttest-mlogloss:0.76944\n",
      "[60]\ttrain-mlogloss:0.66751\ttest-mlogloss:0.72830\n",
      "[80]\ttrain-mlogloss:0.63599\ttest-mlogloss:0.71581\n",
      "[100]\ttrain-mlogloss:0.61396\ttest-mlogloss:0.71135\n",
      "[120]\ttrain-mlogloss:0.59602\ttest-mlogloss:0.71100\n",
      "[140]\ttrain-mlogloss:0.57972\ttest-mlogloss:0.71284\n",
      "[155]\ttrain-mlogloss:0.56855\ttest-mlogloss:0.71388\n",
      "[0]\ttrain-mlogloss:1.33947\ttest-mlogloss:1.34035\n",
      "[20]\ttrain-mlogloss:0.87524\ttest-mlogloss:0.88438\n"
     ]
    },
    {
     "name": "stderr",
     "output_type": "stream",
     "text": [
      "/home/cmd/.local/lib/python3.8/site-packages/xgboost/core.py:101: UserWarning: ntree_limit is deprecated, use `iteration_range` or model slicing instead.\n",
      "  warnings.warn(\n"
     ]
    },
    {
     "name": "stdout",
     "output_type": "stream",
     "text": [
      "[40]\ttrain-mlogloss:0.73143\ttest-mlogloss:0.75097\n",
      "[60]\ttrain-mlogloss:0.67226\ttest-mlogloss:0.70760\n",
      "[80]\ttrain-mlogloss:0.64179\ttest-mlogloss:0.69288\n",
      "[100]\ttrain-mlogloss:0.62091\ttest-mlogloss:0.68703\n",
      "[120]\ttrain-mlogloss:0.60310\ttest-mlogloss:0.68576\n",
      "[140]\ttrain-mlogloss:0.58728\ttest-mlogloss:0.68598\n",
      "[160]\ttrain-mlogloss:0.57223\ttest-mlogloss:0.68755\n",
      "[177]\ttrain-mlogloss:0.56002\ttest-mlogloss:0.68820\n",
      "[0]\ttrain-mlogloss:0.54431\ttest-mlogloss:0.54311\n",
      "[20]\ttrain-mlogloss:0.28205\ttest-mlogloss:0.32438\n",
      "[40]\ttrain-mlogloss:0.24401\ttest-mlogloss:0.32925\n"
     ]
    },
    {
     "name": "stderr",
     "output_type": "stream",
     "text": [
      "/home/cmd/.local/lib/python3.8/site-packages/xgboost/core.py:101: UserWarning: ntree_limit is deprecated, use `iteration_range` or model slicing instead.\n",
      "  warnings.warn(\n"
     ]
    },
    {
     "name": "stdout",
     "output_type": "stream",
     "text": [
      "[60]\ttrain-mlogloss:0.21829\ttest-mlogloss:0.33288\n",
      "[66]\ttrain-mlogloss:0.20957\ttest-mlogloss:0.33389\n",
      "[0]\ttrain-mlogloss:0.54518\ttest-mlogloss:0.54718\n",
      "[20]\ttrain-mlogloss:0.28906\ttest-mlogloss:0.30910\n",
      "[40]\ttrain-mlogloss:0.24734\ttest-mlogloss:0.32267\n"
     ]
    },
    {
     "name": "stderr",
     "output_type": "stream",
     "text": [
      "/home/cmd/.local/lib/python3.8/site-packages/xgboost/core.py:101: UserWarning: ntree_limit is deprecated, use `iteration_range` or model slicing instead.\n",
      "  warnings.warn(\n"
     ]
    },
    {
     "name": "stdout",
     "output_type": "stream",
     "text": [
      "[60]\ttrain-mlogloss:0.21563\ttest-mlogloss:0.31790\n",
      "[61]\ttrain-mlogloss:0.21431\ttest-mlogloss:0.31873\n",
      "[0]\ttrain-mlogloss:0.54346\ttest-mlogloss:0.54407\n",
      "[20]\ttrain-mlogloss:0.28100\ttest-mlogloss:0.32555\n",
      "[40]\ttrain-mlogloss:0.24195\ttest-mlogloss:0.33055\n"
     ]
    },
    {
     "name": "stderr",
     "output_type": "stream",
     "text": [
      "/home/cmd/.local/lib/python3.8/site-packages/xgboost/core.py:101: UserWarning: ntree_limit is deprecated, use `iteration_range` or model slicing instead.\n",
      "  warnings.warn(\n"
     ]
    },
    {
     "name": "stdout",
     "output_type": "stream",
     "text": [
      "[60]\ttrain-mlogloss:0.21260\ttest-mlogloss:0.33693\n",
      "[65]\ttrain-mlogloss:0.20441\ttest-mlogloss:0.33947\n",
      "[0]\ttrain-mlogloss:0.54087\ttest-mlogloss:0.55477\n",
      "[20]\ttrain-mlogloss:0.27836\ttest-mlogloss:0.34836\n",
      "[40]\ttrain-mlogloss:0.23830\ttest-mlogloss:0.35635\n"
     ]
    },
    {
     "name": "stderr",
     "output_type": "stream",
     "text": [
      "/home/cmd/.local/lib/python3.8/site-packages/xgboost/core.py:101: UserWarning: ntree_limit is deprecated, use `iteration_range` or model slicing instead.\n",
      "  warnings.warn(\n"
     ]
    },
    {
     "name": "stdout",
     "output_type": "stream",
     "text": [
      "[60]\ttrain-mlogloss:0.21051\ttest-mlogloss:0.35996\n",
      "[73]\ttrain-mlogloss:0.19404\ttest-mlogloss:0.35945\n",
      "[0]\ttrain-mlogloss:0.54419\ttest-mlogloss:0.54455\n",
      "[20]\ttrain-mlogloss:0.28153\ttest-mlogloss:0.33253\n",
      "[40]\ttrain-mlogloss:0.24287\ttest-mlogloss:0.34143\n"
     ]
    },
    {
     "name": "stderr",
     "output_type": "stream",
     "text": [
      "/home/cmd/.local/lib/python3.8/site-packages/xgboost/core.py:101: UserWarning: ntree_limit is deprecated, use `iteration_range` or model slicing instead.\n",
      "  warnings.warn(\n"
     ]
    },
    {
     "name": "stdout",
     "output_type": "stream",
     "text": [
      "[60]\ttrain-mlogloss:0.21126\ttest-mlogloss:0.35147\n",
      "[62]\ttrain-mlogloss:0.20871\ttest-mlogloss:0.35284\n",
      "\n",
      "11\n",
      "96783\n"
     ]
    },
    {
     "name": "stderr",
     "output_type": "stream",
     "text": [
      "/home/cmd/.local/lib/python3.8/site-packages/xgboost/core.py:101: UserWarning: ntree_limit is deprecated, use `iteration_range` or model slicing instead.\n",
      "  warnings.warn(\n"
     ]
    },
    {
     "name": "stdout",
     "output_type": "stream",
     "text": [
      "Mean cv log loss:  0.8307669236752112\n",
      "Mean cv accuracy:  0.6883780332056194\n",
      "Mean cv log loss:  0.3703108509923839\n",
      "Mean cv accuracy:  0.849808429118774\n",
      "Variance Captured  0.9807547294520418\n",
      "Mean cv log loss:  0.7675893444846505\n",
      "Mean cv accuracy:  0.6786717752234994\n",
      "Mean cv log loss:  0.3958235741215753\n",
      "Mean cv accuracy:  0.8355044699872286\n",
      "Mean cv log loss:  0.7618469379924314\n",
      "Mean cv accuracy:  0.6932311621966795\n",
      "Mean cv log loss:  0.3791322349457548\n",
      "Mean cv accuracy:  0.8352490421455938\n",
      "Mean cv log loss:  0.8005920963556008\n",
      "Mean cv accuracy:  0.7065134099616858\n",
      "Mean cv log loss:  0.3410234931874155\n",
      "Mean cv accuracy:  0.8602809706257982\n",
      "Variance Captured:  0.973138868196565\n",
      "Mean cv log loss:  0.8481036683849649\n",
      "Mean cv accuracy:  0.6549169859514687\n",
      "Mean cv log loss:  0.4469402635097229\n",
      "Mean cv accuracy:  0.8030651340996167\n",
      "Mean cv log loss:  0.847683006587493\n",
      "Mean cv accuracy:  0.6533844189016602\n",
      "Mean cv log loss:  0.4409518796933744\n",
      "Mean cv accuracy:  0.8084291187739463\n",
      "Mean cv log loss:  0.8492955563813653\n",
      "Mean cv accuracy:  0.6973180076628352\n",
      "Mean cv log loss:  0.45007195808915534\n",
      "Mean cv accuracy:  0.8418901660280971\n",
      "[0]\ttrain-mlogloss:1.34070\ttest-mlogloss:1.34085\n",
      "[20]\ttrain-mlogloss:0.87684\ttest-mlogloss:0.88129\n",
      "[40]\ttrain-mlogloss:0.73480\ttest-mlogloss:0.75078\n",
      "[60]\ttrain-mlogloss:0.67751\ttest-mlogloss:0.71005\n",
      "[80]\ttrain-mlogloss:0.64587\ttest-mlogloss:0.69565\n",
      "[100]\ttrain-mlogloss:0.62327\ttest-mlogloss:0.69168\n",
      "[120]\ttrain-mlogloss:0.60410\ttest-mlogloss:0.69147\n",
      "[140]\ttrain-mlogloss:0.58719\ttest-mlogloss:0.69213\n",
      "[160]\ttrain-mlogloss:0.57215\ttest-mlogloss:0.69343\n",
      "[166]\ttrain-mlogloss:0.56769\ttest-mlogloss:0.69396\n",
      "[0]\ttrain-mlogloss:1.34061\ttest-mlogloss:1.34083\n",
      "[20]\ttrain-mlogloss:0.87745\ttest-mlogloss:0.88519\n"
     ]
    },
    {
     "name": "stderr",
     "output_type": "stream",
     "text": [
      "/home/cmd/.local/lib/python3.8/site-packages/xgboost/core.py:101: UserWarning: ntree_limit is deprecated, use `iteration_range` or model slicing instead.\n",
      "  warnings.warn(\n"
     ]
    },
    {
     "name": "stdout",
     "output_type": "stream",
     "text": [
      "[40]\ttrain-mlogloss:0.73555\ttest-mlogloss:0.75275\n",
      "[60]\ttrain-mlogloss:0.67848\ttest-mlogloss:0.71024\n",
      "[80]\ttrain-mlogloss:0.64796\ttest-mlogloss:0.69440\n",
      "[100]\ttrain-mlogloss:0.62671\ttest-mlogloss:0.68817\n",
      "[120]\ttrain-mlogloss:0.60751\ttest-mlogloss:0.68791\n",
      "[140]\ttrain-mlogloss:0.59026\ttest-mlogloss:0.68813\n",
      "[160]\ttrain-mlogloss:0.57455\ttest-mlogloss:0.68854\n",
      "[177]\ttrain-mlogloss:0.56252\ttest-mlogloss:0.68978\n",
      "[0]\ttrain-mlogloss:1.34053\ttest-mlogloss:1.34205\n",
      "[20]\ttrain-mlogloss:0.87555\ttest-mlogloss:0.89607\n"
     ]
    },
    {
     "name": "stderr",
     "output_type": "stream",
     "text": [
      "/home/cmd/.local/lib/python3.8/site-packages/xgboost/core.py:101: UserWarning: ntree_limit is deprecated, use `iteration_range` or model slicing instead.\n",
      "  warnings.warn(\n"
     ]
    },
    {
     "name": "stdout",
     "output_type": "stream",
     "text": [
      "[40]\ttrain-mlogloss:0.73292\ttest-mlogloss:0.76261\n",
      "[60]\ttrain-mlogloss:0.67630\ttest-mlogloss:0.71667\n",
      "[80]\ttrain-mlogloss:0.64604\ttest-mlogloss:0.69818\n",
      "[100]\ttrain-mlogloss:0.62445\ttest-mlogloss:0.69043\n",
      "[120]\ttrain-mlogloss:0.60481\ttest-mlogloss:0.68749\n",
      "[140]\ttrain-mlogloss:0.58759\ttest-mlogloss:0.68658\n",
      "[160]\ttrain-mlogloss:0.57179\ttest-mlogloss:0.68812\n",
      "[180]\ttrain-mlogloss:0.55752\ttest-mlogloss:0.68912\n",
      "[190]\ttrain-mlogloss:0.55063\ttest-mlogloss:0.68950\n",
      "[0]\ttrain-mlogloss:1.34127\ttest-mlogloss:1.34108\n",
      "[20]\ttrain-mlogloss:0.88170\ttest-mlogloss:0.87837\n"
     ]
    },
    {
     "name": "stderr",
     "output_type": "stream",
     "text": [
      "/home/cmd/.local/lib/python3.8/site-packages/xgboost/core.py:101: UserWarning: ntree_limit is deprecated, use `iteration_range` or model slicing instead.\n",
      "  warnings.warn(\n"
     ]
    },
    {
     "name": "stdout",
     "output_type": "stream",
     "text": [
      "[40]\ttrain-mlogloss:0.73980\ttest-mlogloss:0.74219\n",
      "[60]\ttrain-mlogloss:0.68274\ttest-mlogloss:0.69467\n",
      "[80]\ttrain-mlogloss:0.65217\ttest-mlogloss:0.67729\n",
      "[100]\ttrain-mlogloss:0.63012\ttest-mlogloss:0.67073\n",
      "[120]\ttrain-mlogloss:0.61104\ttest-mlogloss:0.66840\n",
      "[140]\ttrain-mlogloss:0.59403\ttest-mlogloss:0.66599\n",
      "[160]\ttrain-mlogloss:0.57789\ttest-mlogloss:0.66701\n",
      "[180]\ttrain-mlogloss:0.56332\ttest-mlogloss:0.66763\n",
      "[191]\ttrain-mlogloss:0.55550\ttest-mlogloss:0.66776\n",
      "[0]\ttrain-mlogloss:1.33967\ttest-mlogloss:1.34234\n",
      "[20]\ttrain-mlogloss:0.86634\ttest-mlogloss:0.91120\n"
     ]
    },
    {
     "name": "stderr",
     "output_type": "stream",
     "text": [
      "/home/cmd/.local/lib/python3.8/site-packages/xgboost/core.py:101: UserWarning: ntree_limit is deprecated, use `iteration_range` or model slicing instead.\n",
      "  warnings.warn(\n"
     ]
    },
    {
     "name": "stdout",
     "output_type": "stream",
     "text": [
      "[40]\ttrain-mlogloss:0.72153\ttest-mlogloss:0.79519\n",
      "[60]\ttrain-mlogloss:0.66361\ttest-mlogloss:0.75953\n",
      "[80]\ttrain-mlogloss:0.63299\ttest-mlogloss:0.74688\n",
      "[100]\ttrain-mlogloss:0.61089\ttest-mlogloss:0.74220\n",
      "[120]\ttrain-mlogloss:0.59206\ttest-mlogloss:0.74097\n",
      "[140]\ttrain-mlogloss:0.57486\ttest-mlogloss:0.74040\n",
      "[160]\ttrain-mlogloss:0.55915\ttest-mlogloss:0.74126\n",
      "[180]\ttrain-mlogloss:0.54422\ttest-mlogloss:0.74329\n",
      "[191]\ttrain-mlogloss:0.53688\ttest-mlogloss:0.74392\n",
      "[0]\ttrain-mlogloss:0.54397\ttest-mlogloss:0.54583\n",
      "[20]\ttrain-mlogloss:0.28123\ttest-mlogloss:0.32412\n",
      "[40]\ttrain-mlogloss:0.24364\ttest-mlogloss:0.33251\n"
     ]
    },
    {
     "name": "stderr",
     "output_type": "stream",
     "text": [
      "/home/cmd/.local/lib/python3.8/site-packages/xgboost/core.py:101: UserWarning: ntree_limit is deprecated, use `iteration_range` or model slicing instead.\n",
      "  warnings.warn(\n"
     ]
    },
    {
     "name": "stdout",
     "output_type": "stream",
     "text": [
      "[60]\ttrain-mlogloss:0.21234\ttest-mlogloss:0.34113\n",
      "[68]\ttrain-mlogloss:0.20170\ttest-mlogloss:0.34373\n",
      "[0]\ttrain-mlogloss:0.54523\ttest-mlogloss:0.54518\n",
      "[20]\ttrain-mlogloss:0.28635\ttest-mlogloss:0.31499\n",
      "[40]\ttrain-mlogloss:0.24927\ttest-mlogloss:0.32184\n"
     ]
    },
    {
     "name": "stderr",
     "output_type": "stream",
     "text": [
      "/home/cmd/.local/lib/python3.8/site-packages/xgboost/core.py:101: UserWarning: ntree_limit is deprecated, use `iteration_range` or model slicing instead.\n",
      "  warnings.warn(\n"
     ]
    },
    {
     "name": "stdout",
     "output_type": "stream",
     "text": [
      "[60]\ttrain-mlogloss:0.21802\ttest-mlogloss:0.32889\n",
      "[67]\ttrain-mlogloss:0.20825\ttest-mlogloss:0.33071\n",
      "[0]\ttrain-mlogloss:0.54386\ttest-mlogloss:0.55075\n",
      "[20]\ttrain-mlogloss:0.28098\ttest-mlogloss:0.32974\n",
      "[40]\ttrain-mlogloss:0.24171\ttest-mlogloss:0.34194\n"
     ]
    },
    {
     "name": "stderr",
     "output_type": "stream",
     "text": [
      "/home/cmd/.local/lib/python3.8/site-packages/xgboost/core.py:101: UserWarning: ntree_limit is deprecated, use `iteration_range` or model slicing instead.\n",
      "  warnings.warn(\n"
     ]
    },
    {
     "name": "stdout",
     "output_type": "stream",
     "text": [
      "[60]\ttrain-mlogloss:0.21108\ttest-mlogloss:0.35263\n",
      "[64]\ttrain-mlogloss:0.20614\ttest-mlogloss:0.35465\n",
      "[0]\ttrain-mlogloss:0.54579\ttest-mlogloss:0.54481\n",
      "[20]\ttrain-mlogloss:0.28410\ttest-mlogloss:0.31256\n",
      "[40]\ttrain-mlogloss:0.24795\ttest-mlogloss:0.31842\n"
     ]
    },
    {
     "name": "stderr",
     "output_type": "stream",
     "text": [
      "/home/cmd/.local/lib/python3.8/site-packages/xgboost/core.py:101: UserWarning: ntree_limit is deprecated, use `iteration_range` or model slicing instead.\n",
      "  warnings.warn(\n"
     ]
    },
    {
     "name": "stdout",
     "output_type": "stream",
     "text": [
      "[60]\ttrain-mlogloss:0.21929\ttest-mlogloss:0.32147\n",
      "[62]\ttrain-mlogloss:0.21609\ttest-mlogloss:0.32016\n",
      "[0]\ttrain-mlogloss:0.54074\ttest-mlogloss:0.55337\n",
      "[20]\ttrain-mlogloss:0.27423\ttest-mlogloss:0.36760\n",
      "[40]\ttrain-mlogloss:0.23721\ttest-mlogloss:0.37213\n"
     ]
    },
    {
     "name": "stderr",
     "output_type": "stream",
     "text": [
      "/home/cmd/.local/lib/python3.8/site-packages/xgboost/core.py:101: UserWarning: ntree_limit is deprecated, use `iteration_range` or model slicing instead.\n",
      "  warnings.warn(\n"
     ]
    },
    {
     "name": "stdout",
     "output_type": "stream",
     "text": [
      "[60]\ttrain-mlogloss:0.20524\ttest-mlogloss:0.37589\n",
      "[66]\ttrain-mlogloss:0.19871\ttest-mlogloss:0.37986\n",
      "\n",
      "12\n",
      "89294\n"
     ]
    },
    {
     "name": "stderr",
     "output_type": "stream",
     "text": [
      "/home/cmd/.local/lib/python3.8/site-packages/xgboost/core.py:101: UserWarning: ntree_limit is deprecated, use `iteration_range` or model slicing instead.\n",
      "  warnings.warn(\n"
     ]
    },
    {
     "name": "stdout",
     "output_type": "stream",
     "text": [
      "Mean cv log loss:  0.8382633933569416\n",
      "Mean cv accuracy:  0.6863346104725415\n",
      "Mean cv log loss:  0.36481972285414377\n",
      "Mean cv accuracy:  0.8500638569604086\n",
      "Variance Captured  0.9807547294520417\n",
      "Mean cv log loss:  0.7792399456226891\n",
      "Mean cv accuracy:  0.6763729246487867\n",
      "Mean cv log loss:  0.39642490068444614\n",
      "Mean cv accuracy:  0.8298850574712644\n",
      "Mean cv log loss:  0.7708648869485788\n",
      "Mean cv accuracy:  0.681992337164751\n",
      "Mean cv log loss:  0.383773759929262\n",
      "Mean cv accuracy:  0.8334610472541506\n",
      "Mean cv log loss:  0.7985224393773673\n",
      "Mean cv accuracy:  0.70727969348659\n",
      "Mean cv log loss:  0.34015536572844235\n",
      "Mean cv accuracy:  0.8574712643678162\n",
      "Variance Captured:  0.973138868196565\n",
      "Mean cv log loss:  0.8684067409179228\n",
      "Mean cv accuracy:  0.6505747126436783\n",
      "Mean cv log loss:  0.45693831573417887\n",
      "Mean cv accuracy:  0.7928480204342273\n",
      "Mean cv log loss:  0.862826648624031\n",
      "Mean cv accuracy:  0.6469987228607919\n",
      "Mean cv log loss:  0.44299981358428164\n",
      "Mean cv accuracy:  0.8068965517241379\n",
      "Mean cv log loss:  0.8448917182504021\n",
      "Mean cv accuracy:  0.6968071519795658\n",
      "Mean cv log loss:  0.4354373970343833\n",
      "Mean cv accuracy:  0.8480204342273308\n",
      "[0]\ttrain-mlogloss:1.34061\ttest-mlogloss:1.34012\n",
      "[20]\ttrain-mlogloss:0.88639\ttest-mlogloss:0.89327\n",
      "[40]\ttrain-mlogloss:0.74591\ttest-mlogloss:0.76642\n",
      "[60]\ttrain-mlogloss:0.68948\ttest-mlogloss:0.72469\n",
      "[80]\ttrain-mlogloss:0.65894\ttest-mlogloss:0.70837\n",
      "[100]\ttrain-mlogloss:0.63759\ttest-mlogloss:0.70285\n",
      "[120]\ttrain-mlogloss:0.61938\ttest-mlogloss:0.70121\n",
      "[140]\ttrain-mlogloss:0.60302\ttest-mlogloss:0.70209\n",
      "[160]\ttrain-mlogloss:0.58775\ttest-mlogloss:0.70328\n",
      "[176]\ttrain-mlogloss:0.57570\ttest-mlogloss:0.70544\n",
      "[0]\ttrain-mlogloss:1.34007\ttest-mlogloss:1.34178\n",
      "[20]\ttrain-mlogloss:0.88384\ttest-mlogloss:0.90645\n"
     ]
    },
    {
     "name": "stderr",
     "output_type": "stream",
     "text": [
      "/home/cmd/.local/lib/python3.8/site-packages/xgboost/core.py:101: UserWarning: ntree_limit is deprecated, use `iteration_range` or model slicing instead.\n",
      "  warnings.warn(\n"
     ]
    },
    {
     "name": "stdout",
     "output_type": "stream",
     "text": [
      "[40]\ttrain-mlogloss:0.74335\ttest-mlogloss:0.77751\n",
      "[60]\ttrain-mlogloss:0.68705\ttest-mlogloss:0.73665\n",
      "[80]\ttrain-mlogloss:0.65630\ttest-mlogloss:0.72177\n",
      "[100]\ttrain-mlogloss:0.63549\ttest-mlogloss:0.71657\n",
      "[120]\ttrain-mlogloss:0.61748\ttest-mlogloss:0.71562\n",
      "[140]\ttrain-mlogloss:0.60073\ttest-mlogloss:0.71723\n",
      "[160]\ttrain-mlogloss:0.58533\ttest-mlogloss:0.71910\n",
      "[161]\ttrain-mlogloss:0.58452\ttest-mlogloss:0.71949\n",
      "[0]\ttrain-mlogloss:1.34087\ttest-mlogloss:1.34103\n",
      "[20]\ttrain-mlogloss:0.88801\ttest-mlogloss:0.89299\n"
     ]
    },
    {
     "name": "stderr",
     "output_type": "stream",
     "text": [
      "/home/cmd/.local/lib/python3.8/site-packages/xgboost/core.py:101: UserWarning: ntree_limit is deprecated, use `iteration_range` or model slicing instead.\n",
      "  warnings.warn(\n"
     ]
    },
    {
     "name": "stdout",
     "output_type": "stream",
     "text": [
      "[40]\ttrain-mlogloss:0.74865\ttest-mlogloss:0.76279\n",
      "[60]\ttrain-mlogloss:0.69312\ttest-mlogloss:0.71886\n",
      "[80]\ttrain-mlogloss:0.66308\ttest-mlogloss:0.70170\n",
      "[100]\ttrain-mlogloss:0.64196\ttest-mlogloss:0.69573\n",
      "[120]\ttrain-mlogloss:0.62392\ttest-mlogloss:0.69535\n",
      "[140]\ttrain-mlogloss:0.60669\ttest-mlogloss:0.69644\n",
      "[160]\ttrain-mlogloss:0.59183\ttest-mlogloss:0.69828\n",
      "[167]\ttrain-mlogloss:0.58673\ttest-mlogloss:0.69825\n",
      "[0]\ttrain-mlogloss:1.34057\ttest-mlogloss:1.34172\n",
      "[20]\ttrain-mlogloss:0.88771\ttest-mlogloss:0.89739\n"
     ]
    },
    {
     "name": "stderr",
     "output_type": "stream",
     "text": [
      "/home/cmd/.local/lib/python3.8/site-packages/xgboost/core.py:101: UserWarning: ntree_limit is deprecated, use `iteration_range` or model slicing instead.\n",
      "  warnings.warn(\n"
     ]
    },
    {
     "name": "stdout",
     "output_type": "stream",
     "text": [
      "[40]\ttrain-mlogloss:0.74968\ttest-mlogloss:0.76445\n",
      "[60]\ttrain-mlogloss:0.69315\ttest-mlogloss:0.71869\n",
      "[80]\ttrain-mlogloss:0.66175\ttest-mlogloss:0.69850\n",
      "[100]\ttrain-mlogloss:0.64035\ttest-mlogloss:0.69112\n",
      "[120]\ttrain-mlogloss:0.62177\ttest-mlogloss:0.68778\n",
      "[140]\ttrain-mlogloss:0.60517\ttest-mlogloss:0.68750\n",
      "[160]\ttrain-mlogloss:0.58939\ttest-mlogloss:0.68885\n",
      "[178]\ttrain-mlogloss:0.57619\ttest-mlogloss:0.68982\n",
      "[0]\ttrain-mlogloss:1.33959\ttest-mlogloss:1.34348\n",
      "[20]\ttrain-mlogloss:0.88065\ttest-mlogloss:0.91614\n"
     ]
    },
    {
     "name": "stderr",
     "output_type": "stream",
     "text": [
      "/home/cmd/.local/lib/python3.8/site-packages/xgboost/core.py:101: UserWarning: ntree_limit is deprecated, use `iteration_range` or model slicing instead.\n",
      "  warnings.warn(\n"
     ]
    },
    {
     "name": "stdout",
     "output_type": "stream",
     "text": [
      "[40]\ttrain-mlogloss:0.73893\ttest-mlogloss:0.79539\n",
      "[60]\ttrain-mlogloss:0.68131\ttest-mlogloss:0.75684\n",
      "[80]\ttrain-mlogloss:0.65021\ttest-mlogloss:0.74367\n",
      "[100]\ttrain-mlogloss:0.62823\ttest-mlogloss:0.74044\n",
      "[120]\ttrain-mlogloss:0.60899\ttest-mlogloss:0.74173\n",
      "[140]\ttrain-mlogloss:0.59223\ttest-mlogloss:0.74187\n",
      "[155]\ttrain-mlogloss:0.58024\ttest-mlogloss:0.74330\n",
      "[0]\ttrain-mlogloss:0.54545\ttest-mlogloss:0.54376\n",
      "[20]\ttrain-mlogloss:0.28528\ttest-mlogloss:0.31579\n",
      "[40]\ttrain-mlogloss:0.24506\ttest-mlogloss:0.32145\n"
     ]
    },
    {
     "name": "stderr",
     "output_type": "stream",
     "text": [
      "/home/cmd/.local/lib/python3.8/site-packages/xgboost/core.py:101: UserWarning: ntree_limit is deprecated, use `iteration_range` or model slicing instead.\n",
      "  warnings.warn(\n"
     ]
    },
    {
     "name": "stdout",
     "output_type": "stream",
     "text": [
      "[60]\ttrain-mlogloss:0.21393\ttest-mlogloss:0.33278\n",
      "[66]\ttrain-mlogloss:0.20576\ttest-mlogloss:0.33545\n",
      "[0]\ttrain-mlogloss:0.54511\ttest-mlogloss:0.55078\n",
      "[20]\ttrain-mlogloss:0.28237\ttest-mlogloss:0.34062\n",
      "[40]\ttrain-mlogloss:0.24487\ttest-mlogloss:0.34562\n"
     ]
    },
    {
     "name": "stderr",
     "output_type": "stream",
     "text": [
      "/home/cmd/.local/lib/python3.8/site-packages/xgboost/core.py:101: UserWarning: ntree_limit is deprecated, use `iteration_range` or model slicing instead.\n",
      "  warnings.warn(\n"
     ]
    },
    {
     "name": "stdout",
     "output_type": "stream",
     "text": [
      "[60]\ttrain-mlogloss:0.21316\ttest-mlogloss:0.35289\n",
      "[61]\ttrain-mlogloss:0.21138\ttest-mlogloss:0.35309\n",
      "[0]\ttrain-mlogloss:0.54562\ttest-mlogloss:0.54583\n",
      "[20]\ttrain-mlogloss:0.28398\ttest-mlogloss:0.32873\n",
      "[40]\ttrain-mlogloss:0.24272\ttest-mlogloss:0.34219\n"
     ]
    },
    {
     "name": "stderr",
     "output_type": "stream",
     "text": [
      "/home/cmd/.local/lib/python3.8/site-packages/xgboost/core.py:101: UserWarning: ntree_limit is deprecated, use `iteration_range` or model slicing instead.\n",
      "  warnings.warn(\n"
     ]
    },
    {
     "name": "stdout",
     "output_type": "stream",
     "text": [
      "[60]\ttrain-mlogloss:0.21296\ttest-mlogloss:0.35498\n",
      "[64]\ttrain-mlogloss:0.20684\ttest-mlogloss:0.35468\n",
      "[0]\ttrain-mlogloss:0.54628\ttest-mlogloss:0.54420\n",
      "[20]\ttrain-mlogloss:0.28965\ttest-mlogloss:0.31378\n",
      "[40]\ttrain-mlogloss:0.24945\ttest-mlogloss:0.31654\n"
     ]
    },
    {
     "name": "stderr",
     "output_type": "stream",
     "text": [
      "/home/cmd/.local/lib/python3.8/site-packages/xgboost/core.py:101: UserWarning: ntree_limit is deprecated, use `iteration_range` or model slicing instead.\n",
      "  warnings.warn(\n"
     ]
    },
    {
     "name": "stdout",
     "output_type": "stream",
     "text": [
      "[60]\ttrain-mlogloss:0.21835\ttest-mlogloss:0.32454\n",
      "[62]\ttrain-mlogloss:0.21567\ttest-mlogloss:0.32527\n",
      "[0]\ttrain-mlogloss:0.54131\ttest-mlogloss:0.55913\n",
      "[20]\ttrain-mlogloss:0.27705\ttest-mlogloss:0.35791\n",
      "[40]\ttrain-mlogloss:0.23940\ttest-mlogloss:0.36485\n"
     ]
    },
    {
     "name": "stderr",
     "output_type": "stream",
     "text": [
      "/home/cmd/.local/lib/python3.8/site-packages/xgboost/core.py:101: UserWarning: ntree_limit is deprecated, use `iteration_range` or model slicing instead.\n",
      "  warnings.warn(\n"
     ]
    },
    {
     "name": "stdout",
     "output_type": "stream",
     "text": [
      "[60]\ttrain-mlogloss:0.20909\ttest-mlogloss:0.36476\n",
      "[66]\ttrain-mlogloss:0.20275\ttest-mlogloss:0.36979\n",
      "\n",
      "13\n",
      "79736\n"
     ]
    },
    {
     "name": "stderr",
     "output_type": "stream",
     "text": [
      "/home/cmd/.local/lib/python3.8/site-packages/xgboost/core.py:101: UserWarning: ntree_limit is deprecated, use `iteration_range` or model slicing instead.\n",
      "  warnings.warn(\n"
     ]
    },
    {
     "name": "stdout",
     "output_type": "stream",
     "text": [
      "Mean cv log loss:  0.8300454327547214\n",
      "Mean cv accuracy:  0.6924648786717752\n",
      "Mean cv log loss:  0.3662507084103633\n",
      "Mean cv accuracy:  0.846743295019157\n",
      "Variance Captured  0.9807547294520418\n",
      "Mean cv log loss:  0.7895029886089424\n",
      "Mean cv accuracy:  0.6776500638569604\n",
      "Mean cv log loss:  0.3975846507311428\n",
      "Mean cv accuracy:  0.8329501915708812\n",
      "Mean cv log loss:  0.7704802158738531\n",
      "Mean cv accuracy:  0.6891443167305236\n",
      "Mean cv log loss:  0.38488059482443965\n",
      "Mean cv accuracy:  0.8342273307790549\n",
      "Mean cv log loss:  0.796754773047596\n",
      "Mean cv accuracy:  0.7157088122605364\n",
      "Mean cv log loss:  0.3437580454576197\n",
      "Mean cv accuracy:  0.8620689655172414\n",
      "Variance Captured:  0.9731388681965649\n",
      "Mean cv log loss:  0.8785196238363735\n",
      "Mean cv accuracy:  0.650830140485313\n",
      "Mean cv log loss:  0.45764979587503724\n",
      "Mean cv accuracy:  0.7948914431673053\n",
      "Mean cv log loss:  0.873280288434818\n",
      "Mean cv accuracy:  0.6510855683269478\n",
      "Mean cv log loss:  0.4475973742094717\n",
      "Mean cv accuracy:  0.7933588761174968\n",
      "Mean cv log loss:  0.8491139941882313\n",
      "Mean cv accuracy:  0.7085568326947638\n",
      "Mean cv log loss:  0.44516345151744297\n",
      "Mean cv accuracy:  0.8485312899106002\n",
      "[0]\ttrain-mlogloss:1.33962\ttest-mlogloss:1.34029\n",
      "[20]\ttrain-mlogloss:0.87911\ttest-mlogloss:0.88907\n",
      "[40]\ttrain-mlogloss:0.73767\ttest-mlogloss:0.75619\n",
      "[60]\ttrain-mlogloss:0.68031\ttest-mlogloss:0.71171\n",
      "[80]\ttrain-mlogloss:0.64912\ttest-mlogloss:0.69420\n",
      "[100]\ttrain-mlogloss:0.62658\ttest-mlogloss:0.68927\n",
      "[120]\ttrain-mlogloss:0.60723\ttest-mlogloss:0.68811\n",
      "[140]\ttrain-mlogloss:0.59014\ttest-mlogloss:0.68791\n",
      "[160]\ttrain-mlogloss:0.57472\ttest-mlogloss:0.68880\n",
      "[180]\ttrain-mlogloss:0.56023\ttest-mlogloss:0.68922\n",
      "[181]\ttrain-mlogloss:0.55958\ttest-mlogloss:0.68935\n",
      "[0]\ttrain-mlogloss:1.33908\ttest-mlogloss:1.34044\n",
      "[20]\ttrain-mlogloss:0.87616\ttest-mlogloss:0.89516\n"
     ]
    },
    {
     "name": "stderr",
     "output_type": "stream",
     "text": [
      "/home/cmd/.local/lib/python3.8/site-packages/xgboost/core.py:101: UserWarning: ntree_limit is deprecated, use `iteration_range` or model slicing instead.\n",
      "  warnings.warn(\n"
     ]
    },
    {
     "name": "stdout",
     "output_type": "stream",
     "text": [
      "[40]\ttrain-mlogloss:0.73323\ttest-mlogloss:0.76788\n",
      "[60]\ttrain-mlogloss:0.67606\ttest-mlogloss:0.72740\n",
      "[80]\ttrain-mlogloss:0.64516\ttest-mlogloss:0.71598\n",
      "[100]\ttrain-mlogloss:0.62378\ttest-mlogloss:0.71303\n",
      "[120]\ttrain-mlogloss:0.60498\ttest-mlogloss:0.71271\n",
      "[140]\ttrain-mlogloss:0.58786\ttest-mlogloss:0.71370\n",
      "[160]\ttrain-mlogloss:0.57259\ttest-mlogloss:0.71500\n",
      "[168]\ttrain-mlogloss:0.56680\ttest-mlogloss:0.71562\n",
      "[0]\ttrain-mlogloss:1.34010\ttest-mlogloss:1.33980\n",
      "[20]\ttrain-mlogloss:0.88189\ttest-mlogloss:0.88194\n"
     ]
    },
    {
     "name": "stderr",
     "output_type": "stream",
     "text": [
      "/home/cmd/.local/lib/python3.8/site-packages/xgboost/core.py:101: UserWarning: ntree_limit is deprecated, use `iteration_range` or model slicing instead.\n",
      "  warnings.warn(\n"
     ]
    },
    {
     "name": "stdout",
     "output_type": "stream",
     "text": [
      "[40]\ttrain-mlogloss:0.74015\ttest-mlogloss:0.74806\n",
      "[60]\ttrain-mlogloss:0.68293\ttest-mlogloss:0.70440\n",
      "[80]\ttrain-mlogloss:0.65166\ttest-mlogloss:0.69038\n",
      "[100]\ttrain-mlogloss:0.62913\ttest-mlogloss:0.68451\n",
      "[120]\ttrain-mlogloss:0.60966\ttest-mlogloss:0.68122\n",
      "[140]\ttrain-mlogloss:0.59251\ttest-mlogloss:0.68088\n",
      "[160]\ttrain-mlogloss:0.57658\ttest-mlogloss:0.68076\n",
      "[180]\ttrain-mlogloss:0.56187\ttest-mlogloss:0.68324\n",
      "[194]\ttrain-mlogloss:0.55223\ttest-mlogloss:0.68425\n",
      "[0]\ttrain-mlogloss:1.33896\ttest-mlogloss:1.34247\n",
      "[20]\ttrain-mlogloss:0.87171\ttest-mlogloss:0.90814\n"
     ]
    },
    {
     "name": "stderr",
     "output_type": "stream",
     "text": [
      "/home/cmd/.local/lib/python3.8/site-packages/xgboost/core.py:101: UserWarning: ntree_limit is deprecated, use `iteration_range` or model slicing instead.\n",
      "  warnings.warn(\n"
     ]
    },
    {
     "name": "stdout",
     "output_type": "stream",
     "text": [
      "[40]\ttrain-mlogloss:0.72798\ttest-mlogloss:0.78565\n",
      "[60]\ttrain-mlogloss:0.67015\ttest-mlogloss:0.74701\n",
      "[80]\ttrain-mlogloss:0.63859\ttest-mlogloss:0.73379\n",
      "[100]\ttrain-mlogloss:0.61645\ttest-mlogloss:0.72874\n",
      "[120]\ttrain-mlogloss:0.59702\ttest-mlogloss:0.72865\n",
      "[140]\ttrain-mlogloss:0.57963\ttest-mlogloss:0.72885\n",
      "[156]\ttrain-mlogloss:0.56674\ttest-mlogloss:0.72953\n",
      "[0]\ttrain-mlogloss:1.33980\ttest-mlogloss:1.34009\n",
      "[20]\ttrain-mlogloss:0.88079\ttest-mlogloss:0.88579\n"
     ]
    },
    {
     "name": "stderr",
     "output_type": "stream",
     "text": [
      "/home/cmd/.local/lib/python3.8/site-packages/xgboost/core.py:101: UserWarning: ntree_limit is deprecated, use `iteration_range` or model slicing instead.\n",
      "  warnings.warn(\n"
     ]
    },
    {
     "name": "stdout",
     "output_type": "stream",
     "text": [
      "[40]\ttrain-mlogloss:0.74020\ttest-mlogloss:0.74903\n",
      "[60]\ttrain-mlogloss:0.68419\ttest-mlogloss:0.70057\n",
      "[80]\ttrain-mlogloss:0.65439\ttest-mlogloss:0.68106\n",
      "[100]\ttrain-mlogloss:0.63331\ttest-mlogloss:0.67217\n",
      "[120]\ttrain-mlogloss:0.61483\ttest-mlogloss:0.66869\n",
      "[140]\ttrain-mlogloss:0.59805\ttest-mlogloss:0.66774\n",
      "[160]\ttrain-mlogloss:0.58271\ttest-mlogloss:0.66748\n",
      "[180]\ttrain-mlogloss:0.56815\ttest-mlogloss:0.66746\n",
      "[200]\ttrain-mlogloss:0.55463\ttest-mlogloss:0.66780\n",
      "[201]\ttrain-mlogloss:0.55398\ttest-mlogloss:0.66775\n",
      "[0]\ttrain-mlogloss:0.54380\ttest-mlogloss:0.54774\n",
      "[20]\ttrain-mlogloss:0.28026\ttest-mlogloss:0.34410\n",
      "[40]\ttrain-mlogloss:0.24082\ttest-mlogloss:0.35270\n"
     ]
    },
    {
     "name": "stderr",
     "output_type": "stream",
     "text": [
      "/home/cmd/.local/lib/python3.8/site-packages/xgboost/core.py:101: UserWarning: ntree_limit is deprecated, use `iteration_range` or model slicing instead.\n",
      "  warnings.warn(\n"
     ]
    },
    {
     "name": "stdout",
     "output_type": "stream",
     "text": [
      "[60]\ttrain-mlogloss:0.20948\ttest-mlogloss:0.36465\n",
      "[65]\ttrain-mlogloss:0.20355\ttest-mlogloss:0.36734\n",
      "[0]\ttrain-mlogloss:0.54158\ttest-mlogloss:0.54902\n",
      "[20]\ttrain-mlogloss:0.27773\ttest-mlogloss:0.35242\n",
      "[40]\ttrain-mlogloss:0.24187\ttest-mlogloss:0.36482\n"
     ]
    },
    {
     "name": "stderr",
     "output_type": "stream",
     "text": [
      "/home/cmd/.local/lib/python3.8/site-packages/xgboost/core.py:101: UserWarning: ntree_limit is deprecated, use `iteration_range` or model slicing instead.\n",
      "  warnings.warn(\n"
     ]
    },
    {
     "name": "stdout",
     "output_type": "stream",
     "text": [
      "[60]\ttrain-mlogloss:0.21062\ttest-mlogloss:0.36745\n",
      "[65]\ttrain-mlogloss:0.20321\ttest-mlogloss:0.36804\n",
      "[0]\ttrain-mlogloss:0.54622\ttest-mlogloss:0.54109\n",
      "[20]\ttrain-mlogloss:0.28970\ttest-mlogloss:0.30456\n",
      "[40]\ttrain-mlogloss:0.25276\ttest-mlogloss:0.31539\n"
     ]
    },
    {
     "name": "stderr",
     "output_type": "stream",
     "text": [
      "/home/cmd/.local/lib/python3.8/site-packages/xgboost/core.py:101: UserWarning: ntree_limit is deprecated, use `iteration_range` or model slicing instead.\n",
      "  warnings.warn(\n"
     ]
    },
    {
     "name": "stdout",
     "output_type": "stream",
     "text": [
      "[60]\ttrain-mlogloss:0.22181\ttest-mlogloss:0.32640\n",
      "[64]\ttrain-mlogloss:0.21634\ttest-mlogloss:0.32715\n",
      "[0]\ttrain-mlogloss:0.54414\ttest-mlogloss:0.54714\n",
      "[20]\ttrain-mlogloss:0.28605\ttest-mlogloss:0.32759\n",
      "[40]\ttrain-mlogloss:0.24462\ttest-mlogloss:0.33944\n"
     ]
    },
    {
     "name": "stderr",
     "output_type": "stream",
     "text": [
      "/home/cmd/.local/lib/python3.8/site-packages/xgboost/core.py:101: UserWarning: ntree_limit is deprecated, use `iteration_range` or model slicing instead.\n",
      "  warnings.warn(\n"
     ]
    },
    {
     "name": "stdout",
     "output_type": "stream",
     "text": [
      "[60]\ttrain-mlogloss:0.21646\ttest-mlogloss:0.34665\n",
      "[72]\ttrain-mlogloss:0.19959\ttest-mlogloss:0.35156\n",
      "[0]\ttrain-mlogloss:0.54474\ttest-mlogloss:0.54890\n",
      "[20]\ttrain-mlogloss:0.28882\ttest-mlogloss:0.32213\n",
      "[40]\ttrain-mlogloss:0.25293\ttest-mlogloss:0.32364\n"
     ]
    },
    {
     "name": "stderr",
     "output_type": "stream",
     "text": [
      "/home/cmd/.local/lib/python3.8/site-packages/xgboost/core.py:101: UserWarning: ntree_limit is deprecated, use `iteration_range` or model slicing instead.\n",
      "  warnings.warn(\n"
     ]
    },
    {
     "name": "stdout",
     "output_type": "stream",
     "text": [
      "[60]\ttrain-mlogloss:0.22280\ttest-mlogloss:0.32512\n",
      "[72]\ttrain-mlogloss:0.20784\ttest-mlogloss:0.32471\n",
      "\n",
      "14\n",
      "64259\n"
     ]
    },
    {
     "name": "stderr",
     "output_type": "stream",
     "text": [
      "/home/cmd/.local/lib/python3.8/site-packages/xgboost/core.py:101: UserWarning: ntree_limit is deprecated, use `iteration_range` or model slicing instead.\n",
      "  warnings.warn(\n"
     ]
    },
    {
     "name": "stdout",
     "output_type": "stream",
     "text": [
      "Mean cv log loss:  0.8341322140723374\n",
      "Mean cv accuracy:  0.685823754789272\n",
      "Mean cv log loss:  0.3742003738700325\n",
      "Mean cv accuracy:  0.8406130268199232\n",
      "Variance Captured  0.9807547294520417\n",
      "Mean cv log loss:  0.777953745367893\n",
      "Mean cv accuracy:  0.6822477650063857\n",
      "Mean cv log loss:  0.4006715696654822\n",
      "Mean cv accuracy:  0.8326947637292464\n",
      "Mean cv log loss:  0.7546038422935641\n",
      "Mean cv accuracy:  0.6909323116219669\n",
      "Mean cv log loss:  0.3852708578539966\n",
      "Mean cv accuracy:  0.8344827586206897\n",
      "Mean cv log loss:  0.7912220926267635\n",
      "Mean cv accuracy:  0.7108556832694763\n",
      "Mean cv log loss:  0.3505663687835515\n",
      "Mean cv accuracy:  0.8579821200510857\n",
      "Variance Captured:  0.973138868196565\n",
      "Mean cv log loss:  0.8659791137848943\n",
      "Mean cv accuracy:  0.6490421455938697\n",
      "Mean cv log loss:  0.4556994073304523\n",
      "Mean cv accuracy:  0.79514687100894\n",
      "Mean cv log loss:  0.8514414364186209\n",
      "Mean cv accuracy:  0.6521072796934866\n",
      "Mean cv log loss:  0.4402058504796134\n",
      "Mean cv accuracy:  0.7964240102171136\n",
      "Mean cv log loss:  0.8565217810807507\n",
      "Mean cv accuracy:  0.6996168582375479\n",
      "Mean cv log loss:  0.4521877398601\n",
      "Mean cv accuracy:  0.8459770114942529\n",
      "[0]\ttrain-mlogloss:1.33976\ttest-mlogloss:1.33969\n",
      "[20]\ttrain-mlogloss:0.88175\ttest-mlogloss:0.87604\n",
      "[40]\ttrain-mlogloss:0.74099\ttest-mlogloss:0.73643\n",
      "[60]\ttrain-mlogloss:0.68500\ttest-mlogloss:0.69001\n",
      "[80]\ttrain-mlogloss:0.65495\ttest-mlogloss:0.67316\n",
      "[100]\ttrain-mlogloss:0.63372\ttest-mlogloss:0.66552\n",
      "[120]\ttrain-mlogloss:0.61596\ttest-mlogloss:0.66180\n",
      "[140]\ttrain-mlogloss:0.59921\ttest-mlogloss:0.66010\n",
      "[160]\ttrain-mlogloss:0.58408\ttest-mlogloss:0.65854\n",
      "[180]\ttrain-mlogloss:0.56968\ttest-mlogloss:0.65963\n",
      "[200]\ttrain-mlogloss:0.55635\ttest-mlogloss:0.66013\n",
      "[211]\ttrain-mlogloss:0.54917\ttest-mlogloss:0.66087\n",
      "[0]\ttrain-mlogloss:1.33872\ttest-mlogloss:1.34049\n",
      "[20]\ttrain-mlogloss:0.87170\ttest-mlogloss:0.90163\n"
     ]
    },
    {
     "name": "stderr",
     "output_type": "stream",
     "text": [
      "/home/cmd/.local/lib/python3.8/site-packages/xgboost/core.py:101: UserWarning: ntree_limit is deprecated, use `iteration_range` or model slicing instead.\n",
      "  warnings.warn(\n"
     ]
    },
    {
     "name": "stdout",
     "output_type": "stream",
     "text": [
      "[40]\ttrain-mlogloss:0.72701\ttest-mlogloss:0.77747\n",
      "[60]\ttrain-mlogloss:0.66851\ttest-mlogloss:0.73930\n",
      "[80]\ttrain-mlogloss:0.63628\ttest-mlogloss:0.72666\n",
      "[100]\ttrain-mlogloss:0.61394\ttest-mlogloss:0.72145\n",
      "[120]\ttrain-mlogloss:0.59617\ttest-mlogloss:0.72093\n",
      "[140]\ttrain-mlogloss:0.57968\ttest-mlogloss:0.72275\n",
      "[160]\ttrain-mlogloss:0.56423\ttest-mlogloss:0.72511\n",
      "[165]\ttrain-mlogloss:0.56072\ttest-mlogloss:0.72499\n",
      "[0]\ttrain-mlogloss:1.33881\ttest-mlogloss:1.34076\n",
      "[20]\ttrain-mlogloss:0.87388\ttest-mlogloss:0.89922\n"
     ]
    },
    {
     "name": "stderr",
     "output_type": "stream",
     "text": [
      "/home/cmd/.local/lib/python3.8/site-packages/xgboost/core.py:101: UserWarning: ntree_limit is deprecated, use `iteration_range` or model slicing instead.\n",
      "  warnings.warn(\n"
     ]
    },
    {
     "name": "stdout",
     "output_type": "stream",
     "text": [
      "[40]\ttrain-mlogloss:0.73191\ttest-mlogloss:0.76848\n",
      "[60]\ttrain-mlogloss:0.67546\ttest-mlogloss:0.72255\n",
      "[80]\ttrain-mlogloss:0.64564\ttest-mlogloss:0.70474\n",
      "[100]\ttrain-mlogloss:0.62377\ttest-mlogloss:0.69654\n",
      "[120]\ttrain-mlogloss:0.60600\ttest-mlogloss:0.69372\n",
      "[140]\ttrain-mlogloss:0.58983\ttest-mlogloss:0.69326\n",
      "[160]\ttrain-mlogloss:0.57462\ttest-mlogloss:0.69408\n",
      "[180]\ttrain-mlogloss:0.56112\ttest-mlogloss:0.69541\n",
      "[0]\ttrain-mlogloss:1.33885\ttest-mlogloss:1.33976\n",
      "[20]\ttrain-mlogloss:0.87340\ttest-mlogloss:0.89237\n"
     ]
    },
    {
     "name": "stderr",
     "output_type": "stream",
     "text": [
      "/home/cmd/.local/lib/python3.8/site-packages/xgboost/core.py:101: UserWarning: ntree_limit is deprecated, use `iteration_range` or model slicing instead.\n",
      "  warnings.warn(\n"
     ]
    },
    {
     "name": "stdout",
     "output_type": "stream",
     "text": [
      "[40]\ttrain-mlogloss:0.73077\ttest-mlogloss:0.76502\n",
      "[60]\ttrain-mlogloss:0.67372\ttest-mlogloss:0.72755\n",
      "[80]\ttrain-mlogloss:0.64303\ttest-mlogloss:0.71321\n",
      "[100]\ttrain-mlogloss:0.62081\ttest-mlogloss:0.70736\n",
      "[120]\ttrain-mlogloss:0.60193\ttest-mlogloss:0.70525\n",
      "[140]\ttrain-mlogloss:0.58480\ttest-mlogloss:0.70625\n",
      "[160]\ttrain-mlogloss:0.56969\ttest-mlogloss:0.70756\n",
      "[167]\ttrain-mlogloss:0.56474\ttest-mlogloss:0.70842\n",
      "[0]\ttrain-mlogloss:1.33936\ttest-mlogloss:1.33918\n",
      "[20]\ttrain-mlogloss:0.87749\ttest-mlogloss:0.88674\n"
     ]
    },
    {
     "name": "stderr",
     "output_type": "stream",
     "text": [
      "/home/cmd/.local/lib/python3.8/site-packages/xgboost/core.py:101: UserWarning: ntree_limit is deprecated, use `iteration_range` or model slicing instead.\n",
      "  warnings.warn(\n"
     ]
    },
    {
     "name": "stdout",
     "output_type": "stream",
     "text": [
      "[40]\ttrain-mlogloss:0.73364\ttest-mlogloss:0.75399\n",
      "[60]\ttrain-mlogloss:0.67652\ttest-mlogloss:0.71077\n",
      "[80]\ttrain-mlogloss:0.64628\ttest-mlogloss:0.69516\n",
      "[100]\ttrain-mlogloss:0.62543\ttest-mlogloss:0.68946\n",
      "[120]\ttrain-mlogloss:0.60742\ttest-mlogloss:0.68663\n",
      "[140]\ttrain-mlogloss:0.59153\ttest-mlogloss:0.68703\n",
      "[160]\ttrain-mlogloss:0.57661\ttest-mlogloss:0.68772\n",
      "[170]\ttrain-mlogloss:0.56987\ttest-mlogloss:0.68808\n",
      "[0]\ttrain-mlogloss:0.55006\ttest-mlogloss:0.53983\n",
      "[20]\ttrain-mlogloss:0.29885\ttest-mlogloss:0.29850\n",
      "[40]\ttrain-mlogloss:0.26260\ttest-mlogloss:0.30161\n"
     ]
    },
    {
     "name": "stderr",
     "output_type": "stream",
     "text": [
      "/home/cmd/.local/lib/python3.8/site-packages/xgboost/core.py:101: UserWarning: ntree_limit is deprecated, use `iteration_range` or model slicing instead.\n",
      "  warnings.warn(\n"
     ]
    },
    {
     "name": "stdout",
     "output_type": "stream",
     "text": [
      "[60]\ttrain-mlogloss:0.23165\ttest-mlogloss:0.30780\n",
      "[79]\ttrain-mlogloss:0.20616\ttest-mlogloss:0.30816\n",
      "[0]\ttrain-mlogloss:0.54439\ttest-mlogloss:0.55400\n",
      "[20]\ttrain-mlogloss:0.28338\ttest-mlogloss:0.36770\n",
      "[40]\ttrain-mlogloss:0.24214\ttest-mlogloss:0.37224\n"
     ]
    },
    {
     "name": "stderr",
     "output_type": "stream",
     "text": [
      "/home/cmd/.local/lib/python3.8/site-packages/xgboost/core.py:101: UserWarning: ntree_limit is deprecated, use `iteration_range` or model slicing instead.\n",
      "  warnings.warn(\n"
     ]
    },
    {
     "name": "stdout",
     "output_type": "stream",
     "text": [
      "[60]\ttrain-mlogloss:0.21096\ttest-mlogloss:0.38367\n",
      "[0]\ttrain-mlogloss:0.54620\ttest-mlogloss:0.54767\n",
      "[20]\ttrain-mlogloss:0.29465\ttest-mlogloss:0.32571\n",
      "[40]\ttrain-mlogloss:0.25501\ttest-mlogloss:0.33229\n"
     ]
    },
    {
     "name": "stderr",
     "output_type": "stream",
     "text": [
      "/home/cmd/.local/lib/python3.8/site-packages/xgboost/core.py:101: UserWarning: ntree_limit is deprecated, use `iteration_range` or model slicing instead.\n",
      "  warnings.warn(\n"
     ]
    },
    {
     "name": "stdout",
     "output_type": "stream",
     "text": [
      "[60]\ttrain-mlogloss:0.22445\ttest-mlogloss:0.33398\n",
      "[69]\ttrain-mlogloss:0.21354\ttest-mlogloss:0.33286\n",
      "[0]\ttrain-mlogloss:0.54440\ttest-mlogloss:0.55271\n",
      "[20]\ttrain-mlogloss:0.28347\ttest-mlogloss:0.35763\n",
      "[40]\ttrain-mlogloss:0.24279\ttest-mlogloss:0.37450\n"
     ]
    },
    {
     "name": "stderr",
     "output_type": "stream",
     "text": [
      "/home/cmd/.local/lib/python3.8/site-packages/xgboost/core.py:101: UserWarning: ntree_limit is deprecated, use `iteration_range` or model slicing instead.\n",
      "  warnings.warn(\n"
     ]
    },
    {
     "name": "stdout",
     "output_type": "stream",
     "text": [
      "[60]\ttrain-mlogloss:0.20938\ttest-mlogloss:0.38354\n",
      "[0]\ttrain-mlogloss:0.54416\ttest-mlogloss:0.55410\n",
      "[20]\ttrain-mlogloss:0.28489\ttest-mlogloss:0.35466\n",
      "[40]\ttrain-mlogloss:0.24679\ttest-mlogloss:0.36047\n"
     ]
    },
    {
     "name": "stderr",
     "output_type": "stream",
     "text": [
      "/home/cmd/.local/lib/python3.8/site-packages/xgboost/core.py:101: UserWarning: ntree_limit is deprecated, use `iteration_range` or model slicing instead.\n",
      "  warnings.warn(\n"
     ]
    },
    {
     "name": "stdout",
     "output_type": "stream",
     "text": [
      "[60]\ttrain-mlogloss:0.21353\ttest-mlogloss:0.36540\n",
      "[63]\ttrain-mlogloss:0.20975\ttest-mlogloss:0.36524\n",
      "\n",
      "15\n",
      "59563\n"
     ]
    },
    {
     "name": "stderr",
     "output_type": "stream",
     "text": [
      "/home/cmd/.local/lib/python3.8/site-packages/xgboost/core.py:101: UserWarning: ntree_limit is deprecated, use `iteration_range` or model slicing instead.\n",
      "  warnings.warn(\n"
     ]
    },
    {
     "name": "stdout",
     "output_type": "stream",
     "text": [
      "Mean cv log loss:  0.8391576303818301\n",
      "Mean cv accuracy:  0.6896551724137931\n",
      "Mean cv log loss:  0.3693351968435512\n",
      "Mean cv accuracy:  0.848786717752235\n",
      "Variance Captured  0.9807547294520416\n",
      "Mean cv log loss:  0.7846145369049246\n",
      "Mean cv accuracy:  0.6786717752234994\n",
      "Mean cv log loss:  0.3946347029560976\n",
      "Mean cv accuracy:  0.8298850574712644\n",
      "Mean cv log loss:  0.7712389608040922\n",
      "Mean cv accuracy:  0.687611749680715\n",
      "Mean cv log loss:  0.3796855774063438\n",
      "Mean cv accuracy:  0.8355044699872286\n",
      "Mean cv log loss:  0.8063592935764932\n",
      "Mean cv accuracy:  0.7037037037037037\n",
      "Mean cv log loss:  0.3497343137479725\n",
      "Mean cv accuracy:  0.8544061302681992\n",
      "Variance Captured:  0.9731388681965648\n",
      "Mean cv log loss:  0.8536559764628022\n",
      "Mean cv accuracy:  0.6526181353767561\n",
      "Mean cv log loss:  0.4447576670211766\n",
      "Mean cv accuracy:  0.7948914431673051\n",
      "Mean cv log loss:  0.8512294351513023\n",
      "Mean cv accuracy:  0.6467432950191572\n",
      "Mean cv log loss:  0.43845410940324714\n",
      "Mean cv accuracy:  0.7977011494252874\n",
      "Mean cv log loss:  0.8463955964017312\n",
      "Mean cv accuracy:  0.6973180076628352\n",
      "Mean cv log loss:  0.4396953583840354\n",
      "Mean cv accuracy:  0.8475095785440614\n",
      "[0]\ttrain-mlogloss:1.34200\ttest-mlogloss:1.34071\n",
      "[20]\ttrain-mlogloss:0.89118\ttest-mlogloss:0.87865\n",
      "[40]\ttrain-mlogloss:0.75360\ttest-mlogloss:0.73841\n",
      "[60]\ttrain-mlogloss:0.69750\ttest-mlogloss:0.68827\n",
      "[80]\ttrain-mlogloss:0.66636\ttest-mlogloss:0.66963\n",
      "[100]\ttrain-mlogloss:0.64488\ttest-mlogloss:0.66128\n",
      "[120]\ttrain-mlogloss:0.62692\ttest-mlogloss:0.65792\n",
      "[140]\ttrain-mlogloss:0.61078\ttest-mlogloss:0.65638\n",
      "[160]\ttrain-mlogloss:0.59569\ttest-mlogloss:0.65671\n",
      "[180]\ttrain-mlogloss:0.58180\ttest-mlogloss:0.65658\n",
      "[200]\ttrain-mlogloss:0.56844\ttest-mlogloss:0.65823\n",
      "[203]\ttrain-mlogloss:0.56659\ttest-mlogloss:0.65809\n",
      "[0]\ttrain-mlogloss:1.34056\ttest-mlogloss:1.34320\n"
     ]
    },
    {
     "name": "stderr",
     "output_type": "stream",
     "text": [
      "/home/cmd/.local/lib/python3.8/site-packages/xgboost/core.py:101: UserWarning: ntree_limit is deprecated, use `iteration_range` or model slicing instead.\n",
      "  warnings.warn(\n"
     ]
    },
    {
     "name": "stdout",
     "output_type": "stream",
     "text": [
      "[20]\ttrain-mlogloss:0.87704\ttest-mlogloss:0.91261\n",
      "[40]\ttrain-mlogloss:0.73538\ttest-mlogloss:0.78918\n",
      "[60]\ttrain-mlogloss:0.67774\ttest-mlogloss:0.75065\n",
      "[80]\ttrain-mlogloss:0.64696\ttest-mlogloss:0.73362\n",
      "[100]\ttrain-mlogloss:0.62458\ttest-mlogloss:0.72943\n",
      "[120]\ttrain-mlogloss:0.60630\ttest-mlogloss:0.72953\n",
      "[140]\ttrain-mlogloss:0.59055\ttest-mlogloss:0.73045\n",
      "[160]\ttrain-mlogloss:0.57545\ttest-mlogloss:0.73221\n",
      "[172]\ttrain-mlogloss:0.56717\ttest-mlogloss:0.73264\n",
      "[0]\ttrain-mlogloss:1.34140\ttest-mlogloss:1.34234\n",
      "[20]\ttrain-mlogloss:0.88426\ttest-mlogloss:0.89698\n"
     ]
    },
    {
     "name": "stderr",
     "output_type": "stream",
     "text": [
      "/home/cmd/.local/lib/python3.8/site-packages/xgboost/core.py:101: UserWarning: ntree_limit is deprecated, use `iteration_range` or model slicing instead.\n",
      "  warnings.warn(\n"
     ]
    },
    {
     "name": "stdout",
     "output_type": "stream",
     "text": [
      "[40]\ttrain-mlogloss:0.74391\ttest-mlogloss:0.76678\n",
      "[60]\ttrain-mlogloss:0.68679\ttest-mlogloss:0.72387\n",
      "[80]\ttrain-mlogloss:0.65548\ttest-mlogloss:0.70864\n",
      "[100]\ttrain-mlogloss:0.63321\ttest-mlogloss:0.70380\n",
      "[120]\ttrain-mlogloss:0.61516\ttest-mlogloss:0.70381\n",
      "[140]\ttrain-mlogloss:0.59874\ttest-mlogloss:0.70397\n",
      "[160]\ttrain-mlogloss:0.58332\ttest-mlogloss:0.70587\n",
      "[161]\ttrain-mlogloss:0.58264\ttest-mlogloss:0.70593\n",
      "[0]\ttrain-mlogloss:1.34107\ttest-mlogloss:1.34227\n",
      "[20]\ttrain-mlogloss:0.87935\ttest-mlogloss:0.90437\n"
     ]
    },
    {
     "name": "stderr",
     "output_type": "stream",
     "text": [
      "/home/cmd/.local/lib/python3.8/site-packages/xgboost/core.py:101: UserWarning: ntree_limit is deprecated, use `iteration_range` or model slicing instead.\n",
      "  warnings.warn(\n"
     ]
    },
    {
     "name": "stdout",
     "output_type": "stream",
     "text": [
      "[40]\ttrain-mlogloss:0.73778\ttest-mlogloss:0.78161\n",
      "[60]\ttrain-mlogloss:0.68072\ttest-mlogloss:0.74129\n",
      "[80]\ttrain-mlogloss:0.65004\ttest-mlogloss:0.72980\n",
      "[100]\ttrain-mlogloss:0.62883\ttest-mlogloss:0.72753\n",
      "[120]\ttrain-mlogloss:0.61044\ttest-mlogloss:0.72752\n",
      "[140]\ttrain-mlogloss:0.59378\ttest-mlogloss:0.72889\n",
      "[155]\ttrain-mlogloss:0.58196\ttest-mlogloss:0.72914\n",
      "[0]\ttrain-mlogloss:1.34103\ttest-mlogloss:1.34184\n",
      "[20]\ttrain-mlogloss:0.87977\ttest-mlogloss:0.89661\n"
     ]
    },
    {
     "name": "stderr",
     "output_type": "stream",
     "text": [
      "/home/cmd/.local/lib/python3.8/site-packages/xgboost/core.py:101: UserWarning: ntree_limit is deprecated, use `iteration_range` or model slicing instead.\n",
      "  warnings.warn(\n"
     ]
    },
    {
     "name": "stdout",
     "output_type": "stream",
     "text": [
      "[40]\ttrain-mlogloss:0.73857\ttest-mlogloss:0.77431\n",
      "[60]\ttrain-mlogloss:0.68089\ttest-mlogloss:0.73694\n",
      "[80]\ttrain-mlogloss:0.65008\ttest-mlogloss:0.72302\n",
      "[100]\ttrain-mlogloss:0.62763\ttest-mlogloss:0.71795\n",
      "[120]\ttrain-mlogloss:0.60918\ttest-mlogloss:0.71755\n",
      "[140]\ttrain-mlogloss:0.59344\ttest-mlogloss:0.71836\n",
      "[160]\ttrain-mlogloss:0.57830\ttest-mlogloss:0.71919\n",
      "[178]\ttrain-mlogloss:0.56653\ttest-mlogloss:0.72079\n",
      "[0]\ttrain-mlogloss:0.54993\ttest-mlogloss:0.54966\n",
      "[20]\ttrain-mlogloss:0.29413\ttest-mlogloss:0.32059\n",
      "[40]\ttrain-mlogloss:0.25286\ttest-mlogloss:0.32502\n"
     ]
    },
    {
     "name": "stderr",
     "output_type": "stream",
     "text": [
      "/home/cmd/.local/lib/python3.8/site-packages/xgboost/core.py:101: UserWarning: ntree_limit is deprecated, use `iteration_range` or model slicing instead.\n",
      "  warnings.warn(\n"
     ]
    },
    {
     "name": "stdout",
     "output_type": "stream",
     "text": [
      "[60]\ttrain-mlogloss:0.22244\ttest-mlogloss:0.33237\n",
      "[61]\ttrain-mlogloss:0.22087\ttest-mlogloss:0.33225\n",
      "[0]\ttrain-mlogloss:0.54258\ttest-mlogloss:0.56251\n",
      "[20]\ttrain-mlogloss:0.28008\ttest-mlogloss:0.38593\n",
      "[40]\ttrain-mlogloss:0.24148\ttest-mlogloss:0.39689\n"
     ]
    },
    {
     "name": "stderr",
     "output_type": "stream",
     "text": [
      "/home/cmd/.local/lib/python3.8/site-packages/xgboost/core.py:101: UserWarning: ntree_limit is deprecated, use `iteration_range` or model slicing instead.\n",
      "  warnings.warn(\n"
     ]
    },
    {
     "name": "stdout",
     "output_type": "stream",
     "text": [
      "[60]\ttrain-mlogloss:0.21141\ttest-mlogloss:0.40457\n",
      "[61]\ttrain-mlogloss:0.20975\ttest-mlogloss:0.40372\n",
      "[0]\ttrain-mlogloss:0.55174\ttest-mlogloss:0.54628\n",
      "[20]\ttrain-mlogloss:0.29946\ttest-mlogloss:0.29873\n",
      "[40]\ttrain-mlogloss:0.25860\ttest-mlogloss:0.29997\n"
     ]
    },
    {
     "name": "stderr",
     "output_type": "stream",
     "text": [
      "/home/cmd/.local/lib/python3.8/site-packages/xgboost/core.py:101: UserWarning: ntree_limit is deprecated, use `iteration_range` or model slicing instead.\n",
      "  warnings.warn(\n"
     ]
    },
    {
     "name": "stdout",
     "output_type": "stream",
     "text": [
      "[60]\ttrain-mlogloss:0.22578\ttest-mlogloss:0.30636\n",
      "[72]\ttrain-mlogloss:0.20949\ttest-mlogloss:0.30576\n",
      "[0]\ttrain-mlogloss:0.54517\ttest-mlogloss:0.55730\n",
      "[20]\ttrain-mlogloss:0.28041\ttest-mlogloss:0.38158\n",
      "[40]\ttrain-mlogloss:0.24124\ttest-mlogloss:0.38100\n"
     ]
    },
    {
     "name": "stderr",
     "output_type": "stream",
     "text": [
      "/home/cmd/.local/lib/python3.8/site-packages/xgboost/core.py:101: UserWarning: ntree_limit is deprecated, use `iteration_range` or model slicing instead.\n",
      "  warnings.warn(\n"
     ]
    },
    {
     "name": "stdout",
     "output_type": "stream",
     "text": [
      "[60]\ttrain-mlogloss:0.21100\ttest-mlogloss:0.39113\n",
      "[0]\ttrain-mlogloss:0.55022\ttest-mlogloss:0.54502\n",
      "[20]\ttrain-mlogloss:0.29577\ttest-mlogloss:0.32027\n"
     ]
    },
    {
     "name": "stderr",
     "output_type": "stream",
     "text": [
      "/home/cmd/.local/lib/python3.8/site-packages/xgboost/core.py:101: UserWarning: ntree_limit is deprecated, use `iteration_range` or model slicing instead.\n",
      "  warnings.warn(\n"
     ]
    },
    {
     "name": "stdout",
     "output_type": "stream",
     "text": [
      "[40]\ttrain-mlogloss:0.25411\ttest-mlogloss:0.32963\n",
      "[60]\ttrain-mlogloss:0.22515\ttest-mlogloss:0.34079\n",
      "[61]\ttrain-mlogloss:0.22369\ttest-mlogloss:0.34082\n",
      "\n",
      "16\n",
      "82949\n"
     ]
    },
    {
     "name": "stderr",
     "output_type": "stream",
     "text": [
      "/home/cmd/.local/lib/python3.8/site-packages/xgboost/core.py:101: UserWarning: ntree_limit is deprecated, use `iteration_range` or model slicing instead.\n",
      "  warnings.warn(\n"
     ]
    },
    {
     "name": "stdout",
     "output_type": "stream",
     "text": [
      "Mean cv log loss:  0.8402101806303135\n",
      "Mean cv accuracy:  0.689655172413793\n",
      "Mean cv log loss:  0.37023807447097506\n",
      "Mean cv accuracy:  0.8459770114942529\n",
      "Variance Captured  0.9807547294520417\n",
      "Mean cv log loss:  0.7838218758066064\n",
      "Mean cv accuracy:  0.6842911877394635\n",
      "Mean cv log loss:  0.40159207281002846\n",
      "Mean cv accuracy:  0.8324393358876117\n",
      "Mean cv log loss:  0.7647014294072647\n",
      "Mean cv accuracy:  0.6899106002554278\n",
      "Mean cv log loss:  0.380447848229488\n",
      "Mean cv accuracy:  0.8372924648786718\n",
      "Mean cv log loss:  0.8031393985109544\n",
      "Mean cv accuracy:  0.7085568326947638\n",
      "Mean cv log loss:  0.3400249312119375\n",
      "Mean cv accuracy:  0.856449553001277\n",
      "Variance Captured:  0.973138868196565\n",
      "Mean cv log loss:  0.8633340803888677\n",
      "Mean cv accuracy:  0.6518518518518518\n",
      "Mean cv log loss:  0.45468708126150803\n",
      "Mean cv accuracy:  0.7997445721583653\n",
      "Mean cv log loss:  0.8539727164751019\n",
      "Mean cv accuracy:  0.6475095785440613\n",
      "Mean cv log loss:  0.44316659809809067\n",
      "Mean cv accuracy:  0.8012771392081737\n",
      "Mean cv log loss:  0.8543303990925365\n",
      "Mean cv accuracy:  0.6960408684546616\n",
      "Mean cv log loss:  0.43815262122516546\n",
      "Mean cv accuracy:  0.8457215836526182\n",
      "[0]\ttrain-mlogloss:1.34064\ttest-mlogloss:1.34135\n",
      "[20]\ttrain-mlogloss:0.88384\ttest-mlogloss:0.89109\n",
      "[40]\ttrain-mlogloss:0.74352\ttest-mlogloss:0.75626\n",
      "[60]\ttrain-mlogloss:0.68723\ttest-mlogloss:0.71142\n",
      "[80]\ttrain-mlogloss:0.65609\ttest-mlogloss:0.69628\n",
      "[100]\ttrain-mlogloss:0.63368\ttest-mlogloss:0.69095\n",
      "[120]\ttrain-mlogloss:0.61454\ttest-mlogloss:0.69034\n",
      "[140]\ttrain-mlogloss:0.59768\ttest-mlogloss:0.69105\n",
      "[160]\ttrain-mlogloss:0.58193\ttest-mlogloss:0.69138\n",
      "[0]\ttrain-mlogloss:1.34037\ttest-mlogloss:1.34130\n",
      "[20]\ttrain-mlogloss:0.88104\ttest-mlogloss:0.89622\n"
     ]
    },
    {
     "name": "stderr",
     "output_type": "stream",
     "text": [
      "/home/cmd/.local/lib/python3.8/site-packages/xgboost/core.py:101: UserWarning: ntree_limit is deprecated, use `iteration_range` or model slicing instead.\n",
      "  warnings.warn(\n"
     ]
    },
    {
     "name": "stdout",
     "output_type": "stream",
     "text": [
      "[40]\ttrain-mlogloss:0.74016\ttest-mlogloss:0.76679\n",
      "[60]\ttrain-mlogloss:0.68334\ttest-mlogloss:0.72262\n",
      "[80]\ttrain-mlogloss:0.65227\ttest-mlogloss:0.70840\n",
      "[100]\ttrain-mlogloss:0.62973\ttest-mlogloss:0.70334\n",
      "[120]\ttrain-mlogloss:0.61064\ttest-mlogloss:0.70166\n",
      "[140]\ttrain-mlogloss:0.59331\ttest-mlogloss:0.70171\n",
      "[160]\ttrain-mlogloss:0.57757\ttest-mlogloss:0.70276\n",
      "[180]\ttrain-mlogloss:0.56317\ttest-mlogloss:0.70358\n",
      "[181]\ttrain-mlogloss:0.56249\ttest-mlogloss:0.70344\n",
      "[0]\ttrain-mlogloss:1.33963\ttest-mlogloss:1.34241\n",
      "[20]\ttrain-mlogloss:0.87271\ttest-mlogloss:0.91573\n"
     ]
    },
    {
     "name": "stderr",
     "output_type": "stream",
     "text": [
      "/home/cmd/.local/lib/python3.8/site-packages/xgboost/core.py:101: UserWarning: ntree_limit is deprecated, use `iteration_range` or model slicing instead.\n",
      "  warnings.warn(\n"
     ]
    },
    {
     "name": "stdout",
     "output_type": "stream",
     "text": [
      "[40]\ttrain-mlogloss:0.72956\ttest-mlogloss:0.79691\n",
      "[60]\ttrain-mlogloss:0.67283\ttest-mlogloss:0.75974\n",
      "[80]\ttrain-mlogloss:0.64245\ttest-mlogloss:0.74747\n",
      "[100]\ttrain-mlogloss:0.62135\ttest-mlogloss:0.74220\n",
      "[120]\ttrain-mlogloss:0.60332\ttest-mlogloss:0.74098\n",
      "[140]\ttrain-mlogloss:0.58710\ttest-mlogloss:0.74064\n",
      "[160]\ttrain-mlogloss:0.57178\ttest-mlogloss:0.74175\n",
      "[180]\ttrain-mlogloss:0.55778\ttest-mlogloss:0.74334\n",
      "[194]\ttrain-mlogloss:0.54787\ttest-mlogloss:0.74443\n",
      "[0]\ttrain-mlogloss:1.34127\ttest-mlogloss:1.33872\n",
      "[20]\ttrain-mlogloss:0.88638\ttest-mlogloss:0.87467\n"
     ]
    },
    {
     "name": "stderr",
     "output_type": "stream",
     "text": [
      "/home/cmd/.local/lib/python3.8/site-packages/xgboost/core.py:101: UserWarning: ntree_limit is deprecated, use `iteration_range` or model slicing instead.\n",
      "  warnings.warn(\n"
     ]
    },
    {
     "name": "stdout",
     "output_type": "stream",
     "text": [
      "[40]\ttrain-mlogloss:0.74633\ttest-mlogloss:0.73831\n",
      "[60]\ttrain-mlogloss:0.68926\ttest-mlogloss:0.69434\n",
      "[80]\ttrain-mlogloss:0.65815\ttest-mlogloss:0.67793\n",
      "[100]\ttrain-mlogloss:0.63523\ttest-mlogloss:0.67270\n",
      "[120]\ttrain-mlogloss:0.61574\ttest-mlogloss:0.67078\n",
      "[140]\ttrain-mlogloss:0.59848\ttest-mlogloss:0.67107\n",
      "[160]\ttrain-mlogloss:0.58264\ttest-mlogloss:0.67172\n",
      "[169]\ttrain-mlogloss:0.57574\ttest-mlogloss:0.67192\n",
      "[0]\ttrain-mlogloss:1.34040\ttest-mlogloss:1.34233\n",
      "[20]\ttrain-mlogloss:0.87919\ttest-mlogloss:0.90254\n"
     ]
    },
    {
     "name": "stderr",
     "output_type": "stream",
     "text": [
      "/home/cmd/.local/lib/python3.8/site-packages/xgboost/core.py:101: UserWarning: ntree_limit is deprecated, use `iteration_range` or model slicing instead.\n",
      "  warnings.warn(\n"
     ]
    },
    {
     "name": "stdout",
     "output_type": "stream",
     "text": [
      "[40]\ttrain-mlogloss:0.73778\ttest-mlogloss:0.77506\n",
      "[60]\ttrain-mlogloss:0.68116\ttest-mlogloss:0.73011\n",
      "[80]\ttrain-mlogloss:0.65049\ttest-mlogloss:0.71292\n",
      "[100]\ttrain-mlogloss:0.62790\ttest-mlogloss:0.70657\n",
      "[120]\ttrain-mlogloss:0.60884\ttest-mlogloss:0.70514\n",
      "[140]\ttrain-mlogloss:0.59139\ttest-mlogloss:0.70374\n",
      "[160]\ttrain-mlogloss:0.57587\ttest-mlogloss:0.70441\n",
      "[180]\ttrain-mlogloss:0.56153\ttest-mlogloss:0.70542\n",
      "[189]\ttrain-mlogloss:0.55538\ttest-mlogloss:0.70597\n",
      "[0]\ttrain-mlogloss:0.54346\ttest-mlogloss:0.54860\n",
      "[20]\ttrain-mlogloss:0.28088\ttest-mlogloss:0.34294\n",
      "[40]\ttrain-mlogloss:0.24098\ttest-mlogloss:0.34436\n"
     ]
    },
    {
     "name": "stderr",
     "output_type": "stream",
     "text": [
      "/home/cmd/.local/lib/python3.8/site-packages/xgboost/core.py:101: UserWarning: ntree_limit is deprecated, use `iteration_range` or model slicing instead.\n",
      "  warnings.warn(\n"
     ]
    },
    {
     "name": "stdout",
     "output_type": "stream",
     "text": [
      "[60]\ttrain-mlogloss:0.20612\ttest-mlogloss:0.35159\n",
      "[63]\ttrain-mlogloss:0.20199\ttest-mlogloss:0.35256\n",
      "[0]\ttrain-mlogloss:0.54509\ttest-mlogloss:0.54311\n",
      "[20]\ttrain-mlogloss:0.28321\ttest-mlogloss:0.32563\n",
      "[40]\ttrain-mlogloss:0.24758\ttest-mlogloss:0.33303\n"
     ]
    },
    {
     "name": "stderr",
     "output_type": "stream",
     "text": [
      "/home/cmd/.local/lib/python3.8/site-packages/xgboost/core.py:101: UserWarning: ntree_limit is deprecated, use `iteration_range` or model slicing instead.\n",
      "  warnings.warn(\n"
     ]
    },
    {
     "name": "stdout",
     "output_type": "stream",
     "text": [
      "[60]\ttrain-mlogloss:0.21616\ttest-mlogloss:0.34002\n",
      "[66]\ttrain-mlogloss:0.20807\ttest-mlogloss:0.34269\n",
      "[0]\ttrain-mlogloss:0.54278\ttest-mlogloss:0.55189\n",
      "[20]\ttrain-mlogloss:0.28169\ttest-mlogloss:0.33770\n",
      "[40]\ttrain-mlogloss:0.24346\ttest-mlogloss:0.34492\n"
     ]
    },
    {
     "name": "stderr",
     "output_type": "stream",
     "text": [
      "/home/cmd/.local/lib/python3.8/site-packages/xgboost/core.py:101: UserWarning: ntree_limit is deprecated, use `iteration_range` or model slicing instead.\n",
      "  warnings.warn(\n"
     ]
    },
    {
     "name": "stdout",
     "output_type": "stream",
     "text": [
      "[60]\ttrain-mlogloss:0.21374\ttest-mlogloss:0.35210\n",
      "[64]\ttrain-mlogloss:0.20924\ttest-mlogloss:0.35224\n",
      "[0]\ttrain-mlogloss:0.54760\ttest-mlogloss:0.53706\n",
      "[20]\ttrain-mlogloss:0.28778\ttest-mlogloss:0.30431\n",
      "[40]\ttrain-mlogloss:0.24771\ttest-mlogloss:0.30691\n"
     ]
    },
    {
     "name": "stderr",
     "output_type": "stream",
     "text": [
      "/home/cmd/.local/lib/python3.8/site-packages/xgboost/core.py:101: UserWarning: ntree_limit is deprecated, use `iteration_range` or model slicing instead.\n",
      "  warnings.warn(\n"
     ]
    },
    {
     "name": "stdout",
     "output_type": "stream",
     "text": [
      "[60]\ttrain-mlogloss:0.21549\ttest-mlogloss:0.30890\n",
      "[72]\ttrain-mlogloss:0.20082\ttest-mlogloss:0.31161\n",
      "[0]\ttrain-mlogloss:0.54281\ttest-mlogloss:0.55324\n",
      "[20]\ttrain-mlogloss:0.28059\ttest-mlogloss:0.34771\n",
      "[40]\ttrain-mlogloss:0.24061\ttest-mlogloss:0.35193\n"
     ]
    },
    {
     "name": "stderr",
     "output_type": "stream",
     "text": [
      "/home/cmd/.local/lib/python3.8/site-packages/xgboost/core.py:101: UserWarning: ntree_limit is deprecated, use `iteration_range` or model slicing instead.\n",
      "  warnings.warn(\n"
     ]
    },
    {
     "name": "stdout",
     "output_type": "stream",
     "text": [
      "[60]\ttrain-mlogloss:0.20888\ttest-mlogloss:0.35864\n",
      "[63]\ttrain-mlogloss:0.20420\ttest-mlogloss:0.35902\n",
      "\n",
      "17\n",
      "2698\n"
     ]
    },
    {
     "name": "stderr",
     "output_type": "stream",
     "text": [
      "/home/cmd/.local/lib/python3.8/site-packages/xgboost/core.py:101: UserWarning: ntree_limit is deprecated, use `iteration_range` or model slicing instead.\n",
      "  warnings.warn(\n"
     ]
    },
    {
     "name": "stdout",
     "output_type": "stream",
     "text": [
      "Mean cv log loss:  0.8426055476458189\n",
      "Mean cv accuracy:  0.691698595146871\n",
      "Mean cv log loss:  0.370577421147474\n",
      "Mean cv accuracy:  0.8464878671775224\n",
      "Variance Captured  0.9807547294520416\n",
      "Mean cv log loss:  0.7867727127590094\n",
      "Mean cv accuracy:  0.6776500638569605\n",
      "Mean cv log loss:  0.4016226618249458\n",
      "Mean cv accuracy:  0.834993614303959\n",
      "Mean cv log loss:  0.7687432188017548\n",
      "Mean cv accuracy:  0.686845466155811\n",
      "Mean cv log loss:  0.38815115392890803\n",
      "Mean cv accuracy:  0.8344827586206897\n",
      "Mean cv log loss:  0.812159627606731\n",
      "Mean cv accuracy:  0.6983397190293742\n",
      "Mean cv log loss:  0.351475374040129\n",
      "Mean cv accuracy:  0.8531289910600256\n",
      "Variance Captured:  0.9731388681965647\n",
      "Mean cv log loss:  0.8695829191992839\n",
      "Mean cv accuracy:  0.6531289910600255\n",
      "Mean cv log loss:  0.4577179834841093\n",
      "Mean cv accuracy:  0.7966794380587484\n",
      "Mean cv log loss:  0.8653074604533465\n",
      "Mean cv accuracy:  0.6528735632183909\n",
      "Mean cv log loss:  0.45037501987959877\n",
      "Mean cv accuracy:  0.7984674329501915\n",
      "Mean cv log loss:  0.8467223958880767\n",
      "Mean cv accuracy:  0.703448275862069\n",
      "Mean cv log loss:  0.4367796970530624\n",
      "Mean cv accuracy:  0.8495530012771393\n",
      "[0]\ttrain-mlogloss:1.34130\ttest-mlogloss:1.34218\n",
      "[20]\ttrain-mlogloss:0.88180\ttest-mlogloss:0.89508\n",
      "[40]\ttrain-mlogloss:0.74213\ttest-mlogloss:0.76310\n",
      "[60]\ttrain-mlogloss:0.68648\ttest-mlogloss:0.71736\n",
      "[80]\ttrain-mlogloss:0.65667\ttest-mlogloss:0.70261\n",
      "[100]\ttrain-mlogloss:0.63445\ttest-mlogloss:0.69750\n",
      "[120]\ttrain-mlogloss:0.61550\ttest-mlogloss:0.69664\n",
      "[140]\ttrain-mlogloss:0.59855\ttest-mlogloss:0.69944\n",
      "[160]\ttrain-mlogloss:0.58296\ttest-mlogloss:0.70120\n",
      "[167]\ttrain-mlogloss:0.57785\ttest-mlogloss:0.70210\n",
      "[0]\ttrain-mlogloss:1.34124\ttest-mlogloss:1.34116\n",
      "[20]\ttrain-mlogloss:0.88236\ttest-mlogloss:0.88705\n"
     ]
    },
    {
     "name": "stderr",
     "output_type": "stream",
     "text": [
      "/home/cmd/.local/lib/python3.8/site-packages/xgboost/core.py:101: UserWarning: ntree_limit is deprecated, use `iteration_range` or model slicing instead.\n",
      "  warnings.warn(\n"
     ]
    },
    {
     "name": "stdout",
     "output_type": "stream",
     "text": [
      "[40]\ttrain-mlogloss:0.74238\ttest-mlogloss:0.75535\n",
      "[60]\ttrain-mlogloss:0.68638\ttest-mlogloss:0.71241\n",
      "[80]\ttrain-mlogloss:0.65632\ttest-mlogloss:0.69722\n",
      "[100]\ttrain-mlogloss:0.63485\ttest-mlogloss:0.69120\n",
      "[120]\ttrain-mlogloss:0.61647\ttest-mlogloss:0.68984\n",
      "[140]\ttrain-mlogloss:0.60030\ttest-mlogloss:0.69093\n",
      "[160]\ttrain-mlogloss:0.58558\ttest-mlogloss:0.69120\n",
      "[164]\ttrain-mlogloss:0.58273\ttest-mlogloss:0.69124\n",
      "[0]\ttrain-mlogloss:1.34171\ttest-mlogloss:1.33929\n",
      "[20]\ttrain-mlogloss:0.88626\ttest-mlogloss:0.87252\n"
     ]
    },
    {
     "name": "stderr",
     "output_type": "stream",
     "text": [
      "/home/cmd/.local/lib/python3.8/site-packages/xgboost/core.py:101: UserWarning: ntree_limit is deprecated, use `iteration_range` or model slicing instead.\n",
      "  warnings.warn(\n"
     ]
    },
    {
     "name": "stdout",
     "output_type": "stream",
     "text": [
      "[40]\ttrain-mlogloss:0.74752\ttest-mlogloss:0.73927\n",
      "[60]\ttrain-mlogloss:0.69201\ttest-mlogloss:0.69950\n",
      "[80]\ttrain-mlogloss:0.66245\ttest-mlogloss:0.68527\n",
      "[100]\ttrain-mlogloss:0.64149\ttest-mlogloss:0.67860\n",
      "[120]\ttrain-mlogloss:0.62365\ttest-mlogloss:0.67675\n",
      "[140]\ttrain-mlogloss:0.60662\ttest-mlogloss:0.67601\n",
      "[160]\ttrain-mlogloss:0.59151\ttest-mlogloss:0.67556\n",
      "[180]\ttrain-mlogloss:0.57802\ttest-mlogloss:0.67420\n",
      "[200]\ttrain-mlogloss:0.56473\ttest-mlogloss:0.67373\n",
      "[220]\ttrain-mlogloss:0.55224\ttest-mlogloss:0.67416\n",
      "[234]\ttrain-mlogloss:0.54388\ttest-mlogloss:0.67417\n",
      "[0]\ttrain-mlogloss:1.34085\ttest-mlogloss:1.34272\n",
      "[20]\ttrain-mlogloss:0.87621\ttest-mlogloss:0.90938\n"
     ]
    },
    {
     "name": "stderr",
     "output_type": "stream",
     "text": [
      "/home/cmd/.local/lib/python3.8/site-packages/xgboost/core.py:101: UserWarning: ntree_limit is deprecated, use `iteration_range` or model slicing instead.\n",
      "  warnings.warn(\n"
     ]
    },
    {
     "name": "stdout",
     "output_type": "stream",
     "text": [
      "[40]\ttrain-mlogloss:0.73506\ttest-mlogloss:0.78719\n",
      "[60]\ttrain-mlogloss:0.67967\ttest-mlogloss:0.74858\n",
      "[80]\ttrain-mlogloss:0.64948\ttest-mlogloss:0.73669\n",
      "[100]\ttrain-mlogloss:0.62742\ttest-mlogloss:0.73303\n",
      "[120]\ttrain-mlogloss:0.60919\ttest-mlogloss:0.73422\n",
      "[140]\ttrain-mlogloss:0.59304\ttest-mlogloss:0.73640\n",
      "[159]\ttrain-mlogloss:0.57900\ttest-mlogloss:0.73860\n",
      "[0]\ttrain-mlogloss:1.34028\ttest-mlogloss:1.34324\n",
      "[20]\ttrain-mlogloss:0.87547\ttest-mlogloss:0.90524\n"
     ]
    },
    {
     "name": "stderr",
     "output_type": "stream",
     "text": [
      "/home/cmd/.local/lib/python3.8/site-packages/xgboost/core.py:101: UserWarning: ntree_limit is deprecated, use `iteration_range` or model slicing instead.\n",
      "  warnings.warn(\n"
     ]
    },
    {
     "name": "stdout",
     "output_type": "stream",
     "text": [
      "[40]\ttrain-mlogloss:0.73423\ttest-mlogloss:0.78432\n",
      "[60]\ttrain-mlogloss:0.67880\ttest-mlogloss:0.74801\n",
      "[80]\ttrain-mlogloss:0.64911\ttest-mlogloss:0.73634\n",
      "[100]\ttrain-mlogloss:0.62722\ttest-mlogloss:0.73276\n",
      "[120]\ttrain-mlogloss:0.60953\ttest-mlogloss:0.73158\n",
      "[140]\ttrain-mlogloss:0.59318\ttest-mlogloss:0.73126\n",
      "[160]\ttrain-mlogloss:0.57854\ttest-mlogloss:0.73251\n",
      "[180]\ttrain-mlogloss:0.56458\ttest-mlogloss:0.73372\n",
      "[0]\ttrain-mlogloss:0.54876\ttest-mlogloss:0.54365\n",
      "[20]\ttrain-mlogloss:0.29364\ttest-mlogloss:0.32057\n",
      "[40]\ttrain-mlogloss:0.25566\ttest-mlogloss:0.32319\n"
     ]
    },
    {
     "name": "stderr",
     "output_type": "stream",
     "text": [
      "/home/cmd/.local/lib/python3.8/site-packages/xgboost/core.py:101: UserWarning: ntree_limit is deprecated, use `iteration_range` or model slicing instead.\n",
      "  warnings.warn(\n"
     ]
    },
    {
     "name": "stdout",
     "output_type": "stream",
     "text": [
      "[60]\ttrain-mlogloss:0.22311\ttest-mlogloss:0.33039\n",
      "[64]\ttrain-mlogloss:0.21769\ttest-mlogloss:0.33220\n",
      "[0]\ttrain-mlogloss:0.54636\ttest-mlogloss:0.54654\n",
      "[20]\ttrain-mlogloss:0.28841\ttest-mlogloss:0.33472\n",
      "[40]\ttrain-mlogloss:0.24930\ttest-mlogloss:0.34624\n"
     ]
    },
    {
     "name": "stderr",
     "output_type": "stream",
     "text": [
      "/home/cmd/.local/lib/python3.8/site-packages/xgboost/core.py:101: UserWarning: ntree_limit is deprecated, use `iteration_range` or model slicing instead.\n",
      "  warnings.warn(\n"
     ]
    },
    {
     "name": "stdout",
     "output_type": "stream",
     "text": [
      "[60]\ttrain-mlogloss:0.21743\ttest-mlogloss:0.35290\n",
      "[0]\ttrain-mlogloss:0.55030\ttest-mlogloss:0.53934\n",
      "[20]\ttrain-mlogloss:0.29795\ttest-mlogloss:0.29838\n",
      "[40]\ttrain-mlogloss:0.25920\ttest-mlogloss:0.30068\n"
     ]
    },
    {
     "name": "stderr",
     "output_type": "stream",
     "text": [
      "/home/cmd/.local/lib/python3.8/site-packages/xgboost/core.py:101: UserWarning: ntree_limit is deprecated, use `iteration_range` or model slicing instead.\n",
      "  warnings.warn(\n"
     ]
    },
    {
     "name": "stdout",
     "output_type": "stream",
     "text": [
      "[60]\ttrain-mlogloss:0.23025\ttest-mlogloss:0.30385\n",
      "[65]\ttrain-mlogloss:0.22409\ttest-mlogloss:0.30372\n",
      "[0]\ttrain-mlogloss:0.54304\ttest-mlogloss:0.55556\n",
      "[20]\ttrain-mlogloss:0.27745\ttest-mlogloss:0.37863\n",
      "[40]\ttrain-mlogloss:0.23919\ttest-mlogloss:0.38384\n"
     ]
    },
    {
     "name": "stderr",
     "output_type": "stream",
     "text": [
      "/home/cmd/.local/lib/python3.8/site-packages/xgboost/core.py:101: UserWarning: ntree_limit is deprecated, use `iteration_range` or model slicing instead.\n",
      "  warnings.warn(\n"
     ]
    },
    {
     "name": "stdout",
     "output_type": "stream",
     "text": [
      "[60]\ttrain-mlogloss:0.20861\ttest-mlogloss:0.40095\n",
      "[0]\ttrain-mlogloss:0.54397\ttest-mlogloss:0.55438\n",
      "[20]\ttrain-mlogloss:0.28060\ttest-mlogloss:0.35749\n",
      "[40]\ttrain-mlogloss:0.24354\ttest-mlogloss:0.36120\n"
     ]
    },
    {
     "name": "stderr",
     "output_type": "stream",
     "text": [
      "/home/cmd/.local/lib/python3.8/site-packages/xgboost/core.py:101: UserWarning: ntree_limit is deprecated, use `iteration_range` or model slicing instead.\n",
      "  warnings.warn(\n"
     ]
    },
    {
     "name": "stdout",
     "output_type": "stream",
     "text": [
      "[60]\ttrain-mlogloss:0.21549\ttest-mlogloss:0.36435\n",
      "[61]\ttrain-mlogloss:0.21374\ttest-mlogloss:0.36390\n",
      "\n",
      "18\n",
      "98285\n"
     ]
    },
    {
     "name": "stderr",
     "output_type": "stream",
     "text": [
      "/home/cmd/.local/lib/python3.8/site-packages/xgboost/core.py:101: UserWarning: ntree_limit is deprecated, use `iteration_range` or model slicing instead.\n",
      "  warnings.warn(\n"
     ]
    },
    {
     "name": "stdout",
     "output_type": "stream",
     "text": [
      "Mean cv log loss:  0.8365896687005427\n",
      "Mean cv accuracy:  0.6901660280970626\n",
      "Mean cv log loss:  0.3738193013850925\n",
      "Mean cv accuracy:  0.8416347381864624\n",
      "Variance Captured  0.9807547294520416\n",
      "Mean cv log loss:  0.7747492326001049\n",
      "Mean cv accuracy:  0.6814814814814814\n",
      "Mean cv log loss:  0.3999187833489543\n",
      "Mean cv accuracy:  0.827330779054917\n",
      "Mean cv log loss:  0.760903444470991\n",
      "Mean cv accuracy:  0.6865900383141763\n",
      "Mean cv log loss:  0.38415463492878776\n",
      "Mean cv accuracy:  0.8326947637292464\n",
      "Mean cv log loss:  0.7890463667967584\n",
      "Mean cv accuracy:  0.7123882503192849\n",
      "Mean cv log loss:  0.3422594960377391\n",
      "Mean cv accuracy:  0.856449553001277\n",
      "Variance Captured:  0.9731388681965651\n",
      "Mean cv log loss:  0.8514334280184779\n",
      "Mean cv accuracy:  0.6584929757343551\n",
      "Mean cv log loss:  0.4502635722837307\n",
      "Mean cv accuracy:  0.7938697318007663\n",
      "Mean cv log loss:  0.8609326658796455\n",
      "Mean cv accuracy:  0.6490421455938697\n",
      "Mean cv log loss:  0.4479896484252497\n",
      "Mean cv accuracy:  0.7982120051085568\n",
      "Mean cv log loss:  0.840976179663777\n",
      "Mean cv accuracy:  0.6960408684546615\n",
      "Mean cv log loss:  0.4418879690759132\n",
      "Mean cv accuracy:  0.8395913154533844\n",
      "[0]\ttrain-mlogloss:1.33890\ttest-mlogloss:1.34072\n",
      "[20]\ttrain-mlogloss:0.87303\ttest-mlogloss:0.89637\n",
      "[40]\ttrain-mlogloss:0.73163\ttest-mlogloss:0.76523\n",
      "[60]\ttrain-mlogloss:0.67501\ttest-mlogloss:0.72005\n",
      "[80]\ttrain-mlogloss:0.64389\ttest-mlogloss:0.69937\n",
      "[100]\ttrain-mlogloss:0.62188\ttest-mlogloss:0.69266\n",
      "[120]\ttrain-mlogloss:0.60313\ttest-mlogloss:0.68912\n",
      "[140]\ttrain-mlogloss:0.58594\ttest-mlogloss:0.69029\n",
      "[160]\ttrain-mlogloss:0.57063\ttest-mlogloss:0.69126\n",
      "[170]\ttrain-mlogloss:0.56331\ttest-mlogloss:0.69256\n",
      "[0]\ttrain-mlogloss:1.33902\ttest-mlogloss:1.34016\n",
      "[20]\ttrain-mlogloss:0.87653\ttest-mlogloss:0.88717\n"
     ]
    },
    {
     "name": "stderr",
     "output_type": "stream",
     "text": [
      "/home/cmd/.local/lib/python3.8/site-packages/xgboost/core.py:101: UserWarning: ntree_limit is deprecated, use `iteration_range` or model slicing instead.\n",
      "  warnings.warn(\n"
     ]
    },
    {
     "name": "stdout",
     "output_type": "stream",
     "text": [
      "[40]\ttrain-mlogloss:0.73627\ttest-mlogloss:0.75183\n",
      "[60]\ttrain-mlogloss:0.68055\ttest-mlogloss:0.70572\n",
      "[80]\ttrain-mlogloss:0.65035\ttest-mlogloss:0.68843\n",
      "[100]\ttrain-mlogloss:0.62834\ttest-mlogloss:0.68322\n",
      "[120]\ttrain-mlogloss:0.60873\ttest-mlogloss:0.68203\n",
      "[140]\ttrain-mlogloss:0.59174\ttest-mlogloss:0.68256\n",
      "[160]\ttrain-mlogloss:0.57629\ttest-mlogloss:0.68401\n",
      "[178]\ttrain-mlogloss:0.56366\ttest-mlogloss:0.68515\n",
      "[0]\ttrain-mlogloss:1.33911\ttest-mlogloss:1.34136\n",
      "[20]\ttrain-mlogloss:0.87502\ttest-mlogloss:0.89615\n"
     ]
    },
    {
     "name": "stderr",
     "output_type": "stream",
     "text": [
      "/home/cmd/.local/lib/python3.8/site-packages/xgboost/core.py:101: UserWarning: ntree_limit is deprecated, use `iteration_range` or model slicing instead.\n",
      "  warnings.warn(\n"
     ]
    },
    {
     "name": "stdout",
     "output_type": "stream",
     "text": [
      "[40]\ttrain-mlogloss:0.73419\ttest-mlogloss:0.76572\n",
      "[60]\ttrain-mlogloss:0.67810\ttest-mlogloss:0.71980\n",
      "[80]\ttrain-mlogloss:0.64720\ttest-mlogloss:0.70147\n",
      "[100]\ttrain-mlogloss:0.62473\ttest-mlogloss:0.69386\n",
      "[120]\ttrain-mlogloss:0.60593\ttest-mlogloss:0.69236\n",
      "[140]\ttrain-mlogloss:0.58958\ttest-mlogloss:0.69131\n",
      "[160]\ttrain-mlogloss:0.57463\ttest-mlogloss:0.69154\n",
      "[180]\ttrain-mlogloss:0.56095\ttest-mlogloss:0.69367\n",
      "[194]\ttrain-mlogloss:0.55167\ttest-mlogloss:0.69447\n",
      "[0]\ttrain-mlogloss:1.33923\ttest-mlogloss:1.33874\n",
      "[20]\ttrain-mlogloss:0.87158\ttest-mlogloss:0.88882\n"
     ]
    },
    {
     "name": "stderr",
     "output_type": "stream",
     "text": [
      "/home/cmd/.local/lib/python3.8/site-packages/xgboost/core.py:101: UserWarning: ntree_limit is deprecated, use `iteration_range` or model slicing instead.\n",
      "  warnings.warn(\n"
     ]
    },
    {
     "name": "stdout",
     "output_type": "stream",
     "text": [
      "[40]\ttrain-mlogloss:0.72863\ttest-mlogloss:0.76459\n",
      "[60]\ttrain-mlogloss:0.67156\ttest-mlogloss:0.72574\n",
      "[80]\ttrain-mlogloss:0.63996\ttest-mlogloss:0.71205\n",
      "[100]\ttrain-mlogloss:0.61808\ttest-mlogloss:0.70861\n",
      "[120]\ttrain-mlogloss:0.59899\ttest-mlogloss:0.70845\n",
      "[140]\ttrain-mlogloss:0.58260\ttest-mlogloss:0.71110\n",
      "[160]\ttrain-mlogloss:0.56699\ttest-mlogloss:0.71316\n",
      "[161]\ttrain-mlogloss:0.56629\ttest-mlogloss:0.71330\n",
      "[0]\ttrain-mlogloss:1.33922\ttest-mlogloss:1.33883\n",
      "[20]\ttrain-mlogloss:0.87588\ttest-mlogloss:0.87919\n"
     ]
    },
    {
     "name": "stderr",
     "output_type": "stream",
     "text": [
      "/home/cmd/.local/lib/python3.8/site-packages/xgboost/core.py:101: UserWarning: ntree_limit is deprecated, use `iteration_range` or model slicing instead.\n",
      "  warnings.warn(\n"
     ]
    },
    {
     "name": "stdout",
     "output_type": "stream",
     "text": [
      "[40]\ttrain-mlogloss:0.73375\ttest-mlogloss:0.75143\n",
      "[60]\ttrain-mlogloss:0.67583\ttest-mlogloss:0.71082\n",
      "[80]\ttrain-mlogloss:0.64368\ttest-mlogloss:0.69644\n",
      "[100]\ttrain-mlogloss:0.62117\ttest-mlogloss:0.69102\n",
      "[120]\ttrain-mlogloss:0.60204\ttest-mlogloss:0.69087\n",
      "[140]\ttrain-mlogloss:0.58533\ttest-mlogloss:0.69151\n",
      "[160]\ttrain-mlogloss:0.57002\ttest-mlogloss:0.69276\n",
      "[176]\ttrain-mlogloss:0.55825\ttest-mlogloss:0.69472\n",
      "[0]\ttrain-mlogloss:0.54638\ttest-mlogloss:0.54291\n",
      "[20]\ttrain-mlogloss:0.28998\ttest-mlogloss:0.31318\n"
     ]
    },
    {
     "name": "stderr",
     "output_type": "stream",
     "text": [
      "/home/cmd/.local/lib/python3.8/site-packages/xgboost/core.py:101: UserWarning: ntree_limit is deprecated, use `iteration_range` or model slicing instead.\n",
      "  warnings.warn(\n"
     ]
    },
    {
     "name": "stdout",
     "output_type": "stream",
     "text": [
      "[40]\ttrain-mlogloss:0.25154\ttest-mlogloss:0.31153\n",
      "[60]\ttrain-mlogloss:0.21982\ttest-mlogloss:0.31663\n",
      "[80]\ttrain-mlogloss:0.19495\ttest-mlogloss:0.32538\n",
      "[83]\ttrain-mlogloss:0.19152\ttest-mlogloss:0.32711\n",
      "[0]\ttrain-mlogloss:0.54529\ttest-mlogloss:0.54615\n",
      "[20]\ttrain-mlogloss:0.29116\ttest-mlogloss:0.31374\n",
      "[40]\ttrain-mlogloss:0.25053\ttest-mlogloss:0.31609\n"
     ]
    },
    {
     "name": "stderr",
     "output_type": "stream",
     "text": [
      "/home/cmd/.local/lib/python3.8/site-packages/xgboost/core.py:101: UserWarning: ntree_limit is deprecated, use `iteration_range` or model slicing instead.\n",
      "  warnings.warn(\n"
     ]
    },
    {
     "name": "stdout",
     "output_type": "stream",
     "text": [
      "[60]\ttrain-mlogloss:0.21803\ttest-mlogloss:0.32186\n",
      "[67]\ttrain-mlogloss:0.20963\ttest-mlogloss:0.32318\n",
      "[0]\ttrain-mlogloss:0.54278\ttest-mlogloss:0.55120\n",
      "[20]\ttrain-mlogloss:0.28451\ttest-mlogloss:0.34766\n",
      "[40]\ttrain-mlogloss:0.24749\ttest-mlogloss:0.34781\n"
     ]
    },
    {
     "name": "stderr",
     "output_type": "stream",
     "text": [
      "/home/cmd/.local/lib/python3.8/site-packages/xgboost/core.py:101: UserWarning: ntree_limit is deprecated, use `iteration_range` or model slicing instead.\n",
      "  warnings.warn(\n"
     ]
    },
    {
     "name": "stdout",
     "output_type": "stream",
     "text": [
      "[60]\ttrain-mlogloss:0.21680\ttest-mlogloss:0.35178\n",
      "[63]\ttrain-mlogloss:0.21161\ttest-mlogloss:0.35068\n",
      "[0]\ttrain-mlogloss:0.54629\ttest-mlogloss:0.54460\n",
      "[20]\ttrain-mlogloss:0.28484\ttest-mlogloss:0.33908\n"
     ]
    },
    {
     "name": "stderr",
     "output_type": "stream",
     "text": [
      "/home/cmd/.local/lib/python3.8/site-packages/xgboost/core.py:101: UserWarning: ntree_limit is deprecated, use `iteration_range` or model slicing instead.\n",
      "  warnings.warn(\n"
     ]
    },
    {
     "name": "stdout",
     "output_type": "stream",
     "text": [
      "[40]\ttrain-mlogloss:0.24507\ttest-mlogloss:0.34750\n",
      "[60]\ttrain-mlogloss:0.21341\ttest-mlogloss:0.35609\n",
      "[61]\ttrain-mlogloss:0.21215\ttest-mlogloss:0.35540\n",
      "[0]\ttrain-mlogloss:0.54267\ttest-mlogloss:0.54799\n",
      "[20]\ttrain-mlogloss:0.28116\ttest-mlogloss:0.35030\n",
      "[40]\ttrain-mlogloss:0.24169\ttest-mlogloss:0.35565\n"
     ]
    },
    {
     "name": "stderr",
     "output_type": "stream",
     "text": [
      "/home/cmd/.local/lib/python3.8/site-packages/xgboost/core.py:101: UserWarning: ntree_limit is deprecated, use `iteration_range` or model slicing instead.\n",
      "  warnings.warn(\n"
     ]
    },
    {
     "name": "stdout",
     "output_type": "stream",
     "text": [
      "[60]\ttrain-mlogloss:0.21189\ttest-mlogloss:0.36734\n",
      "[66]\ttrain-mlogloss:0.20398\ttest-mlogloss:0.37141\n",
      "\n",
      "19\n",
      "78813\n"
     ]
    },
    {
     "name": "stderr",
     "output_type": "stream",
     "text": [
      "/home/cmd/.local/lib/python3.8/site-packages/xgboost/core.py:101: UserWarning: ntree_limit is deprecated, use `iteration_range` or model slicing instead.\n",
      "  warnings.warn(\n"
     ]
    },
    {
     "name": "stdout",
     "output_type": "stream",
     "text": [
      "Mean cv log loss:  0.8380249375400407\n",
      "Mean cv accuracy:  0.6881226053639847\n",
      "Mean cv log loss:  0.3727367113538655\n",
      "Mean cv accuracy:  0.8401021711366539\n",
      "Variance Captured  0.9807547294520415\n",
      "Mean cv log loss:  0.7849753983103902\n",
      "Mean cv accuracy:  0.6830140485312899\n",
      "Mean cv log loss:  0.4023511310346162\n",
      "Mean cv accuracy:  0.8306513409961687\n",
      "Mean cv log loss:  0.76114654774903\n",
      "Mean cv accuracy:  0.6860791826309067\n",
      "Mean cv log loss:  0.3864050571226505\n",
      "Mean cv accuracy:  0.8380587484035761\n",
      "Mean cv log loss:  0.8038719248300344\n",
      "Mean cv accuracy:  0.7093231162196679\n",
      "Mean cv log loss:  0.34717928670094356\n",
      "Mean cv accuracy:  0.854661558109834\n",
      "Variance Captured:  0.9731388681965651\n",
      "Mean cv log loss:  0.8610454332672554\n",
      "Mean cv accuracy:  0.6505747126436782\n",
      "Mean cv log loss:  0.45573994508412624\n",
      "Mean cv accuracy:  0.7877394636015327\n",
      "Mean cv log loss:  0.859068193935018\n",
      "Mean cv accuracy:  0.6413793103448275\n",
      "Mean cv log loss:  0.44721550812726996\n",
      "Mean cv accuracy:  0.7948914431673053\n",
      "Mean cv log loss:  0.8512393519449228\n",
      "Mean cv accuracy:  0.6973180076628352\n",
      "Mean cv log loss:  0.44894600910064375\n",
      "Mean cv accuracy:  0.8441890166028096\n",
      "[0]\ttrain-mlogloss:1.34098\ttest-mlogloss:1.34359\n",
      "[20]\ttrain-mlogloss:0.87731\ttest-mlogloss:0.90861\n",
      "[40]\ttrain-mlogloss:0.73621\ttest-mlogloss:0.78677\n",
      "[60]\ttrain-mlogloss:0.67861\ttest-mlogloss:0.74990\n",
      "[80]\ttrain-mlogloss:0.64776\ttest-mlogloss:0.73514\n",
      "[100]\ttrain-mlogloss:0.62590\ttest-mlogloss:0.73004\n",
      "[120]\ttrain-mlogloss:0.60759\ttest-mlogloss:0.72941\n",
      "[140]\ttrain-mlogloss:0.59103\ttest-mlogloss:0.73005\n",
      "[160]\ttrain-mlogloss:0.57477\ttest-mlogloss:0.73123\n",
      "[169]\ttrain-mlogloss:0.56819\ttest-mlogloss:0.73160\n",
      "[0]\ttrain-mlogloss:1.34171\ttest-mlogloss:1.34163\n",
      "[20]\ttrain-mlogloss:0.88244\ttest-mlogloss:0.89242\n"
     ]
    },
    {
     "name": "stderr",
     "output_type": "stream",
     "text": [
      "/home/cmd/.local/lib/python3.8/site-packages/xgboost/core.py:101: UserWarning: ntree_limit is deprecated, use `iteration_range` or model slicing instead.\n",
      "  warnings.warn(\n"
     ]
    },
    {
     "name": "stdout",
     "output_type": "stream",
     "text": [
      "[40]\ttrain-mlogloss:0.74264\ttest-mlogloss:0.76330\n",
      "[60]\ttrain-mlogloss:0.68532\ttest-mlogloss:0.72269\n",
      "[80]\ttrain-mlogloss:0.65485\ttest-mlogloss:0.70796\n",
      "[100]\ttrain-mlogloss:0.63217\ttest-mlogloss:0.70288\n",
      "[120]\ttrain-mlogloss:0.61415\ttest-mlogloss:0.70304\n",
      "[140]\ttrain-mlogloss:0.59812\ttest-mlogloss:0.70292\n",
      "[160]\ttrain-mlogloss:0.58341\ttest-mlogloss:0.70479\n",
      "[180]\ttrain-mlogloss:0.57001\ttest-mlogloss:0.70723\n",
      "[0]\ttrain-mlogloss:1.34163\ttest-mlogloss:1.34152\n",
      "[20]\ttrain-mlogloss:0.88312\ttest-mlogloss:0.89552\n"
     ]
    },
    {
     "name": "stderr",
     "output_type": "stream",
     "text": [
      "/home/cmd/.local/lib/python3.8/site-packages/xgboost/core.py:101: UserWarning: ntree_limit is deprecated, use `iteration_range` or model slicing instead.\n",
      "  warnings.warn(\n"
     ]
    },
    {
     "name": "stdout",
     "output_type": "stream",
     "text": [
      "[40]\ttrain-mlogloss:0.74444\ttest-mlogloss:0.76694\n",
      "[60]\ttrain-mlogloss:0.68902\ttest-mlogloss:0.72242\n",
      "[80]\ttrain-mlogloss:0.65904\ttest-mlogloss:0.70438\n",
      "[100]\ttrain-mlogloss:0.63632\ttest-mlogloss:0.69744\n",
      "[120]\ttrain-mlogloss:0.61717\ttest-mlogloss:0.69590\n",
      "[140]\ttrain-mlogloss:0.60004\ttest-mlogloss:0.69495\n",
      "[160]\ttrain-mlogloss:0.58410\ttest-mlogloss:0.69501\n",
      "[180]\ttrain-mlogloss:0.56935\ttest-mlogloss:0.69609\n",
      "[192]\ttrain-mlogloss:0.56084\ttest-mlogloss:0.69558\n",
      "[0]\ttrain-mlogloss:1.34219\ttest-mlogloss:1.34156\n",
      "[20]\ttrain-mlogloss:0.88776\ttest-mlogloss:0.88438\n"
     ]
    },
    {
     "name": "stderr",
     "output_type": "stream",
     "text": [
      "/home/cmd/.local/lib/python3.8/site-packages/xgboost/core.py:101: UserWarning: ntree_limit is deprecated, use `iteration_range` or model slicing instead.\n",
      "  warnings.warn(\n"
     ]
    },
    {
     "name": "stdout",
     "output_type": "stream",
     "text": [
      "[40]\ttrain-mlogloss:0.74888\ttest-mlogloss:0.74910\n",
      "[60]\ttrain-mlogloss:0.69279\ttest-mlogloss:0.70257\n",
      "[80]\ttrain-mlogloss:0.66340\ttest-mlogloss:0.68387\n",
      "[100]\ttrain-mlogloss:0.64263\ttest-mlogloss:0.67550\n",
      "[120]\ttrain-mlogloss:0.62503\ttest-mlogloss:0.67283\n",
      "[140]\ttrain-mlogloss:0.60877\ttest-mlogloss:0.67140\n",
      "[160]\ttrain-mlogloss:0.59336\ttest-mlogloss:0.67132\n",
      "[180]\ttrain-mlogloss:0.57902\ttest-mlogloss:0.67260\n",
      "[200]\ttrain-mlogloss:0.56495\ttest-mlogloss:0.67386\n",
      "[209]\ttrain-mlogloss:0.55925\ttest-mlogloss:0.67350\n",
      "[0]\ttrain-mlogloss:1.34139\ttest-mlogloss:1.34298\n",
      "[20]\ttrain-mlogloss:0.88116\ttest-mlogloss:0.89794\n"
     ]
    },
    {
     "name": "stderr",
     "output_type": "stream",
     "text": [
      "/home/cmd/.local/lib/python3.8/site-packages/xgboost/core.py:101: UserWarning: ntree_limit is deprecated, use `iteration_range` or model slicing instead.\n",
      "  warnings.warn(\n"
     ]
    },
    {
     "name": "stdout",
     "output_type": "stream",
     "text": [
      "[40]\ttrain-mlogloss:0.74100\ttest-mlogloss:0.77166\n",
      "[60]\ttrain-mlogloss:0.68476\ttest-mlogloss:0.73188\n",
      "[80]\ttrain-mlogloss:0.65553\ttest-mlogloss:0.71451\n",
      "[100]\ttrain-mlogloss:0.63423\ttest-mlogloss:0.70834\n",
      "[120]\ttrain-mlogloss:0.61602\ttest-mlogloss:0.70585\n",
      "[140]\ttrain-mlogloss:0.59921\ttest-mlogloss:0.70573\n",
      "[160]\ttrain-mlogloss:0.58318\ttest-mlogloss:0.70662\n",
      "[180]\ttrain-mlogloss:0.56845\ttest-mlogloss:0.70756\n",
      "[185]\ttrain-mlogloss:0.56459\ttest-mlogloss:0.70772\n",
      "[0]\ttrain-mlogloss:0.54669\ttest-mlogloss:0.55593\n",
      "[20]\ttrain-mlogloss:0.28587\ttest-mlogloss:0.35258\n",
      "[40]\ttrain-mlogloss:0.24618\ttest-mlogloss:0.35524\n"
     ]
    },
    {
     "name": "stderr",
     "output_type": "stream",
     "text": [
      "/home/cmd/.local/lib/python3.8/site-packages/xgboost/core.py:101: UserWarning: ntree_limit is deprecated, use `iteration_range` or model slicing instead.\n",
      "  warnings.warn(\n"
     ]
    },
    {
     "name": "stdout",
     "output_type": "stream",
     "text": [
      "[60]\ttrain-mlogloss:0.21478\ttest-mlogloss:0.35951\n",
      "[80]\ttrain-mlogloss:0.18702\ttest-mlogloss:0.37060\n",
      "[91]\ttrain-mlogloss:0.17298\ttest-mlogloss:0.37917\n",
      "[0]\ttrain-mlogloss:0.54920\ttest-mlogloss:0.55089\n",
      "[20]\ttrain-mlogloss:0.29203\ttest-mlogloss:0.32452\n",
      "[40]\ttrain-mlogloss:0.25260\ttest-mlogloss:0.33186\n"
     ]
    },
    {
     "name": "stderr",
     "output_type": "stream",
     "text": [
      "/home/cmd/.local/lib/python3.8/site-packages/xgboost/core.py:101: UserWarning: ntree_limit is deprecated, use `iteration_range` or model slicing instead.\n",
      "  warnings.warn(\n"
     ]
    },
    {
     "name": "stdout",
     "output_type": "stream",
     "text": [
      "[60]\ttrain-mlogloss:0.22301\ttest-mlogloss:0.33389\n",
      "[64]\ttrain-mlogloss:0.21688\ttest-mlogloss:0.33370\n",
      "[0]\ttrain-mlogloss:0.54473\ttest-mlogloss:0.55462\n",
      "[20]\ttrain-mlogloss:0.28376\ttest-mlogloss:0.34882\n",
      "[40]\ttrain-mlogloss:0.24549\ttest-mlogloss:0.35559\n"
     ]
    },
    {
     "name": "stderr",
     "output_type": "stream",
     "text": [
      "/home/cmd/.local/lib/python3.8/site-packages/xgboost/core.py:101: UserWarning: ntree_limit is deprecated, use `iteration_range` or model slicing instead.\n",
      "  warnings.warn(\n"
     ]
    },
    {
     "name": "stdout",
     "output_type": "stream",
     "text": [
      "[60]\ttrain-mlogloss:0.21494\ttest-mlogloss:0.36263\n",
      "[61]\ttrain-mlogloss:0.21344\ttest-mlogloss:0.36254\n",
      "[0]\ttrain-mlogloss:0.54922\ttest-mlogloss:0.54486\n",
      "[20]\ttrain-mlogloss:0.29331\ttest-mlogloss:0.32678\n",
      "[40]\ttrain-mlogloss:0.25334\ttest-mlogloss:0.33414\n"
     ]
    },
    {
     "name": "stderr",
     "output_type": "stream",
     "text": [
      "/home/cmd/.local/lib/python3.8/site-packages/xgboost/core.py:101: UserWarning: ntree_limit is deprecated, use `iteration_range` or model slicing instead.\n",
      "  warnings.warn(\n"
     ]
    },
    {
     "name": "stdout",
     "output_type": "stream",
     "text": [
      "[60]\ttrain-mlogloss:0.21941\ttest-mlogloss:0.33994\n",
      "[61]\ttrain-mlogloss:0.21801\ttest-mlogloss:0.34111\n",
      "[0]\ttrain-mlogloss:0.54768\ttest-mlogloss:0.54878\n",
      "[20]\ttrain-mlogloss:0.29001\ttest-mlogloss:0.33212\n",
      "[40]\ttrain-mlogloss:0.24864\ttest-mlogloss:0.34707\n"
     ]
    },
    {
     "name": "stderr",
     "output_type": "stream",
     "text": [
      "/home/cmd/.local/lib/python3.8/site-packages/xgboost/core.py:101: UserWarning: ntree_limit is deprecated, use `iteration_range` or model slicing instead.\n",
      "  warnings.warn(\n"
     ]
    },
    {
     "name": "stdout",
     "output_type": "stream",
     "text": [
      "[60]\ttrain-mlogloss:0.21746\ttest-mlogloss:0.35700\n",
      "[73]\ttrain-mlogloss:0.20000\ttest-mlogloss:0.36042\n",
      "\n",
      "20\n",
      "61090\n"
     ]
    },
    {
     "name": "stderr",
     "output_type": "stream",
     "text": [
      "/home/cmd/.local/lib/python3.8/site-packages/xgboost/core.py:101: UserWarning: ntree_limit is deprecated, use `iteration_range` or model slicing instead.\n",
      "  warnings.warn(\n"
     ]
    },
    {
     "name": "stdout",
     "output_type": "stream",
     "text": [
      "Mean cv log loss:  0.847910175947779\n",
      "Mean cv accuracy:  0.6827586206896552\n",
      "Mean cv log loss:  0.38033510030666423\n",
      "Mean cv accuracy:  0.8403575989782887\n",
      "Variance Captured  0.9807547294520417\n",
      "Mean cv log loss:  0.7984900239562676\n",
      "Mean cv accuracy:  0.6842911877394636\n",
      "Mean cv log loss:  0.402140334986618\n",
      "Mean cv accuracy:  0.8314176245210728\n",
      "Mean cv log loss:  0.7739433501141468\n",
      "Mean cv accuracy:  0.6881226053639846\n",
      "Mean cv log loss:  0.38624210169652795\n",
      "Mean cv accuracy:  0.8347381864623244\n",
      "Mean cv log loss:  0.8162101865940592\n",
      "Mean cv accuracy:  0.7001277139208174\n",
      "Mean cv log loss:  0.35634566716764204\n",
      "Mean cv accuracy:  0.8495530012771393\n",
      "Variance Captured:  0.9731388681965649\n",
      "Mean cv log loss:  0.8828166604358254\n",
      "Mean cv accuracy:  0.6464878671775224\n",
      "Mean cv log loss:  0.4591340998733255\n",
      "Mean cv accuracy:  0.7948914431673052\n",
      "Mean cv log loss:  0.8744022987417137\n",
      "Mean cv accuracy:  0.6436781609195402\n",
      "Mean cv log loss:  0.44708565505302034\n",
      "Mean cv accuracy:  0.7979565772669222\n",
      "Mean cv log loss:  0.8458529187295671\n",
      "Mean cv accuracy:  0.6937420178799488\n",
      "Mean cv log loss:  0.44187349762850464\n",
      "Mean cv accuracy:  0.8421455938697319\n",
      "[0]\ttrain-mlogloss:1.34134\ttest-mlogloss:1.34207\n",
      "[20]\ttrain-mlogloss:0.89069\ttest-mlogloss:0.89977\n",
      "[40]\ttrain-mlogloss:0.75216\ttest-mlogloss:0.77085\n",
      "[60]\ttrain-mlogloss:0.69573\ttest-mlogloss:0.72824\n",
      "[80]\ttrain-mlogloss:0.66542\ttest-mlogloss:0.71225\n",
      "[100]\ttrain-mlogloss:0.64398\ttest-mlogloss:0.70646\n",
      "[120]\ttrain-mlogloss:0.62512\ttest-mlogloss:0.70560\n",
      "[140]\ttrain-mlogloss:0.60866\ttest-mlogloss:0.70694\n",
      "[160]\ttrain-mlogloss:0.59347\ttest-mlogloss:0.70763\n",
      "[177]\ttrain-mlogloss:0.58131\ttest-mlogloss:0.70776\n",
      "[0]\ttrain-mlogloss:1.34080\ttest-mlogloss:1.34148\n",
      "[20]\ttrain-mlogloss:0.88936\ttest-mlogloss:0.89894\n"
     ]
    },
    {
     "name": "stderr",
     "output_type": "stream",
     "text": [
      "/home/cmd/.local/lib/python3.8/site-packages/xgboost/core.py:101: UserWarning: ntree_limit is deprecated, use `iteration_range` or model slicing instead.\n",
      "  warnings.warn(\n"
     ]
    },
    {
     "name": "stdout",
     "output_type": "stream",
     "text": [
      "[40]\ttrain-mlogloss:0.75114\ttest-mlogloss:0.76992\n",
      "[60]\ttrain-mlogloss:0.69516\ttest-mlogloss:0.72774\n",
      "[80]\ttrain-mlogloss:0.66514\ttest-mlogloss:0.71043\n",
      "[100]\ttrain-mlogloss:0.64410\ttest-mlogloss:0.70299\n",
      "[120]\ttrain-mlogloss:0.62556\ttest-mlogloss:0.70215\n",
      "[140]\ttrain-mlogloss:0.60874\ttest-mlogloss:0.70207\n",
      "[160]\ttrain-mlogloss:0.59273\ttest-mlogloss:0.70260\n",
      "[178]\ttrain-mlogloss:0.57906\ttest-mlogloss:0.70385\n",
      "[0]\ttrain-mlogloss:1.34027\ttest-mlogloss:1.34304\n",
      "[20]\ttrain-mlogloss:0.88536\ttest-mlogloss:0.91578\n"
     ]
    },
    {
     "name": "stderr",
     "output_type": "stream",
     "text": [
      "/home/cmd/.local/lib/python3.8/site-packages/xgboost/core.py:101: UserWarning: ntree_limit is deprecated, use `iteration_range` or model slicing instead.\n",
      "  warnings.warn(\n"
     ]
    },
    {
     "name": "stdout",
     "output_type": "stream",
     "text": [
      "[40]\ttrain-mlogloss:0.74508\ttest-mlogloss:0.79380\n",
      "[60]\ttrain-mlogloss:0.68869\ttest-mlogloss:0.75327\n",
      "[80]\ttrain-mlogloss:0.65893\ttest-mlogloss:0.73803\n",
      "[100]\ttrain-mlogloss:0.63772\ttest-mlogloss:0.73127\n",
      "[120]\ttrain-mlogloss:0.61940\ttest-mlogloss:0.72874\n",
      "[140]\ttrain-mlogloss:0.60300\ttest-mlogloss:0.72708\n",
      "[160]\ttrain-mlogloss:0.58781\ttest-mlogloss:0.72573\n",
      "[180]\ttrain-mlogloss:0.57370\ttest-mlogloss:0.72716\n",
      "[200]\ttrain-mlogloss:0.56037\ttest-mlogloss:0.72810\n",
      "[208]\ttrain-mlogloss:0.55539\ttest-mlogloss:0.72822\n",
      "[0]\ttrain-mlogloss:1.34098\ttest-mlogloss:1.34103\n",
      "[20]\ttrain-mlogloss:0.88738\ttest-mlogloss:0.90159\n"
     ]
    },
    {
     "name": "stderr",
     "output_type": "stream",
     "text": [
      "/home/cmd/.local/lib/python3.8/site-packages/xgboost/core.py:101: UserWarning: ntree_limit is deprecated, use `iteration_range` or model slicing instead.\n",
      "  warnings.warn(\n"
     ]
    },
    {
     "name": "stdout",
     "output_type": "stream",
     "text": [
      "[40]\ttrain-mlogloss:0.74694\ttest-mlogloss:0.77697\n",
      "[60]\ttrain-mlogloss:0.69033\ttest-mlogloss:0.73817\n",
      "[80]\ttrain-mlogloss:0.65953\ttest-mlogloss:0.72513\n",
      "[100]\ttrain-mlogloss:0.63819\ttest-mlogloss:0.72088\n",
      "[120]\ttrain-mlogloss:0.61975\ttest-mlogloss:0.71909\n",
      "[140]\ttrain-mlogloss:0.60372\ttest-mlogloss:0.71801\n",
      "[160]\ttrain-mlogloss:0.58894\ttest-mlogloss:0.71834\n",
      "[180]\ttrain-mlogloss:0.57469\ttest-mlogloss:0.71923\n",
      "[195]\ttrain-mlogloss:0.56444\ttest-mlogloss:0.71999\n",
      "[0]\ttrain-mlogloss:1.34068\ttest-mlogloss:1.34109\n",
      "[20]\ttrain-mlogloss:0.88935\ttest-mlogloss:0.90176\n"
     ]
    },
    {
     "name": "stderr",
     "output_type": "stream",
     "text": [
      "/home/cmd/.local/lib/python3.8/site-packages/xgboost/core.py:101: UserWarning: ntree_limit is deprecated, use `iteration_range` or model slicing instead.\n",
      "  warnings.warn(\n"
     ]
    },
    {
     "name": "stdout",
     "output_type": "stream",
     "text": [
      "[40]\ttrain-mlogloss:0.75084\ttest-mlogloss:0.77121\n",
      "[60]\ttrain-mlogloss:0.69568\ttest-mlogloss:0.72806\n",
      "[80]\ttrain-mlogloss:0.66585\ttest-mlogloss:0.71045\n",
      "[100]\ttrain-mlogloss:0.64538\ttest-mlogloss:0.70350\n",
      "[120]\ttrain-mlogloss:0.62763\ttest-mlogloss:0.70223\n",
      "[140]\ttrain-mlogloss:0.61184\ttest-mlogloss:0.70293\n",
      "[160]\ttrain-mlogloss:0.59754\ttest-mlogloss:0.70343\n",
      "[171]\ttrain-mlogloss:0.59021\ttest-mlogloss:0.70368\n",
      "[0]\ttrain-mlogloss:0.54797\ttest-mlogloss:0.55313\n",
      "[20]\ttrain-mlogloss:0.28859\ttest-mlogloss:0.35414\n"
     ]
    },
    {
     "name": "stderr",
     "output_type": "stream",
     "text": [
      "/home/cmd/.local/lib/python3.8/site-packages/xgboost/core.py:101: UserWarning: ntree_limit is deprecated, use `iteration_range` or model slicing instead.\n",
      "  warnings.warn(\n"
     ]
    },
    {
     "name": "stdout",
     "output_type": "stream",
     "text": [
      "[40]\ttrain-mlogloss:0.24852\ttest-mlogloss:0.36387\n",
      "[60]\ttrain-mlogloss:0.21833\ttest-mlogloss:0.37318\n",
      "[68]\ttrain-mlogloss:0.20649\ttest-mlogloss:0.37894\n",
      "[0]\ttrain-mlogloss:0.54935\ttest-mlogloss:0.55274\n",
      "[20]\ttrain-mlogloss:0.29029\ttest-mlogloss:0.34532\n",
      "[40]\ttrain-mlogloss:0.24933\ttest-mlogloss:0.35411\n"
     ]
    },
    {
     "name": "stderr",
     "output_type": "stream",
     "text": [
      "/home/cmd/.local/lib/python3.8/site-packages/xgboost/core.py:101: UserWarning: ntree_limit is deprecated, use `iteration_range` or model slicing instead.\n",
      "  warnings.warn(\n"
     ]
    },
    {
     "name": "stdout",
     "output_type": "stream",
     "text": [
      "[60]\ttrain-mlogloss:0.22049\ttest-mlogloss:0.35972\n",
      "[61]\ttrain-mlogloss:0.21889\ttest-mlogloss:0.36017\n",
      "[0]\ttrain-mlogloss:0.55015\ttest-mlogloss:0.54990\n",
      "[20]\ttrain-mlogloss:0.29698\ttest-mlogloss:0.32004\n",
      "[40]\ttrain-mlogloss:0.25557\ttest-mlogloss:0.32905\n"
     ]
    },
    {
     "name": "stderr",
     "output_type": "stream",
     "text": [
      "/home/cmd/.local/lib/python3.8/site-packages/xgboost/core.py:101: UserWarning: ntree_limit is deprecated, use `iteration_range` or model slicing instead.\n",
      "  warnings.warn(\n"
     ]
    },
    {
     "name": "stdout",
     "output_type": "stream",
     "text": [
      "[60]\ttrain-mlogloss:0.22562\ttest-mlogloss:0.33057\n",
      "[63]\ttrain-mlogloss:0.22147\ttest-mlogloss:0.33204\n",
      "[0]\ttrain-mlogloss:0.54831\ttest-mlogloss:0.55264\n",
      "[20]\ttrain-mlogloss:0.29459\ttest-mlogloss:0.33431\n",
      "[40]\ttrain-mlogloss:0.25535\ttest-mlogloss:0.34801\n"
     ]
    },
    {
     "name": "stderr",
     "output_type": "stream",
     "text": [
      "/home/cmd/.local/lib/python3.8/site-packages/xgboost/core.py:101: UserWarning: ntree_limit is deprecated, use `iteration_range` or model slicing instead.\n",
      "  warnings.warn(\n"
     ]
    },
    {
     "name": "stdout",
     "output_type": "stream",
     "text": [
      "[60]\ttrain-mlogloss:0.22424\ttest-mlogloss:0.34968\n",
      "[69]\ttrain-mlogloss:0.21238\ttest-mlogloss:0.34920\n",
      "[0]\ttrain-mlogloss:0.54887\ttest-mlogloss:0.55344\n",
      "[20]\ttrain-mlogloss:0.29375\ttest-mlogloss:0.33870\n",
      "[40]\ttrain-mlogloss:0.25327\ttest-mlogloss:0.34821\n"
     ]
    },
    {
     "name": "stderr",
     "output_type": "stream",
     "text": [
      "/home/cmd/.local/lib/python3.8/site-packages/xgboost/core.py:101: UserWarning: ntree_limit is deprecated, use `iteration_range` or model slicing instead.\n",
      "  warnings.warn(\n"
     ]
    },
    {
     "name": "stdout",
     "output_type": "stream",
     "text": [
      "[60]\ttrain-mlogloss:0.22122\ttest-mlogloss:0.35630\n",
      "[72]\ttrain-mlogloss:0.20449\ttest-mlogloss:0.35989\n",
      "\n",
      "21\n",
      "98774\n"
     ]
    },
    {
     "name": "stderr",
     "output_type": "stream",
     "text": [
      "/home/cmd/.local/lib/python3.8/site-packages/xgboost/core.py:101: UserWarning: ntree_limit is deprecated, use `iteration_range` or model slicing instead.\n",
      "  warnings.warn(\n"
     ]
    },
    {
     "name": "stdout",
     "output_type": "stream",
     "text": [
      "Mean cv log loss:  0.8368512942006123\n",
      "Mean cv accuracy:  0.6937420178799488\n",
      "Mean cv log loss:  0.3706001972830123\n",
      "Mean cv accuracy:  0.8469987228607918\n",
      "Variance Captured  0.9807547294520416\n",
      "Mean cv log loss:  0.7696388086893935\n",
      "Mean cv accuracy:  0.6837803320561943\n",
      "Mean cv log loss:  0.39063929188153707\n",
      "Mean cv accuracy:  0.8275862068965518\n",
      "Mean cv log loss:  0.7550689593113362\n",
      "Mean cv accuracy:  0.6919540229885057\n",
      "Mean cv log loss:  0.37365163586448125\n",
      "Mean cv accuracy:  0.8372924648786718\n",
      "Mean cv log loss:  0.8020155777745895\n",
      "Mean cv accuracy:  0.7134099616858237\n",
      "Mean cv log loss:  0.33880045778625617\n",
      "Mean cv accuracy:  0.8577266922094507\n",
      "Variance Captured:  0.973138868196565\n",
      "Mean cv log loss:  0.8569596652064562\n",
      "Mean cv accuracy:  0.648786717752235\n",
      "Mean cv log loss:  0.446545419922293\n",
      "Mean cv accuracy:  0.7905491698595146\n",
      "Mean cv log loss:  0.8535583306696267\n",
      "Mean cv accuracy:  0.6485312899106003\n",
      "Mean cv log loss:  0.4340503327354458\n",
      "Mean cv accuracy:  0.8048531289910599\n",
      "Mean cv log loss:  0.8299237458347388\n",
      "Mean cv accuracy:  0.7016602809706258\n",
      "Mean cv log loss:  0.43005768587962123\n",
      "Mean cv accuracy:  0.850830140485313\n",
      "[0]\ttrain-mlogloss:1.34173\ttest-mlogloss:1.34177\n",
      "[20]\ttrain-mlogloss:0.88546\ttest-mlogloss:0.88562\n",
      "[40]\ttrain-mlogloss:0.74584\ttest-mlogloss:0.75093\n",
      "[60]\ttrain-mlogloss:0.68907\ttest-mlogloss:0.70616\n",
      "[80]\ttrain-mlogloss:0.65888\ttest-mlogloss:0.69115\n",
      "[100]\ttrain-mlogloss:0.63686\ttest-mlogloss:0.68603\n",
      "[120]\ttrain-mlogloss:0.61740\ttest-mlogloss:0.68399\n",
      "[140]\ttrain-mlogloss:0.60029\ttest-mlogloss:0.68320\n",
      "[160]\ttrain-mlogloss:0.58508\ttest-mlogloss:0.68459\n",
      "[180]\ttrain-mlogloss:0.57139\ttest-mlogloss:0.68499\n",
      "[183]\ttrain-mlogloss:0.56968\ttest-mlogloss:0.68522\n",
      "[0]\ttrain-mlogloss:1.34166\ttest-mlogloss:1.34277\n",
      "[20]\ttrain-mlogloss:0.88537\ttest-mlogloss:0.88843\n"
     ]
    },
    {
     "name": "stderr",
     "output_type": "stream",
     "text": [
      "/home/cmd/.local/lib/python3.8/site-packages/xgboost/core.py:101: UserWarning: ntree_limit is deprecated, use `iteration_range` or model slicing instead.\n",
      "  warnings.warn(\n"
     ]
    },
    {
     "name": "stdout",
     "output_type": "stream",
     "text": [
      "[40]\ttrain-mlogloss:0.74639\ttest-mlogloss:0.75502\n",
      "[60]\ttrain-mlogloss:0.69086\ttest-mlogloss:0.70965\n",
      "[80]\ttrain-mlogloss:0.66105\ttest-mlogloss:0.68963\n",
      "[100]\ttrain-mlogloss:0.63847\ttest-mlogloss:0.68062\n",
      "[120]\ttrain-mlogloss:0.61908\ttest-mlogloss:0.67776\n",
      "[140]\ttrain-mlogloss:0.60146\ttest-mlogloss:0.67677\n",
      "[160]\ttrain-mlogloss:0.58564\ttest-mlogloss:0.67711\n",
      "[180]\ttrain-mlogloss:0.57163\ttest-mlogloss:0.67813\n",
      "[190]\ttrain-mlogloss:0.56490\ttest-mlogloss:0.67922\n",
      "[0]\ttrain-mlogloss:1.34199\ttest-mlogloss:1.34197\n",
      "[20]\ttrain-mlogloss:0.88687\ttest-mlogloss:0.88418\n"
     ]
    },
    {
     "name": "stderr",
     "output_type": "stream",
     "text": [
      "/home/cmd/.local/lib/python3.8/site-packages/xgboost/core.py:101: UserWarning: ntree_limit is deprecated, use `iteration_range` or model slicing instead.\n",
      "  warnings.warn(\n"
     ]
    },
    {
     "name": "stdout",
     "output_type": "stream",
     "text": [
      "[40]\ttrain-mlogloss:0.74849\ttest-mlogloss:0.74797\n",
      "[60]\ttrain-mlogloss:0.69237\ttest-mlogloss:0.69931\n",
      "[80]\ttrain-mlogloss:0.66242\ttest-mlogloss:0.68232\n",
      "[100]\ttrain-mlogloss:0.63984\ttest-mlogloss:0.67697\n",
      "[120]\ttrain-mlogloss:0.61994\ttest-mlogloss:0.67604\n",
      "[140]\ttrain-mlogloss:0.60264\ttest-mlogloss:0.67711\n",
      "[160]\ttrain-mlogloss:0.58678\ttest-mlogloss:0.67858\n",
      "[167]\ttrain-mlogloss:0.58134\ttest-mlogloss:0.67959\n",
      "[0]\ttrain-mlogloss:1.34100\ttest-mlogloss:1.34403\n",
      "[20]\ttrain-mlogloss:0.87441\ttest-mlogloss:0.92076\n"
     ]
    },
    {
     "name": "stderr",
     "output_type": "stream",
     "text": [
      "/home/cmd/.local/lib/python3.8/site-packages/xgboost/core.py:101: UserWarning: ntree_limit is deprecated, use `iteration_range` or model slicing instead.\n",
      "  warnings.warn(\n"
     ]
    },
    {
     "name": "stdout",
     "output_type": "stream",
     "text": [
      "[40]\ttrain-mlogloss:0.73245\ttest-mlogloss:0.79953\n",
      "[60]\ttrain-mlogloss:0.67458\ttest-mlogloss:0.76018\n",
      "[80]\ttrain-mlogloss:0.64471\ttest-mlogloss:0.74521\n",
      "[100]\ttrain-mlogloss:0.62293\ttest-mlogloss:0.73937\n",
      "[120]\ttrain-mlogloss:0.60390\ttest-mlogloss:0.73689\n",
      "[140]\ttrain-mlogloss:0.58620\ttest-mlogloss:0.73728\n",
      "[160]\ttrain-mlogloss:0.56999\ttest-mlogloss:0.73843\n",
      "[177]\ttrain-mlogloss:0.55739\ttest-mlogloss:0.73943\n",
      "[0]\ttrain-mlogloss:1.34078\ttest-mlogloss:1.34378\n",
      "[20]\ttrain-mlogloss:0.87265\ttest-mlogloss:0.91722\n"
     ]
    },
    {
     "name": "stderr",
     "output_type": "stream",
     "text": [
      "/home/cmd/.local/lib/python3.8/site-packages/xgboost/core.py:101: UserWarning: ntree_limit is deprecated, use `iteration_range` or model slicing instead.\n",
      "  warnings.warn(\n"
     ]
    },
    {
     "name": "stdout",
     "output_type": "stream",
     "text": [
      "[40]\ttrain-mlogloss:0.72967\ttest-mlogloss:0.80053\n",
      "[60]\ttrain-mlogloss:0.67182\ttest-mlogloss:0.76322\n",
      "[80]\ttrain-mlogloss:0.64077\ttest-mlogloss:0.75245\n",
      "[100]\ttrain-mlogloss:0.61830\ttest-mlogloss:0.74974\n",
      "[120]\ttrain-mlogloss:0.59868\ttest-mlogloss:0.75157\n",
      "[140]\ttrain-mlogloss:0.58131\ttest-mlogloss:0.75388\n",
      "[149]\ttrain-mlogloss:0.57403\ttest-mlogloss:0.75553\n",
      "[0]\ttrain-mlogloss:0.54812\ttest-mlogloss:0.53865\n",
      "[20]\ttrain-mlogloss:0.29058\ttest-mlogloss:0.29412\n"
     ]
    },
    {
     "name": "stderr",
     "output_type": "stream",
     "text": [
      "/home/cmd/.local/lib/python3.8/site-packages/xgboost/core.py:101: UserWarning: ntree_limit is deprecated, use `iteration_range` or model slicing instead.\n",
      "  warnings.warn(\n"
     ]
    },
    {
     "name": "stdout",
     "output_type": "stream",
     "text": [
      "[40]\ttrain-mlogloss:0.25186\ttest-mlogloss:0.29377\n",
      "[60]\ttrain-mlogloss:0.22294\ttest-mlogloss:0.29903\n",
      "[80]\ttrain-mlogloss:0.19663\ttest-mlogloss:0.30682\n",
      "[87]\ttrain-mlogloss:0.18885\ttest-mlogloss:0.30741\n",
      "[0]\ttrain-mlogloss:0.54392\ttest-mlogloss:0.54885\n",
      "[20]\ttrain-mlogloss:0.28298\ttest-mlogloss:0.33257\n"
     ]
    },
    {
     "name": "stderr",
     "output_type": "stream",
     "text": [
      "/home/cmd/.local/lib/python3.8/site-packages/xgboost/core.py:101: UserWarning: ntree_limit is deprecated, use `iteration_range` or model slicing instead.\n",
      "  warnings.warn(\n"
     ]
    },
    {
     "name": "stdout",
     "output_type": "stream",
     "text": [
      "[40]\ttrain-mlogloss:0.24184\ttest-mlogloss:0.34249\n",
      "[60]\ttrain-mlogloss:0.21320\ttest-mlogloss:0.34826\n",
      "[62]\ttrain-mlogloss:0.21039\ttest-mlogloss:0.34711\n",
      "[0]\ttrain-mlogloss:0.54599\ttest-mlogloss:0.54456\n",
      "[20]\ttrain-mlogloss:0.28957\ttest-mlogloss:0.30674\n"
     ]
    },
    {
     "name": "stderr",
     "output_type": "stream",
     "text": [
      "/home/cmd/.local/lib/python3.8/site-packages/xgboost/core.py:101: UserWarning: ntree_limit is deprecated, use `iteration_range` or model slicing instead.\n",
      "  warnings.warn(\n"
     ]
    },
    {
     "name": "stdout",
     "output_type": "stream",
     "text": [
      "[40]\ttrain-mlogloss:0.24938\ttest-mlogloss:0.31697\n",
      "[60]\ttrain-mlogloss:0.22038\ttest-mlogloss:0.31689\n",
      "[65]\ttrain-mlogloss:0.21363\ttest-mlogloss:0.31797\n",
      "[0]\ttrain-mlogloss:0.53999\ttest-mlogloss:0.55640\n",
      "[20]\ttrain-mlogloss:0.26875\ttest-mlogloss:0.39022\n"
     ]
    },
    {
     "name": "stderr",
     "output_type": "stream",
     "text": [
      "/home/cmd/.local/lib/python3.8/site-packages/xgboost/core.py:101: UserWarning: ntree_limit is deprecated, use `iteration_range` or model slicing instead.\n",
      "  warnings.warn(\n"
     ]
    },
    {
     "name": "stdout",
     "output_type": "stream",
     "text": [
      "[40]\ttrain-mlogloss:0.22872\ttest-mlogloss:0.41044\n",
      "[59]\ttrain-mlogloss:0.19891\ttest-mlogloss:0.42725\n",
      "[0]\ttrain-mlogloss:0.54385\ttest-mlogloss:0.54993\n",
      "[20]\ttrain-mlogloss:0.27862\ttest-mlogloss:0.33903\n"
     ]
    },
    {
     "name": "stderr",
     "output_type": "stream",
     "text": [
      "/home/cmd/.local/lib/python3.8/site-packages/xgboost/core.py:101: UserWarning: ntree_limit is deprecated, use `iteration_range` or model slicing instead.\n",
      "  warnings.warn(\n"
     ]
    },
    {
     "name": "stdout",
     "output_type": "stream",
     "text": [
      "[40]\ttrain-mlogloss:0.24030\ttest-mlogloss:0.35005\n",
      "[59]\ttrain-mlogloss:0.20962\ttest-mlogloss:0.36246\n",
      "\n",
      "22\n",
      "6161\n"
     ]
    },
    {
     "name": "stderr",
     "output_type": "stream",
     "text": [
      "/home/cmd/.local/lib/python3.8/site-packages/xgboost/core.py:101: UserWarning: ntree_limit is deprecated, use `iteration_range` or model slicing instead.\n",
      "  warnings.warn(\n"
     ]
    },
    {
     "name": "stdout",
     "output_type": "stream",
     "text": [
      "Mean cv log loss:  0.8334751205756993\n",
      "Mean cv accuracy:  0.6873563218390805\n",
      "Mean cv log loss:  0.3649358512940487\n",
      "Mean cv accuracy:  0.8477650063856961\n",
      "Variance Captured  0.9807547294520417\n",
      "Mean cv log loss:  0.7748690749545307\n",
      "Mean cv accuracy:  0.675095785440613\n",
      "Mean cv log loss:  0.39154135530162915\n",
      "Mean cv accuracy:  0.8309067688378032\n",
      "Mean cv log loss:  0.7557652333712769\n",
      "Mean cv accuracy:  0.6796934865900383\n",
      "Mean cv log loss:  0.37577935810331936\n",
      "Mean cv accuracy:  0.835249042145594\n",
      "Mean cv log loss:  0.8054119825621882\n",
      "Mean cv accuracy:  0.7054916985951468\n",
      "Mean cv log loss:  0.3444215469078696\n",
      "Mean cv accuracy:  0.8628352490421456\n",
      "Variance Captured:  0.9731388681965649\n",
      "Mean cv log loss:  0.8587795782321805\n",
      "Mean cv accuracy:  0.6515964240102171\n",
      "Mean cv log loss:  0.4416324581142682\n",
      "Mean cv accuracy:  0.8012771392081737\n",
      "Mean cv log loss:  0.8522392307293443\n",
      "Mean cv accuracy:  0.6515964240102171\n",
      "Mean cv log loss:  0.4311770803998261\n",
      "Mean cv accuracy:  0.8030651340996169\n",
      "Mean cv log loss:  0.8418571637038251\n",
      "Mean cv accuracy:  0.6922094508301405\n",
      "Mean cv log loss:  0.4396503629393947\n",
      "Mean cv accuracy:  0.8452107279693486\n",
      "[0]\ttrain-mlogloss:1.33886\ttest-mlogloss:1.34074\n",
      "[20]\ttrain-mlogloss:0.87043\ttest-mlogloss:0.90980\n",
      "[40]\ttrain-mlogloss:0.72537\ttest-mlogloss:0.79260\n",
      "[60]\ttrain-mlogloss:0.66717\ttest-mlogloss:0.75900\n",
      "[80]\ttrain-mlogloss:0.63616\ttest-mlogloss:0.74810\n",
      "[100]\ttrain-mlogloss:0.61453\ttest-mlogloss:0.74745\n",
      "[120]\ttrain-mlogloss:0.59588\ttest-mlogloss:0.74787\n",
      "[140]\ttrain-mlogloss:0.57894\ttest-mlogloss:0.74985\n",
      "[142]\ttrain-mlogloss:0.57734\ttest-mlogloss:0.75033\n",
      "[0]\ttrain-mlogloss:1.33933\ttest-mlogloss:1.34032\n",
      "[20]\ttrain-mlogloss:0.87693\ttest-mlogloss:0.89120\n"
     ]
    },
    {
     "name": "stderr",
     "output_type": "stream",
     "text": [
      "/home/cmd/.local/lib/python3.8/site-packages/xgboost/core.py:101: UserWarning: ntree_limit is deprecated, use `iteration_range` or model slicing instead.\n",
      "  warnings.warn(\n"
     ]
    },
    {
     "name": "stdout",
     "output_type": "stream",
     "text": [
      "[40]\ttrain-mlogloss:0.73449\ttest-mlogloss:0.76276\n",
      "[60]\ttrain-mlogloss:0.67791\ttest-mlogloss:0.72019\n",
      "[80]\ttrain-mlogloss:0.64889\ttest-mlogloss:0.70482\n",
      "[100]\ttrain-mlogloss:0.62775\ttest-mlogloss:0.69797\n",
      "[120]\ttrain-mlogloss:0.60997\ttest-mlogloss:0.69594\n",
      "[140]\ttrain-mlogloss:0.59370\ttest-mlogloss:0.69434\n",
      "[160]\ttrain-mlogloss:0.57835\ttest-mlogloss:0.69431\n",
      "[180]\ttrain-mlogloss:0.56425\ttest-mlogloss:0.69438\n",
      "[195]\ttrain-mlogloss:0.55417\ttest-mlogloss:0.69461\n",
      "[0]\ttrain-mlogloss:1.34001\ttest-mlogloss:1.33918\n",
      "[20]\ttrain-mlogloss:0.88262\ttest-mlogloss:0.87705\n"
     ]
    },
    {
     "name": "stderr",
     "output_type": "stream",
     "text": [
      "/home/cmd/.local/lib/python3.8/site-packages/xgboost/core.py:101: UserWarning: ntree_limit is deprecated, use `iteration_range` or model slicing instead.\n",
      "  warnings.warn(\n"
     ]
    },
    {
     "name": "stdout",
     "output_type": "stream",
     "text": [
      "[40]\ttrain-mlogloss:0.74130\ttest-mlogloss:0.74178\n",
      "[60]\ttrain-mlogloss:0.68451\ttest-mlogloss:0.69981\n",
      "[80]\ttrain-mlogloss:0.65456\ttest-mlogloss:0.68344\n",
      "[100]\ttrain-mlogloss:0.63440\ttest-mlogloss:0.67698\n",
      "[120]\ttrain-mlogloss:0.61603\ttest-mlogloss:0.67387\n",
      "[140]\ttrain-mlogloss:0.59951\ttest-mlogloss:0.67250\n",
      "[160]\ttrain-mlogloss:0.58479\ttest-mlogloss:0.67311\n",
      "[180]\ttrain-mlogloss:0.57066\ttest-mlogloss:0.67343\n",
      "[190]\ttrain-mlogloss:0.56380\ttest-mlogloss:0.67367\n",
      "[0]\ttrain-mlogloss:1.33984\ttest-mlogloss:1.33969\n",
      "[20]\ttrain-mlogloss:0.88284\ttest-mlogloss:0.87879\n"
     ]
    },
    {
     "name": "stderr",
     "output_type": "stream",
     "text": [
      "/home/cmd/.local/lib/python3.8/site-packages/xgboost/core.py:101: UserWarning: ntree_limit is deprecated, use `iteration_range` or model slicing instead.\n",
      "  warnings.warn(\n"
     ]
    },
    {
     "name": "stdout",
     "output_type": "stream",
     "text": [
      "[40]\ttrain-mlogloss:0.74218\ttest-mlogloss:0.74160\n",
      "[60]\ttrain-mlogloss:0.68582\ttest-mlogloss:0.69504\n",
      "[80]\ttrain-mlogloss:0.65644\ttest-mlogloss:0.67562\n",
      "[100]\ttrain-mlogloss:0.63615\ttest-mlogloss:0.66727\n",
      "[120]\ttrain-mlogloss:0.61831\ttest-mlogloss:0.66455\n",
      "[140]\ttrain-mlogloss:0.60219\ttest-mlogloss:0.66270\n",
      "[160]\ttrain-mlogloss:0.58739\ttest-mlogloss:0.66268\n",
      "[180]\ttrain-mlogloss:0.57342\ttest-mlogloss:0.66315\n",
      "[200]\ttrain-mlogloss:0.55979\ttest-mlogloss:0.66363\n",
      "[208]\ttrain-mlogloss:0.55477\ttest-mlogloss:0.66431\n",
      "[0]\ttrain-mlogloss:1.33936\ttest-mlogloss:1.34108\n",
      "[20]\ttrain-mlogloss:0.87569\ttest-mlogloss:0.90109\n"
     ]
    },
    {
     "name": "stderr",
     "output_type": "stream",
     "text": [
      "/home/cmd/.local/lib/python3.8/site-packages/xgboost/core.py:101: UserWarning: ntree_limit is deprecated, use `iteration_range` or model slicing instead.\n",
      "  warnings.warn(\n"
     ]
    },
    {
     "name": "stdout",
     "output_type": "stream",
     "text": [
      "[40]\ttrain-mlogloss:0.73389\ttest-mlogloss:0.77146\n",
      "[60]\ttrain-mlogloss:0.67698\ttest-mlogloss:0.72854\n",
      "[80]\ttrain-mlogloss:0.64652\ttest-mlogloss:0.71244\n",
      "[100]\ttrain-mlogloss:0.62533\ttest-mlogloss:0.70590\n",
      "[120]\ttrain-mlogloss:0.60726\ttest-mlogloss:0.70591\n",
      "[140]\ttrain-mlogloss:0.59065\ttest-mlogloss:0.70642\n",
      "[160]\ttrain-mlogloss:0.57600\ttest-mlogloss:0.70716\n",
      "[174]\ttrain-mlogloss:0.56615\ttest-mlogloss:0.70720\n",
      "[0]\ttrain-mlogloss:0.54418\ttest-mlogloss:0.54868\n",
      "[20]\ttrain-mlogloss:0.28543\ttest-mlogloss:0.32117\n"
     ]
    },
    {
     "name": "stderr",
     "output_type": "stream",
     "text": [
      "/home/cmd/.local/lib/python3.8/site-packages/xgboost/core.py:101: UserWarning: ntree_limit is deprecated, use `iteration_range` or model slicing instead.\n",
      "  warnings.warn(\n"
     ]
    },
    {
     "name": "stdout",
     "output_type": "stream",
     "text": [
      "[40]\ttrain-mlogloss:0.24713\ttest-mlogloss:0.32915\n",
      "[60]\ttrain-mlogloss:0.21471\ttest-mlogloss:0.33794\n",
      "[69]\ttrain-mlogloss:0.20171\ttest-mlogloss:0.34298\n",
      "[0]\ttrain-mlogloss:0.54438\ttest-mlogloss:0.54519\n",
      "[20]\ttrain-mlogloss:0.28818\ttest-mlogloss:0.31520\n"
     ]
    },
    {
     "name": "stderr",
     "output_type": "stream",
     "text": [
      "/home/cmd/.local/lib/python3.8/site-packages/xgboost/core.py:101: UserWarning: ntree_limit is deprecated, use `iteration_range` or model slicing instead.\n",
      "  warnings.warn(\n"
     ]
    },
    {
     "name": "stdout",
     "output_type": "stream",
     "text": [
      "[40]\ttrain-mlogloss:0.25025\ttest-mlogloss:0.31739\n",
      "[60]\ttrain-mlogloss:0.22176\ttest-mlogloss:0.31558\n",
      "[80]\ttrain-mlogloss:0.19532\ttest-mlogloss:0.31491\n",
      "[100]\ttrain-mlogloss:0.17414\ttest-mlogloss:0.32132\n",
      "[104]\ttrain-mlogloss:0.17007\ttest-mlogloss:0.32224\n",
      "[0]\ttrain-mlogloss:0.54333\ttest-mlogloss:0.54665\n",
      "[20]\ttrain-mlogloss:0.28347\ttest-mlogloss:0.35270\n"
     ]
    },
    {
     "name": "stderr",
     "output_type": "stream",
     "text": [
      "/home/cmd/.local/lib/python3.8/site-packages/xgboost/core.py:101: UserWarning: ntree_limit is deprecated, use `iteration_range` or model slicing instead.\n",
      "  warnings.warn(\n"
     ]
    },
    {
     "name": "stdout",
     "output_type": "stream",
     "text": [
      "[40]\ttrain-mlogloss:0.24528\ttest-mlogloss:0.35306\n",
      "[60]\ttrain-mlogloss:0.21365\ttest-mlogloss:0.35200\n",
      "[62]\ttrain-mlogloss:0.21063\ttest-mlogloss:0.35408\n",
      "[0]\ttrain-mlogloss:0.54605\ttest-mlogloss:0.54113\n",
      "[20]\ttrain-mlogloss:0.29050\ttest-mlogloss:0.31731\n"
     ]
    },
    {
     "name": "stderr",
     "output_type": "stream",
     "text": [
      "/home/cmd/.local/lib/python3.8/site-packages/xgboost/core.py:101: UserWarning: ntree_limit is deprecated, use `iteration_range` or model slicing instead.\n",
      "  warnings.warn(\n"
     ]
    },
    {
     "name": "stdout",
     "output_type": "stream",
     "text": [
      "[40]\ttrain-mlogloss:0.24856\ttest-mlogloss:0.32412\n",
      "[60]\ttrain-mlogloss:0.21855\ttest-mlogloss:0.33508\n",
      "[71]\ttrain-mlogloss:0.20566\ttest-mlogloss:0.34015\n",
      "[0]\ttrain-mlogloss:0.54369\ttest-mlogloss:0.55183\n",
      "[20]\ttrain-mlogloss:0.28592\ttest-mlogloss:0.34776\n"
     ]
    },
    {
     "name": "stderr",
     "output_type": "stream",
     "text": [
      "/home/cmd/.local/lib/python3.8/site-packages/xgboost/core.py:101: UserWarning: ntree_limit is deprecated, use `iteration_range` or model slicing instead.\n",
      "  warnings.warn(\n"
     ]
    },
    {
     "name": "stdout",
     "output_type": "stream",
     "text": [
      "[40]\ttrain-mlogloss:0.24678\ttest-mlogloss:0.35179\n",
      "[60]\ttrain-mlogloss:0.21630\ttest-mlogloss:0.36064\n",
      "[61]\ttrain-mlogloss:0.21463\ttest-mlogloss:0.36179\n",
      "\n",
      "23\n",
      "58835\n"
     ]
    },
    {
     "name": "stderr",
     "output_type": "stream",
     "text": [
      "/home/cmd/.local/lib/python3.8/site-packages/xgboost/core.py:101: UserWarning: ntree_limit is deprecated, use `iteration_range` or model slicing instead.\n",
      "  warnings.warn(\n"
     ]
    },
    {
     "name": "stdout",
     "output_type": "stream",
     "text": [
      "Mean cv log loss:  0.8496748510837392\n",
      "Mean cv accuracy:  0.6939974457215837\n",
      "Mean cv log loss:  0.3743358504682619\n",
      "Mean cv accuracy:  0.8475095785440614\n",
      "Variance Captured  0.9807547294520418\n",
      "Mean cv log loss:  0.7899176378082717\n",
      "Mean cv accuracy:  0.683780332056194\n",
      "Mean cv log loss:  0.3983879403612804\n",
      "Mean cv accuracy:  0.832950191570881\n",
      "Mean cv log loss:  0.7602670315618324\n",
      "Mean cv accuracy:  0.6886334610472542\n",
      "Mean cv log loss:  0.38314134475730754\n",
      "Mean cv accuracy:  0.837037037037037\n",
      "Mean cv log loss:  0.8208146869272129\n",
      "Mean cv accuracy:  0.7070242656449552\n",
      "Mean cv log loss:  0.3493110549105026\n",
      "Mean cv accuracy:  0.8579821200510857\n",
      "Variance Captured:  0.9731388681965651\n",
      "Mean cv log loss:  0.8743576226496609\n",
      "Mean cv accuracy:  0.6436781609195402\n",
      "Mean cv log loss:  0.4605946802480628\n",
      "Mean cv accuracy:  0.789272030651341\n",
      "Mean cv log loss:  0.8638155524550457\n",
      "Mean cv accuracy:  0.6424010217113666\n",
      "Mean cv log loss:  0.44830033222272314\n",
      "Mean cv accuracy:  0.8002554278416347\n",
      "Mean cv log loss:  0.8698878360434564\n",
      "Mean cv accuracy:  0.6983397190293742\n",
      "Mean cv log loss:  0.44200896645648724\n",
      "Mean cv accuracy:  0.8485312899106002\n",
      "[0]\ttrain-mlogloss:1.34119\ttest-mlogloss:1.34286\n",
      "[20]\ttrain-mlogloss:0.88418\ttest-mlogloss:0.90757\n",
      "[40]\ttrain-mlogloss:0.74522\ttest-mlogloss:0.78134\n",
      "[60]\ttrain-mlogloss:0.68926\ttest-mlogloss:0.73946\n",
      "[80]\ttrain-mlogloss:0.65844\ttest-mlogloss:0.72442\n",
      "[100]\ttrain-mlogloss:0.63648\ttest-mlogloss:0.71876\n",
      "[120]\ttrain-mlogloss:0.61756\ttest-mlogloss:0.71747\n",
      "[140]\ttrain-mlogloss:0.60021\ttest-mlogloss:0.71628\n",
      "[160]\ttrain-mlogloss:0.58448\ttest-mlogloss:0.71683\n",
      "[180]\ttrain-mlogloss:0.56992\ttest-mlogloss:0.71690\n",
      "[192]\ttrain-mlogloss:0.56136\ttest-mlogloss:0.71847\n",
      "[0]\ttrain-mlogloss:1.34118\ttest-mlogloss:1.34304\n",
      "[20]\ttrain-mlogloss:0.88394\ttest-mlogloss:0.91148\n"
     ]
    },
    {
     "name": "stderr",
     "output_type": "stream",
     "text": [
      "/home/cmd/.local/lib/python3.8/site-packages/xgboost/core.py:101: UserWarning: ntree_limit is deprecated, use `iteration_range` or model slicing instead.\n",
      "  warnings.warn(\n"
     ]
    },
    {
     "name": "stdout",
     "output_type": "stream",
     "text": [
      "[40]\ttrain-mlogloss:0.74612\ttest-mlogloss:0.78664\n",
      "[60]\ttrain-mlogloss:0.69134\ttest-mlogloss:0.74525\n",
      "[80]\ttrain-mlogloss:0.66121\ttest-mlogloss:0.72988\n",
      "[100]\ttrain-mlogloss:0.63996\ttest-mlogloss:0.72514\n",
      "[120]\ttrain-mlogloss:0.62100\ttest-mlogloss:0.72307\n",
      "[140]\ttrain-mlogloss:0.60386\ttest-mlogloss:0.72293\n",
      "[160]\ttrain-mlogloss:0.58736\ttest-mlogloss:0.72262\n",
      "[180]\ttrain-mlogloss:0.57283\ttest-mlogloss:0.72376\n",
      "[200]\ttrain-mlogloss:0.55936\ttest-mlogloss:0.72398\n",
      "[202]\ttrain-mlogloss:0.55824\ttest-mlogloss:0.72449\n",
      "[0]\ttrain-mlogloss:1.34149\ttest-mlogloss:1.34307\n",
      "[20]\ttrain-mlogloss:0.88720\ttest-mlogloss:0.90535\n"
     ]
    },
    {
     "name": "stderr",
     "output_type": "stream",
     "text": [
      "/home/cmd/.local/lib/python3.8/site-packages/xgboost/core.py:101: UserWarning: ntree_limit is deprecated, use `iteration_range` or model slicing instead.\n",
      "  warnings.warn(\n"
     ]
    },
    {
     "name": "stdout",
     "output_type": "stream",
     "text": [
      "[40]\ttrain-mlogloss:0.74787\ttest-mlogloss:0.77809\n",
      "[60]\ttrain-mlogloss:0.69226\ttest-mlogloss:0.73565\n",
      "[80]\ttrain-mlogloss:0.66267\ttest-mlogloss:0.72083\n",
      "[100]\ttrain-mlogloss:0.64117\ttest-mlogloss:0.71494\n",
      "[120]\ttrain-mlogloss:0.62256\ttest-mlogloss:0.71289\n",
      "[140]\ttrain-mlogloss:0.60609\ttest-mlogloss:0.71233\n",
      "[160]\ttrain-mlogloss:0.59083\ttest-mlogloss:0.71140\n",
      "[180]\ttrain-mlogloss:0.57666\ttest-mlogloss:0.71197\n",
      "[200]\ttrain-mlogloss:0.56306\ttest-mlogloss:0.71248\n",
      "[210]\ttrain-mlogloss:0.55670\ttest-mlogloss:0.71260\n",
      "[0]\ttrain-mlogloss:1.34112\ttest-mlogloss:1.34224\n",
      "[20]\ttrain-mlogloss:0.88496\ttest-mlogloss:0.90414\n"
     ]
    },
    {
     "name": "stderr",
     "output_type": "stream",
     "text": [
      "/home/cmd/.local/lib/python3.8/site-packages/xgboost/core.py:101: UserWarning: ntree_limit is deprecated, use `iteration_range` or model slicing instead.\n",
      "  warnings.warn(\n"
     ]
    },
    {
     "name": "stdout",
     "output_type": "stream",
     "text": [
      "[40]\ttrain-mlogloss:0.74594\ttest-mlogloss:0.77966\n",
      "[60]\ttrain-mlogloss:0.69046\ttest-mlogloss:0.73661\n",
      "[80]\ttrain-mlogloss:0.66021\ttest-mlogloss:0.72291\n",
      "[100]\ttrain-mlogloss:0.63745\ttest-mlogloss:0.71999\n",
      "[120]\ttrain-mlogloss:0.61760\ttest-mlogloss:0.71959\n",
      "[140]\ttrain-mlogloss:0.60054\ttest-mlogloss:0.71981\n",
      "[160]\ttrain-mlogloss:0.58453\ttest-mlogloss:0.72167\n",
      "[0]\ttrain-mlogloss:1.34150\ttest-mlogloss:1.34091\n",
      "[20]\ttrain-mlogloss:0.88679\ttest-mlogloss:0.89267\n"
     ]
    },
    {
     "name": "stderr",
     "output_type": "stream",
     "text": [
      "/home/cmd/.local/lib/python3.8/site-packages/xgboost/core.py:101: UserWarning: ntree_limit is deprecated, use `iteration_range` or model slicing instead.\n",
      "  warnings.warn(\n"
     ]
    },
    {
     "name": "stdout",
     "output_type": "stream",
     "text": [
      "[40]\ttrain-mlogloss:0.74770\ttest-mlogloss:0.76882\n",
      "[60]\ttrain-mlogloss:0.69277\ttest-mlogloss:0.73144\n",
      "[80]\ttrain-mlogloss:0.66339\ttest-mlogloss:0.72067\n",
      "[100]\ttrain-mlogloss:0.64128\ttest-mlogloss:0.71656\n",
      "[120]\ttrain-mlogloss:0.62192\ttest-mlogloss:0.71691\n",
      "[140]\ttrain-mlogloss:0.60511\ttest-mlogloss:0.71811\n",
      "[156]\ttrain-mlogloss:0.59279\ttest-mlogloss:0.71990\n",
      "[0]\ttrain-mlogloss:0.54443\ttest-mlogloss:0.55390\n",
      "[20]\ttrain-mlogloss:0.28305\ttest-mlogloss:0.35670\n",
      "[40]\ttrain-mlogloss:0.24293\ttest-mlogloss:0.37177\n"
     ]
    },
    {
     "name": "stderr",
     "output_type": "stream",
     "text": [
      "/home/cmd/.local/lib/python3.8/site-packages/xgboost/core.py:101: UserWarning: ntree_limit is deprecated, use `iteration_range` or model slicing instead.\n",
      "  warnings.warn(\n"
     ]
    },
    {
     "name": "stdout",
     "output_type": "stream",
     "text": [
      "[60]\ttrain-mlogloss:0.21227\ttest-mlogloss:0.37305\n",
      "[72]\ttrain-mlogloss:0.19652\ttest-mlogloss:0.38036\n",
      "[0]\ttrain-mlogloss:0.54803\ttest-mlogloss:0.54809\n",
      "[20]\ttrain-mlogloss:0.29291\ttest-mlogloss:0.31866\n",
      "[40]\ttrain-mlogloss:0.25335\ttest-mlogloss:0.32116\n"
     ]
    },
    {
     "name": "stderr",
     "output_type": "stream",
     "text": [
      "/home/cmd/.local/lib/python3.8/site-packages/xgboost/core.py:101: UserWarning: ntree_limit is deprecated, use `iteration_range` or model slicing instead.\n",
      "  warnings.warn(\n"
     ]
    },
    {
     "name": "stdout",
     "output_type": "stream",
     "text": [
      "[60]\ttrain-mlogloss:0.22117\ttest-mlogloss:0.32494\n",
      "[69]\ttrain-mlogloss:0.21007\ttest-mlogloss:0.33063\n",
      "[0]\ttrain-mlogloss:0.54756\ttest-mlogloss:0.54682\n",
      "[20]\ttrain-mlogloss:0.28951\ttest-mlogloss:0.33426\n",
      "[40]\ttrain-mlogloss:0.25013\ttest-mlogloss:0.34109\n"
     ]
    },
    {
     "name": "stderr",
     "output_type": "stream",
     "text": [
      "/home/cmd/.local/lib/python3.8/site-packages/xgboost/core.py:101: UserWarning: ntree_limit is deprecated, use `iteration_range` or model slicing instead.\n",
      "  warnings.warn(\n"
     ]
    },
    {
     "name": "stdout",
     "output_type": "stream",
     "text": [
      "[60]\ttrain-mlogloss:0.21821\ttest-mlogloss:0.34873\n",
      "[62]\ttrain-mlogloss:0.21463\ttest-mlogloss:0.34908\n",
      "[0]\ttrain-mlogloss:0.54565\ttest-mlogloss:0.54887\n",
      "[20]\ttrain-mlogloss:0.28354\ttest-mlogloss:0.35438\n",
      "[40]\ttrain-mlogloss:0.24205\ttest-mlogloss:0.36472\n"
     ]
    },
    {
     "name": "stderr",
     "output_type": "stream",
     "text": [
      "/home/cmd/.local/lib/python3.8/site-packages/xgboost/core.py:101: UserWarning: ntree_limit is deprecated, use `iteration_range` or model slicing instead.\n",
      "  warnings.warn(\n"
     ]
    },
    {
     "name": "stdout",
     "output_type": "stream",
     "text": [
      "[60]\ttrain-mlogloss:0.21255\ttest-mlogloss:0.37665\n",
      "[61]\ttrain-mlogloss:0.21107\ttest-mlogloss:0.37872\n",
      "[0]\ttrain-mlogloss:0.54736\ttest-mlogloss:0.54753\n",
      "[20]\ttrain-mlogloss:0.29030\ttest-mlogloss:0.33129\n",
      "[40]\ttrain-mlogloss:0.24879\ttest-mlogloss:0.33644\n"
     ]
    },
    {
     "name": "stderr",
     "output_type": "stream",
     "text": [
      "/home/cmd/.local/lib/python3.8/site-packages/xgboost/core.py:101: UserWarning: ntree_limit is deprecated, use `iteration_range` or model slicing instead.\n",
      "  warnings.warn(\n"
     ]
    },
    {
     "name": "stdout",
     "output_type": "stream",
     "text": [
      "[60]\ttrain-mlogloss:0.21779\ttest-mlogloss:0.34677\n",
      "[63]\ttrain-mlogloss:0.21387\ttest-mlogloss:0.34926\n",
      "\n",
      "24\n",
      "50427\n"
     ]
    },
    {
     "name": "stderr",
     "output_type": "stream",
     "text": [
      "/home/cmd/.local/lib/python3.8/site-packages/xgboost/core.py:101: UserWarning: ntree_limit is deprecated, use `iteration_range` or model slicing instead.\n",
      "  warnings.warn(\n"
     ]
    },
    {
     "name": "stdout",
     "output_type": "stream",
     "text": [
      "Mean cv log loss:  0.8337015975153358\n",
      "Mean cv accuracy:  0.6937420178799489\n",
      "Mean cv log loss:  0.36452421775004584\n",
      "Mean cv accuracy:  0.850574712643678\n",
      "Variance Captured  0.9807547294520417\n",
      "Mean cv log loss:  0.7833666385728234\n",
      "Mean cv accuracy:  0.6899106002554278\n",
      "Mean cv log loss:  0.397446512215069\n",
      "Mean cv accuracy:  0.8347381864623244\n",
      "Mean cv log loss:  0.7609737798149846\n",
      "Mean cv accuracy:  0.6983397190293742\n",
      "Mean cv log loss:  0.3816411800186554\n",
      "Mean cv accuracy:  0.8388250319284802\n",
      "Mean cv log loss:  0.7926402954349581\n",
      "Mean cv accuracy:  0.7139208173690933\n",
      "Mean cv log loss:  0.34418013110031237\n",
      "Mean cv accuracy:  0.8590038314176244\n",
      "Variance Captured:  0.973138868196565\n",
      "Mean cv log loss:  0.8610633915230135\n",
      "Mean cv accuracy:  0.6590038314176245\n",
      "Mean cv log loss:  0.44829300141847694\n",
      "Mean cv accuracy:  0.7961685823754788\n",
      "Mean cv log loss:  0.8552178166137905\n",
      "Mean cv accuracy:  0.6538952745849297\n",
      "Mean cv log loss:  0.4423528917434264\n",
      "Mean cv accuracy:  0.8007662835249041\n",
      "Mean cv log loss:  0.8331743554033032\n",
      "Mean cv accuracy:  0.7021711366538952\n",
      "Mean cv log loss:  0.43547690653148674\n",
      "Mean cv accuracy:  0.8495530012771393\n",
      "[0]\ttrain-mlogloss:1.33906\ttest-mlogloss:1.34013\n",
      "[20]\ttrain-mlogloss:0.87204\ttest-mlogloss:0.88640\n",
      "[40]\ttrain-mlogloss:0.72878\ttest-mlogloss:0.75520\n",
      "[60]\ttrain-mlogloss:0.67057\ttest-mlogloss:0.71104\n",
      "[80]\ttrain-mlogloss:0.64077\ttest-mlogloss:0.69490\n",
      "[100]\ttrain-mlogloss:0.61960\ttest-mlogloss:0.68752\n",
      "[120]\ttrain-mlogloss:0.60118\ttest-mlogloss:0.68478\n",
      "[140]\ttrain-mlogloss:0.58503\ttest-mlogloss:0.68396\n",
      "[160]\ttrain-mlogloss:0.57045\ttest-mlogloss:0.68432\n",
      "[180]\ttrain-mlogloss:0.55694\ttest-mlogloss:0.68616\n",
      "[195]\ttrain-mlogloss:0.54710\ttest-mlogloss:0.68706\n",
      "[0]\ttrain-mlogloss:1.33879\ttest-mlogloss:1.33930\n"
     ]
    },
    {
     "name": "stderr",
     "output_type": "stream",
     "text": [
      "/home/cmd/.local/lib/python3.8/site-packages/xgboost/core.py:101: UserWarning: ntree_limit is deprecated, use `iteration_range` or model slicing instead.\n",
      "  warnings.warn(\n"
     ]
    },
    {
     "name": "stdout",
     "output_type": "stream",
     "text": [
      "[20]\ttrain-mlogloss:0.87115\ttest-mlogloss:0.88834\n",
      "[40]\ttrain-mlogloss:0.72875\ttest-mlogloss:0.75729\n",
      "[60]\ttrain-mlogloss:0.67171\ttest-mlogloss:0.71176\n",
      "[80]\ttrain-mlogloss:0.64139\ttest-mlogloss:0.69559\n",
      "[100]\ttrain-mlogloss:0.61969\ttest-mlogloss:0.68838\n",
      "[120]\ttrain-mlogloss:0.60113\ttest-mlogloss:0.68566\n",
      "[140]\ttrain-mlogloss:0.58418\ttest-mlogloss:0.68451\n",
      "[160]\ttrain-mlogloss:0.56862\ttest-mlogloss:0.68569\n",
      "[180]\ttrain-mlogloss:0.55456\ttest-mlogloss:0.68663\n",
      "[197]\ttrain-mlogloss:0.54308\ttest-mlogloss:0.68833\n",
      "[0]\ttrain-mlogloss:1.33913\ttest-mlogloss:1.33889\n",
      "[20]\ttrain-mlogloss:0.87621\ttest-mlogloss:0.87624\n"
     ]
    },
    {
     "name": "stderr",
     "output_type": "stream",
     "text": [
      "/home/cmd/.local/lib/python3.8/site-packages/xgboost/core.py:101: UserWarning: ntree_limit is deprecated, use `iteration_range` or model slicing instead.\n",
      "  warnings.warn(\n"
     ]
    },
    {
     "name": "stdout",
     "output_type": "stream",
     "text": [
      "[40]\ttrain-mlogloss:0.73467\ttest-mlogloss:0.73975\n",
      "[60]\ttrain-mlogloss:0.67641\ttest-mlogloss:0.69372\n",
      "[80]\ttrain-mlogloss:0.64707\ttest-mlogloss:0.67529\n",
      "[100]\ttrain-mlogloss:0.62520\ttest-mlogloss:0.66854\n",
      "[120]\ttrain-mlogloss:0.60624\ttest-mlogloss:0.66731\n",
      "[140]\ttrain-mlogloss:0.58927\ttest-mlogloss:0.66902\n",
      "[160]\ttrain-mlogloss:0.57382\ttest-mlogloss:0.66962\n",
      "[166]\ttrain-mlogloss:0.56964\ttest-mlogloss:0.67002\n",
      "[0]\ttrain-mlogloss:1.33893\ttest-mlogloss:1.33916\n",
      "[20]\ttrain-mlogloss:0.87216\ttest-mlogloss:0.87786\n"
     ]
    },
    {
     "name": "stderr",
     "output_type": "stream",
     "text": [
      "/home/cmd/.local/lib/python3.8/site-packages/xgboost/core.py:101: UserWarning: ntree_limit is deprecated, use `iteration_range` or model slicing instead.\n",
      "  warnings.warn(\n"
     ]
    },
    {
     "name": "stdout",
     "output_type": "stream",
     "text": [
      "[40]\ttrain-mlogloss:0.72889\ttest-mlogloss:0.74805\n",
      "[60]\ttrain-mlogloss:0.67105\ttest-mlogloss:0.70824\n",
      "[80]\ttrain-mlogloss:0.64100\ttest-mlogloss:0.69523\n",
      "[100]\ttrain-mlogloss:0.61924\ttest-mlogloss:0.68841\n",
      "[120]\ttrain-mlogloss:0.60016\ttest-mlogloss:0.68649\n",
      "[140]\ttrain-mlogloss:0.58342\ttest-mlogloss:0.68655\n",
      "[160]\ttrain-mlogloss:0.56823\ttest-mlogloss:0.68648\n",
      "[180]\ttrain-mlogloss:0.55401\ttest-mlogloss:0.68666\n",
      "[0]\ttrain-mlogloss:1.33840\ttest-mlogloss:1.34132\n",
      "[20]\ttrain-mlogloss:0.86649\ttest-mlogloss:0.90046\n"
     ]
    },
    {
     "name": "stderr",
     "output_type": "stream",
     "text": [
      "/home/cmd/.local/lib/python3.8/site-packages/xgboost/core.py:101: UserWarning: ntree_limit is deprecated, use `iteration_range` or model slicing instead.\n",
      "  warnings.warn(\n"
     ]
    },
    {
     "name": "stdout",
     "output_type": "stream",
     "text": [
      "[40]\ttrain-mlogloss:0.72205\ttest-mlogloss:0.77423\n",
      "[60]\ttrain-mlogloss:0.66333\ttest-mlogloss:0.73284\n",
      "[80]\ttrain-mlogloss:0.63332\ttest-mlogloss:0.72086\n",
      "[100]\ttrain-mlogloss:0.61165\ttest-mlogloss:0.71680\n",
      "[120]\ttrain-mlogloss:0.59293\ttest-mlogloss:0.71751\n",
      "[140]\ttrain-mlogloss:0.57619\ttest-mlogloss:0.71942\n",
      "[152]\ttrain-mlogloss:0.56641\ttest-mlogloss:0.72112\n",
      "[0]\ttrain-mlogloss:0.54439\ttest-mlogloss:0.55051\n",
      "[20]\ttrain-mlogloss:0.28414\ttest-mlogloss:0.34106\n"
     ]
    },
    {
     "name": "stderr",
     "output_type": "stream",
     "text": [
      "/home/cmd/.local/lib/python3.8/site-packages/xgboost/core.py:101: UserWarning: ntree_limit is deprecated, use `iteration_range` or model slicing instead.\n",
      "  warnings.warn(\n"
     ]
    },
    {
     "name": "stdout",
     "output_type": "stream",
     "text": [
      "[40]\ttrain-mlogloss:0.24069\ttest-mlogloss:0.34482\n",
      "[60]\ttrain-mlogloss:0.20836\ttest-mlogloss:0.35692\n",
      "[65]\ttrain-mlogloss:0.20121\ttest-mlogloss:0.35700\n",
      "[0]\ttrain-mlogloss:0.54770\ttest-mlogloss:0.54446\n",
      "[20]\ttrain-mlogloss:0.28926\ttest-mlogloss:0.31182\n",
      "[40]\ttrain-mlogloss:0.24851\ttest-mlogloss:0.32093\n"
     ]
    },
    {
     "name": "stderr",
     "output_type": "stream",
     "text": [
      "/home/cmd/.local/lib/python3.8/site-packages/xgboost/core.py:101: UserWarning: ntree_limit is deprecated, use `iteration_range` or model slicing instead.\n",
      "  warnings.warn(\n"
     ]
    },
    {
     "name": "stdout",
     "output_type": "stream",
     "text": [
      "[60]\ttrain-mlogloss:0.21988\ttest-mlogloss:0.32505\n",
      "[65]\ttrain-mlogloss:0.21439\ttest-mlogloss:0.32418\n",
      "[0]\ttrain-mlogloss:0.54428\ttest-mlogloss:0.54892\n"
     ]
    },
    {
     "name": "stderr",
     "output_type": "stream",
     "text": [
      "/home/cmd/.local/lib/python3.8/site-packages/xgboost/core.py:101: UserWarning: ntree_limit is deprecated, use `iteration_range` or model slicing instead.\n",
      "  warnings.warn(\n"
     ]
    },
    {
     "name": "stdout",
     "output_type": "stream",
     "text": [
      "[20]\ttrain-mlogloss:0.28114\ttest-mlogloss:0.33305\n",
      "[40]\ttrain-mlogloss:0.24115\ttest-mlogloss:0.34307\n",
      "[60]\ttrain-mlogloss:0.20961\ttest-mlogloss:0.34563\n",
      "[65]\ttrain-mlogloss:0.20319\ttest-mlogloss:0.34665\n",
      "[0]\ttrain-mlogloss:0.54319\ttest-mlogloss:0.55286\n",
      "[20]\ttrain-mlogloss:0.28025\ttest-mlogloss:0.35051\n",
      "[40]\ttrain-mlogloss:0.23982\ttest-mlogloss:0.36065\n"
     ]
    },
    {
     "name": "stderr",
     "output_type": "stream",
     "text": [
      "/home/cmd/.local/lib/python3.8/site-packages/xgboost/core.py:101: UserWarning: ntree_limit is deprecated, use `iteration_range` or model slicing instead.\n",
      "  warnings.warn(\n"
     ]
    },
    {
     "name": "stdout",
     "output_type": "stream",
     "text": [
      "[60]\ttrain-mlogloss:0.21350\ttest-mlogloss:0.36699\n",
      "[61]\ttrain-mlogloss:0.21207\ttest-mlogloss:0.36748\n",
      "[0]\ttrain-mlogloss:0.54457\ttest-mlogloss:0.55290\n",
      "[20]\ttrain-mlogloss:0.28089\ttest-mlogloss:0.34614\n",
      "[40]\ttrain-mlogloss:0.24348\ttest-mlogloss:0.35103\n"
     ]
    },
    {
     "name": "stderr",
     "output_type": "stream",
     "text": [
      "/home/cmd/.local/lib/python3.8/site-packages/xgboost/core.py:101: UserWarning: ntree_limit is deprecated, use `iteration_range` or model slicing instead.\n",
      "  warnings.warn(\n"
     ]
    },
    {
     "name": "stdout",
     "output_type": "stream",
     "text": [
      "[59]\ttrain-mlogloss:0.21301\ttest-mlogloss:0.35149\n"
     ]
    },
    {
     "name": "stderr",
     "output_type": "stream",
     "text": [
      "/home/cmd/.local/lib/python3.8/site-packages/xgboost/core.py:101: UserWarning: ntree_limit is deprecated, use `iteration_range` or model slicing instead.\n",
      "  warnings.warn(\n"
     ]
    }
   ],
   "source": [
    "xgb_dh_log_loss = []\n",
    "xgb_sh_log_loss = []\n",
    "xgb_dh_accuracy = []\n",
    "xgb_sh_accuracy = []\n",
    "\n",
    "cnf_dh_matrices = []\n",
    "cnf_sh_matrices = []\n",
    "cnf_hybrid_matrices = []\n",
    "\n",
    "for run_num in range(25):\n",
    "    print()\n",
    "    print(run_num)\n",
    "        \n",
    "    seed = random.randint(0, 99999)\n",
    "    print(seed)\n",
    "    \n",
    "    df = shuffle(df, random_state=seed)\n",
    "\n",
    "    # Create true labels\n",
    "    pos = df['pos'].tolist()\n",
    "    heb = df['heb_no_niqquid_punct'].tolist()\n",
    "    dh_author = df['dh_author']\n",
    "    sh_author = df['sh_author']\n",
    "\n",
    "    dh_to_int = {\n",
    "        'J': 0,\n",
    "        'E': 1,\n",
    "        'P': 2, \n",
    "        'R': 3,\n",
    "    }\n",
    "    dh_labels = []\n",
    "    for label in dh_author:\n",
    "        dh_labels.append(dh_to_int[label])\n",
    "    df['dh_labels'] = dh_labels\n",
    "    dh_labels = np.array(dh_labels)\n",
    "\n",
    "    sh_to_int = {\n",
    "        'J': 0,\n",
    "        'P': 1, \n",
    "    }\n",
    "    sh_labels = []\n",
    "    for label in sh_author:\n",
    "        sh_labels.append(sh_to_int[label])\n",
    "    df['sh_labels'] = sh_labels\n",
    "    sh_labels = np.array(sh_labels)\n",
    "\n",
    "    train_sh_df = pd.DataFrame()\n",
    "    train_dh_df = pd.DataFrame()\n",
    "    test_sh_df = pd.DataFrame()\n",
    "    test_dh_df = pd.DataFrame()\n",
    "\n",
    "    x_train, x_test, y_dh_train, y_dh_test = train_test_split(pos, dh_labels, test_size=0.2, random_state=seed)\n",
    "    x_train, x_test, y_sh_train, y_sh_test = train_test_split(pos, sh_labels, test_size=0.2, random_state=seed)\n",
    "\n",
    "    tfidf_vec = TfidfVectorizer(ngram_range=(2, 2))\n",
    "    full_tfidf = tfidf_vec.fit_transform(pos)\n",
    "    train_tfidf = tfidf_vec.transform(x_train)\n",
    "    test_tfidf = tfidf_vec.transform(x_test)\n",
    "\n",
    "    k = 4\n",
    "    n_splits = 5\n",
    "    y_train = y_dh_train\n",
    "    algo = runSVM\n",
    "\n",
    "    cv_log_loss = []\n",
    "    cv_accuracy = []\n",
    "    pred_full_test = 0\n",
    "    pred_train = np.zeros([len(x_train), k])\n",
    "    kf = model_selection.KFold(n_splits=n_splits, shuffle=True, random_state=seed)\n",
    "    for dev_index, val_index in kf.split(x_train):\n",
    "        x_dev, x_val = train_tfidf[dev_index], train_tfidf[val_index]\n",
    "        y_dev, y_val = y_train[dev_index], y_train[val_index]\n",
    "        y_pred_val, y_pred_test, model = runAlgo(algo, x_dev, y_dev, x_val, y_val, test_tfidf)\n",
    "        pred_full_test = pred_full_test + y_pred_test\n",
    "        pred_train[val_index, :] = y_pred_val\n",
    "        cv_log_loss.append(metrics.log_loss(y_val, y_pred_val))\n",
    "        cv_accuracy.append(metrics.accuracy_score(y_val, np.argmax(y_pred_val, axis=1)))\n",
    "    pred_full_test = pred_full_test / n_splits\n",
    "    print('Mean cv log loss: ', np.mean(cv_log_loss))\n",
    "    print('Mean cv accuracy: ', np.mean(cv_accuracy))\n",
    "\n",
    "    train_dh_df['svm_tfidf_j'] = pred_train[:, 0]\n",
    "    train_dh_df['svm_tfidf_e'] = pred_train[:, 1]\n",
    "    train_dh_df['svm_tfidf_p'] = pred_train[:, 2]\n",
    "    train_dh_df['svm_tfidf_r'] = pred_train[:, 3]\n",
    "    test_dh_df['svm_tfidf_j'] = pred_full_test[:, 0]\n",
    "    test_dh_df['svm_tfidf_e'] = pred_full_test[:, 1]\n",
    "    test_dh_df['svm_tfidf_p'] = pred_full_test[:, 2]\n",
    "    test_dh_df['svm_tfidf_r'] = pred_full_test[:, 3]\n",
    "\n",
    "    k = 2\n",
    "    n_splits = 5\n",
    "    y_train = y_sh_train\n",
    "    algo = runSVM\n",
    "\n",
    "    cv_log_loss = []\n",
    "    cv_accuracy = []\n",
    "    pred_full_test = 0\n",
    "    pred_train = np.zeros([len(x_train), k])\n",
    "    kf = model_selection.KFold(n_splits=n_splits, shuffle=True, random_state=seed)\n",
    "    for dev_index, val_index in kf.split(x_train):\n",
    "        x_dev, x_val = train_tfidf[dev_index], train_tfidf[val_index]\n",
    "        y_dev, y_val = y_train[dev_index], y_train[val_index]\n",
    "        y_pred_val, y_pred_test, model = runAlgo(algo, x_dev, y_dev, x_val, y_val, test_tfidf)\n",
    "        pred_full_test = pred_full_test + y_pred_test\n",
    "        pred_train[val_index, :] = y_pred_val\n",
    "        cv_log_loss.append(metrics.log_loss(y_val, y_pred_val))\n",
    "        cv_accuracy.append(metrics.accuracy_score(y_val, np.argmax(y_pred_val, axis=1)))\n",
    "    pred_full_test = pred_full_test / n_splits\n",
    "    print('Mean cv log loss: ', np.mean(cv_log_loss))\n",
    "    print('Mean cv accuracy: ', np.mean(cv_accuracy))\n",
    "\n",
    "    train_sh_df['svm_tfidf_j'] = pred_train[:, 0]\n",
    "    train_sh_df['svm_tfidf_p'] = pred_train[:, 1]\n",
    "    test_sh_df['svm_tfidf_j'] = pred_full_test[:, 0]\n",
    "    test_sh_df['svm_tfidf_p'] = pred_full_test[:, 1]\n",
    "\n",
    "    n_comp = 150\n",
    "\n",
    "    svd_obj = TruncatedSVD(n_components=n_comp, algorithm='arpack')\n",
    "    svd_obj.fit(full_tfidf)\n",
    "    train_svd = pd.DataFrame(svd_obj.transform(train_tfidf))\n",
    "    test_svd = pd.DataFrame(svd_obj.transform(test_tfidf))\n",
    "\n",
    "    train_svd.columns = ['svd_word_' + str(i) for i in range(n_comp)]\n",
    "    test_svd.columns = ['svd_word_' + str(i) for i in range(n_comp)]\n",
    "    train_sh_df = pd.concat([train_sh_df, train_svd], axis=1)\n",
    "    train_dh_df = pd.concat([train_dh_df, train_svd], axis=1)\n",
    "    test_sh_df = pd.concat([test_sh_df, test_svd], axis=1)\n",
    "    test_dh_df = pd.concat([test_dh_df, test_svd], axis=1)\n",
    "\n",
    "    var_explained = svd_obj.explained_variance_ratio_.sum()\n",
    "    print('Variance Captured ', var_explained)\n",
    "\n",
    "    tfidf_vec = CountVectorizer(ngram_range=(1, 3))\n",
    "    full_tfidf = tfidf_vec.fit_transform(pos)\n",
    "    train_tfidf = tfidf_vec.transform(x_train)\n",
    "    test_tfidf = tfidf_vec.transform(x_test)\n",
    "\n",
    "    k = 4\n",
    "    n_splits = 5\n",
    "    y_train = y_dh_train\n",
    "    algo = runRandomForest\n",
    "\n",
    "    cv_log_loss = []\n",
    "    cv_accuracy = []\n",
    "    pred_full_test = 0\n",
    "    pred_train = np.zeros([len(x_train), k])\n",
    "    kf = model_selection.KFold(n_splits=n_splits, shuffle=True, random_state=seed)\n",
    "    for dev_index, val_index in kf.split(x_train):\n",
    "        x_dev, x_val = train_tfidf[dev_index], train_tfidf[val_index]\n",
    "        y_dev, y_val = y_train[dev_index], y_train[val_index]\n",
    "        y_pred_val, y_pred_test, model = runAlgo(algo, x_dev, y_dev, x_val, y_val, test_tfidf)\n",
    "        pred_full_test = pred_full_test + y_pred_test\n",
    "        pred_train[val_index, :] = y_pred_val\n",
    "        cv_log_loss.append(metrics.log_loss(y_val, y_pred_val))\n",
    "        cv_accuracy.append(metrics.accuracy_score(y_val, np.argmax(y_pred_val, axis=1)))\n",
    "    pred_full_test = pred_full_test / n_splits\n",
    "    print('Mean cv log loss: ', np.mean(cv_log_loss))\n",
    "    print('Mean cv accuracy: ', np.mean(cv_accuracy))\n",
    "\n",
    "    train_dh_df['rf_cvec_j'] = pred_train[:, 0]\n",
    "    train_dh_df['rf_cvec_e'] = pred_train[:, 1]\n",
    "    train_dh_df['rf_cvec_p'] = pred_train[:, 2]\n",
    "    train_dh_df['rf_cvec_r'] = pred_train[:, 3]\n",
    "    test_dh_df['rf_cvec_j'] = pred_full_test[:, 0]\n",
    "    test_dh_df['rf_cvec_e'] = pred_full_test[:, 1]\n",
    "    test_dh_df['rf_cvec_p'] = pred_full_test[:, 2]\n",
    "    test_dh_df['rf_cvec_r'] = pred_full_test[:, 3]\n",
    "\n",
    "    k = 2\n",
    "    n_splits = 5\n",
    "    y_train = y_sh_train\n",
    "    algo = runRandomForest\n",
    "\n",
    "    cv_log_loss = []\n",
    "    cv_accuracy = []\n",
    "    pred_full_test = 0\n",
    "    pred_train = np.zeros([len(x_train), k])\n",
    "    kf = model_selection.KFold(n_splits=n_splits, shuffle=True, random_state=seed)\n",
    "    for dev_index, val_index in kf.split(x_train):\n",
    "        x_dev, x_val = train_tfidf[dev_index], train_tfidf[val_index]\n",
    "        y_dev, y_val = y_train[dev_index], y_train[val_index]\n",
    "        y_pred_val, y_pred_test, model = runAlgo(algo, x_dev, y_dev, x_val, y_val, test_tfidf)\n",
    "        pred_full_test = pred_full_test + y_pred_test\n",
    "        pred_train[val_index, :] = y_pred_val\n",
    "        cv_log_loss.append(metrics.log_loss(y_val, y_pred_val))\n",
    "        cv_accuracy.append(metrics.accuracy_score(y_val, np.argmax(y_pred_val, axis=1)))\n",
    "    pred_full_test = pred_full_test / n_splits\n",
    "    print('Mean cv log loss: ', np.mean(cv_log_loss))\n",
    "    print('Mean cv accuracy: ', np.mean(cv_accuracy))\n",
    "\n",
    "    train_sh_df['rf_cvec_j'] = pred_train[:, 0]\n",
    "    train_sh_df['rf_cvec_p'] = pred_train[:, 1]\n",
    "    test_sh_df['rf_cvec_j'] = pred_full_test[:, 0]\n",
    "    test_sh_df['rf_cvec_p'] = pred_full_test[:, 1]\n",
    "\n",
    "    tfidf_vec = CountVectorizer(ngram_range=(1, 25), analyzer='char')\n",
    "    full_tfidf = tfidf_vec.fit_transform(pos)\n",
    "    train_tfidf = tfidf_vec.transform(x_train)\n",
    "    test_tfidf = tfidf_vec.transform(x_test)\n",
    "\n",
    "    k = 4\n",
    "    n_splits = 5\n",
    "    y_train = y_dh_train\n",
    "    algo = runRandomForest\n",
    "\n",
    "    cv_log_loss = []\n",
    "    cv_accuracy = []\n",
    "    pred_full_test = 0\n",
    "    pred_train = np.zeros([len(x_train), k])\n",
    "    kf = model_selection.KFold(n_splits=n_splits, shuffle=True, random_state=seed)\n",
    "    for dev_index, val_index in kf.split(x_train):\n",
    "        x_dev, x_val = train_tfidf[dev_index], train_tfidf[val_index]\n",
    "        y_dev, y_val = y_train[dev_index], y_train[val_index]\n",
    "        y_pred_val, y_pred_test, model = runAlgo(algo, x_dev, y_dev, x_val, y_val, test_tfidf)\n",
    "        pred_full_test = pred_full_test + y_pred_test\n",
    "        pred_train[val_index, :] = y_pred_val\n",
    "        cv_log_loss.append(metrics.log_loss(y_val, y_pred_val))\n",
    "        cv_accuracy.append(metrics.accuracy_score(y_val, np.argmax(y_pred_val, axis=1)))\n",
    "    pred_full_test = pred_full_test / n_splits\n",
    "    print('Mean cv log loss: ', np.mean(cv_log_loss))\n",
    "    print('Mean cv accuracy: ', np.mean(cv_accuracy))\n",
    "\n",
    "    train_dh_df['rf_cvec_char_j'] = pred_train[:, 0]\n",
    "    train_dh_df['rf_cvec_char_e'] = pred_train[:, 1]\n",
    "    train_dh_df['rf_cvec_char_p'] = pred_train[:, 2]\n",
    "    train_dh_df['rf_cvec_char_r'] = pred_train[:, 3]\n",
    "    test_dh_df['rf_cvec_char_j'] = pred_full_test[:, 0]\n",
    "    test_dh_df['rf_cvec_char_e'] = pred_full_test[:, 1]\n",
    "    test_dh_df['rf_cvec_char_p'] = pred_full_test[:, 2]\n",
    "    test_dh_df['rf_cvec_char_r'] = pred_full_test[:, 3]\n",
    "\n",
    "    k = 2\n",
    "    n_splits = 5\n",
    "    y_train = y_sh_train\n",
    "    algo = runRandomForest\n",
    "\n",
    "    cv_log_loss = []\n",
    "    cv_accuracy = []\n",
    "    pred_full_test = 0\n",
    "    pred_train = np.zeros([len(x_train), k])\n",
    "    kf = model_selection.KFold(n_splits=n_splits, shuffle=True, random_state=seed)\n",
    "    for dev_index, val_index in kf.split(x_train):\n",
    "        x_dev, x_val = train_tfidf[dev_index], train_tfidf[val_index]\n",
    "        y_dev, y_val = y_train[dev_index], y_train[val_index]\n",
    "        y_pred_val, y_pred_test, model = runAlgo(algo, x_dev, y_dev, x_val, y_val, test_tfidf)\n",
    "        pred_full_test = pred_full_test + y_pred_test\n",
    "        pred_train[val_index, :] = y_pred_val\n",
    "        cv_log_loss.append(metrics.log_loss(y_val, y_pred_val))\n",
    "        cv_accuracy.append(metrics.accuracy_score(y_val, np.argmax(y_pred_val, axis=1)))\n",
    "    pred_full_test = pred_full_test / n_splits\n",
    "    print('Mean cv log loss: ', np.mean(cv_log_loss))\n",
    "    print('Mean cv accuracy: ', np.mean(cv_accuracy))\n",
    "\n",
    "    train_sh_df['rf_cvec_char_j'] = pred_train[:, 0]\n",
    "    train_sh_df['rf_cvec_char_p'] = pred_train[:, 1]\n",
    "    test_sh_df['rf_cvec_char_j'] = pred_full_test[:, 0]\n",
    "    test_sh_df['rf_cvec_char_p'] = pred_full_test[:, 1]\n",
    "\n",
    "    tfidf_vec = TfidfVectorizer(ngram_range=(5, 5), analyzer='char')\n",
    "    full_tfidf = tfidf_vec.fit_transform(pos)\n",
    "    train_tfidf = tfidf_vec.transform(x_train)\n",
    "    test_tfidf = tfidf_vec.transform(x_test)\n",
    "\n",
    "    k = 4\n",
    "    n_splits = 5\n",
    "    y_train = y_dh_train\n",
    "    algo = runSVM\n",
    "\n",
    "    cv_log_loss = []\n",
    "    cv_accuracy = []\n",
    "    pred_full_test = 0\n",
    "    pred_train = np.zeros([len(x_train), k])\n",
    "    kf = model_selection.KFold(n_splits=n_splits, shuffle=True, random_state=seed)\n",
    "    for dev_index, val_index in kf.split(x_train):\n",
    "        x_dev, x_val = train_tfidf[dev_index], train_tfidf[val_index]\n",
    "        y_dev, y_val = y_train[dev_index], y_train[val_index]\n",
    "        y_pred_val, y_pred_test, model = runAlgo(algo, x_dev, y_dev, x_val, y_val, test_tfidf)\n",
    "        pred_full_test = pred_full_test + y_pred_test\n",
    "        pred_train[val_index, :] = y_pred_val\n",
    "        cv_log_loss.append(metrics.log_loss(y_val, y_pred_val))\n",
    "        cv_accuracy.append(metrics.accuracy_score(y_val, np.argmax(y_pred_val, axis=1)))\n",
    "    pred_full_test = pred_full_test / n_splits\n",
    "    print('Mean cv log loss: ', np.mean(cv_log_loss))\n",
    "    print('Mean cv accuracy: ', np.mean(cv_accuracy))\n",
    "\n",
    "    train_dh_df['svm_tfidf_char_j'] = pred_train[:, 0]\n",
    "    train_dh_df['svm_tfidf_char_e'] = pred_train[:, 1]\n",
    "    train_dh_df['svm_tfidf_char_p'] = pred_train[:, 2]\n",
    "    train_dh_df['svm_tfidf_char_r'] = pred_train[:, 3]\n",
    "    test_dh_df['svm_tfidf_char_j'] = pred_full_test[:, 0]\n",
    "    test_dh_df['svm_tfidf_char_e'] = pred_full_test[:, 1]\n",
    "    test_dh_df['svm_tfidf_char_p'] = pred_full_test[:, 2]\n",
    "    test_dh_df['svm_tfidf_char_r'] = pred_full_test[:, 3]\n",
    "\n",
    "    k = 2\n",
    "    n_splits = 5\n",
    "    y_train = y_sh_train\n",
    "    algo = runSVM\n",
    "\n",
    "    cv_log_loss = []\n",
    "    cv_accuracy = []\n",
    "    pred_full_test = 0\n",
    "    pred_train = np.zeros([len(x_train), k])\n",
    "    kf = model_selection.KFold(n_splits=n_splits, shuffle=True, random_state=seed)\n",
    "    for dev_index, val_index in kf.split(x_train):\n",
    "        x_dev, x_val = train_tfidf[dev_index], train_tfidf[val_index]\n",
    "        y_dev, y_val = y_train[dev_index], y_train[val_index]\n",
    "        y_pred_val, y_pred_test, model = runAlgo(algo, x_dev, y_dev, x_val, y_val, test_tfidf)\n",
    "        pred_full_test = pred_full_test + y_pred_test\n",
    "        pred_train[val_index, :] = y_pred_val\n",
    "        cv_log_loss.append(metrics.log_loss(y_val, y_pred_val))\n",
    "        cv_accuracy.append(metrics.accuracy_score(y_val, np.argmax(y_pred_val, axis=1)))\n",
    "    pred_full_test = pred_full_test / n_splits\n",
    "    print('Mean cv log loss: ', np.mean(cv_log_loss))\n",
    "    print('Mean cv accuracy: ', np.mean(cv_accuracy))\n",
    "\n",
    "    train_sh_df['svm_tfidf_char_j'] = pred_train[:, 0]\n",
    "    train_sh_df['svm_tfidf_char_p'] = pred_train[:, 1]\n",
    "    test_sh_df['svm_tfidf_char_j'] = pred_full_test[:, 0]\n",
    "    test_sh_df['svm_tfidf_char_p'] = pred_full_test[:, 1]\n",
    "\n",
    "    n_comp = 150\n",
    "    svd_obj = TruncatedSVD(n_components=n_comp, algorithm='arpack')\n",
    "    svd_obj.fit(full_tfidf)\n",
    "    train_svd = pd.DataFrame(svd_obj.transform(train_tfidf))\n",
    "    test_svd = pd.DataFrame(svd_obj.transform(test_tfidf))\n",
    "\n",
    "    train_svd.columns = ['svd_char_' + str(i) for i in range(n_comp)]\n",
    "    test_svd.columns = ['svd_char_' + str(i) for i in range(n_comp)]\n",
    "    train_dh_df = pd.concat([train_dh_df, train_svd], axis=1)\n",
    "    train_sh_df = pd.concat([train_sh_df, train_svd], axis=1)\n",
    "    test_dh_df = pd.concat([test_dh_df, test_svd], axis=1)\n",
    "    test_sh_df = pd.concat([test_sh_df, test_svd], axis=1)\n",
    "\n",
    "    var_explained = svd_obj.explained_variance_ratio_.sum()\n",
    "    print('Variance Captured: ', var_explained)\n",
    "\n",
    "    dim = 300\n",
    "    w2v_sg_model = word2vec.Word2Vec(sentences=pos, vector_size=dim, window=100, shrink_windows=True, min_count=5, sg=1, hs=0, negative=0, workers=12, seed=seed)\n",
    "\n",
    "    wordvec_arrs = np.zeros((len(pos), dim)) \n",
    "    for i in range(len(pos)):\n",
    "        wordvec_arrs[i,:] = word_vector(w2v_sg_model.wv, pos[i], dim)\n",
    "    wordvec_df = pd.DataFrame(wordvec_arrs)\n",
    "    x_w2v_sg_train, x_w2v_sg_test = train_test_split(wordvec_df, test_size=0.2, random_state=seed)\n",
    "\n",
    "    k = 4\n",
    "    n_splits = 5\n",
    "    y_train = y_dh_train\n",
    "    algo = runRandomForest\n",
    "\n",
    "    cv_log_loss = []\n",
    "    cv_accuracy = []\n",
    "    pred_full_test = 0\n",
    "    pred_train = np.zeros([len(x_train), k])\n",
    "    kf = model_selection.KFold(n_splits=n_splits, shuffle=True, random_state=seed)\n",
    "    for dev_index, val_index in kf.split(x_w2v_sg_train):\n",
    "        x_dev = x_w2v_sg_train.iloc[dev_index]\n",
    "        x_val = x_w2v_sg_train.iloc[val_index]\n",
    "        y_dev, y_val = y_train[dev_index], y_train[val_index]\n",
    "        y_pred_val, y_pred_test, model = runAlgo(algo, x_dev, y_dev, x_val, y_val, x_w2v_sg_test)\n",
    "        pred_full_test = pred_full_test + y_pred_test\n",
    "        pred_train[val_index, :] = y_pred_val\n",
    "        cv_log_loss.append(metrics.log_loss(y_val, y_pred_val))\n",
    "        cv_accuracy.append(metrics.accuracy_score(y_val, np.argmax(y_pred_val, axis=1)))\n",
    "    pred_full_test = pred_full_test / n_splits\n",
    "    print('Mean cv log loss: ', np.mean(cv_log_loss))\n",
    "    print('Mean cv accuracy: ', np.mean(cv_accuracy))\n",
    "\n",
    "    train_dh_df['rf_w2v_sg_j'] = pred_train[:, 0]\n",
    "    train_dh_df['rf_w2v_sg_e'] = pred_train[:, 1]\n",
    "    train_dh_df['rf_w2v_sg_p'] = pred_train[:, 2]\n",
    "    train_dh_df['rf_w2v_sg_r'] = pred_train[:, 3]\n",
    "    test_dh_df['rf_w2v_sg_j'] = pred_full_test[:, 0]\n",
    "    test_dh_df['rf_w2v_sg_e'] = pred_full_test[:, 1]\n",
    "    test_dh_df['rf_w2v_sg_p'] = pred_full_test[:, 2]\n",
    "    test_dh_df['rf_w2v_sg_r'] = pred_full_test[:, 3]\n",
    "\n",
    "    k = 2\n",
    "    n_splits = 5\n",
    "    y_train = y_sh_train\n",
    "    algo = runRandomForest\n",
    "\n",
    "    cv_log_loss = []\n",
    "    cv_accuracy = []\n",
    "    pred_full_test = 0\n",
    "    pred_train = np.zeros([len(x_train), k])\n",
    "    kf = model_selection.KFold(n_splits=n_splits, shuffle=True, random_state=seed)\n",
    "    for dev_index, val_index in kf.split(x_w2v_sg_train):\n",
    "        x_dev = x_w2v_sg_train.iloc[dev_index]\n",
    "        x_val = x_w2v_sg_train.iloc[val_index]\n",
    "        y_dev, y_val = y_train[dev_index], y_train[val_index]\n",
    "        y_pred_val, y_pred_test, model = runAlgo(algo, x_dev, y_dev, x_val, y_val, x_w2v_sg_test)\n",
    "        pred_full_test = pred_full_test + y_pred_test\n",
    "        pred_train[val_index, :] = y_pred_val\n",
    "        cv_log_loss.append(metrics.log_loss(y_val, y_pred_val))\n",
    "        cv_accuracy.append(metrics.accuracy_score(y_val, np.argmax(y_pred_val, axis=1)))\n",
    "    pred_full_test = pred_full_test / n_splits\n",
    "    print('Mean cv log loss: ', np.mean(cv_log_loss))\n",
    "    print('Mean cv accuracy: ', np.mean(cv_accuracy))\n",
    "\n",
    "    train_sh_df['rf_w2v_sg_j'] = pred_train[:, 0]\n",
    "    train_sh_df['rf_w2v_sg_p'] = pred_train[:, 1]\n",
    "    test_sh_df['rf_w2v_sg_j'] = pred_full_test[:, 0]\n",
    "    test_sh_df['rf_w2v_sg_p'] = pred_full_test[:, 1]\n",
    "\n",
    "    dim = 300\n",
    "    w2v_cbow_model = word2vec.Word2Vec(sentences=pos, vector_size=dim, window=100, shrink_windows=True, min_count=5, sg=0, hs=0, negative=5, workers=12, seed=seed)\n",
    "\n",
    "    wordvec_arrs = np.zeros((len(pos), dim)) \n",
    "    for i in range(len(pos)):\n",
    "        wordvec_arrs[i,:] = word_vector(w2v_cbow_model.wv, pos[i], dim)\n",
    "    wordvec_df = pd.DataFrame(wordvec_arrs)\n",
    "    x_w2v_cbow_train, x_w2v_cbow_test = train_test_split(wordvec_df, test_size=0.2, random_state=seed)\n",
    "\n",
    "    k = 4\n",
    "    n_splits = 5\n",
    "    y_train = y_dh_train\n",
    "    algo = runRandomForest\n",
    "\n",
    "    cv_log_loss = []\n",
    "    cv_accuracy = []\n",
    "    pred_full_test = 0\n",
    "    pred_train = np.zeros([len(x_train), k])\n",
    "    kf = model_selection.KFold(n_splits=n_splits, shuffle=True, random_state=seed)\n",
    "    for dev_index, val_index in kf.split(x_w2v_cbow_train):\n",
    "        x_dev = x_w2v_cbow_train.iloc[dev_index]\n",
    "        x_val = x_w2v_cbow_train.iloc[val_index]\n",
    "        y_dev, y_val = y_train[dev_index], y_train[val_index]\n",
    "        y_pred_val, y_pred_test, model = runAlgo(algo, x_dev, y_dev, x_val, y_val, x_w2v_cbow_test)\n",
    "        pred_full_test = pred_full_test + y_pred_test\n",
    "        pred_train[val_index, :] = y_pred_val\n",
    "        cv_log_loss.append(metrics.log_loss(y_val, y_pred_val))\n",
    "        cv_accuracy.append(metrics.accuracy_score(y_val, np.argmax(y_pred_val, axis=1)))\n",
    "    pred_full_test = pred_full_test / n_splits\n",
    "    print('Mean cv log loss: ', np.mean(cv_log_loss))\n",
    "    print('Mean cv accuracy: ', np.mean(cv_accuracy))\n",
    "\n",
    "    train_dh_df['rf_w2v_cbow_j'] = pred_train[:, 0]\n",
    "    train_dh_df['rf_w2v_cbow_e'] = pred_train[:, 1]\n",
    "    train_dh_df['rf_w2v_cbow_p'] = pred_train[:, 2]\n",
    "    train_dh_df['rf_w2v_cbow_r'] = pred_train[:, 3]\n",
    "    test_dh_df['rf_w2v_cbow_j'] = pred_full_test[:, 0]\n",
    "    test_dh_df['rf_w2v_cbow_e'] = pred_full_test[:, 1]\n",
    "    test_dh_df['rf_w2v_cbow_p'] = pred_full_test[:, 2]\n",
    "    test_dh_df['rf_w2v_cbow_r'] = pred_full_test[:, 3]\n",
    "\n",
    "    k = 2\n",
    "    n_splits = 5\n",
    "    y_train = y_sh_train\n",
    "    algo = runRandomForest\n",
    "\n",
    "    cv_log_loss = []\n",
    "    cv_accuracy = []\n",
    "    pred_full_test = 0\n",
    "    pred_train = np.zeros([len(x_train), k])\n",
    "    kf = model_selection.KFold(n_splits=n_splits, shuffle=True, random_state=seed)\n",
    "    for dev_index, val_index in kf.split(x_w2v_cbow_train):\n",
    "        x_dev = x_w2v_cbow_train.iloc[dev_index]\n",
    "        x_val = x_w2v_cbow_train.iloc[val_index]\n",
    "        y_dev, y_val = y_train[dev_index], y_train[val_index]\n",
    "        y_pred_val, y_pred_test, model = runAlgo(algo, x_dev, y_dev, x_val, y_val, x_w2v_cbow_test)\n",
    "        pred_full_test = pred_full_test + y_pred_test\n",
    "        pred_train[val_index, :] = y_pred_val\n",
    "        cv_log_loss.append(metrics.log_loss(y_val, y_pred_val))\n",
    "        cv_accuracy.append(metrics.accuracy_score(y_val, np.argmax(y_pred_val, axis=1)))\n",
    "    pred_full_test = pred_full_test / n_splits\n",
    "    print('Mean cv log loss: ', np.mean(cv_log_loss))\n",
    "    print('Mean cv accuracy: ', np.mean(cv_accuracy))\n",
    "\n",
    "    train_sh_df['rf_w2v_cbow_j'] = pred_train[:, 0]\n",
    "    train_sh_df['rf_w2v_cbow_p'] = pred_train[:, 1]\n",
    "    test_sh_df['rf_w2v_cbow_j'] = pred_full_test[:, 0]\n",
    "    test_sh_df['rf_w2v_cbow_p'] = pred_full_test[:, 1]\n",
    "\n",
    "    k = 4\n",
    "    n_splits = 5\n",
    "    y_train = y_dh_train\n",
    "    algo = runFastText\n",
    "\n",
    "    cv_log_loss = []\n",
    "    cv_accuracy = []\n",
    "    pred_full_test = 0\n",
    "    pred_train = np.zeros([len(x_train), k])\n",
    "    kf = model_selection.KFold(n_splits=n_splits, shuffle=True, random_state=seed)\n",
    "    for dev_index, val_index in kf.split(x_train):\n",
    "        x_dev = [x_train[idx] for idx in dev_index]\n",
    "        x_val = [x_train[idx] for idx in val_index]\n",
    "        y_dev = [y_train[idx] for idx in dev_index]\n",
    "        y_val = [y_train[idx] for idx in val_index]\n",
    "        y_pred_val, y_pred_test, model = runFastText(k, x_dev, y_dev, x_val, y_val, x_test)\n",
    "        pred_full_test = pred_full_test + y_pred_test\n",
    "        pred_train[val_index, :] = y_pred_val\n",
    "        cv_log_loss.append(metrics.log_loss(y_val, y_pred_val))\n",
    "        cv_accuracy.append(metrics.accuracy_score(y_val, np.argmax(y_pred_val, axis=1)))\n",
    "    pred_full_test = pred_full_test / n_splits\n",
    "    print('Mean cv log loss: ', np.mean(cv_log_loss))\n",
    "    print('Mean cv accuracy: ', np.mean(cv_accuracy))\n",
    "\n",
    "    train_dh_df['fasttext_j'] = pred_train[:, 0]\n",
    "    train_dh_df['fasttext_e'] = pred_train[:, 1]\n",
    "    train_dh_df['fasttext_p'] = pred_train[:, 2]\n",
    "    train_dh_df['fasttext_r'] = pred_train[:, 3]\n",
    "    test_dh_df['fasttext_j'] = pred_full_test[:, 0]\n",
    "    test_dh_df['fasttext_e'] = pred_full_test[:, 1]\n",
    "    test_dh_df['fasttext_p'] = pred_full_test[:, 2]\n",
    "    test_dh_df['fasttext_r'] = pred_full_test[:, 3]\n",
    "\n",
    "    k = 2\n",
    "    n_splits = 5\n",
    "    y_train = y_sh_train\n",
    "    algo = runFastText\n",
    "\n",
    "    cv_log_loss = []\n",
    "    cv_accuracy = []\n",
    "    pred_full_test = 0\n",
    "    pred_train = np.zeros([len(x_train), k])\n",
    "    kf = model_selection.KFold(n_splits=n_splits, shuffle=True, random_state=seed)\n",
    "    for dev_index, val_index in kf.split(x_train):\n",
    "        x_dev = [x_train[idx] for idx in dev_index]\n",
    "        x_val = [x_train[idx] for idx in val_index]\n",
    "        y_dev = [y_train[idx] for idx in dev_index]\n",
    "        y_val = [y_train[idx] for idx in val_index]\n",
    "        y_pred_val, y_pred_test, model = runFastText(k, x_dev, y_dev, x_val, y_val, x_test)\n",
    "        pred_full_test = pred_full_test + y_pred_test\n",
    "        pred_train[val_index, :] = y_pred_val\n",
    "        cv_log_loss.append(metrics.log_loss(y_val, y_pred_val))\n",
    "        cv_accuracy.append(metrics.accuracy_score(y_val, np.argmax(y_pred_val, axis=1)))\n",
    "    pred_full_test = pred_full_test / n_splits\n",
    "    print('Mean cv log loss: ', np.mean(cv_log_loss))\n",
    "    print('Mean cv accuracy: ', np.mean(cv_accuracy))\n",
    "\n",
    "    train_sh_df['fasttext_j'] = pred_train[:, 0]\n",
    "    train_sh_df['fasttext_p'] = pred_train[:, 1]\n",
    "    test_sh_df['fasttext_j'] = pred_full_test[:, 0]\n",
    "    test_sh_df['fasttext_p'] = pred_full_test[:, 1]\n",
    "\n",
    "    k = 4\n",
    "    n_splits = 5\n",
    "    y_train = y_dh_train\n",
    "    x_train = train_dh_df\n",
    "    x_test = test_dh_df\n",
    "    algo = runXGB\n",
    "\n",
    "    num_rounds = 2000\n",
    "    param = {\n",
    "        'tree_method': 'gpu_hist',\n",
    "        'objective': 'multi:softprob',\n",
    "        'eval_metric': 'mlogloss',\n",
    "        'num_class': k,\n",
    "        'eta': 0.05,\n",
    "        'max_depth': 2,\n",
    "        'min_child_weight': 2,\n",
    "        'subsample': 1,\n",
    "        'colsample_bytree': 0.6,\n",
    "        'seed': seed\n",
    "    }\n",
    "\n",
    "    y_dh_vals = []\n",
    "    pred_full_test = 0\n",
    "    kf = model_selection.KFold(n_splits=n_splits, shuffle=True, random_state=seed)\n",
    "    pred_train = np.zeros([len(x_train), k])\n",
    "    for dev_index, val_index in kf.split(x_train):\n",
    "        x_dev, x_val = x_train.loc[dev_index], x_train.loc[val_index]\n",
    "        y_dev, y_val = y_train[dev_index], y_train[val_index]\n",
    "        y_pred_val, y_pred_test, model = runXGB(k, num_rounds, param, x_dev, y_dev, x_val, y_val, x_test)\n",
    "        pred_full_test = pred_full_test + y_pred_test\n",
    "        pred_train[val_index, :] = y_pred_val\n",
    "        xgb_dh_log_loss.append(metrics.log_loss(y_val, y_pred_val))\n",
    "        xgb_dh_accuracy.append(metrics.accuracy_score(y_val, np.argmax(y_pred_val, axis=1)))\n",
    "        cnf_matrix = confusion_matrix(y_val, np.argmax(y_pred_val, axis=1))\n",
    "        cnf_dh_matrices.append(cnf_matrix)\n",
    "        y_dh_vals.append(y_val)\n",
    "    \n",
    "    k = 2\n",
    "    n_splits = 5\n",
    "    y_train = y_sh_train\n",
    "    x_train = train_sh_df\n",
    "    x_test = test_sh_df\n",
    "    algo = runXGB\n",
    "\n",
    "    num_rounds = 2000\n",
    "    param = {\n",
    "        'tree_method': 'gpu_hist',\n",
    "        'objective': 'multi:softprob',\n",
    "        'eval_metric': 'mlogloss',\n",
    "        'num_class': k,\n",
    "        'eta': 0.3,\n",
    "        'max_depth': 2,\n",
    "        'min_child_weight': 2,\n",
    "        'subsample': 1,\n",
    "        'colsample_bytree': 1, \n",
    "        'seed': seed\n",
    "    }\n",
    "\n",
    "    pred_full_test = 0\n",
    "    kf = model_selection.KFold(n_splits=n_splits, shuffle=True, random_state=seed)\n",
    "    pred_train = np.zeros([len(x_train), k])\n",
    "    for y_dh_val, (dev_index, val_index) in zip(y_dh_vals, kf.split(x_train)):\n",
    "        x_dev, x_val = x_train.loc[dev_index], x_train.loc[val_index]\n",
    "        y_dev, y_val = y_train[dev_index], y_train[val_index]\n",
    "        y_pred_val, y_pred_test, model = runXGB(k, num_rounds, param, x_dev, y_dev, x_val, y_val, x_test)\n",
    "        pred_full_test = pred_full_test + y_pred_test\n",
    "        pred_train[val_index, :] = y_pred_val\n",
    "        xgb_sh_log_loss.append(metrics.log_loss(y_val, y_pred_val))\n",
    "        xgb_sh_accuracy.append(metrics.accuracy_score(y_val, np.argmax(y_pred_val, axis=1)))\n",
    "        cnf_matrix = confusion_matrix(y_val, np.argmax(y_pred_val, axis=1))\n",
    "        cnf_sh_matrices.append(cnf_matrix)\n",
    "        y_pred_val = [2 if x==1 else x for x in np.argmax(y_pred_val, axis=1)]\n",
    "        cnf_matrix = confusion_matrix(y_dh_val, y_pred_val)\n",
    "        cnf_hybrid_matrices.append(cnf_matrix)"
   ]
  },
  {
   "cell_type": "code",
   "execution_count": 13,
   "metadata": {},
   "outputs": [
    {
     "name": "stdout",
     "output_type": "stream",
     "text": [
      "DH Mean cv log loss :  0.6997049774062531\n",
      "DH Mean cv accuracy :  0.7125108556832694\n",
      "SH Mean cv log loss :  0.3312348383130163\n",
      "SH Mean cv accuracy :  0.8600255427841635\n"
     ]
    }
   ],
   "source": [
    "print('DH Mean cv log loss : ', np.mean(xgb_dh_log_loss))\n",
    "print('DH Mean cv accuracy : ', np.mean(xgb_dh_accuracy))\n",
    "print('SH Mean cv log loss : ', np.mean(xgb_sh_log_loss))\n",
    "print('SH Mean cv accuracy : ', np.mean(xgb_sh_accuracy))"
   ]
  },
  {
   "cell_type": "code",
   "execution_count": 14,
   "metadata": {},
   "outputs": [
    {
     "data": {
      "image/png": "[encoded data removed]",
      "text/plain": [
       "<Figure size 576x576 with 2 Axes>"
      ]
     },
     "metadata": {
      "needs_background": "light"
     },
     "output_type": "display_data"
    }
   ],
   "source": [
    "cnf_matrix = sum(cnf_dh_matrices)\n",
    "plt.figure(figsize=(8,8))\n",
    "plot_confusion_matrix(cnf_matrix, classes=['J', 'E', 'P', 'R'], title='Documentary Hypothesis Confusion Matrix of XGB, with Normalization', normalize=True)\n",
    "plt.show()"
   ]
  },
  {
   "cell_type": "code",
   "execution_count": 15,
   "metadata": {},
   "outputs": [
    {
     "data": {
      "image/png": "[encoded data removed]",
      "text/plain": [
       "<Figure size 576x576 with 2 Axes>"
      ]
     },
     "metadata": {
      "needs_background": "light"
     },
     "output_type": "display_data"
    }
   ],
   "source": [
    "cnf_matrix = sum(cnf_sh_matrices)\n",
    "plt.figure(figsize=(8,8))\n",
    "plot_confusion_matrix(cnf_matrix, classes=['J', 'P'], title='Supplementary Hypothesis Confusion Matrix of XGB, with Normalization', normalize=True)\n",
    "plt.show()"
   ]
  },
  {
   "cell_type": "code",
   "execution_count": 16,
   "metadata": {},
   "outputs": [
    {
     "data": {
      "image/png": "[encoded data removed]",
      "text/plain": [
       "<Figure size 576x576 with 2 Axes>"
      ]
     },
     "metadata": {
      "needs_background": "light"
     },
     "output_type": "display_data"
    }
   ],
   "source": [
    "cnf_matrix = sum(cnf_hybrid_matrices)\n",
    "plt.figure(figsize=(8,8))\n",
    "plot_confusion_matrix(cnf_matrix, classes=['J', 'E', 'P', 'R'], title='Hybrid SH Model on DH Confusion Matrix of XGB, with Normalization', normalize=True)\n",
    "plt.show()"
   ]
  },
  {
   "cell_type": "code",
   "execution_count": null,
   "metadata": {},
   "outputs": [],
   "source": []
  }
 ],
 "metadata": {
  "colab": {
   "collapsed_sections": [],
   "name": "Ancient Texts - Code Report.ipynb",
   "provenance": [],
   "toc_visible": true
  },
  "kernelspec": {
   "display_name": "Python 3",
   "language": "python",
   "name": "python3"
  },
  "language_info": {
   "codemirror_mode": {
    "name": "ipython",
    "version": 3
   },
   "file_extension": ".py",
   "mimetype": "text/x-python",
   "name": "python",
   "nbconvert_exporter": "python",
   "pygments_lexer": "ipython3",
   "version": "3.8.10"
  },
  "widgets": {
   "application/vnd.jupyter.widget-state+json": {
    "01c0b84b711e4037a7153b81f7465104": {
     "model_module": "@jupyter-widgets/controls",
     "model_name": "ProgressStyleModel",
     "state": {
      "_model_module": "@jupyter-widgets/controls",
      "_model_module_version": "1.5.0",
      "_model_name": "ProgressStyleModel",
      "_view_count": null,
      "_view_module": "@jupyter-widgets/base",
      "_view_module_version": "1.2.0",
      "_view_name": "StyleView",
      "bar_color": null,
      "description_width": "initial"
     }
    },
    "07b2a8b13dd64ffa9d33692d0bfb345f": {
     "model_module": "@jupyter-widgets/controls",
     "model_name": "HTMLModel",
     "state": {
      "_dom_classes": [],
      "_model_module": "@jupyter-widgets/controls",
      "_model_module_version": "1.5.0",
      "_model_name": "HTMLModel",
      "_view_count": null,
      "_view_module": "@jupyter-widgets/controls",
      "_view_module_version": "1.5.0",
      "_view_name": "HTMLView",
      "description": "",
      "description_tooltip": null,
      "layout": "IPY_MODEL_d9656836c422411ead4b2800460266e8",
      "placeholder": "​",
      "style": "IPY_MODEL_270b3d1b2b624097afbff4a01fbc1bf2",
      "value": " 440M/440M [00:10&lt;00:00, 43.6MB/s]"
     }
    },
    "0963a79d3eb54fd483605ff36d3a66fa": {
     "model_module": "@jupyter-widgets/controls",
     "model_name": "DescriptionStyleModel",
     "state": {
      "_model_module": "@jupyter-widgets/controls",
      "_model_module_version": "1.5.0",
      "_model_name": "DescriptionStyleModel",
      "_view_count": null,
      "_view_module": "@jupyter-widgets/base",
      "_view_module_version": "1.2.0",
      "_view_name": "StyleView",
      "description_width": ""
     }
    },
    "0df77e692428471ba9d01fe5566ed187": {
     "model_module": "@jupyter-widgets/controls",
     "model_name": "ProgressStyleModel",
     "state": {
      "_model_module": "@jupyter-widgets/controls",
      "_model_module_version": "1.5.0",
      "_model_name": "ProgressStyleModel",
      "_view_count": null,
      "_view_module": "@jupyter-widgets/base",
      "_view_module_version": "1.2.0",
      "_view_name": "StyleView",
      "bar_color": null,
      "description_width": "initial"
     }
    },
    "0fdcc5dedb744c9eb64b042165cd5c6f": {
     "model_module": "@jupyter-widgets/controls",
     "model_name": "FloatProgressModel",
     "state": {
      "_dom_classes": [],
      "_model_module": "@jupyter-widgets/controls",
      "_model_module_version": "1.5.0",
      "_model_name": "FloatProgressModel",
      "_view_count": null,
      "_view_module": "@jupyter-widgets/controls",
      "_view_module_version": "1.5.0",
      "_view_name": "ProgressView",
      "bar_style": "success",
      "description": "Downloading: 100%",
      "description_tooltip": null,
      "layout": "IPY_MODEL_8ec127fd409644da961aeaa943ff95a4",
      "max": 231508,
      "min": 0,
      "orientation": "horizontal",
      "style": "IPY_MODEL_01c0b84b711e4037a7153b81f7465104",
      "value": 231508
     }
    },
    "17f29b3905f84e31994f9c96bd024491": {
     "model_module": "@jupyter-widgets/controls",
     "model_name": "HBoxModel",
     "state": {
      "_dom_classes": [],
      "_model_module": "@jupyter-widgets/controls",
      "_model_module_version": "1.5.0",
      "_model_name": "HBoxModel",
      "_view_count": null,
      "_view_module": "@jupyter-widgets/controls",
      "_view_module_version": "1.5.0",
      "_view_name": "HBoxView",
      "box_style": "",
      "children": [
       "IPY_MODEL_214914e88950479499bf9719245e484a",
       "IPY_MODEL_b6164a2f6bbe411a8d39b1993b269445"
      ],
      "layout": "IPY_MODEL_9e77621f3a6345819049cd4cbc18502c"
     }
    },
    "214914e88950479499bf9719245e484a": {
     "model_module": "@jupyter-widgets/controls",
     "model_name": "FloatProgressModel",
     "state": {
      "_dom_classes": [],
      "_model_module": "@jupyter-widgets/controls",
      "_model_module_version": "1.5.0",
      "_model_name": "FloatProgressModel",
      "_view_count": null,
      "_view_module": "@jupyter-widgets/controls",
      "_view_module_version": "1.5.0",
      "_view_name": "ProgressView",
      "bar_style": "success",
      "description": "Downloading: 100%",
      "description_tooltip": null,
      "layout": "IPY_MODEL_d338fb045c7c4ac1b14913c68eb808a7",
      "max": 28,
      "min": 0,
      "orientation": "horizontal",
      "style": "IPY_MODEL_32574ee5ca064e718e549253c196a085",
      "value": 28
     }
    },
    "2245e90aed3b4bccae62a0f479b4237a": {
     "model_module": "@jupyter-widgets/controls",
     "model_name": "HBoxModel",
     "state": {
      "_dom_classes": [],
      "_model_module": "@jupyter-widgets/controls",
      "_model_module_version": "1.5.0",
      "_model_name": "HBoxModel",
      "_view_count": null,
      "_view_module": "@jupyter-widgets/controls",
      "_view_module_version": "1.5.0",
      "_view_name": "HBoxView",
      "box_style": "",
      "children": [
       "IPY_MODEL_0fdcc5dedb744c9eb64b042165cd5c6f",
       "IPY_MODEL_6b2ce2168de447f5b425617d895494a0"
      ],
      "layout": "IPY_MODEL_6a3fd84e8b2a49428e0efd813140bb28"
     }
    },
    "235f5e4261a64fb7b86c9fc14ac0d288": {
     "model_module": "@jupyter-widgets/base",
     "model_name": "LayoutModel",
     "state": {
      "_model_module": "@jupyter-widgets/base",
      "_model_module_version": "1.2.0",
      "_model_name": "LayoutModel",
      "_view_count": null,
      "_view_module": "@jupyter-widgets/base",
      "_view_module_version": "1.2.0",
      "_view_name": "LayoutView",
      "align_content": null,
      "align_items": null,
      "align_self": null,
      "border": null,
      "bottom": null,
      "display": null,
      "flex": null,
      "flex_flow": null,
      "grid_area": null,
      "grid_auto_columns": null,
      "grid_auto_flow": null,
      "grid_auto_rows": null,
      "grid_column": null,
      "grid_gap": null,
      "grid_row": null,
      "grid_template_areas": null,
      "grid_template_columns": null,
      "grid_template_rows": null,
      "height": null,
      "justify_content": null,
      "justify_items": null,
      "left": null,
      "margin": null,
      "max_height": null,
      "max_width": null,
      "min_height": null,
      "min_width": null,
      "object_fit": null,
      "object_position": null,
      "order": null,
      "overflow": null,
      "overflow_x": null,
      "overflow_y": null,
      "padding": null,
      "right": null,
      "top": null,
      "visibility": null,
      "width": null
     }
    },
    "270b3d1b2b624097afbff4a01fbc1bf2": {
     "model_module": "@jupyter-widgets/controls",
     "model_name": "DescriptionStyleModel",
     "state": {
      "_model_module": "@jupyter-widgets/controls",
      "_model_module_version": "1.5.0",
      "_model_name": "DescriptionStyleModel",
      "_view_count": null,
      "_view_module": "@jupyter-widgets/base",
      "_view_module_version": "1.2.0",
      "_view_name": "StyleView",
      "description_width": ""
     }
    },
    "31a79e2f1b884fa1b79a71dca61b86e7": {
     "model_module": "@jupyter-widgets/controls",
     "model_name": "DescriptionStyleModel",
     "state": {
      "_model_module": "@jupyter-widgets/controls",
      "_model_module_version": "1.5.0",
      "_model_name": "DescriptionStyleModel",
      "_view_count": null,
      "_view_module": "@jupyter-widgets/base",
      "_view_module_version": "1.2.0",
      "_view_name": "StyleView",
      "description_width": ""
     }
    },
    "32574ee5ca064e718e549253c196a085": {
     "model_module": "@jupyter-widgets/controls",
     "model_name": "ProgressStyleModel",
     "state": {
      "_model_module": "@jupyter-widgets/controls",
      "_model_module_version": "1.5.0",
      "_model_name": "ProgressStyleModel",
      "_view_count": null,
      "_view_module": "@jupyter-widgets/base",
      "_view_module_version": "1.2.0",
      "_view_name": "StyleView",
      "bar_color": null,
      "description_width": "initial"
     }
    },
    "367bb1e4697b4eb399ac3f15dbb41112": {
     "model_module": "@jupyter-widgets/controls",
     "model_name": "ProgressStyleModel",
     "state": {
      "_model_module": "@jupyter-widgets/controls",
      "_model_module_version": "1.5.0",
      "_model_name": "ProgressStyleModel",
      "_view_count": null,
      "_view_module": "@jupyter-widgets/base",
      "_view_module_version": "1.2.0",
      "_view_name": "StyleView",
      "bar_color": null,
      "description_width": "initial"
     }
    },
    "400ec5e727f54152bd9201cec85aa018": {
     "model_module": "@jupyter-widgets/base",
     "model_name": "LayoutModel",
     "state": {
      "_model_module": "@jupyter-widgets/base",
      "_model_module_version": "1.2.0",
      "_model_name": "LayoutModel",
      "_view_count": null,
      "_view_module": "@jupyter-widgets/base",
      "_view_module_version": "1.2.0",
      "_view_name": "LayoutView",
      "align_content": null,
      "align_items": null,
      "align_self": null,
      "border": null,
      "bottom": null,
      "display": null,
      "flex": null,
      "flex_flow": null,
      "grid_area": null,
      "grid_auto_columns": null,
      "grid_auto_flow": null,
      "grid_auto_rows": null,
      "grid_column": null,
      "grid_gap": null,
      "grid_row": null,
      "grid_template_areas": null,
      "grid_template_columns": null,
      "grid_template_rows": null,
      "height": null,
      "justify_content": null,
      "justify_items": null,
      "left": null,
      "margin": null,
      "max_height": null,
      "max_width": null,
      "min_height": null,
      "min_width": null,
      "object_fit": null,
      "object_position": null,
      "order": null,
      "overflow": null,
      "overflow_x": null,
      "overflow_y": null,
      "padding": null,
      "right": null,
      "top": null,
      "visibility": null,
      "width": null
     }
    },
    "48dfc078e0b1404c9b1061ead94cc26e": {
     "model_module": "@jupyter-widgets/controls",
     "model_name": "DescriptionStyleModel",
     "state": {
      "_model_module": "@jupyter-widgets/controls",
      "_model_module_version": "1.5.0",
      "_model_name": "DescriptionStyleModel",
      "_view_count": null,
      "_view_module": "@jupyter-widgets/base",
      "_view_module_version": "1.2.0",
      "_view_name": "StyleView",
      "description_width": ""
     }
    },
    "69692691749248f2a662ae50238ce538": {
     "model_module": "@jupyter-widgets/controls",
     "model_name": "FloatProgressModel",
     "state": {
      "_dom_classes": [],
      "_model_module": "@jupyter-widgets/controls",
      "_model_module_version": "1.5.0",
      "_model_name": "FloatProgressModel",
      "_view_count": null,
      "_view_module": "@jupyter-widgets/controls",
      "_view_module_version": "1.5.0",
      "_view_name": "ProgressView",
      "bar_style": "success",
      "description": "Downloading: 100%",
      "description_tooltip": null,
      "layout": "IPY_MODEL_a8f68e87109c4f2c8da5f6ec7829ca1d",
      "max": 570,
      "min": 0,
      "orientation": "horizontal",
      "style": "IPY_MODEL_367bb1e4697b4eb399ac3f15dbb41112",
      "value": 570
     }
    },
    "6a3fd84e8b2a49428e0efd813140bb28": {
     "model_module": "@jupyter-widgets/base",
     "model_name": "LayoutModel",
     "state": {
      "_model_module": "@jupyter-widgets/base",
      "_model_module_version": "1.2.0",
      "_model_name": "LayoutModel",
      "_view_count": null,
      "_view_module": "@jupyter-widgets/base",
      "_view_module_version": "1.2.0",
      "_view_name": "LayoutView",
      "align_content": null,
      "align_items": null,
      "align_self": null,
      "border": null,
      "bottom": null,
      "display": null,
      "flex": null,
      "flex_flow": null,
      "grid_area": null,
      "grid_auto_columns": null,
      "grid_auto_flow": null,
      "grid_auto_rows": null,
      "grid_column": null,
      "grid_gap": null,
      "grid_row": null,
      "grid_template_areas": null,
      "grid_template_columns": null,
      "grid_template_rows": null,
      "height": null,
      "justify_content": null,
      "justify_items": null,
      "left": null,
      "margin": null,
      "max_height": null,
      "max_width": null,
      "min_height": null,
      "min_width": null,
      "object_fit": null,
      "object_position": null,
      "order": null,
      "overflow": null,
      "overflow_x": null,
      "overflow_y": null,
      "padding": null,
      "right": null,
      "top": null,
      "visibility": null,
      "width": null
     }
    },
    "6b2ce2168de447f5b425617d895494a0": {
     "model_module": "@jupyter-widgets/controls",
     "model_name": "HTMLModel",
     "state": {
      "_dom_classes": [],
      "_model_module": "@jupyter-widgets/controls",
      "_model_module_version": "1.5.0",
      "_model_name": "HTMLModel",
      "_view_count": null,
      "_view_module": "@jupyter-widgets/controls",
      "_view_module_version": "1.5.0",
      "_view_name": "HTMLView",
      "description": "",
      "description_tooltip": null,
      "layout": "IPY_MODEL_235f5e4261a64fb7b86c9fc14ac0d288",
      "placeholder": "​",
      "style": "IPY_MODEL_48dfc078e0b1404c9b1061ead94cc26e",
      "value": " 232k/232k [00:01&lt;00:00, 125kB/s]"
     }
    },
    "72dd5830948247bb8c737b733f8175cb": {
     "model_module": "@jupyter-widgets/controls",
     "model_name": "FloatProgressModel",
     "state": {
      "_dom_classes": [],
      "_model_module": "@jupyter-widgets/controls",
      "_model_module_version": "1.5.0",
      "_model_name": "FloatProgressModel",
      "_view_count": null,
      "_view_module": "@jupyter-widgets/controls",
      "_view_module_version": "1.5.0",
      "_view_name": "ProgressView",
      "bar_style": "success",
      "description": "Downloading: 100%",
      "description_tooltip": null,
      "layout": "IPY_MODEL_cc6d1fce199c4afb8d74792faeef862e",
      "max": 466062,
      "min": 0,
      "orientation": "horizontal",
      "style": "IPY_MODEL_0df77e692428471ba9d01fe5566ed187",
      "value": 466062
     }
    },
    "75e2177e60cf4902be6cc8f7d1511324": {
     "model_module": "@jupyter-widgets/base",
     "model_name": "LayoutModel",
     "state": {
      "_model_module": "@jupyter-widgets/base",
      "_model_module_version": "1.2.0",
      "_model_name": "LayoutModel",
      "_view_count": null,
      "_view_module": "@jupyter-widgets/base",
      "_view_module_version": "1.2.0",
      "_view_name": "LayoutView",
      "align_content": null,
      "align_items": null,
      "align_self": null,
      "border": null,
      "bottom": null,
      "display": null,
      "flex": null,
      "flex_flow": null,
      "grid_area": null,
      "grid_auto_columns": null,
      "grid_auto_flow": null,
      "grid_auto_rows": null,
      "grid_column": null,
      "grid_gap": null,
      "grid_row": null,
      "grid_template_areas": null,
      "grid_template_columns": null,
      "grid_template_rows": null,
      "height": null,
      "justify_content": null,
      "justify_items": null,
      "left": null,
      "margin": null,
      "max_height": null,
      "max_width": null,
      "min_height": null,
      "min_width": null,
      "object_fit": null,
      "object_position": null,
      "order": null,
      "overflow": null,
      "overflow_x": null,
      "overflow_y": null,
      "padding": null,
      "right": null,
      "top": null,
      "visibility": null,
      "width": null
     }
    },
    "771e405a67234f9ab2d3cc12ee415737": {
     "model_module": "@jupyter-widgets/base",
     "model_name": "LayoutModel",
     "state": {
      "_model_module": "@jupyter-widgets/base",
      "_model_module_version": "1.2.0",
      "_model_name": "LayoutModel",
      "_view_count": null,
      "_view_module": "@jupyter-widgets/base",
      "_view_module_version": "1.2.0",
      "_view_name": "LayoutView",
      "align_content": null,
      "align_items": null,
      "align_self": null,
      "border": null,
      "bottom": null,
      "display": null,
      "flex": null,
      "flex_flow": null,
      "grid_area": null,
      "grid_auto_columns": null,
      "grid_auto_flow": null,
      "grid_auto_rows": null,
      "grid_column": null,
      "grid_gap": null,
      "grid_row": null,
      "grid_template_areas": null,
      "grid_template_columns": null,
      "grid_template_rows": null,
      "height": null,
      "justify_content": null,
      "justify_items": null,
      "left": null,
      "margin": null,
      "max_height": null,
      "max_width": null,
      "min_height": null,
      "min_width": null,
      "object_fit": null,
      "object_position": null,
      "order": null,
      "overflow": null,
      "overflow_x": null,
      "overflow_y": null,
      "padding": null,
      "right": null,
      "top": null,
      "visibility": null,
      "width": null
     }
    },
    "78c1c93516dd46c69964b13c5cb4e8fd": {
     "model_module": "@jupyter-widgets/controls",
     "model_name": "FloatProgressModel",
     "state": {
      "_dom_classes": [],
      "_model_module": "@jupyter-widgets/controls",
      "_model_module_version": "1.5.0",
      "_model_name": "FloatProgressModel",
      "_view_count": null,
      "_view_module": "@jupyter-widgets/controls",
      "_view_module_version": "1.5.0",
      "_view_name": "ProgressView",
      "bar_style": "success",
      "description": "Downloading: 100%",
      "description_tooltip": null,
      "layout": "IPY_MODEL_400ec5e727f54152bd9201cec85aa018",
      "max": 440473133,
      "min": 0,
      "orientation": "horizontal",
      "style": "IPY_MODEL_d76bd62dfafe4f6fb223a206a5c42118",
      "value": 440473133
     }
    },
    "7d60202f3bc247a0a8454c28c7969533": {
     "model_module": "@jupyter-widgets/base",
     "model_name": "LayoutModel",
     "state": {
      "_model_module": "@jupyter-widgets/base",
      "_model_module_version": "1.2.0",
      "_model_name": "LayoutModel",
      "_view_count": null,
      "_view_module": "@jupyter-widgets/base",
      "_view_module_version": "1.2.0",
      "_view_name": "LayoutView",
      "align_content": null,
      "align_items": null,
      "align_self": null,
      "border": null,
      "bottom": null,
      "display": null,
      "flex": null,
      "flex_flow": null,
      "grid_area": null,
      "grid_auto_columns": null,
      "grid_auto_flow": null,
      "grid_auto_rows": null,
      "grid_column": null,
      "grid_gap": null,
      "grid_row": null,
      "grid_template_areas": null,
      "grid_template_columns": null,
      "grid_template_rows": null,
      "height": null,
      "justify_content": null,
      "justify_items": null,
      "left": null,
      "margin": null,
      "max_height": null,
      "max_width": null,
      "min_height": null,
      "min_width": null,
      "object_fit": null,
      "object_position": null,
      "order": null,
      "overflow": null,
      "overflow_x": null,
      "overflow_y": null,
      "padding": null,
      "right": null,
      "top": null,
      "visibility": null,
      "width": null
     }
    },
    "7e3b3b5a42074324875e618054c11919": {
     "model_module": "@jupyter-widgets/controls",
     "model_name": "HBoxModel",
     "state": {
      "_dom_classes": [],
      "_model_module": "@jupyter-widgets/controls",
      "_model_module_version": "1.5.0",
      "_model_name": "HBoxModel",
      "_view_count": null,
      "_view_module": "@jupyter-widgets/controls",
      "_view_module_version": "1.5.0",
      "_view_name": "HBoxView",
      "box_style": "",
      "children": [
       "IPY_MODEL_78c1c93516dd46c69964b13c5cb4e8fd",
       "IPY_MODEL_07b2a8b13dd64ffa9d33692d0bfb345f"
      ],
      "layout": "IPY_MODEL_931c3fd7cc72411fa311225e1012e11b"
     }
    },
    "8ec127fd409644da961aeaa943ff95a4": {
     "model_module": "@jupyter-widgets/base",
     "model_name": "LayoutModel",
     "state": {
      "_model_module": "@jupyter-widgets/base",
      "_model_module_version": "1.2.0",
      "_model_name": "LayoutModel",
      "_view_count": null,
      "_view_module": "@jupyter-widgets/base",
      "_view_module_version": "1.2.0",
      "_view_name": "LayoutView",
      "align_content": null,
      "align_items": null,
      "align_self": null,
      "border": null,
      "bottom": null,
      "display": null,
      "flex": null,
      "flex_flow": null,
      "grid_area": null,
      "grid_auto_columns": null,
      "grid_auto_flow": null,
      "grid_auto_rows": null,
      "grid_column": null,
      "grid_gap": null,
      "grid_row": null,
      "grid_template_areas": null,
      "grid_template_columns": null,
      "grid_template_rows": null,
      "height": null,
      "justify_content": null,
      "justify_items": null,
      "left": null,
      "margin": null,
      "max_height": null,
      "max_width": null,
      "min_height": null,
      "min_width": null,
      "object_fit": null,
      "object_position": null,
      "order": null,
      "overflow": null,
      "overflow_x": null,
      "overflow_y": null,
      "padding": null,
      "right": null,
      "top": null,
      "visibility": null,
      "width": null
     }
    },
    "931c3fd7cc72411fa311225e1012e11b": {
     "model_module": "@jupyter-widgets/base",
     "model_name": "LayoutModel",
     "state": {
      "_model_module": "@jupyter-widgets/base",
      "_model_module_version": "1.2.0",
      "_model_name": "LayoutModel",
      "_view_count": null,
      "_view_module": "@jupyter-widgets/base",
      "_view_module_version": "1.2.0",
      "_view_name": "LayoutView",
      "align_content": null,
      "align_items": null,
      "align_self": null,
      "border": null,
      "bottom": null,
      "display": null,
      "flex": null,
      "flex_flow": null,
      "grid_area": null,
      "grid_auto_columns": null,
      "grid_auto_flow": null,
      "grid_auto_rows": null,
      "grid_column": null,
      "grid_gap": null,
      "grid_row": null,
      "grid_template_areas": null,
      "grid_template_columns": null,
      "grid_template_rows": null,
      "height": null,
      "justify_content": null,
      "justify_items": null,
      "left": null,
      "margin": null,
      "max_height": null,
      "max_width": null,
      "min_height": null,
      "min_width": null,
      "object_fit": null,
      "object_position": null,
      "order": null,
      "overflow": null,
      "overflow_x": null,
      "overflow_y": null,
      "padding": null,
      "right": null,
      "top": null,
      "visibility": null,
      "width": null
     }
    },
    "97e9a13d1ff44443bf3ae623f7d3d52c": {
     "model_module": "@jupyter-widgets/base",
     "model_name": "LayoutModel",
     "state": {
      "_model_module": "@jupyter-widgets/base",
      "_model_module_version": "1.2.0",
      "_model_name": "LayoutModel",
      "_view_count": null,
      "_view_module": "@jupyter-widgets/base",
      "_view_module_version": "1.2.0",
      "_view_name": "LayoutView",
      "align_content": null,
      "align_items": null,
      "align_self": null,
      "border": null,
      "bottom": null,
      "display": null,
      "flex": null,
      "flex_flow": null,
      "grid_area": null,
      "grid_auto_columns": null,
      "grid_auto_flow": null,
      "grid_auto_rows": null,
      "grid_column": null,
      "grid_gap": null,
      "grid_row": null,
      "grid_template_areas": null,
      "grid_template_columns": null,
      "grid_template_rows": null,
      "height": null,
      "justify_content": null,
      "justify_items": null,
      "left": null,
      "margin": null,
      "max_height": null,
      "max_width": null,
      "min_height": null,
      "min_width": null,
      "object_fit": null,
      "object_position": null,
      "order": null,
      "overflow": null,
      "overflow_x": null,
      "overflow_y": null,
      "padding": null,
      "right": null,
      "top": null,
      "visibility": null,
      "width": null
     }
    },
    "9e77621f3a6345819049cd4cbc18502c": {
     "model_module": "@jupyter-widgets/base",
     "model_name": "LayoutModel",
     "state": {
      "_model_module": "@jupyter-widgets/base",
      "_model_module_version": "1.2.0",
      "_model_name": "LayoutModel",
      "_view_count": null,
      "_view_module": "@jupyter-widgets/base",
      "_view_module_version": "1.2.0",
      "_view_name": "LayoutView",
      "align_content": null,
      "align_items": null,
      "align_self": null,
      "border": null,
      "bottom": null,
      "display": null,
      "flex": null,
      "flex_flow": null,
      "grid_area": null,
      "grid_auto_columns": null,
      "grid_auto_flow": null,
      "grid_auto_rows": null,
      "grid_column": null,
      "grid_gap": null,
      "grid_row": null,
      "grid_template_areas": null,
      "grid_template_columns": null,
      "grid_template_rows": null,
      "height": null,
      "justify_content": null,
      "justify_items": null,
      "left": null,
      "margin": null,
      "max_height": null,
      "max_width": null,
      "min_height": null,
      "min_width": null,
      "object_fit": null,
      "object_position": null,
      "order": null,
      "overflow": null,
      "overflow_x": null,
      "overflow_y": null,
      "padding": null,
      "right": null,
      "top": null,
      "visibility": null,
      "width": null
     }
    },
    "a0ea2114393648dba830703553470589": {
     "model_module": "@jupyter-widgets/controls",
     "model_name": "HTMLModel",
     "state": {
      "_dom_classes": [],
      "_model_module": "@jupyter-widgets/controls",
      "_model_module_version": "1.5.0",
      "_model_name": "HTMLModel",
      "_view_count": null,
      "_view_module": "@jupyter-widgets/controls",
      "_view_module_version": "1.5.0",
      "_view_name": "HTMLView",
      "description": "",
      "description_tooltip": null,
      "layout": "IPY_MODEL_771e405a67234f9ab2d3cc12ee415737",
      "placeholder": "​",
      "style": "IPY_MODEL_31a79e2f1b884fa1b79a71dca61b86e7",
      "value": " 466k/466k [00:00&lt;00:00, 1.35MB/s]"
     }
    },
    "a8f68e87109c4f2c8da5f6ec7829ca1d": {
     "model_module": "@jupyter-widgets/base",
     "model_name": "LayoutModel",
     "state": {
      "_model_module": "@jupyter-widgets/base",
      "_model_module_version": "1.2.0",
      "_model_name": "LayoutModel",
      "_view_count": null,
      "_view_module": "@jupyter-widgets/base",
      "_view_module_version": "1.2.0",
      "_view_name": "LayoutView",
      "align_content": null,
      "align_items": null,
      "align_self": null,
      "border": null,
      "bottom": null,
      "display": null,
      "flex": null,
      "flex_flow": null,
      "grid_area": null,
      "grid_auto_columns": null,
      "grid_auto_flow": null,
      "grid_auto_rows": null,
      "grid_column": null,
      "grid_gap": null,
      "grid_row": null,
      "grid_template_areas": null,
      "grid_template_columns": null,
      "grid_template_rows": null,
      "height": null,
      "justify_content": null,
      "justify_items": null,
      "left": null,
      "margin": null,
      "max_height": null,
      "max_width": null,
      "min_height": null,
      "min_width": null,
      "object_fit": null,
      "object_position": null,
      "order": null,
      "overflow": null,
      "overflow_x": null,
      "overflow_y": null,
      "padding": null,
      "right": null,
      "top": null,
      "visibility": null,
      "width": null
     }
    },
    "b170934df5a9426a87f7d50e4c3fc165": {
     "model_module": "@jupyter-widgets/base",
     "model_name": "LayoutModel",
     "state": {
      "_model_module": "@jupyter-widgets/base",
      "_model_module_version": "1.2.0",
      "_model_name": "LayoutModel",
      "_view_count": null,
      "_view_module": "@jupyter-widgets/base",
      "_view_module_version": "1.2.0",
      "_view_name": "LayoutView",
      "align_content": null,
      "align_items": null,
      "align_self": null,
      "border": null,
      "bottom": null,
      "display": null,
      "flex": null,
      "flex_flow": null,
      "grid_area": null,
      "grid_auto_columns": null,
      "grid_auto_flow": null,
      "grid_auto_rows": null,
      "grid_column": null,
      "grid_gap": null,
      "grid_row": null,
      "grid_template_areas": null,
      "grid_template_columns": null,
      "grid_template_rows": null,
      "height": null,
      "justify_content": null,
      "justify_items": null,
      "left": null,
      "margin": null,
      "max_height": null,
      "max_width": null,
      "min_height": null,
      "min_width": null,
      "object_fit": null,
      "object_position": null,
      "order": null,
      "overflow": null,
      "overflow_x": null,
      "overflow_y": null,
      "padding": null,
      "right": null,
      "top": null,
      "visibility": null,
      "width": null
     }
    },
    "b6164a2f6bbe411a8d39b1993b269445": {
     "model_module": "@jupyter-widgets/controls",
     "model_name": "HTMLModel",
     "state": {
      "_dom_classes": [],
      "_model_module": "@jupyter-widgets/controls",
      "_model_module_version": "1.5.0",
      "_model_name": "HTMLModel",
      "_view_count": null,
      "_view_module": "@jupyter-widgets/controls",
      "_view_module_version": "1.5.0",
      "_view_name": "HTMLView",
      "description": "",
      "description_tooltip": null,
      "layout": "IPY_MODEL_b170934df5a9426a87f7d50e4c3fc165",
      "placeholder": "​",
      "style": "IPY_MODEL_ea4e7ce4137f4b3480eb37d29cc51a64",
      "value": " 28.0/28.0 [00:00&lt;00:00, 50.5B/s]"
     }
    },
    "cc6d1fce199c4afb8d74792faeef862e": {
     "model_module": "@jupyter-widgets/base",
     "model_name": "LayoutModel",
     "state": {
      "_model_module": "@jupyter-widgets/base",
      "_model_module_version": "1.2.0",
      "_model_name": "LayoutModel",
      "_view_count": null,
      "_view_module": "@jupyter-widgets/base",
      "_view_module_version": "1.2.0",
      "_view_name": "LayoutView",
      "align_content": null,
      "align_items": null,
      "align_self": null,
      "border": null,
      "bottom": null,
      "display": null,
      "flex": null,
      "flex_flow": null,
      "grid_area": null,
      "grid_auto_columns": null,
      "grid_auto_flow": null,
      "grid_auto_rows": null,
      "grid_column": null,
      "grid_gap": null,
      "grid_row": null,
      "grid_template_areas": null,
      "grid_template_columns": null,
      "grid_template_rows": null,
      "height": null,
      "justify_content": null,
      "justify_items": null,
      "left": null,
      "margin": null,
      "max_height": null,
      "max_width": null,
      "min_height": null,
      "min_width": null,
      "object_fit": null,
      "object_position": null,
      "order": null,
      "overflow": null,
      "overflow_x": null,
      "overflow_y": null,
      "padding": null,
      "right": null,
      "top": null,
      "visibility": null,
      "width": null
     }
    },
    "ccc7641894324fd7b62f4b7914059cbc": {
     "model_module": "@jupyter-widgets/controls",
     "model_name": "HBoxModel",
     "state": {
      "_dom_classes": [],
      "_model_module": "@jupyter-widgets/controls",
      "_model_module_version": "1.5.0",
      "_model_name": "HBoxModel",
      "_view_count": null,
      "_view_module": "@jupyter-widgets/controls",
      "_view_module_version": "1.5.0",
      "_view_name": "HBoxView",
      "box_style": "",
      "children": [
       "IPY_MODEL_72dd5830948247bb8c737b733f8175cb",
       "IPY_MODEL_a0ea2114393648dba830703553470589"
      ],
      "layout": "IPY_MODEL_75e2177e60cf4902be6cc8f7d1511324"
     }
    },
    "cd72a953ef674895b95b7723172dd066": {
     "model_module": "@jupyter-widgets/controls",
     "model_name": "HTMLModel",
     "state": {
      "_dom_classes": [],
      "_model_module": "@jupyter-widgets/controls",
      "_model_module_version": "1.5.0",
      "_model_name": "HTMLModel",
      "_view_count": null,
      "_view_module": "@jupyter-widgets/controls",
      "_view_module_version": "1.5.0",
      "_view_name": "HTMLView",
      "description": "",
      "description_tooltip": null,
      "layout": "IPY_MODEL_7d60202f3bc247a0a8454c28c7969533",
      "placeholder": "​",
      "style": "IPY_MODEL_0963a79d3eb54fd483605ff36d3a66fa",
      "value": " 570/570 [00:00&lt;00:00, 10.2kB/s]"
     }
    },
    "d338fb045c7c4ac1b14913c68eb808a7": {
     "model_module": "@jupyter-widgets/base",
     "model_name": "LayoutModel",
     "state": {
      "_model_module": "@jupyter-widgets/base",
      "_model_module_version": "1.2.0",
      "_model_name": "LayoutModel",
      "_view_count": null,
      "_view_module": "@jupyter-widgets/base",
      "_view_module_version": "1.2.0",
      "_view_name": "LayoutView",
      "align_content": null,
      "align_items": null,
      "align_self": null,
      "border": null,
      "bottom": null,
      "display": null,
      "flex": null,
      "flex_flow": null,
      "grid_area": null,
      "grid_auto_columns": null,
      "grid_auto_flow": null,
      "grid_auto_rows": null,
      "grid_column": null,
      "grid_gap": null,
      "grid_row": null,
      "grid_template_areas": null,
      "grid_template_columns": null,
      "grid_template_rows": null,
      "height": null,
      "justify_content": null,
      "justify_items": null,
      "left": null,
      "margin": null,
      "max_height": null,
      "max_width": null,
      "min_height": null,
      "min_width": null,
      "object_fit": null,
      "object_position": null,
      "order": null,
      "overflow": null,
      "overflow_x": null,
      "overflow_y": null,
      "padding": null,
      "right": null,
      "top": null,
      "visibility": null,
      "width": null
     }
    },
    "d76bd62dfafe4f6fb223a206a5c42118": {
     "model_module": "@jupyter-widgets/controls",
     "model_name": "ProgressStyleModel",
     "state": {
      "_model_module": "@jupyter-widgets/controls",
      "_model_module_version": "1.5.0",
      "_model_name": "ProgressStyleModel",
      "_view_count": null,
      "_view_module": "@jupyter-widgets/base",
      "_view_module_version": "1.2.0",
      "_view_name": "StyleView",
      "bar_color": null,
      "description_width": "initial"
     }
    },
    "d9656836c422411ead4b2800460266e8": {
     "model_module": "@jupyter-widgets/base",
     "model_name": "LayoutModel",
     "state": {
      "_model_module": "@jupyter-widgets/base",
      "_model_module_version": "1.2.0",
      "_model_name": "LayoutModel",
      "_view_count": null,
      "_view_module": "@jupyter-widgets/base",
      "_view_module_version": "1.2.0",
      "_view_name": "LayoutView",
      "align_content": null,
      "align_items": null,
      "align_self": null,
      "border": null,
      "bottom": null,
      "display": null,
      "flex": null,
      "flex_flow": null,
      "grid_area": null,
      "grid_auto_columns": null,
      "grid_auto_flow": null,
      "grid_auto_rows": null,
      "grid_column": null,
      "grid_gap": null,
      "grid_row": null,
      "grid_template_areas": null,
      "grid_template_columns": null,
      "grid_template_rows": null,
      "height": null,
      "justify_content": null,
      "justify_items": null,
      "left": null,
      "margin": null,
      "max_height": null,
      "max_width": null,
      "min_height": null,
      "min_width": null,
      "object_fit": null,
      "object_position": null,
      "order": null,
      "overflow": null,
      "overflow_x": null,
      "overflow_y": null,
      "padding": null,
      "right": null,
      "top": null,
      "visibility": null,
      "width": null
     }
    },
    "e48927d190964d66b37e215151f21252": {
     "model_module": "@jupyter-widgets/controls",
     "model_name": "HBoxModel",
     "state": {
      "_dom_classes": [],
      "_model_module": "@jupyter-widgets/controls",
      "_model_module_version": "1.5.0",
      "_model_name": "HBoxModel",
      "_view_count": null,
      "_view_module": "@jupyter-widgets/controls",
      "_view_module_version": "1.5.0",
      "_view_name": "HBoxView",
      "box_style": "",
      "children": [
       "IPY_MODEL_69692691749248f2a662ae50238ce538",
       "IPY_MODEL_cd72a953ef674895b95b7723172dd066"
      ],
      "layout": "IPY_MODEL_97e9a13d1ff44443bf3ae623f7d3d52c"
     }
    },
    "ea4e7ce4137f4b3480eb37d29cc51a64": {
     "model_module": "@jupyter-widgets/controls",
     "model_name": "DescriptionStyleModel",
     "state": {
      "_model_module": "@jupyter-widgets/controls",
      "_model_module_version": "1.5.0",
      "_model_name": "DescriptionStyleModel",
      "_view_count": null,
      "_view_module": "@jupyter-widgets/base",
      "_view_module_version": "1.2.0",
      "_view_name": "StyleView",
      "description_width": ""
     }
    }
   }
  }
 },
 "nbformat": 4,
 "nbformat_minor": 4
}
